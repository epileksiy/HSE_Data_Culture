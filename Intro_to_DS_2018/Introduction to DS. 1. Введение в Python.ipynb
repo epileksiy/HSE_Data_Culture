{
 "cells": [
  {
   "cell_type": "markdown",
   "metadata": {},
   "source": [
    "![](http://www.lemonandlimewhitby.co.uk/eBay2/635391363777738956/design.png)\n",
    "\n",
    "# Introduction to Data Science"
   ]
  },
  {
   "cell_type": "markdown",
   "metadata": {},
   "source": [
    "# 0. Где мы сейчас?\n",
    "Jupyter Notebook - интерактивная среда для запуска программного кода в браузере. Удобный инструмент для анализа данных, который используется многими специалистами по data science. Позволяет выполнять отдельные ячейки с кодом, а не всю программу сразу, что очень удобно при исследованиях и последовательных манипуляциях с данными."
   ]
  },
  {
   "cell_type": "markdown",
   "metadata": {},
   "source": [
    "<center>\n",
    "<img src=\"http://i0.kym-cdn.com/photos/images/original/000/234/765/b7e.jpg\" height=\"400\" width=\"400\">"
   ]
  },
  {
   "cell_type": "markdown",
   "metadata": {},
   "source": [
    "# 1. Python\n",
    "> Python - это свободный интерпретируемый объектно-ориентированный расширяемый встраиваемый язык программирования очень высокого уровня \n",
    "\n",
    ">*(Г.Россум, Ф.Л.Дж.Дрейк, Д.С.Откидач \"Язык программирования Python\").*\n",
    "\n",
    "А если без цитат, то питон - это просто очень крутой язык, созданный в 1991 году [Великодушным пожизненным диктатором](https://ru.wikipedia.org/wiki/%D0%92%D0%B5%D0%BB%D0%B8%D0%BA%D0%BE%D0%B4%D1%83%D1%88%D0%BD%D1%8B%D0%B9_%D0%BF%D0%BE%D0%B6%D0%B8%D0%B7%D0%BD%D0%B5%D0%BD%D0%BD%D1%8B%D0%B9_%D0%B4%D0%B8%D0%BA%D1%82%D0%B0%D1%82%D0%BE%D1%80) Гвидо ван Россумом и называнный в честь любимого им шоу [Monty Python's Flying Circus](https://en.wikipedia.org/wiki/Monty_Python%27s_Flying_Circus)"
   ]
  },
  {
   "cell_type": "markdown",
   "metadata": {},
   "source": [
    "<center>\n",
    "<img src=\"https://zgab33vy595fw5zq-zippykid.netdna-ssl.com/wp-content/uploads/2017/09/growth_major_languages-1-1024x878.png\" width=\"600\">"
   ]
  },
  {
   "cell_type": "markdown",
   "metadata": {},
   "source": [
    "# 2. Anaconda\n",
    "\n",
    "<img src=\"https://cdn-images-1.medium.com/max/1600/0*MVkCW8_Bmj-nuAnI.png\" width=\"600\">\n",
    "\n",
    "Сборка Anaconda включает очень много полезных библиотек для анализа данных. \n",
    "\n",
    "Среди наиболее популярных библиотек:\n",
    " - <a href=\"http://numpy.org\">Numpy</a> - это один из основных пакетов для научных вычислений. Он содержит функциональные средства для работы с многомерными массивами и высокоуровневыми математическими функциями.\n",
    " - <a href=\"http://numpy.org\">SciPy</a> - научные вычисления. Методы оптимизации, интегрирования, модули обработки сигналов и изображений, статистика, линейная алгебра, сплайны, кластеризация и многое другое. \n",
    " -  <a href=\"http://pandas.pydata.org/\">Pandas</a> - библиотека для обработки и анализа данных. Предназначена для данных разной природы - матричных, панельных данных, временных рядов. Претендует на звание самого мощного и гибкого средства для анализа данных с открытым исходным кодом.\n",
    " - <a href=\"http://scikit-learn.org/stable/\">Scikit-learn</a> - реализация очень многих методов машинного обучения и интеллекуального анализа данных (data mining) с отличной документацией. \n",
    " - <a href=\"http://http://matplotlib.org/\">matplotlib</a> - библиотека для визаулизации данных, в основном двухмерная графика."
   ]
  },
  {
   "cell_type": "markdown",
   "metadata": {},
   "source": [
    "# 3. Знакомство с Python"
   ]
  },
  {
   "cell_type": "markdown",
   "metadata": {},
   "source": [
    "## print()\n",
    "Изучение любого языка программирования начинается с написания маленькой программы: вывода на экран строчки \"Hello, world\". \n",
    "Печать/вывод на экран в питоне осуществляется функцией print(), ее полный синтаксис:\n",
    "\n",
    "```python\n",
    "print(*objects, sep=' ', end='\\n', file=sys.stdout, flush=False)\n",
    "```\n",
    "\n",
    "- `objects`: один или несколько объектов для вывода, перечисленные через запятую\n",
    "- `sep`: разделитель между несколькими объектами; стандартно установлен пробел\n",
    "- `end`: окончание строки; стандартно установлен перевод на новую строчку '\\n'\n",
    "\n",
    "Текст записывается либо в одинарных, либо в двойных кавычках. "
   ]
  },
  {
   "cell_type": "code",
   "execution_count": 1,
   "metadata": {},
   "outputs": [
    {
     "name": "stdout",
     "output_type": "stream",
     "text": [
      "Hello, world\n"
     ]
    }
   ],
   "source": [
    "#1 объект\n",
    "print('Hello, world')"
   ]
  },
  {
   "cell_type": "code",
   "execution_count": 2,
   "metadata": {},
   "outputs": [
    {
     "name": "stdout",
     "output_type": "stream",
     "text": [
      "Hello, world\n"
     ]
    }
   ],
   "source": [
    "#4 объекта, между ними задаем отсутствие пространства\n",
    "print('Hello', ',', ' ','world', sep ='')"
   ]
  },
  {
   "cell_type": "markdown",
   "metadata": {},
   "source": [
    "В питоне очень удобно устроена **конкатенация** (объединение строк) -  достаточно сложить нужные строчки с помощью знака **+**"
   ]
  },
  {
   "cell_type": "code",
   "execution_count": 3,
   "metadata": {
    "scrolled": true
   },
   "outputs": [
    {
     "name": "stdout",
     "output_type": "stream",
     "text": [
      "Hello, world\n"
     ]
    }
   ],
   "source": [
    "#Сцепили четыре слова в одну строчку:\n",
    "print('Hello' + ',' + ' ' + 'world')"
   ]
  },
  {
   "cell_type": "markdown",
   "metadata": {},
   "source": [
    "## Переменные\n",
    "Переменная - это объект, которому дали имя. <br />\n",
    "Например: <br />\n",
    "\n",
    "```python\n",
    "number = 2\n",
    "```\n",
    "\n",
    "Задали числовой объект, назвали его `number`, и этой переменной присвоили значение 2. <br />\n",
    "Заранее инициализировать тип переменной не нужно, питон делает автоматически!"
   ]
  },
  {
   "cell_type": "code",
   "execution_count": 4,
   "metadata": {},
   "outputs": [
    {
     "data": {
      "text/plain": [
       "2"
      ]
     },
     "execution_count": 4,
     "metadata": {},
     "output_type": "execute_result"
    }
   ],
   "source": [
    "my_variable = 2\n",
    "my_variable"
   ]
  },
  {
   "cell_type": "markdown",
   "metadata": {},
   "source": [
    "## input()\n",
    "Данные можно не только выводить, но и, конечно, вводить. \n",
    "Вывод осуществляется функцией input():\n",
    "- input([prompt])\n",
    "\n",
    "Обязательных аргументов нет. Можно передавать строчку, которая будет выведена перед ячейкой ввода. "
   ]
  },
  {
   "cell_type": "code",
   "execution_count": 5,
   "metadata": {},
   "outputs": [
    {
     "name": "stdout",
     "output_type": "stream",
     "text": [
      "апрель\n",
      "Сейчас апрель месяц.\n"
     ]
    }
   ],
   "source": [
    "month = input()\n",
    "print('Сейчас', month, 'месяц.')"
   ]
  },
  {
   "cell_type": "code",
   "execution_count": 6,
   "metadata": {},
   "outputs": [
    {
     "name": "stdout",
     "output_type": "stream",
     "text": [
      "Введите текущий месяц: апрель\n",
      "Сейчас апрель месяц.\n"
     ]
    }
   ],
   "source": [
    "month = input('Введите текущий месяц: ')\n",
    "print('Сейчас', month, 'месяц.')"
   ]
  },
  {
   "cell_type": "markdown",
   "metadata": {},
   "source": [
    "## Задача 1\n",
    "Напишите программу, которая приветствует пользователя, выводя слово Hello, введенное имя и знаки препинания.\n",
    "Обратите внимание, что после запятой должен обязательно стоять пробел, а перед восклицательным знаком пробела нет. Операцией конкатенации строк (+) пользоваться нельзя.\n",
    "\n",
    "**Образец**\n",
    "\n",
    "Входные данные:\n",
    "Harry\n",
    "\n",
    "Вывод программы:\n",
    "Hello, Harry!"
   ]
  },
  {
   "cell_type": "code",
   "execution_count": 7,
   "metadata": {},
   "outputs": [
    {
     "name": "stdout",
     "output_type": "stream",
     "text": [
      "Dima\n",
      "Hello, Dima!\n",
      "Hello, Dima!\n",
      "Hello, Dima!\n"
     ]
    }
   ],
   "source": [
    "# Ваш код здесь\n",
    "name = input()\n",
    "\n",
    "# Вариант 1\n",
    "print(\"Hello, \" + name + \"!\")\n",
    "\n",
    "# Вариант 2\n",
    "print(\"Hello, \", name, \"!\",  sep=\"\")\n",
    "\n",
    "# Вариант 3 (продвинутый и сейчас не обязательный)\n",
    "print(\"Hello, {}!\".format(name))"
   ]
  },
  {
   "cell_type": "markdown",
   "metadata": {},
   "source": [
    "## Арифметические операции\n",
    "\n",
    "- Сложение: +\n",
    "- Вычитание: -\n",
    "- Умножение: *\n",
    "- Деление: /\n",
    "- Целочисленное деление: //\n",
    "- Остаток от деления: %"
   ]
  },
  {
   "cell_type": "code",
   "execution_count": 8,
   "metadata": {},
   "outputs": [
    {
     "name": "stdout",
     "output_type": "stream",
     "text": [
      "Работаем с числами 5 и 2\n",
      "Результат сложения: 7\n",
      "Результат вычитания: 3\n",
      "Результат умножения: 10\n",
      "Результат деления: 2.5\n",
      "Результат целочисленного деления: 2\n",
      "Результат остатка от деления: 1\n",
      "Результат возведения в степени: 25\n"
     ]
    }
   ],
   "source": [
    "print('Работаем с числами', 5, 'и', 2)\n",
    "print('Результат сложения:', 5 + 2)\n",
    "print('Результат вычитания:', 5 - 2)\n",
    "print('Результат умножения:', 5*2)\n",
    "print('Результат деления:', 5 / 2)\n",
    "print('Результат целочисленного деления:', 5 // 2)\n",
    "print('Результат остатка от деления:', 5 % 2)\n",
    "print('Результат возведения в степени:', 5**2)"
   ]
  },
  {
   "cell_type": "markdown",
   "metadata": {},
   "source": [
    "## Основные типы данных\n",
    "Какие есть часто используемые встроенные типы данных?\n",
    " - Числа: `564, 3.14`,\n",
    " - Строки:`'lion', \"your's\", 'привет'`\n",
    " - Списки: `[1, [2, 'apple'], 4.5]`\n",
    " - Словари: `{'Apple': 2, 'Car': 4}`\n",
    " - Кортежи: `('tool', 21.7, 'bike')`\n",
    " - Множества: `set(1,2,3), {'a', 'b', 'c'}`\n"
   ]
  },
  {
   "cell_type": "markdown",
   "metadata": {},
   "source": [
    "Функция input() записывает ввведенную строчку в переменную типа string. Чтобы проверить, можно использовать функцию type()"
   ]
  },
  {
   "cell_type": "code",
   "execution_count": 9,
   "metadata": {},
   "outputs": [
    {
     "name": "stdout",
     "output_type": "stream",
     "text": [
      "Введите ваше имя: Дима\n"
     ]
    },
    {
     "data": {
      "text/plain": [
       "str"
      ]
     },
     "execution_count": 9,
     "metadata": {},
     "output_type": "execute_result"
    }
   ],
   "source": [
    "name = input('Введите ваше имя: ')\n",
    "type(name)"
   ]
  },
  {
   "cell_type": "markdown",
   "metadata": {},
   "source": [
    "### Игры с типами переменных\n",
    "Как быть, если нам нужно ввести число и использовать эту переменную как числовую? <br />\n",
    "Воспользуемся функцией int(object), она превращает передаваемый объект в целочисленную переменную "
   ]
  },
  {
   "cell_type": "code",
   "execution_count": 10,
   "metadata": {},
   "outputs": [
    {
     "name": "stdout",
     "output_type": "stream",
     "text": [
      "4\n",
      "<class 'int'>\n",
      "Квадрат введенного числа: 16\n"
     ]
    }
   ],
   "source": [
    "number = int(input())\n",
    "print(type(number))\n",
    "print('Квадрат введенного числа:', number ** 2)"
   ]
  },
  {
   "cell_type": "markdown",
   "metadata": {},
   "source": [
    "А если бы мы хотели вывести результирующую строчку в виде одной текстовой строки?\n",
    "Конкатенировать текст и число мы не можем; только текст с текстом. \n",
    "Поэтому с помощью функции str(object) преобразуем число в текст и выведем на печать. "
   ]
  },
  {
   "cell_type": "code",
   "execution_count": 11,
   "metadata": {},
   "outputs": [
    {
     "name": "stdout",
     "output_type": "stream",
     "text": [
      "4\n",
      "Квадрат введенного числа 16\n",
      "<class 'str'>\n"
     ]
    }
   ],
   "source": [
    "number = int(input())\n",
    "square = number ** 2\n",
    "#print('Квадрат введенного числа' + square)\n",
    "result = 'Квадрат введенного числа' + ' ' + str(square)\n",
    "print(result)\n",
    "print(type(result))"
   ]
  },
  {
   "cell_type": "markdown",
   "metadata": {},
   "source": [
    "В случае вещественного числа используем функцию float()"
   ]
  },
  {
   "cell_type": "code",
   "execution_count": 13,
   "metadata": {},
   "outputs": [
    {
     "name": "stdout",
     "output_type": "stream",
     "text": [
      "2.5\n",
      "Квадрат введенного числа 6.25\n"
     ]
    }
   ],
   "source": [
    "number = float(input())\n",
    "square = number ** 2\n",
    "result = 'Квадрат введенного числа' + ' ' + str(square)\n",
    "print(result)"
   ]
  },
  {
   "cell_type": "markdown",
   "metadata": {},
   "source": [
    "## Задача 2\n",
    "N хоббитов делят K кусков эльфийского хлеба поровну, не делящийся остаток остается в корзинке у Сэма. <br />\n",
    "1) Сколько кусков эльфиского хлеба достанется каждому хоббиту?<br />\n",
    "2) Сколько останется в корзинке?\n",
    "\n",
    "**Образец**\n",
    "\n",
    "Входные данные:<br />\n",
    ">3<br />\n",
    "14<br />\n",
    "\n",
    "Вывод программы:\n",
    "\n",
    ">Каждому хоббиту достанется 4<br />\n",
    "В корзине останется 2"
   ]
  },
  {
   "cell_type": "code",
   "execution_count": 15,
   "metadata": {},
   "outputs": [
    {
     "name": "stdout",
     "output_type": "stream",
     "text": [
      "Введите число хоббитов: 3\n",
      "Введите число кусков хлеба: 14\n",
      "Каждому хоббиту достанется 4\n",
      "В корзине останется 2\n"
     ]
    }
   ],
   "source": [
    "N_hobbits = int(input(\"Введите число хоббитов: \"))\n",
    "K_bread =  int(input(\"Введите число кусков хлеба: \"))\n",
    "\n",
    "bread_for_hobbits = K_bread // N_hobbits # целочисленное деление\n",
    "bread_left = K_bread % N_hobbits # остаток от деления\n",
    "\n",
    "print(\"Каждому хоббиту достанется\", bread_for_hobbits)\n",
    "print(\"В корзине останется\", bread_left)"
   ]
  },
  {
   "cell_type": "markdown",
   "metadata": {},
   "source": [
    "## Логический тип данных\n",
    "Также известны как булевый тип данных, принимают значения `True` (Истина) или `False` (Ложь). Это подтип `int`, задается в виде `bool()`\n",
    "\n",
    "<img src=\"https://cdn.dopl3r.com/memes_files/question-38-1-point-what-is-a-microphone-true-o-false-save-save-all-responses-go-to-submit-lXdwD.jpg\" width=\"300\">\n",
    "\n",
    "#### Логические выражения\n",
    "\n",
    "По аналогии с арифметическими выражениями существуют логические выражения, которые могут быть истинными или ложными. Простое логическое выражение имеет вид <br /> \n",
    "\n",
    "<арифметическое выражение> <знак сравнения> <арифметическое выражение>. <br /> \n",
    "\n",
    "Например, если у нас есть переменные x и y с какими-то значениями, то логическое выражение <br /> x + y < 3y <br /> в качестве первого арифметического выражения имеет x + y, в качестве знака сравнения < (меньше), а второе арифметическое выражение в нём 3y.\n",
    "\n",
    "\n",
    "<center> \n",
    "    <table>\n",
    "        <tr>\n",
    "            <th>Логическое выражение </th>\n",
    "            <th> Значение </th>\n",
    "        </tr> \n",
    "        <tr><td>&lt;</td><td> Меньше</td></tr>\n",
    "        <tr><td>&gt;</td><td> Больше</td></tr>\n",
    "        <tr><td>&lt;=</td><td> Меньше или равно</td></tr>\n",
    "        <tr><td>&gt;=</td><td> Больше или равно</td></tr>\n",
    "        <tr><td>==</td><td> Равно </td></tr>\n",
    "        <tr><td>!=</td><td> Не равно</td></tr>\n",
    "    </table>\n",
    "</center>"
   ]
  },
  {
   "cell_type": "code",
   "execution_count": 16,
   "metadata": {},
   "outputs": [
    {
     "name": "stdout",
     "output_type": "stream",
     "text": [
      "0\n",
      "False\n"
     ]
    }
   ],
   "source": [
    "x = int(bool(1 > 2))\n",
    "print(x)\n",
    "print(1 > 2)"
   ]
  },
  {
   "cell_type": "markdown",
   "metadata": {},
   "source": [
    "Чтобы записать сложное логическое выражение, часто бывает необходимо воспользоваться логическими связками \"и\", \"или\" и \"не\". \n",
    "\n",
    "В Питоне они обозначаются как `and`, `or` и `not` соответственно. Операции `and` и `or` являеются бинарными, т.е. должны быть записаны между операндами, например `x < 3` or `y > 2`. Операция `not` - унарная и должна быть записана перед единственным своим операндом."
   ]
  },
  {
   "cell_type": "code",
   "execution_count": 17,
   "metadata": {},
   "outputs": [
    {
     "name": "stdout",
     "output_type": "stream",
     "text": [
      "3\n",
      "5\n",
      "7\n",
      "False\n",
      "True\n"
     ]
    }
   ],
   "source": [
    "x = int(input())\n",
    "y = int(input())\n",
    "z = int(input())\n",
    "print(x > y and y < z)\n",
    "print(not(x > y))"
   ]
  },
  {
   "cell_type": "markdown",
   "metadata": {},
   "source": [
    "## Условный оператор\n",
    "Наиболее частое применение логические выражения находят в условных операторах.\n",
    "<img src=\"http://itandlife.ru/wp-content/uploads/2012/02/%D0%A1%D1%82%D1%80%D1%83%D0%BA%D1%82%D1%83%D1%80%D0%BD%D0%B0%D1%8F-%D1%81%D1%85%D0%B5%D0%BC%D0%B0-%D1%83%D1%81%D0%BB%D0%BE%D0%B2%D0%BD%D0%BE%D0%B3%D0%BE-%D0%BE%D0%BF%D0%B5%D1%80%D0%B0%D1%82%D0%BE%D1%80%D0%B0.jpg\" width=600>\n",
    "\n",
    "Синтаксис в питоне: <br />\n",
    "**if** условие1:<br />\n",
    "&emsp; команды<br />\n",
    "**elif** условие2:<br />\n",
    "&emsp; команды<br />\n",
    "**elif** условие3:<br />\n",
    "&emsp; команды<br />\n",
    "**else**: <br />\n",
    "&emsp; команды<br />\n",
    "\n",
    "Все команды пишутся с отступом. \n"
   ]
  },
  {
   "cell_type": "code",
   "execution_count": 18,
   "metadata": {},
   "outputs": [
    {
     "name": "stdout",
     "output_type": "stream",
     "text": [
      "You don't say\n"
     ]
    }
   ],
   "source": [
    "if 2 > 1:\n",
    "    print(\"You don't say\")"
   ]
  },
  {
   "cell_type": "code",
   "execution_count": 20,
   "metadata": {},
   "outputs": [
    {
     "name": "stdout",
     "output_type": "stream",
     "text": [
      "5\n",
      "7\n",
      " \n",
      "Y не меньше, чем X\n"
     ]
    }
   ],
   "source": [
    "x = int(input())\n",
    "y = int(input())\n",
    "if x > y:\n",
    "    print('X больше Y')\n",
    "    print(x - y)\n",
    "else:\n",
    "    print(' ')\n",
    "    print('Y не меньше, чем X')"
   ]
  },
  {
   "cell_type": "code",
   "execution_count": 21,
   "metadata": {},
   "outputs": [
    {
     "name": "stdout",
     "output_type": "stream",
     "text": [
      "5\n",
      "5\n",
      "X равно Y\n"
     ]
    }
   ],
   "source": [
    "x = int(input())\n",
    "y = int(input())\n",
    "if x > y:\n",
    "    print('X больше Y')\n",
    "    print(x - y)\n",
    "elif y > x:\n",
    "    print('Y больше X')\n",
    "    print(y - x)\n",
    "else:\n",
    "    print('X равно Y')"
   ]
  },
  {
   "cell_type": "markdown",
   "metadata": {},
   "source": [
    "### Задача 3\n",
    "\n",
    "<img src=\"http://i0.kym-cdn.com/photos/images/original/001/187/255/5e9.gif\" width=300>"
   ]
  },
  {
   "cell_type": "markdown",
   "metadata": {},
   "source": [
    "В копях Мории хоббиты нашли стену, на которой высечены разные натуральные числа. Согласно древним сказаниям, это даты сражений. Но великие сражения происходили только по високосным годам. Помогите хоббитам определить, является ли год с данным числом датой великого сражения. Если это так, то выведите YOU SHALL PASS, иначе выведите YOU SHALL NOT PASS. Напомним, что в соответствии с хоббитским календарем, год является високосным, если его номер кратен 4, но не кратен 100, а также если он кратен 400.\n",
    "\n",
    "**Образец**\n",
    "\n",
    "Входные данные:<br />\n",
    "4<br />\n",
    "\n",
    "Вывод программы: <br />\n",
    "YOU SHALL PASS"
   ]
  },
  {
   "cell_type": "code",
   "execution_count": 22,
   "metadata": {},
   "outputs": [
    {
     "name": "stdout",
     "output_type": "stream",
     "text": [
      "Введи число, странник Мории: 4\n",
      "YOU SHALL PASS\n"
     ]
    }
   ],
   "source": [
    "year = int(input(\"Введи число, странник Мории: \"))\n",
    "\n",
    "# Вариант 1 (if - elif - else)\n",
    "if year % 4 == 0 and year % 100 != 0:\n",
    "    print(\"YOU SHALL PASS\")\n",
    "elif year % 100 == 0:\n",
    "    print(\"YOU SHALL PASS\")\n",
    "else:\n",
    "    print(\"YOU SHALL NOT PASS\")"
   ]
  },
  {
   "cell_type": "code",
   "execution_count": 23,
   "metadata": {},
   "outputs": [
    {
     "name": "stdout",
     "output_type": "stream",
     "text": [
      "YOU SHALL PASS\n"
     ]
    }
   ],
   "source": [
    "# Вариант 2 (покороче)\n",
    "if (year % 4 == 0 and year % 100 != 0) or year % 100 == 0:\n",
    "    print(\"YOU SHALL PASS\")\n",
    "else:\n",
    "    print(\"YOU SHALL NOT PASS\")"
   ]
  },
  {
   "cell_type": "markdown",
   "metadata": {},
   "source": [
    "## Цикл while\n",
    "\n",
    "While переводится как \"пока\" и позволяет выполнять команды, до тех пор, пока условие верно. После окончания выполнения блока команд, относящихся к while, управление возвращается на строку с условием и, если оно выполнено, то выполнение блока команд повторяется, а если не выполнено, то продолжается выполнение команд, записанных после while.\n",
    "\n",
    "Важно случайно не сделать бесконечный цикл!\n",
    "\n",
    "**while** условие1:<br />\n",
    "&emsp; команды<br />\n",
    "\n",
    "Все команды пишутся с отступом. \n"
   ]
  },
  {
   "cell_type": "code",
   "execution_count": 24,
   "metadata": {},
   "outputs": [
    {
     "name": "stdout",
     "output_type": "stream",
     "text": [
      "1\n",
      "2\n",
      "3\n",
      "4\n",
      "5\n",
      "6\n",
      "7\n",
      "8\n",
      "9\n",
      "0\n",
      "Сумма последовательности:  45\n"
     ]
    }
   ],
   "source": [
    "k = int(input())\n",
    "s = k\n",
    "while k != 0:\n",
    "    k = int(input())\n",
    "    s = s + k\n",
    "print('Сумма последовательности: ', s)"
   ]
  },
  {
   "cell_type": "markdown",
   "metadata": {},
   "source": [
    "## Задача 4\n",
    "\n",
    "По данному целому числу N распечатайте квадраты всех чисел, предшествующих N (включая N), в порядке убывания. (Никто не знает, зачем это понадобилось хоббитам)\n",
    "\n",
    "**Образец**\n",
    "\n",
    "Входные данные: <br />\n",
    "3\n",
    "\n",
    "Вывод программы: <br />\n",
    "9<br />\n",
    "4<br />\n",
    "1<br />"
   ]
  },
  {
   "cell_type": "code",
   "execution_count": 25,
   "metadata": {},
   "outputs": [
    {
     "name": "stdout",
     "output_type": "stream",
     "text": [
      "3\n",
      "9\n",
      "4\n",
      "1\n"
     ]
    }
   ],
   "source": [
    "number = int(input())\n",
    "\n",
    "while number > 0:\n",
    "    print(number ** 2)\n",
    "    number = number - 1 # эквивалентная запись в питоне:  nummber -= 1"
   ]
  },
  {
   "cell_type": "markdown",
   "metadata": {},
   "source": [
    "## Функция range(n)\n",
    "Создается объект класса `range`, внутри которого содержится арифметическая прогрессия в заданных диапазонах и с определенным шагом\n",
    "\n",
    "Ее синтаксис:\n",
    "```python\n",
    "range(start, stop[, step])\n",
    "```"
   ]
  },
  {
   "cell_type": "code",
   "execution_count": 26,
   "metadata": {},
   "outputs": [
    {
     "name": "stdout",
     "output_type": "stream",
     "text": [
      "range(0, 5)\n",
      "[0, 1, 2, 3, 4]\n",
      "[2, 3, 4, 5]\n",
      "[2, 4]\n"
     ]
    }
   ],
   "source": [
    "print(range(5))\n",
    "print(list(range(5)))\n",
    "print(list(range(2, 6)))\n",
    "print(list(range(2, 6, 2)))"
   ]
  },
  {
   "cell_type": "markdown",
   "metadata": {},
   "source": [
    "## Цикл for\n",
    "Цикл for позволяет поочередно перебрать элементы из чего-нибудь итерируемого.\n",
    "\n",
    "Ее синтаксис: <br />\n",
    "**for** i **in** диапазон_изменений_i:<br />\n",
    "&emsp; команды\n",
    "\n",
    "Все команды пишутся с отступом. \n"
   ]
  },
  {
   "cell_type": "code",
   "execution_count": 27,
   "metadata": {},
   "outputs": [
    {
     "name": "stdout",
     "output_type": "stream",
     "text": [
      "5\n",
      "1\n",
      "4\n",
      "9\n",
      "16\n",
      "25\n"
     ]
    }
   ],
   "source": [
    "n = int(input())\n",
    "for i in range(1, n + 1):\n",
    "    print(i**2)"
   ]
  },
  {
   "cell_type": "markdown",
   "metadata": {},
   "source": [
    "Перебирать в цикле for можно не только числа"
   ]
  },
  {
   "cell_type": "code",
   "execution_count": 28,
   "metadata": {},
   "outputs": [
    {
     "name": "stdout",
     "output_type": "stream",
     "text": [
      "red apple\n",
      "green apple\n",
      "yellow apple\n"
     ]
    }
   ],
   "source": [
    "for color in ['red', 'green', 'yellow']:\n",
    "    print(color, 'apple')"
   ]
  },
  {
   "cell_type": "markdown",
   "metadata": {},
   "source": [
    "## Задача 5\n",
    "Даны два целых числа A и B (при этом A≤B). Выведите все числа от A до B включительно.\n",
    "Обратите внимание, что вывод осуществляется в одну строчку (для хоббитов это условие критично). \n",
    "\n",
    "**Образец**\n",
    "\n",
    "Входные данные:<br />\n",
    "1<br />\n",
    "10\n",
    "\n",
    "Вывод программы: <br />\n",
    "1 2 3 4 5 6 7 8 9 10"
   ]
  },
  {
   "cell_type": "code",
   "execution_count": 29,
   "metadata": {},
   "outputs": [
    {
     "name": "stdout",
     "output_type": "stream",
     "text": [
      "Введите число A: 1\n",
      "Введите число B: 10\n",
      "1 2 3 4 5 6 7 8 9 10 "
     ]
    }
   ],
   "source": [
    "A = int(input(\"Введите число A: \"))\n",
    "B = int(input(\"Введите число B: \"))\n",
    "\n",
    "if A <= B:\n",
    "    for i in range(A, B+1):\n",
    "        print(i, end = \" \")\n",
    "else:\n",
    "    print(\"Число A должно быть меньше или равно B\")"
   ]
  },
  {
   "cell_type": "markdown",
   "metadata": {},
   "source": [
    "## Списки\n",
    "Список состоит из элементов, разделенных запятыми, находящихся между квадратными скобками ( [ ] ). \n",
    "<br /> В списке могут быть объекты любого типа"
   ]
  },
  {
   "cell_type": "code",
   "execution_count": 30,
   "metadata": {},
   "outputs": [
    {
     "name": "stdout",
     "output_type": "stream",
     "text": [
      "<class 'list'>\n",
      "[1, 2, 3, 'wednesday']\n"
     ]
    }
   ],
   "source": [
    "mylist = [1, 2, 3, 'wednesday']\n",
    "print(type(mylist))\n",
    "print(mylist)"
   ]
  },
  {
   "cell_type": "markdown",
   "metadata": {},
   "source": [
    "Методы\n",
    "- list.append(x)\tДобавляет элемент в конец списка\n",
    "- list.extend(L)\tРасширяет список list, добавляя в конец все элементы списка L\n",
    "- list.insert(i, x)\tВставляет на i-ый элемент значение x\n",
    "- list.remove(x)\tУдаляет первый элемент в списке, имеющий значение x. ValueError, если такого элемента не существует\n",
    "- list.pop([i])\tУдаляет i-ый элемент и возвращает его. Если индекс не указан, удаляется последний элемент\n",
    "- list.index(x, [start [, end]])\tВозвращает положение первого элемента со значением x (при этом поиск ведется от start до end)\n",
    "- list.count(x)\tВозвращает количество элементов со значением x\n",
    "- list.sort([key=функция])\tСортирует список на основе функции\n",
    "- list.reverse()\tРазворачивает список\n",
    "- list.copy()\tПоверхностная копия списка\n",
    "- list.clear()\tОчищает список"
   ]
  },
  {
   "cell_type": "code",
   "execution_count": 31,
   "metadata": {},
   "outputs": [
    {
     "name": "stdout",
     "output_type": "stream",
     "text": [
      "[-2]\n",
      "[-2, 1, 2, 3, 'wednesday']\n",
      "[-2, 1, 2, 3]\n",
      "[-2, 1, 2, 3]\n"
     ]
    }
   ],
   "source": [
    "# пустой лист\n",
    "newlist = []\n",
    "newlist.append(-2)\n",
    "print(newlist)\n",
    "newlist.extend(mylist)\n",
    "print(newlist)\n",
    "newlist.remove('wednesday')\n",
    "print(newlist)\n",
    "newlist.sort()\n",
    "print(newlist)"
   ]
  },
  {
   "cell_type": "markdown",
   "metadata": {},
   "source": [
    "## Задача 6\n",
    "Дано натуральное число (хоббит вводит его с клавиатуры). \n",
    "Создайте список с квадратами всех предшествующих натуральных чисел, включая введенное число. \n",
    "\n",
    "**Образец**\n",
    "\n",
    "Входные данные:<br />\n",
    "10 <br />\n",
    "\n",
    "Вывод программы: <br />\n",
    "[1, 4, 9, 16, 25, 36, 49, 64, 81, 100]"
   ]
  },
  {
   "cell_type": "code",
   "execution_count": 34,
   "metadata": {},
   "outputs": [
    {
     "data": {
      "text/plain": [
       "[1, 4, 16]"
      ]
     },
     "execution_count": 34,
     "metadata": {},
     "output_type": "execute_result"
    }
   ],
   "source": [
    "ar = [16, 4, 1]\n",
    "ar[::-1] # разворот списка"
   ]
  },
  {
   "cell_type": "code",
   "execution_count": 37,
   "metadata": {},
   "outputs": [
    {
     "name": "stdout",
     "output_type": "stream",
     "text": [
      "Вводи число, хоббит: 10\n",
      "[1, 4, 9, 16, 25, 36, 49, 64, 81, 100]\n"
     ]
    }
   ],
   "source": [
    "number = int(input(\"Вводи число, хоббит: \"))\n",
    "\n",
    "squares_list = [] # задаем пустой список, чтобы наполнять его квадратами\n",
    "\n",
    "# Вариант 1 - цикл for\n",
    "for i in range(1, number + 1):\n",
    "    squares_list.append(i ** 2)\n",
    "    \n",
    "print(squares_list)"
   ]
  },
  {
   "cell_type": "code",
   "execution_count": 38,
   "metadata": {},
   "outputs": [
    {
     "name": "stdout",
     "output_type": "stream",
     "text": [
      "[1, 4, 9, 16, 25, 36, 49, 64, 81, 100]\n"
     ]
    }
   ],
   "source": [
    "# Вариант 2 - цикл while\n",
    "squares_list = []\n",
    "\n",
    "while number > 0:\n",
    "    squares_list.append(number ** 2)\n",
    "    number -= 1\n",
    "    \n",
    "print(squares_list[::-1])"
   ]
  },
  {
   "cell_type": "markdown",
   "metadata": {},
   "source": [
    "## Написание функций\n",
    "Если какие-то операции надо повторять из раза в раз и нет готовых функций, то можно создать свою. \n",
    "\n",
    "Синтаксис: <br /> \n",
    "**def** название функции(список аргументов):<br /> \n",
    "&emsp; команды<br /> \n",
    "&emsp; **return** результат выполнения функции<br /> \n",
    "\n",
    "Все команды пишутся с отступом. \n",
    "\n",
    "Функция должна быть записана в любом месте до ее первого вызова."
   ]
  },
  {
   "cell_type": "code",
   "execution_count": 39,
   "metadata": {},
   "outputs": [
    {
     "name": "stdout",
     "output_type": "stream",
     "text": [
      "10\n",
      "2\n",
      "100\n"
     ]
    }
   ],
   "source": [
    "def power(number, p):\n",
    "    result = number**p\n",
    "    return result\n",
    "\n",
    "number = int(input())\n",
    "p = int(input())\n",
    "print(power(number, p))"
   ]
  },
  {
   "cell_type": "markdown",
   "metadata": {},
   "source": [
    "#### Задача 7\n",
    "Для могущественного магического ритуала Гендальфу необходимо быстро подсчитывать площадь своего амулета, который умеет менять размеры. Известно, что амулет имеет форму треугольника и Гендальф знает длину каждой из сторон. Напишите функцию, которая считает площадь амулета по трем сторонам. Стороны вводятся вне функции. <br /> \n",
    "Подсказка: используйте формулу Герона\n",
    "$$ S = \\sqrt{p(p-a)(p-b)(p-c)} $$\n",
    "$$ p = \\frac{a + b + c}{2}$$\n",
    "**Образец**\n",
    "\n",
    "Входные данные:<br />\n",
    "3\n",
    "4\n",
    "5\n",
    "\n",
    "Вывод программы: <br />\n",
    "6"
   ]
  },
  {
   "cell_type": "code",
   "execution_count": 41,
   "metadata": {},
   "outputs": [
    {
     "name": "stdout",
     "output_type": "stream",
     "text": [
      "3\n",
      "4\n",
      "5\n",
      "6.0\n"
     ]
    }
   ],
   "source": [
    "def triangleArea(a, b, c):\n",
    "    # сначала  посчитаем  периметр прямо внутри функции\n",
    "    p = (a + b + c)/2\n",
    "    # а теперь площадь\n",
    "    S = (p * (p - a) * (p - b) * (p - c)) ** 0.5\n",
    "    # вернем переменную площади, чтобы функция выдавала результат\n",
    "    return S\n",
    "\n",
    "\n",
    "a = int(input())\n",
    "b = int(input())\n",
    "c = int(input())\n",
    "\n",
    "result = triangleArea(a, b, c)\n",
    "\n",
    "print(result)"
   ]
  },
  {
   "cell_type": "markdown",
   "metadata": {},
   "source": [
    "# Итоги\n",
    "## Функции\n",
    " - print()¶\n",
    " - input([prompt])\n",
    " - int()\n",
    " - float()\n",
    " - str()\n",
    " - bool()\n",
    " - range(start, stop[, step])\n",
    " \n",
    "## Условный оператор\n",
    "\n",
    "if условие1:<br />\n",
    "&emsp; команды<br />\n",
    "elif условие2:<br />\n",
    "&emsp; команды<br />\n",
    "elif условие3:<br />\n",
    "&emsp; команды<br />\n",
    "else:\n",
    "&emsp; команды<br />\n",
    "\n",
    "## Цикл while\n",
    "while условие1:<br />\n",
    "&emsp; команды<br />\n",
    "\n",
    "## Цикл for\n",
    "for i in диапазон_изменений_i:<br />\n",
    "&emsp; команды\n"
   ]
  },
  {
   "cell_type": "markdown",
   "metadata": {},
   "source": [
    "![](http://i0.kym-cdn.com/photos/images/newsfeed/000/514/589/66b.jpg)"
   ]
  }
 ],
 "metadata": {
  "kernelspec": {
   "display_name": "Python 3",
   "language": "python",
   "name": "python3"
  },
  "language_info": {
   "codemirror_mode": {
    "name": "ipython",
    "version": 3
   },
   "file_extension": ".py",
   "mimetype": "text/x-python",
   "name": "python",
   "nbconvert_exporter": "python",
   "pygments_lexer": "ipython3",
   "version": "3.7.2"
  },
  "varInspector": {
   "cols": {
    "lenName": 16,
    "lenType": 16,
    "lenVar": 40
   },
   "kernels_config": {
    "python": {
     "delete_cmd_postfix": "",
     "delete_cmd_prefix": "del ",
     "library": "var_list.py",
     "varRefreshCmd": "print(var_dic_list())"
    },
    "r": {
     "delete_cmd_postfix": ") ",
     "delete_cmd_prefix": "rm(",
     "library": "var_list.r",
     "varRefreshCmd": "cat(var_dic_list()) "
    }
   },
   "types_to_exclude": [
    "module",
    "function",
    "builtin_function_or_method",
    "instance",
    "_Feature"
   ],
   "window_display": false
  }
 },
 "nbformat": 4,
 "nbformat_minor": 2
}
