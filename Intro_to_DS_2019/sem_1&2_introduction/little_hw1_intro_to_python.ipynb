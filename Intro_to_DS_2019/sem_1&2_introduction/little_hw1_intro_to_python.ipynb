{
 "cells": [
  {
   "cell_type": "markdown",
   "metadata": {},
   "source": [
    "# Мини-домашка 1"
   ]
  },
  {
   "cell_type": "markdown",
   "metadata": {},
   "source": [
    "### Задача 1\n",
    "\n",
    "N хоббитов делят K кусков эльфийского хлеба поровну, не делящийся остаток остается в корзинке у Сэма. <br />\n",
    "1) Сколько кусков эльфиского хлеба достанется каждому хоббиту?<br />\n",
    "2) Сколько останется в корзинке?\n",
    "\n",
    "**Образец**\n",
    "\n",
    "Входные данные:<br />\n",
    ">3<br />\n",
    "14<br />\n",
    "\n",
    "Вывод программы:\n",
    "\n",
    ">Каждому хоббиту достанется 4<br />\n",
    "В корзине останется 2"
   ]
  },
  {
   "cell_type": "code",
   "execution_count": 2,
   "metadata": {},
   "outputs": [
    {
     "name": "stdout",
     "output_type": "stream",
     "text": [
      "Хоббитам д 2\n",
      "ljhfafllk 4\n"
     ]
    }
   ],
   "source": [
    "x = 14 \n",
    "y = 3\n",
    "\n",
    "print('Хоббитам д', x % 3)\n",
    "print('ljhfafllk', x // 3)"
   ]
  },
  {
   "cell_type": "markdown",
   "metadata": {},
   "source": [
    "### Задача 2 \n",
    "\n",
    "Хоббит хочет записать слово `python` 100 раз подряд. Помогите ему сделать это."
   ]
  },
  {
   "cell_type": "code",
   "execution_count": 4,
   "metadata": {},
   "outputs": [
    {
     "data": {
      "text/plain": [
       "'python python python python python python python python python python python python python python python python python python python python python python python python python python python python python python python python python python python python python python python python python python python python python python python python python python python python python python python python python python python python python python python python python python python python python python python python python python python python python python python python python python python python python python python python python python python python python python python python python python python python '"
      ]
     },
     "execution_count": 4,
     "metadata": {},
     "output_type": "execute_result"
    }
   ],
   "source": [
    "'python '*100"
   ]
  },
  {
   "cell_type": "markdown",
   "metadata": {},
   "source": [
    "### Задача 3 \n",
    "\n",
    "Хоббит посчитал число $179^{10}$ и записал это число четыре раза подряд. Из получившегося числа он извлёк корень степени $10$. Сколько вышло у Хоббита в итоге?"
   ]
  },
  {
   "cell_type": "code",
   "execution_count": 8,
   "metadata": {},
   "outputs": [
    {
     "data": {
      "text/plain": [
       "1421847540.1564655"
      ]
     },
     "execution_count": 8,
     "metadata": {},
     "output_type": "execute_result"
    }
   ],
   "source": [
    "x = str(179**10)\n",
    "(int(4*x))**(1/10)"
   ]
  },
  {
   "cell_type": "code",
   "execution_count": 11,
   "metadata": {},
   "outputs": [
    {
     "data": {
      "text/plain": [
       "'33769941616283277616201337699416162832776162013376994161628327761620133769941616283277616201'"
      ]
     },
     "execution_count": 11,
     "metadata": {},
     "output_type": "execute_result"
    }
   ],
   "source": [
    "x*4"
   ]
  },
  {
   "cell_type": "code",
   "execution_count": 9,
   "metadata": {},
   "outputs": [
    {
     "data": {
      "text/plain": [
       "5.811191066922794e+45"
      ]
     },
     "execution_count": 9,
     "metadata": {},
     "output_type": "execute_result"
    }
   ],
   "source": [
    "from math import sqrt\n",
    "sqrt(int(4*x))"
   ]
  },
  {
   "cell_type": "markdown",
   "metadata": {},
   "source": [
    "### Задача 4\n",
    "\n",
    "Для могущественного магического ритуала Гендальфу необходимо быстро подсчитывать площадь своего амулета, который умеет менять размеры. Известно, что амулет имеет форму треугольника и Гендальф знает длину каждой из сторон. Напишите функцию, которая считает площадь амулета по трем сторонам. Стороны вводятся вне функции. <br /> \n",
    "Подсказка: используйте формулу Герона\n",
    "$$ S = \\sqrt{p(p-a)(p-b)(p-c)} $$\n",
    "$$ p = \\frac{a + b + c}{2}$$\n",
    "**Образец**\n",
    "\n",
    "Входные данные:<br />\n",
    "3\n",
    "4\n",
    "5\n",
    "\n",
    "Вывод программы: <br />\n",
    "6"
   ]
  },
  {
   "cell_type": "code",
   "execution_count": null,
   "metadata": {},
   "outputs": [],
   "source": [
    "a,b,c = 2,3,4\n",
    "\n",
    "def geron(a,b,c):\n",
    "    lkwfekwf\n",
    "    lnwflns\n",
    "    return x\n",
    "\n",
    "geron(1,2,3)"
   ]
  }
 ],
 "metadata": {
  "kernelspec": {
   "display_name": "Python 3",
   "language": "python",
   "name": "python3"
  },
  "language_info": {
   "codemirror_mode": {
    "name": "ipython",
    "version": 3
   },
   "file_extension": ".py",
   "mimetype": "text/x-python",
   "name": "python",
   "nbconvert_exporter": "python",
   "pygments_lexer": "ipython3",
   "version": "3.7.2"
  }
 },
 "nbformat": 4,
 "nbformat_minor": 2
}
