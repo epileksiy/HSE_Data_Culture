{
 "cells": [
  {
   "cell_type": "markdown",
   "metadata": {},
   "source": [
    "# Мини-домашка 3\n",
    "\n",
    "За основу взята [разминочная домашка](https://github.com/iad-24/seminars) с курса ИАД."
   ]
  },
  {
   "cell_type": "code",
   "execution_count": 5,
   "metadata": {},
   "outputs": [],
   "source": [
    "import numpy as np"
   ]
  },
  {
   "cell_type": "markdown",
   "metadata": {},
   "source": [
    "В конце каждого семестра каждый семинарист сталкивается с необходимостью выставить студентам накопленную оценку. Часто семинаристы делают это с помощью Excel или GoogleSheets, но, поверьте, с этим возникают проблемы. В задании вам надо помочь семинаристу выполнить эту непростую работу с помощью `numpy` :)\n",
    "\n",
    "Выполните ячейку ниже, чтобы загрузить данные и визуально проверить корректность их считывания.\n",
    "\n",
    "По строкам - студенты, по столбцам - их оценки. В курсе семинарист провел три проверочных (первые три колонки), выдал три домашних работы (следующие три колонки), кроме того, у студентов есть оценка за коллоквиум (последняя колонка)."
   ]
  },
  {
   "cell_type": "code",
   "execution_count": 6,
   "metadata": {},
   "outputs": [],
   "source": [
    "marks = np.loadtxt(\"https://raw.githubusercontent.com/iad-24/seminars/master/materials/data_sem1_hw.txt\")"
   ]
  },
  {
   "cell_type": "code",
   "execution_count": 7,
   "metadata": {},
   "outputs": [
    {
     "data": {
      "text/plain": [
       "array([[ 7. ,  8. , 10. ,  0. ,  0. ,  2.1,  1.5],\n",
       "       [ 0. ,  6. ,  4.4,  4. ,  0. ,  5. ,  4.3],\n",
       "       [ 3. ,  7. ,  8.7,  7.6,  7. ,  9.7, 10. ]])"
      ]
     },
     "execution_count": 7,
     "metadata": {},
     "output_type": "execute_result"
    }
   ],
   "source": [
    "marks[:3]"
   ]
  },
  {
   "cell_type": "markdown",
   "metadata": {},
   "source": [
    "### [1] Число студентов\n",
    "Сколько студентов в группе семинариста?"
   ]
  },
  {
   "cell_type": "code",
   "execution_count": null,
   "metadata": {},
   "outputs": [],
   "source": [
    "### ╰( ͡° ͜ʖ ͡° )つ──☆*:・ﾟ"
   ]
  },
  {
   "cell_type": "markdown",
   "metadata": {},
   "source": [
    "### [2] Очень сложная проверочная, или просто добрый семинарист\n",
    "\n",
    "Семинарист помнит, что первая проверочная получилась очень сложной, и максимальный балл в группе был далеко не 10. Поэтому он решил поделить баллы за эту проверочную на максимум по группе - чтобы у студента с максимальной оценкой получилось 10, а у остальных - просто оценка больше."
   ]
  },
  {
   "cell_type": "markdown",
   "metadata": {},
   "source": [
    "Каков максимальный балл за первую проверочную? Положите ответ в переменную `max_mark`."
   ]
  },
  {
   "cell_type": "code",
   "execution_count": null,
   "metadata": {},
   "outputs": [],
   "source": [
    "### ╰( ͡° ͜ʖ ͡° )つ──☆ люмус"
   ]
  },
  {
   "cell_type": "markdown",
   "metadata": {},
   "source": [
    "Разделите первый столбец на `max_mark` (для этого надо выделить столбец, поставить после соответствующего выражения знак = и присвоить новое значение столбца)"
   ]
  },
  {
   "cell_type": "code",
   "execution_count": null,
   "metadata": {
    "collapsed": true
   },
   "outputs": [],
   "source": [
    "### ╰( ͡° ͜ʖ ͡° )つ──☆  ридикулус"
   ]
  },
  {
   "cell_type": "markdown",
   "metadata": {},
   "source": [
    "### [2] Подсчет накопленной оценки\n",
    "\n",
    "Для вычисления накопленной надо посчитать средние оценки за проверочные для каждого студента и средние за домашние работы (может пригодиться `np.mean`). Накопленная оценка есть $0.3 \\cdot \\text{Проверочные} + 0.4 \\cdot \\text{Домашние} + 0.3 \\cdot \\text{Коллоквиум}$. Вычислите накопленные оценки и добавьте их в последний столбец матрицы."
   ]
  },
  {
   "cell_type": "code",
   "execution_count": 32,
   "metadata": {
    "collapsed": true
   },
   "outputs": [],
   "source": [
    "# Веса следует брать из переменной weights, а не вписывать вручную\n",
    "weights = [0.3, 0.4, 0.3]"
   ]
  },
  {
   "cell_type": "code",
   "execution_count": null,
   "metadata": {
    "collapsed": true
   },
   "outputs": [],
   "source": [
    "### ╰( ͡° ͜ʖ ͡° )つ──☆ экспелярмус"
   ]
  },
  {
   "cell_type": "markdown",
   "metadata": {},
   "source": [
    "### [1] Студенты, которых, вероятно, отчислят"
   ]
  },
  {
   "cell_type": "markdown",
   "metadata": {},
   "source": [
    "Сколько в группе студентов с накопленной оценкой 0? Вам может понадобиться тот факт, что применение np.sum к бинарному вектору дает число значений True в нем, например:"
   ]
  },
  {
   "cell_type": "code",
   "execution_count": 35,
   "metadata": {},
   "outputs": [
    {
     "data": {
      "text/plain": [
       "2"
      ]
     },
     "execution_count": 35,
     "metadata": {},
     "output_type": "execute_result"
    }
   ],
   "source": [
    "np.sum([True, False, True]) # 2 значения True"
   ]
  },
  {
   "cell_type": "code",
   "execution_count": null,
   "metadata": {
    "collapsed": true
   },
   "outputs": [],
   "source": [
    "### ╰( ͡° ͜ʖ ͡° )つ──☆ империо"
   ]
  },
  {
   "cell_type": "markdown",
   "metadata": {},
   "source": [
    "Оцените вероятность того, что студента отчислят. "
   ]
  },
  {
   "cell_type": "code",
   "execution_count": null,
   "metadata": {},
   "outputs": [],
   "source": [
    "### ╰( ͡° ͜ʖ ͡° )つ──☆ круцио"
   ]
  },
  {
   "cell_type": "markdown",
   "metadata": {},
   "source": [
    "### [1] Студенты, которые получат автоматы\n",
    "Выделите в отдельный массив студентов, у которых накопленная оценка больше $8$"
   ]
  },
  {
   "cell_type": "code",
   "execution_count": null,
   "metadata": {
    "collapsed": true
   },
   "outputs": [],
   "source": [
    "### ╰( ͡° ͜ʖ ͡° )つ──☆ асцендио"
   ]
  },
  {
   "cell_type": "markdown",
   "metadata": {},
   "source": [
    "Какова вероятность того, что студент получит автомат?"
   ]
  },
  {
   "cell_type": "code",
   "execution_count": null,
   "metadata": {},
   "outputs": [],
   "source": [
    "### ╰( ͡° ͜ʖ ͡° )つ──☆ диссендиум"
   ]
  },
  {
   "cell_type": "markdown",
   "metadata": {},
   "source": [
    "### [2] Сложность заданий \n",
    "\n",
    "Наконец, семинарист хочет оценить сложность заданий, проверочных и коллоквиума по своей особой системе. Он присвоил каждому студенту вес (веса суммируются в 1) и хочет посчитать для каждого задания, проверочной и коллоквиума среднюю оценку с весами. \n",
    "\n",
    "Пример, что имеется в виду: если есть $4$ студента с весами `[0.1, 0.2, 0.3, 0.4]` и оценками `[3, 7, 9, 10]`, то средняя оценка за задание с весами получится "
   ]
  },
  {
   "cell_type": "code",
   "execution_count": 8,
   "metadata": {},
   "outputs": [
    {
     "data": {
      "text/plain": [
       "8.4"
      ]
     },
     "execution_count": 8,
     "metadata": {},
     "output_type": "execute_result"
    }
   ],
   "source": [
    "0.1 * 3 + 0.2 * 7 + 0.3 * 9 + 0.4 * 10 "
   ]
  },
  {
   "cell_type": "markdown",
   "metadata": {},
   "source": [
    "Веса:"
   ]
  },
  {
   "cell_type": "code",
   "execution_count": null,
   "metadata": {},
   "outputs": [],
   "source": [
    "weights = np.array([1.]*7+[2.]*4+[3.]*7+[4.]*(marks.shape[0]-18))\n",
    "\n",
    "# разделите веса на их сумму, чтобы они суммировались к 1\n",
    "weights = "
   ]
  },
  {
   "cell_type": "markdown",
   "metadata": {},
   "source": [
    "Посчитайте указанным образом сложность каждого \"столбца\"."
   ]
  },
  {
   "cell_type": "code",
   "execution_count": null,
   "metadata": {
    "collapsed": true
   },
   "outputs": [],
   "source": [
    "### ╰( ͡° ͜ʖ ͡° )つ──☆ авада кедавра"
   ]
  },
  {
   "cell_type": "markdown",
   "metadata": {},
   "source": [
    "### [1]  Близость \n",
    "\n",
    "Семинаристу стало интересно, какой из студентов ближе всего по своим баллам находится к самому первому. Чтобы выяснить это, он решил посчитать между первым студентом и всеми остальными манхэттенское расстояние. \n",
    "\n",
    "Найдите номер студента, для которого расстояние до первого студента является кратчайшим. "
   ]
  },
  {
   "cell_type": "code",
   "execution_count": null,
   "metadata": {},
   "outputs": [],
   "source": [
    "### ╰( ͡° ͜ʖ ͡° )つ──☆ остолбеней"
   ]
  },
  {
   "cell_type": "markdown",
   "metadata": {},
   "source": [
    "# Обратная связь\n",
    "\n",
    "Задачи закончились! После выполнения и до отправки просьба оставить обратную связь по мини-домашке:\n",
    "\n",
    "https://forms.gle/jZLPK1v4qke4B5QC8"
   ]
  }
 ],
 "metadata": {
  "kernelspec": {
   "display_name": "Python 3",
   "language": "python",
   "name": "python3"
  },
  "language_info": {
   "codemirror_mode": {
    "name": "ipython",
    "version": 3
   },
   "file_extension": ".py",
   "mimetype": "text/x-python",
   "name": "python",
   "nbconvert_exporter": "python",
   "pygments_lexer": "ipython3",
   "version": "3.7.2"
  }
 },
 "nbformat": 4,
 "nbformat_minor": 2
}
