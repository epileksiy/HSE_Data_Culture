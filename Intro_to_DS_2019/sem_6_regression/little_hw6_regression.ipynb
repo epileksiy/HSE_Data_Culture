{
 "cells": [
  {
   "cell_type": "markdown",
   "metadata": {},
   "source": [
    "<img align=\"center\" src=\"https://raw.githubusercontent.com/FUlyankin/Parsers/master/images%20/cats.jpg\" height=\"1200\" width=\"1200\"> \n",
    "\n",
    "# Мини-домашка 6: регрессия\n",
    "\n",
    "На семинаре мы пытались спрогнозировать сколько лайков поставит студент первого курса в вышкинский паблик с мемасами. Наша итоговая модель получилась довольно хлипкой. Хотелось бы улучшить её. В этом домашнем задании именно этим вы и займётесь. По ходу кода ниже будет довольно много пустых строк. Нужно заполнить их своим кодом. "
   ]
  },
  {
   "cell_type": "code",
   "execution_count": 64,
   "metadata": {},
   "outputs": [],
   "source": [
    "import pandas as pd               # уже знакомый вам пакет для работы с таблицами\n",
    "import numpy as np                # смутно знакомый вам пакет для работы с матрицами\n",
    "import matplotlib.pyplot as plt   # уже смутно знакомый вам пакет для картинок :3\n",
    "import seaborn as sns             # ещё один пакет для картинок \n",
    "plt.style.use('ggplot')     # правильный (очень красивый) стиль у графиков\n",
    "\n",
    "%matplotlib inline"
   ]
  },
  {
   "cell_type": "markdown",
   "metadata": {},
   "source": [
    "## 1. Гипотеза для раскрутки \n",
    "\n",
    "Семинар мы закончили, построив визуализацию для прогнозов. Она получилась вот такой: \n",
    "\n",
    "![картинка епта]( )\n",
    "\n",
    "По оси $x$ мы отклаыдваем настоящее число лайков. По оси $y$ прогнозируемое. Если наша модель строит хорошие прогнозы, тогда все наши точки должны выстроиться по диагонали. Это будет означать, что $y = \\hat y$. То есть, что реальное число лайов совпало с прогнозируемым.\n",
    "\n",
    "Давайте обратим с вами внимание на следущий факт. Довольно часто у нас не получается хорошо спрогнозировать нулевое число лайков. Скорее всего, это происходит из-за того, что они обладают другой природой. Человек банально мог не подписаться на паблик и из-за этого не лайкает его. Давайте попробуем сконцентрироваться только на тех людях, которые поставили в палбике свой лайк. Возможно, для такой ситуации нам удастся построить адекватную модель, которая будет значимо бить константный прогноз. \n",
    "\n",
    "Подгружаем данные."
   ]
  },
  {
   "cell_type": "code",
   "execution_count": 65,
   "metadata": {},
   "outputs": [
    {
     "data": {
      "text/html": [
       "<div>\n",
       "<style scoped>\n",
       "    .dataframe tbody tr th:only-of-type {\n",
       "        vertical-align: middle;\n",
       "    }\n",
       "\n",
       "    .dataframe tbody tr th {\n",
       "        vertical-align: top;\n",
       "    }\n",
       "\n",
       "    .dataframe thead th {\n",
       "        text-align: right;\n",
       "    }\n",
       "</style>\n",
       "<table border=\"1\" class=\"dataframe\">\n",
       "  <thead>\n",
       "    <tr style=\"text-align: right;\">\n",
       "      <th></th>\n",
       "      <th>city</th>\n",
       "      <th>country</th>\n",
       "      <th>first_name</th>\n",
       "      <th>home_town</th>\n",
       "      <th>last_name</th>\n",
       "      <th>likes_memes</th>\n",
       "      <th>uid</th>\n",
       "      <th>male_dummy</th>\n",
       "      <th>facebook_dummy</th>\n",
       "      <th>instagram_dummy</th>\n",
       "      <th>...</th>\n",
       "      <th>photo_month_mean</th>\n",
       "      <th>photo_repost_cnt</th>\n",
       "      <th>photo_repost_max</th>\n",
       "      <th>photo_repost_mean</th>\n",
       "      <th>photo_repost_median</th>\n",
       "      <th>photo_text_len_cnt</th>\n",
       "      <th>photo_ava_change_cnt</th>\n",
       "      <th>photo_text_url_len_cnt</th>\n",
       "      <th>friends_from_course_cnt</th>\n",
       "      <th>friends_mail_from_course_pct</th>\n",
       "    </tr>\n",
       "  </thead>\n",
       "  <tbody>\n",
       "    <tr>\n",
       "      <th>0</th>\n",
       "      <td>Москва</td>\n",
       "      <td>Россия</td>\n",
       "      <td>Артём</td>\n",
       "      <td>MOSCOW</td>\n",
       "      <td>Еркин</td>\n",
       "      <td>0</td>\n",
       "      <td>181029517</td>\n",
       "      <td>1</td>\n",
       "      <td>0</td>\n",
       "      <td>0</td>\n",
       "      <td>...</td>\n",
       "      <td>1.000000</td>\n",
       "      <td>0.0</td>\n",
       "      <td>0.0</td>\n",
       "      <td>0.000000</td>\n",
       "      <td>0.0</td>\n",
       "      <td>0.0</td>\n",
       "      <td>0.0</td>\n",
       "      <td>0.0</td>\n",
       "      <td>16.0</td>\n",
       "      <td>0.375000</td>\n",
       "    </tr>\n",
       "    <tr>\n",
       "      <th>1</th>\n",
       "      <td>NaN</td>\n",
       "      <td>Россия</td>\n",
       "      <td>Армен</td>\n",
       "      <td>NaN</td>\n",
       "      <td>Хачатрян</td>\n",
       "      <td>15</td>\n",
       "      <td>73703994</td>\n",
       "      <td>1</td>\n",
       "      <td>0</td>\n",
       "      <td>1</td>\n",
       "      <td>...</td>\n",
       "      <td>1.750000</td>\n",
       "      <td>4.0</td>\n",
       "      <td>1.0</td>\n",
       "      <td>0.571429</td>\n",
       "      <td>1.0</td>\n",
       "      <td>0.0</td>\n",
       "      <td>0.0</td>\n",
       "      <td>0.0</td>\n",
       "      <td>47.0</td>\n",
       "      <td>0.531915</td>\n",
       "    </tr>\n",
       "    <tr>\n",
       "      <th>2</th>\n",
       "      <td>Москва</td>\n",
       "      <td>Россия</td>\n",
       "      <td>Abbos</td>\n",
       "      <td>Бекабад</td>\n",
       "      <td>Akhmedov</td>\n",
       "      <td>11</td>\n",
       "      <td>467673028</td>\n",
       "      <td>1</td>\n",
       "      <td>0</td>\n",
       "      <td>0</td>\n",
       "      <td>...</td>\n",
       "      <td>1.000000</td>\n",
       "      <td>0.0</td>\n",
       "      <td>0.0</td>\n",
       "      <td>0.000000</td>\n",
       "      <td>0.0</td>\n",
       "      <td>0.0</td>\n",
       "      <td>0.0</td>\n",
       "      <td>0.0</td>\n",
       "      <td>26.0</td>\n",
       "      <td>0.500000</td>\n",
       "    </tr>\n",
       "    <tr>\n",
       "      <th>3</th>\n",
       "      <td>Москва</td>\n",
       "      <td>Россия</td>\n",
       "      <td>Адам</td>\n",
       "      <td>NaN</td>\n",
       "      <td>Триандафилиди</td>\n",
       "      <td>0</td>\n",
       "      <td>144910934</td>\n",
       "      <td>1</td>\n",
       "      <td>0</td>\n",
       "      <td>1</td>\n",
       "      <td>...</td>\n",
       "      <td>1.428571</td>\n",
       "      <td>0.0</td>\n",
       "      <td>0.0</td>\n",
       "      <td>0.000000</td>\n",
       "      <td>0.0</td>\n",
       "      <td>0.0</td>\n",
       "      <td>0.0</td>\n",
       "      <td>0.0</td>\n",
       "      <td>83.0</td>\n",
       "      <td>0.518072</td>\n",
       "    </tr>\n",
       "    <tr>\n",
       "      <th>4</th>\n",
       "      <td>Алматы</td>\n",
       "      <td>Казахстан</td>\n",
       "      <td>Айжан</td>\n",
       "      <td>NaN</td>\n",
       "      <td>Саят</td>\n",
       "      <td>9</td>\n",
       "      <td>166045266</td>\n",
       "      <td>0</td>\n",
       "      <td>0</td>\n",
       "      <td>0</td>\n",
       "      <td>...</td>\n",
       "      <td>1.333333</td>\n",
       "      <td>0.0</td>\n",
       "      <td>0.0</td>\n",
       "      <td>0.000000</td>\n",
       "      <td>0.0</td>\n",
       "      <td>0.0</td>\n",
       "      <td>0.0</td>\n",
       "      <td>0.0</td>\n",
       "      <td>29.0</td>\n",
       "      <td>0.344828</td>\n",
       "    </tr>\n",
       "  </tbody>\n",
       "</table>\n",
       "<p>5 rows × 96 columns</p>\n",
       "</div>"
      ],
      "text/plain": [
       "     city    country first_name home_town      last_name  likes_memes  \\\n",
       "0  Москва     Россия      Артём   MOSCOW           Еркин            0   \n",
       "1     NaN     Россия      Армен       NaN       Хачатрян           15   \n",
       "2  Москва     Россия      Abbos   Бекабад       Akhmedov           11   \n",
       "3  Москва     Россия       Адам       NaN  Триандафилиди            0   \n",
       "4  Алматы  Казахстан      Айжан       NaN           Саят            9   \n",
       "\n",
       "         uid  male_dummy  facebook_dummy  instagram_dummy  ...  \\\n",
       "0  181029517           1               0                0  ...   \n",
       "1   73703994           1               0                1  ...   \n",
       "2  467673028           1               0                0  ...   \n",
       "3  144910934           1               0                1  ...   \n",
       "4  166045266           0               0                0  ...   \n",
       "\n",
       "   photo_month_mean  photo_repost_cnt  photo_repost_max  photo_repost_mean  \\\n",
       "0          1.000000               0.0               0.0           0.000000   \n",
       "1          1.750000               4.0               1.0           0.571429   \n",
       "2          1.000000               0.0               0.0           0.000000   \n",
       "3          1.428571               0.0               0.0           0.000000   \n",
       "4          1.333333               0.0               0.0           0.000000   \n",
       "\n",
       "   photo_repost_median  photo_text_len_cnt  photo_ava_change_cnt  \\\n",
       "0                  0.0                 0.0                   0.0   \n",
       "1                  1.0                 0.0                   0.0   \n",
       "2                  0.0                 0.0                   0.0   \n",
       "3                  0.0                 0.0                   0.0   \n",
       "4                  0.0                 0.0                   0.0   \n",
       "\n",
       "   photo_text_url_len_cnt  friends_from_course_cnt  \\\n",
       "0                     0.0                     16.0   \n",
       "1                     0.0                     47.0   \n",
       "2                     0.0                     26.0   \n",
       "3                     0.0                     83.0   \n",
       "4                     0.0                     29.0   \n",
       "\n",
       "   friends_mail_from_course_pct  \n",
       "0                      0.375000  \n",
       "1                      0.531915  \n",
       "2                      0.500000  \n",
       "3                      0.518072  \n",
       "4                      0.344828  \n",
       "\n",
       "[5 rows x 96 columns]"
      ]
     },
     "execution_count": 65,
     "metadata": {},
     "output_type": "execute_result"
    }
   ],
   "source": [
    "df = pd.read_csv('../data/vk_main.csv', sep='\\t')   # подгружаем датасет\n",
    "df.head()"
   ]
  },
  {
   "cell_type": "markdown",
   "metadata": {},
   "source": [
    "__[0.5]__ Выбросите из данных всех людей, которые оставили в палбике нулевое количество лайков. Сколько данных мы таким образом потеряем? "
   ]
  },
  {
   "cell_type": "code",
   "execution_count": 66,
   "metadata": {},
   "outputs": [
    {
     "data": {
      "text/plain": [
       "123"
      ]
     },
     "execution_count": 66,
     "metadata": {},
     "output_type": "execute_result"
    }
   ],
   "source": [
    "# Наши потери\n",
    "sum(df.likes_memes == 0)"
   ]
  },
  {
   "cell_type": "code",
   "execution_count": 67,
   "metadata": {},
   "outputs": [
    {
     "name": "stdout",
     "output_type": "stream",
     "text": [
      "(335, 96)\n",
      "(212, 96)\n"
     ]
    }
   ],
   "source": [
    "print(df.shape)\n",
    "df = df[df.likes_memes > 0]\n",
    "print(df.shape)"
   ]
  },
  {
   "cell_type": "markdown",
   "metadata": {},
   "source": [
    "## 1. Подготовка\n",
    "\n",
    "Ровно также, как мы это делали на семинаре, предобработаем данные."
   ]
  },
  {
   "cell_type": "code",
   "execution_count": 68,
   "metadata": {},
   "outputs": [
    {
     "data": {
      "text/html": [
       "<div>\n",
       "<style scoped>\n",
       "    .dataframe tbody tr th:only-of-type {\n",
       "        vertical-align: middle;\n",
       "    }\n",
       "\n",
       "    .dataframe tbody tr th {\n",
       "        vertical-align: top;\n",
       "    }\n",
       "\n",
       "    .dataframe thead th {\n",
       "        text-align: right;\n",
       "    }\n",
       "</style>\n",
       "<table border=\"1\" class=\"dataframe\">\n",
       "  <thead>\n",
       "    <tr style=\"text-align: right;\">\n",
       "      <th></th>\n",
       "      <th>city</th>\n",
       "      <th>country</th>\n",
       "      <th>first_name</th>\n",
       "      <th>last_name</th>\n",
       "      <th>likes_memes</th>\n",
       "      <th>uid</th>\n",
       "      <th>male_dummy</th>\n",
       "      <th>facebook_dummy</th>\n",
       "      <th>instagram_dummy</th>\n",
       "      <th>skype_dummy</th>\n",
       "      <th>...</th>\n",
       "      <th>photo_repost_cnt</th>\n",
       "      <th>photo_repost_max</th>\n",
       "      <th>photo_repost_mean</th>\n",
       "      <th>photo_repost_median</th>\n",
       "      <th>photo_text_len_cnt</th>\n",
       "      <th>photo_ava_change_cnt</th>\n",
       "      <th>photo_text_url_len_cnt</th>\n",
       "      <th>friends_from_course_cnt</th>\n",
       "      <th>friends_mail_from_course_pct</th>\n",
       "      <th>ln_likes_memes</th>\n",
       "    </tr>\n",
       "  </thead>\n",
       "  <tbody>\n",
       "    <tr>\n",
       "      <th>1</th>\n",
       "      <td>NaN</td>\n",
       "      <td>Россия</td>\n",
       "      <td>Армен</td>\n",
       "      <td>Хачатрян</td>\n",
       "      <td>15</td>\n",
       "      <td>73703994</td>\n",
       "      <td>1</td>\n",
       "      <td>0</td>\n",
       "      <td>1</td>\n",
       "      <td>0</td>\n",
       "      <td>...</td>\n",
       "      <td>4.0</td>\n",
       "      <td>1.0</td>\n",
       "      <td>0.571429</td>\n",
       "      <td>1.0</td>\n",
       "      <td>0.0</td>\n",
       "      <td>0.0</td>\n",
       "      <td>0.0</td>\n",
       "      <td>3.871201</td>\n",
       "      <td>0.531915</td>\n",
       "      <td>2.708050</td>\n",
       "    </tr>\n",
       "    <tr>\n",
       "      <th>2</th>\n",
       "      <td>Москва</td>\n",
       "      <td>Россия</td>\n",
       "      <td>Abbos</td>\n",
       "      <td>Akhmedov</td>\n",
       "      <td>11</td>\n",
       "      <td>467673028</td>\n",
       "      <td>1</td>\n",
       "      <td>0</td>\n",
       "      <td>0</td>\n",
       "      <td>0</td>\n",
       "      <td>...</td>\n",
       "      <td>0.0</td>\n",
       "      <td>0.0</td>\n",
       "      <td>0.000000</td>\n",
       "      <td>0.0</td>\n",
       "      <td>0.0</td>\n",
       "      <td>0.0</td>\n",
       "      <td>0.0</td>\n",
       "      <td>3.295837</td>\n",
       "      <td>0.500000</td>\n",
       "      <td>2.397895</td>\n",
       "    </tr>\n",
       "    <tr>\n",
       "      <th>4</th>\n",
       "      <td>Алматы</td>\n",
       "      <td>Казахстан</td>\n",
       "      <td>Айжан</td>\n",
       "      <td>Саят</td>\n",
       "      <td>9</td>\n",
       "      <td>166045266</td>\n",
       "      <td>0</td>\n",
       "      <td>0</td>\n",
       "      <td>0</td>\n",
       "      <td>0</td>\n",
       "      <td>...</td>\n",
       "      <td>0.0</td>\n",
       "      <td>0.0</td>\n",
       "      <td>0.000000</td>\n",
       "      <td>0.0</td>\n",
       "      <td>0.0</td>\n",
       "      <td>0.0</td>\n",
       "      <td>0.0</td>\n",
       "      <td>3.401197</td>\n",
       "      <td>0.344828</td>\n",
       "      <td>2.197225</td>\n",
       "    </tr>\n",
       "    <tr>\n",
       "      <th>6</th>\n",
       "      <td>Москва</td>\n",
       "      <td>Россия</td>\n",
       "      <td>Алена</td>\n",
       "      <td>Иванова</td>\n",
       "      <td>12</td>\n",
       "      <td>153048650</td>\n",
       "      <td>0</td>\n",
       "      <td>0</td>\n",
       "      <td>1</td>\n",
       "      <td>0</td>\n",
       "      <td>...</td>\n",
       "      <td>1.0</td>\n",
       "      <td>1.0</td>\n",
       "      <td>0.007752</td>\n",
       "      <td>0.0</td>\n",
       "      <td>0.0</td>\n",
       "      <td>0.0</td>\n",
       "      <td>0.0</td>\n",
       "      <td>3.637586</td>\n",
       "      <td>0.297297</td>\n",
       "      <td>2.484907</td>\n",
       "    </tr>\n",
       "    <tr>\n",
       "      <th>8</th>\n",
       "      <td>Железнодорожный (Балашиха)</td>\n",
       "      <td>Россия</td>\n",
       "      <td>Саша</td>\n",
       "      <td>Ковалёв</td>\n",
       "      <td>1</td>\n",
       "      <td>166828272</td>\n",
       "      <td>1</td>\n",
       "      <td>0</td>\n",
       "      <td>0</td>\n",
       "      <td>0</td>\n",
       "      <td>...</td>\n",
       "      <td>2.0</td>\n",
       "      <td>1.0</td>\n",
       "      <td>0.051282</td>\n",
       "      <td>0.0</td>\n",
       "      <td>0.0</td>\n",
       "      <td>0.0</td>\n",
       "      <td>0.0</td>\n",
       "      <td>3.713572</td>\n",
       "      <td>0.475000</td>\n",
       "      <td>0.000000</td>\n",
       "    </tr>\n",
       "  </tbody>\n",
       "</table>\n",
       "<p>5 rows × 83 columns</p>\n",
       "</div>"
      ],
      "text/plain": [
       "                         city    country first_name last_name  likes_memes  \\\n",
       "1                         NaN     Россия      Армен  Хачатрян           15   \n",
       "2                      Москва     Россия      Abbos  Akhmedov           11   \n",
       "4                      Алматы  Казахстан      Айжан      Саят            9   \n",
       "6                      Москва     Россия      Алена   Иванова           12   \n",
       "8  Железнодорожный (Балашиха)     Россия       Саша   Ковалёв            1   \n",
       "\n",
       "         uid  male_dummy  facebook_dummy  instagram_dummy  skype_dummy  ...  \\\n",
       "1   73703994           1               0                1            0  ...   \n",
       "2  467673028           1               0                0            0  ...   \n",
       "4  166045266           0               0                0            0  ...   \n",
       "6  153048650           0               0                1            0  ...   \n",
       "8  166828272           1               0                0            0  ...   \n",
       "\n",
       "   photo_repost_cnt  photo_repost_max  photo_repost_mean  photo_repost_median  \\\n",
       "1               4.0               1.0           0.571429                  1.0   \n",
       "2               0.0               0.0           0.000000                  0.0   \n",
       "4               0.0               0.0           0.000000                  0.0   \n",
       "6               1.0               1.0           0.007752                  0.0   \n",
       "8               2.0               1.0           0.051282                  0.0   \n",
       "\n",
       "   photo_text_len_cnt  photo_ava_change_cnt  photo_text_url_len_cnt  \\\n",
       "1                 0.0                   0.0                     0.0   \n",
       "2                 0.0                   0.0                     0.0   \n",
       "4                 0.0                   0.0                     0.0   \n",
       "6                 0.0                   0.0                     0.0   \n",
       "8                 0.0                   0.0                     0.0   \n",
       "\n",
       "   friends_from_course_cnt  friends_mail_from_course_pct  ln_likes_memes  \n",
       "1                 3.871201                      0.531915        2.708050  \n",
       "2                 3.295837                      0.500000        2.397895  \n",
       "4                 3.401197                      0.344828        2.197225  \n",
       "6                 3.637586                      0.297297        2.484907  \n",
       "8                 3.713572                      0.475000        0.000000  \n",
       "\n",
       "[5 rows x 83 columns]"
      ]
     },
     "execution_count": 68,
     "metadata": {},
     "output_type": "execute_result"
    }
   ],
   "source": [
    "# варим таргет в виде логарифма \n",
    "df['ln_likes_memes'] = df['likes_memes'].apply(lambda w: np.log(w) if w > 0 else -np.log(-1*w + 1))\n",
    "\n",
    "# выбрасываем из выборки все переменные, в которых слишком много пропусков\n",
    "isnull = df.isnull().sum()\n",
    "df = df[isnull[isnull <= 56].index]\n",
    "\n",
    "# Выборка с переменными-счётчиками\n",
    "variables_cnt = [item for item in df.columns if item[-3:] == 'cnt']\n",
    "\n",
    "# Оставляем только информативные переменные (картинки можно посмотреть в семинарской тетрадке)\n",
    "variables_cnt = [item for item in variables_cnt if len(df[item].unique()) > 10]\n",
    "\n",
    "# логарифмируем счётчики\n",
    "df[variables_cnt] = df[variables_cnt].apply(lambda w: np.log(w + 1))\n",
    "\n",
    "# отбираем дамми - переменные \n",
    "variables_dummy = [item for item in df.columns if item[-5:] == 'dummy']\n",
    "\n",
    "# средние, медианы и максимумы\n",
    "variables_mean = [item for item in df.columns if item[-4:] == 'mean']\n",
    "variables_median = [item for item in df.columns if item[-6:] == 'median']\n",
    "variables_max = [item for item in df.columns if item[-3:] == 'max']\n",
    "\n",
    "# все полезные переменные\n",
    "useful_variables = variables_cnt + variables_dummy + variables_mean + \\\n",
    "                   variables_median + variables_max + ['friends_mail_from_course_pct']\n",
    "\n",
    "# заполняем пропуски нулями\n",
    "df[useful_variables] = df[useful_variables].fillna(0)\n",
    "df.head()"
   ]
  },
  {
   "cell_type": "markdown",
   "metadata": {},
   "source": [
    "Разделим выборку на тренировочную и тестовую."
   ]
  },
  {
   "cell_type": "code",
   "execution_count": 69,
   "metadata": {},
   "outputs": [],
   "source": [
    "from sklearn.model_selection import train_test_split  # функция для деления \n",
    "\n",
    "# делим в пропорции 80 к 20\n",
    "df_train, df_test = train_test_split(df, test_size = 0.2, random_state=42) "
   ]
  },
  {
   "cell_type": "markdown",
   "metadata": {},
   "source": [
    "__[0.5] Объясните зачем выборку разбивают на тренировочную и тестовую__ \n",
    "\n",
    "__Ответ:__ "
   ]
  },
  {
   "cell_type": "markdown",
   "metadata": {},
   "source": [
    "## 2. Константный прогноз \n",
    "\n",
    "Давайте воспроизведём константный прогноз."
   ]
  },
  {
   "cell_type": "code",
   "execution_count": 70,
   "metadata": {},
   "outputs": [],
   "source": [
    "# для удобства запишем в y то, что мы хотим спрогнозировать\n",
    "y_train = df_train['ln_likes_memes'].get_values()\n",
    "y_test = df_test['ln_likes_memes'].get_values()\n",
    "\n",
    "# а в X то, по чему мы это будем делать.\n",
    "X_train = df_train[useful_variables].get_values()\n",
    "X_test = df_test[useful_variables].get_values()"
   ]
  },
  {
   "cell_type": "markdown",
   "metadata": {},
   "source": [
    "__[0] Постройте константный прогноз ровно также, как мы делали это на семинаре.__"
   ]
  },
  {
   "cell_type": "code",
   "execution_count": 71,
   "metadata": {},
   "outputs": [],
   "source": [
    "# Ваш красивый код \n",
    "\n",
    "y_mean = np.mean(y_train)\n",
    "y_pred_naive = np.ones(len(y_test)) * y_mean"
   ]
  },
  {
   "cell_type": "markdown",
   "metadata": {},
   "source": [
    "Теперь давайте посмотрим на тестовой выборке насколько константный прогноз получился хорошим. Будем использовать в качестве метрики качества $MAE$. Подгрузите метрику из `sklearn` и выясните качество работы константного прогноза на тестовой выборке. За вдохновением можно снова обратиться к семинару, но не вздумайте переписывать один в один функцию `print_metrics`. За это буду отнимать баллы.\n",
    "\n",
    "__[0.5] Найдите MAE константного прогноза.__ "
   ]
  },
  {
   "cell_type": "code",
   "execution_count": 72,
   "metadata": {},
   "outputs": [
    {
     "data": {
      "text/plain": [
       "1.218197080292895"
      ]
     },
     "execution_count": 72,
     "metadata": {},
     "output_type": "execute_result"
    }
   ],
   "source": [
    "# Ваш оригинальный код\n",
    "\n",
    "from sklearn import metrics\n",
    "metrics.mean_absolute_error(y_test, y_pred_naive)"
   ]
  },
  {
   "cell_type": "markdown",
   "metadata": {},
   "source": [
    "Отлично! Теперь у нас есть с чем сравнить более сложные модели. Давайте займёмся их строительством. \n",
    "\n",
    "## 3. Устойчивая к выбросам регрессия \n",
    "\n",
    "В самом конце семинара мы с вами сделали следущую процедуру: \n",
    "\n",
    "1. Посмотрели какие переменные сильнее всего коррелируют с таргетом, оставили только их\n",
    "2. Оценили устойчивую к выбросам регрессию и выяснили, что она работает лучше константного прогноза\n",
    "\n",
    "Давайте воспроизведём код для её оценки. "
   ]
  },
  {
   "cell_type": "code",
   "execution_count": 73,
   "metadata": {},
   "outputs": [
    {
     "data": {
      "text/plain": [
       "male_dummy           -0.172399\n",
       "mobile_phone_dummy   -0.170517\n",
       "wall_like_median     -0.147390\n",
       "wall_like_mean       -0.132116\n",
       "private_prof_dummy   -0.118528\n",
       "wall_emoji_max       -0.052791\n",
       "wall_emoji_mean      -0.038610\n",
       "wall_emoji_median    -0.034110\n",
       "can_post_dummy       -0.032289\n",
       "home_phone_dummy     -0.031211\n",
       "dtype: float64"
      ]
     },
     "execution_count": 73,
     "metadata": {},
     "output_type": "execute_result"
    }
   ],
   "source": [
    "# сначала посмотрим на чнегативные корреляции\n",
    "corr_neg = df_train[useful_variables].corrwith(df_train['ln_likes_memes']).sort_values()\n",
    "corr_neg[:10]"
   ]
  },
  {
   "cell_type": "code",
   "execution_count": 74,
   "metadata": {},
   "outputs": [
    {
     "data": {
      "text/plain": [
       "photo_like_cnt             0.182222\n",
       "friends_cnt                0.151083\n",
       "friends_from_course_cnt    0.147814\n",
       "wall_text_len_median       0.146761\n",
       "wall_repost_median         0.144901\n",
       "wall_text_len_cnt          0.130670\n",
       "photos_cnt                 0.129642\n",
       "wall_repost_mean           0.128788\n",
       "has_ava_dummy              0.125855\n",
       "pages_cnt                  0.119472\n",
       "dtype: float64"
      ]
     },
     "execution_count": 74,
     "metadata": {},
     "output_type": "execute_result"
    }
   ],
   "source": [
    "# теперь на позитивные корреляции\n",
    "corr_pos = df_train[useful_variables].corrwith(df_train['ln_likes_memes']).sort_values(ascending=False)\n",
    "corr_pos[:10]"
   ]
  },
  {
   "cell_type": "code",
   "execution_count": 75,
   "metadata": {},
   "outputs": [],
   "source": [
    "# оставляем в выборке только самые важные переменные \n",
    "best_variables = list(corr_pos[:10].index) + list(corr_neg[:10].index)\n",
    "\n",
    "# Забираем в выборку лучших из лучших \n",
    "X_train = df_train[best_variables].get_values()\n",
    "X_test = df_test[best_variables].get_values()"
   ]
  },
  {
   "cell_type": "markdown",
   "metadata": {},
   "source": [
    "Подготовка к оцениванию модели тут заканчивается. Хорошо бы понять в ней каждую строчку кода, потому что сейчас вам надо будет написать что-то похожее самостоятельно. Оцениваем модель!"
   ]
  },
  {
   "cell_type": "code",
   "execution_count": 76,
   "metadata": {},
   "outputs": [],
   "source": [
    "from sklearn.linear_model import HuberRegressor\n",
    "\n",
    "# Объявили модель\n",
    "model_huber = HuberRegressor()\n",
    "\n",
    "# Обучили модель на тренировочной выборке \n",
    "model_huber.fit(X_train, y_train)\n",
    "\n",
    "# Сделали прогнозы на тестовой выборке \n",
    "y_pred_huber_base = model_huber.predict(X_test)"
   ]
  },
  {
   "cell_type": "markdown",
   "metadata": {},
   "source": [
    "__[0.5] Найдите качество модели и убедитесь, что оно лучше константного прогноза.__"
   ]
  },
  {
   "cell_type": "code",
   "execution_count": 77,
   "metadata": {},
   "outputs": [
    {
     "data": {
      "text/plain": [
       "1.3306098135881743"
      ]
     },
     "execution_count": 77,
     "metadata": {},
     "output_type": "execute_result"
    }
   ],
   "source": [
    "# ваша строчка кода\n",
    "metrics.mean_absolute_error(y_test, y_pred_huber_base)"
   ]
  },
  {
   "cell_type": "code",
   "execution_count": null,
   "metadata": {},
   "outputs": [],
   "source": []
  },
  {
   "cell_type": "code",
   "execution_count": 91,
   "metadata": {},
   "outputs": [],
   "source": [
    "def plot_yreal_ypred(y_test, y_train, X_test, X_train, model, margin=0.3):\n",
    "    \"\"\"\n",
    "        Рисует картинку для прогнозов\n",
    "            modelt - модель \n",
    "            y_train, X_train - обучающая выборка\n",
    "            y_test, X_test - тестовая выборка\n",
    "            margin - граница рисунка \n",
    "    \"\"\"\n",
    "    \n",
    "    plt.figure(figsize=(16,7))\n",
    "    plt.subplot(121)\n",
    "    plt.scatter(y_train, model.predict(X_train), color=\"red\", alpha=0.1)\n",
    "    plt.xlim(min(y_train) - margin, max(y_train) + margin)\n",
    "    plt.ylim(min(y_train) - margin, max(y_train) + margin)\n",
    "    plt.title('Train set', fontsize=20)\n",
    "    plt.xlabel('y', fontsize=14)\n",
    "    plt.ylabel('Estimated y', fontsize=14)\n",
    "\n",
    "    plt.subplot(122)\n",
    "    plt.scatter(y_test, model.predict(X_test), color=\"red\", alpha=0.1)\n",
    "    plt.xlim(min(y_test) - margin, max(y_test) + margin)\n",
    "    plt.ylim(min(y_test) - margin, max(y_test) + margin)\n",
    "    plt.title('Test set', fontsize=20)\n",
    "    plt.xlabel('y', fontsize=14)\n",
    "    plt.ylabel('Estimated y', fontsize=14)\n",
    "    pass"
   ]
  },
  {
   "cell_type": "code",
   "execution_count": 79,
   "metadata": {},
   "outputs": [
    {
     "data": {
      "image/png": "[encoded data removed]",
      "text/plain": [
       "<Figure size 1152x504 with 2 Axes>"
      ]
     },
     "metadata": {
      "needs_background": "light"
     },
     "output_type": "display_data"
    }
   ],
   "source": [
    "plot_yreal_ypred(y_test, y_train, X_test, X_train, model_huber)"
   ]
  },
  {
   "cell_type": "code",
   "execution_count": 80,
   "metadata": {},
   "outputs": [],
   "source": [
    "from sklearn.linear_model import LinearRegression # подгрузили модель\n",
    "\n",
    "# Объявили модель\n",
    "model_regression = LinearRegression()\n",
    "\n",
    "# Обучили модель на тренировочной выборке \n",
    "model_regression.fit(X_train, y_train)\n",
    "\n",
    "# Сделали прогнозы на тестовой выборке \n",
    "y_pred_regr = model_regression.predict(X_test)"
   ]
  },
  {
   "cell_type": "code",
   "execution_count": 81,
   "metadata": {},
   "outputs": [
    {
     "data": {
      "text/plain": [
       "1.2962466474610728"
      ]
     },
     "execution_count": 81,
     "metadata": {},
     "output_type": "execute_result"
    }
   ],
   "source": [
    "metrics.mean_absolute_error(y_test, y_pred_regr)"
   ]
  },
  {
   "cell_type": "code",
   "execution_count": 87,
   "metadata": {},
   "outputs": [],
   "source": [
    "from sklearn.ensemble import RandomForestRegressor\n",
    "\n",
    "# Объявили лес из 10 деревьев \n",
    "rf = RandomForestRegressor(n_estimators=1000)\n",
    "\n",
    "# Обучили лес \n",
    "rf.fit(X_train, y_train)\n",
    "\n",
    "# Сделали по лесу прогнозы \n",
    "y_pred_forest = rf.predict(X_test)"
   ]
  },
  {
   "cell_type": "code",
   "execution_count": 88,
   "metadata": {},
   "outputs": [
    {
     "data": {
      "text/plain": [
       "1.330873821323953"
      ]
     },
     "execution_count": 88,
     "metadata": {},
     "output_type": "execute_result"
    }
   ],
   "source": [
    "metrics.mean_absolute_error(y_test, y_pred_forest)"
   ]
  },
  {
   "cell_type": "code",
   "execution_count": 92,
   "metadata": {},
   "outputs": [
    {
     "data": {
      "image/png": "[encoded data removed]",
      "text/plain": [
       "<Figure size 1152x504 with 2 Axes>"
      ]
     },
     "metadata": {
      "needs_background": "light"
     },
     "output_type": "display_data"
    }
   ],
   "source": [
    "plot_yreal_ypred(y_test, y_train, X_test, X_train, rf)"
   ]
  },
  {
   "cell_type": "code",
   "execution_count": null,
   "metadata": {},
   "outputs": [],
   "source": []
  },
  {
   "cell_type": "code",
   "execution_count": null,
   "metadata": {},
   "outputs": [],
   "source": []
  },
  {
   "cell_type": "code",
   "execution_count": null,
   "metadata": {},
   "outputs": [],
   "source": []
  },
  {
   "cell_type": "markdown",
   "metadata": {},
   "source": [
    "## В дз: \n",
    "\n",
    "* __Подозрение:__ оч важны дамми-переменные. Странно, что наличие твиттера так сильно влияет на уменьшение лайков. Посмотрите как часто встречаются в выборке люди с твиттером. Это есть на дамми-гистограмме. Постройте её. Как думаете эта переменная правда важна? Почему? \n",
    "\n",
    "Попробуйте удалить из рассмотрения все дамми-переменные и оценить две регрессии: линейную и хубера. Какое у меоделей качество? Стало ли оно лучше? \n",
    "\n",
    "* Сформулируйте гипотезу о том, какие переменные стоит оставить или выкинуть из рассмотрения. Почему вы так считате? Оцените модель на подходящих на ваш взгляд переменных. Получилось ли улучшить качество прогнозирования? \n",
    "\n",
    "* Обратите внимание, что на картинке с прогнозами очень густой является область с нулевым числом лайков. Может ли быть проблема в том, что в данных есть особая нулевая точка, которую надо рассматривать отдельно и придумывать для неё свою модель? Попробуйте выкинуть из рассмотрения всех, кто поставил нулевое число лайков и построить модель только для положительного их количества. Для моделирования используйте список фичей, который вы придумали в предыдущем пункте. Дополнительно с помощью корреляции с таргетом отберите из этого списка только самые важные фичи."
   ]
  },
  {
   "cell_type": "code",
   "execution_count": null,
   "metadata": {},
   "outputs": [],
   "source": []
  },
  {
   "cell_type": "code",
   "execution_count": null,
   "metadata": {},
   "outputs": [],
   "source": []
  }
 ],
 "metadata": {
  "kernelspec": {
   "display_name": "Python 3",
   "language": "python",
   "name": "python3"
  },
  "language_info": {
   "codemirror_mode": {
    "name": "ipython",
    "version": 3
   },
   "file_extension": ".py",
   "mimetype": "text/x-python",
   "name": "python",
   "nbconvert_exporter": "python",
   "pygments_lexer": "ipython3",
   "version": "3.7.2"
  }
 },
 "nbformat": 4,
 "nbformat_minor": 2
}
