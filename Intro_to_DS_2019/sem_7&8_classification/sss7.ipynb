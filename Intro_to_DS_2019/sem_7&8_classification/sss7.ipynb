{
 "cells": [
  {
   "cell_type": "markdown",
   "metadata": {},
   "source": [
    "# Семинар 7-8: Классификация\n",
    "\n",
    "В прошлый раз мы говорили про регрессию: мы пытались по выборке предсказать значение непрерывной переменной, количество лайков под постом. В этот раз мы поговорим про задачу классификации. __Вы же ещё не забыли чем отличаются друг от друга эти задачи?__ "
   ]
  },
  {
   "cell_type": "code",
   "execution_count": 34,
   "metadata": {},
   "outputs": [],
   "source": [
    "import pandas as pd               # уже знакомый вам пакет для работы с таблицами\n",
    "import numpy as np                # смутно знакомый вам пакет для работы с матрицами\n",
    "\n",
    "import matplotlib.pyplot as plt   # уже смутно знакомый вам пакет для картинок :3\n",
    "import seaborn as sns             # ещё один пакет для картинок \n",
    "plt.style.use('ggplot')     # правильный (очень красивый) стиль у графиков\n",
    "\n",
    "%matplotlib inline"
   ]
  },
  {
   "cell_type": "markdown",
   "metadata": {},
   "source": [
    "# 1. Данные и пропуски \n",
    "\n",
    "На одном из предыдущих семинаров мы строили с вами визуализации для датасета с данными с youtube по музыкальным клипам. Сегодня мы продолжим с ним работать и попробуем предсказывать жарн видео по его параметрам. "
   ]
  },
  {
   "cell_type": "code",
   "execution_count": 35,
   "metadata": {},
   "outputs": [
    {
     "data": {
      "text/html": [
       "<div>\n",
       "<style scoped>\n",
       "    .dataframe tbody tr th:only-of-type {\n",
       "        vertical-align: middle;\n",
       "    }\n",
       "\n",
       "    .dataframe tbody tr th {\n",
       "        vertical-align: top;\n",
       "    }\n",
       "\n",
       "    .dataframe thead th {\n",
       "        text-align: right;\n",
       "    }\n",
       "</style>\n",
       "<table border=\"1\" class=\"dataframe\">\n",
       "  <thead>\n",
       "    <tr style=\"text-align: right;\">\n",
       "      <th></th>\n",
       "      <th>title</th>\n",
       "      <th>caption</th>\n",
       "      <th>categoryId</th>\n",
       "      <th>commentCount</th>\n",
       "      <th>definition</th>\n",
       "      <th>description</th>\n",
       "      <th>dislikeCount</th>\n",
       "      <th>duration</th>\n",
       "      <th>license</th>\n",
       "      <th>licensedContent</th>\n",
       "      <th>...</th>\n",
       "      <th>comment_mean_len_symbol</th>\n",
       "      <th>comment_mean_len_word</th>\n",
       "      <th>comment_negative_mean_prob</th>\n",
       "      <th>comment_negative_share</th>\n",
       "      <th>commentators_uniq</th>\n",
       "      <th>comments_emoji_max</th>\n",
       "      <th>comments_emoji_mean</th>\n",
       "      <th>comments_emoji_share</th>\n",
       "      <th>comments_obscene_cnt</th>\n",
       "      <th>words_obscene_cnt</th>\n",
       "    </tr>\n",
       "  </thead>\n",
       "  <tbody>\n",
       "    <tr>\n",
       "      <th>0</th>\n",
       "      <td>\"#2Маши \"Свободные линии\"</td>\n",
       "      <td>False</td>\n",
       "      <td>10</td>\n",
       "      <td>34.0</td>\n",
       "      <td>hd</td>\n",
       "      <td>ITUNES - https://itun.es/ru/0YzI_</td>\n",
       "      <td>43.0</td>\n",
       "      <td>PT3M30S</td>\n",
       "      <td>youtube</td>\n",
       "      <td>True</td>\n",
       "      <td>...</td>\n",
       "      <td>59.440000</td>\n",
       "      <td>8.840000</td>\n",
       "      <td>0.635410</td>\n",
       "      <td>0.480000</td>\n",
       "      <td>24.0</td>\n",
       "      <td>9.0</td>\n",
       "      <td>1.000000</td>\n",
       "      <td>0.320000</td>\n",
       "      <td>0.0</td>\n",
       "      <td>0.0</td>\n",
       "    </tr>\n",
       "    <tr>\n",
       "      <th>1</th>\n",
       "      <td>\"ALARM\" СЕРГЕЙ ЛАЗАРЕВ ( SERGEY LAZAREV )</td>\n",
       "      <td>False</td>\n",
       "      <td>10</td>\n",
       "      <td>NaN</td>\n",
       "      <td>sd</td>\n",
       "      <td>NEW OFFICIAL VIDEO\\r\\n2010</td>\n",
       "      <td>690.0</td>\n",
       "      <td>PT3M42S</td>\n",
       "      <td>youtube</td>\n",
       "      <td>False</td>\n",
       "      <td>...</td>\n",
       "      <td>NaN</td>\n",
       "      <td>NaN</td>\n",
       "      <td>NaN</td>\n",
       "      <td>NaN</td>\n",
       "      <td>NaN</td>\n",
       "      <td>NaN</td>\n",
       "      <td>NaN</td>\n",
       "      <td>NaN</td>\n",
       "      <td>NaN</td>\n",
       "      <td>NaN</td>\n",
       "    </tr>\n",
       "    <tr>\n",
       "      <th>2</th>\n",
       "      <td>\"EARTH SONG\"  SERGEY LAZAREV. DEDICATED TO MIC...</td>\n",
       "      <td>False</td>\n",
       "      <td>10</td>\n",
       "      <td>26.0</td>\n",
       "      <td>sd</td>\n",
       "      <td>Посвящается Майклу Джексону...\\r\\nCover-versio...</td>\n",
       "      <td>10.0</td>\n",
       "      <td>PT5M46S</td>\n",
       "      <td>youtube</td>\n",
       "      <td>False</td>\n",
       "      <td>...</td>\n",
       "      <td>120.000000</td>\n",
       "      <td>19.291667</td>\n",
       "      <td>0.725987</td>\n",
       "      <td>0.750000</td>\n",
       "      <td>23.0</td>\n",
       "      <td>13.0</td>\n",
       "      <td>0.666667</td>\n",
       "      <td>0.125000</td>\n",
       "      <td>0.0</td>\n",
       "      <td>0.0</td>\n",
       "    </tr>\n",
       "    <tr>\n",
       "      <th>3</th>\n",
       "      <td>\"Earth song\" премия МУЗ-тВ 2010 (LIVE)</td>\n",
       "      <td>False</td>\n",
       "      <td>10</td>\n",
       "      <td>12.0</td>\n",
       "      <td>sd</td>\n",
       "      <td>Сергей Лазарев, La Toya Jackson,  Ани Лорак, Т...</td>\n",
       "      <td>7.0</td>\n",
       "      <td>PT6M16S</td>\n",
       "      <td>youtube</td>\n",
       "      <td>False</td>\n",
       "      <td>...</td>\n",
       "      <td>81.818182</td>\n",
       "      <td>11.545455</td>\n",
       "      <td>0.736776</td>\n",
       "      <td>0.727273</td>\n",
       "      <td>11.0</td>\n",
       "      <td>13.0</td>\n",
       "      <td>1.181818</td>\n",
       "      <td>0.090909</td>\n",
       "      <td>0.0</td>\n",
       "      <td>0.0</td>\n",
       "    </tr>\n",
       "    <tr>\n",
       "      <th>4</th>\n",
       "      <td>\"FAKE\" СЕРГЕЙ ЛАЗАРЕВ (SERGEY)</td>\n",
       "      <td>False</td>\n",
       "      <td>10</td>\n",
       "      <td>46.0</td>\n",
       "      <td>sd</td>\n",
       "      <td>official video</td>\n",
       "      <td>19.0</td>\n",
       "      <td>PT3M</td>\n",
       "      <td>youtube</td>\n",
       "      <td>True</td>\n",
       "      <td>...</td>\n",
       "      <td>43.735294</td>\n",
       "      <td>8.617647</td>\n",
       "      <td>0.596008</td>\n",
       "      <td>0.441176</td>\n",
       "      <td>33.0</td>\n",
       "      <td>23.0</td>\n",
       "      <td>0.794118</td>\n",
       "      <td>0.088235</td>\n",
       "      <td>1.0</td>\n",
       "      <td>1.0</td>\n",
       "    </tr>\n",
       "  </tbody>\n",
       "</table>\n",
       "<p>5 rows × 30 columns</p>\n",
       "</div>"
      ],
      "text/plain": [
       "                                               title  caption  categoryId  \\\n",
       "0                          \"#2Маши \"Свободные линии\"    False          10   \n",
       "1          \"ALARM\" СЕРГЕЙ ЛАЗАРЕВ ( SERGEY LAZAREV )    False          10   \n",
       "2  \"EARTH SONG\"  SERGEY LAZAREV. DEDICATED TO MIC...    False          10   \n",
       "3             \"Earth song\" премия МУЗ-тВ 2010 (LIVE)    False          10   \n",
       "4                     \"FAKE\" СЕРГЕЙ ЛАЗАРЕВ (SERGEY)    False          10   \n",
       "\n",
       "   commentCount definition                                        description  \\\n",
       "0          34.0         hd                  ITUNES - https://itun.es/ru/0YzI_   \n",
       "1           NaN         sd                         NEW OFFICIAL VIDEO\\r\\n2010   \n",
       "2          26.0         sd  Посвящается Майклу Джексону...\\r\\nCover-versio...   \n",
       "3          12.0         sd  Сергей Лазарев, La Toya Jackson,  Ани Лорак, Т...   \n",
       "4          46.0         sd                                     official video   \n",
       "\n",
       "   dislikeCount duration  license  licensedContent  ...  \\\n",
       "0          43.0  PT3M30S  youtube             True  ...   \n",
       "1         690.0  PT3M42S  youtube            False  ...   \n",
       "2          10.0  PT5M46S  youtube            False  ...   \n",
       "3           7.0  PT6M16S  youtube            False  ...   \n",
       "4          19.0     PT3M  youtube             True  ...   \n",
       "\n",
       "   comment_mean_len_symbol comment_mean_len_word comment_negative_mean_prob  \\\n",
       "0                59.440000              8.840000                   0.635410   \n",
       "1                      NaN                   NaN                        NaN   \n",
       "2               120.000000             19.291667                   0.725987   \n",
       "3                81.818182             11.545455                   0.736776   \n",
       "4                43.735294              8.617647                   0.596008   \n",
       "\n",
       "   comment_negative_share commentators_uniq comments_emoji_max  \\\n",
       "0                0.480000              24.0                9.0   \n",
       "1                     NaN               NaN                NaN   \n",
       "2                0.750000              23.0               13.0   \n",
       "3                0.727273              11.0               13.0   \n",
       "4                0.441176              33.0               23.0   \n",
       "\n",
       "  comments_emoji_mean  comments_emoji_share  comments_obscene_cnt  \\\n",
       "0            1.000000              0.320000                   0.0   \n",
       "1                 NaN                   NaN                   NaN   \n",
       "2            0.666667              0.125000                   0.0   \n",
       "3            1.181818              0.090909                   0.0   \n",
       "4            0.794118              0.088235                   1.0   \n",
       "\n",
       "   words_obscene_cnt  \n",
       "0                0.0  \n",
       "1                NaN  \n",
       "2                0.0  \n",
       "3                0.0  \n",
       "4                1.0  \n",
       "\n",
       "[5 rows x 30 columns]"
      ]
     },
     "execution_count": 35,
     "metadata": {},
     "output_type": "execute_result"
    }
   ],
   "source": [
    "data = pd.read_csv('../data/youtube_data.csv', sep = '\\t')\n",
    "data.head()"
   ]
  },
  {
   "cell_type": "code",
   "execution_count": 36,
   "metadata": {},
   "outputs": [
    {
     "name": "stdout",
     "output_type": "stream",
     "text": [
      "<class 'pandas.core.frame.DataFrame'>\n",
      "RangeIndex: 19124 entries, 0 to 19123\n",
      "Data columns (total 30 columns):\n",
      "title                         19124 non-null object\n",
      "caption                       19124 non-null bool\n",
      "categoryId                    19124 non-null int64\n",
      "commentCount                  18914 non-null float64\n",
      "definition                    19124 non-null object\n",
      "description                   18339 non-null object\n",
      "dislikeCount                  18850 non-null float64\n",
      "duration                      19124 non-null object\n",
      "license                       19124 non-null object\n",
      "licensedContent               19124 non-null bool\n",
      "likeCount                     18850 non-null float64\n",
      "music_style                   19124 non-null object\n",
      "performer                     19124 non-null object\n",
      "publicStatsViewable           19124 non-null bool\n",
      "publishedAt                   19124 non-null object\n",
      "tags                          17806 non-null object\n",
      "video_id                      19124 non-null object\n",
      "viewCount                     19123 non-null float64\n",
      "comment_max_len_symbol        12314 non-null float64\n",
      "comment_max_len_word          12314 non-null float64\n",
      "comment_mean_len_symbol       12314 non-null float64\n",
      "comment_mean_len_word         12314 non-null float64\n",
      "comment_negative_mean_prob    12314 non-null float64\n",
      "comment_negative_share        12314 non-null float64\n",
      "commentators_uniq             12314 non-null float64\n",
      "comments_emoji_max            12314 non-null float64\n",
      "comments_emoji_mean           12314 non-null float64\n",
      "comments_emoji_share          12314 non-null float64\n",
      "comments_obscene_cnt          12314 non-null float64\n",
      "words_obscene_cnt             12314 non-null float64\n",
      "dtypes: bool(3), float64(16), int64(1), object(10)\n",
      "memory usage: 4.0+ MB\n"
     ]
    }
   ],
   "source": [
    "data.info()"
   ]
  },
  {
   "cell_type": "markdown",
   "metadata": {},
   "source": [
    "Можно заметить, что некоторые данные у нас отсутствуют. Давайте посмотрим на заполненность нашей таблички на картинкею "
   ]
  },
  {
   "cell_type": "code",
   "execution_count": 37,
   "metadata": {},
   "outputs": [
    {
     "data": {
      "image/png": "[encoded data removed]",
      "text/plain": [
       "<Figure size 1440x864 with 1 Axes>"
      ]
     },
     "metadata": {
      "needs_background": "light"
     },
     "output_type": "display_data"
    }
   ],
   "source": [
    "fig, ax = plt.subplots(figsize=(20,12))\n",
    "sns_heatmap = sns.heatmap(data.isnull(), yticklabels=False, cbar=False, cmap='viridis')"
   ]
  },
  {
   "cell_type": "markdown",
   "metadata": {},
   "source": [
    "Что мы говорим пропускам в данных? Не сегодня. С пропусками нужно бороться. Алгоритмы оцениваются на числах и не любят пропуски (некоторые настроены к пропускам нейтрально, так как умеют их обрабатывать). \n",
    "\n",
    "Первое решение: выбросить все наблюдения с пропусками. Проблема такого подхода в том, что другие то переменные для этих наблюдений не пропущены. Значит, выбросив строчки, соответствующие пропускам, мы потеряем кучу информации. Полезной информации. Информацию и без всех наших преобразований легко потерять, сложно найти и невозможно забыть, а мы её ещё и выкинуть хотим. \n",
    "\n",
    "Обычно, если пропусков в переменной не очень много, их заполняют чем-нибудь нейтральным. Например, средними или медианами. Когда алгоритм будет натыкаться на них, он будет думать: \"Хммм, ну тут ничего особенного, всё как в среднем по выборке, пойду посмотрю другую переменную\". И тогда всё будет хорошо. "
   ]
  },
  {
   "cell_type": "markdown",
   "metadata": {},
   "source": [
    "Для удобства создаём список из непрерывных переменных. "
   ]
  },
  {
   "cell_type": "code",
   "execution_count": 38,
   "metadata": {},
   "outputs": [],
   "source": [
    "real_variables = [\"commentCount\",\"dislikeCount\",\"likeCount\",\"viewCount\",\"comment_max_len_symbol\",\n",
    "                 \"comment_max_len_word\",\"comment_mean_len_symbol\",\"comment_mean_len_word\",\n",
    "                 \"comment_negative_mean_prob\",\"comment_negative_share\",\"commentators_uniq\",\"comments_emoji_max\",\n",
    "                 \"comments_emoji_mean\",\"comments_emoji_share\",\"comments_obscene_cnt\",\"words_obscene_cnt\"]"
   ]
  },
  {
   "cell_type": "markdown",
   "metadata": {},
   "source": [
    "Давайте заполним во всех непрерывных переменных пропуски средними. "
   ]
  },
  {
   "cell_type": "code",
   "execution_count": 39,
   "metadata": {},
   "outputs": [],
   "source": [
    "for column in real_variables:\n",
    "    data[column] = data[column].fillna(data[column].mean())"
   ]
  },
  {
   "cell_type": "code",
   "execution_count": 40,
   "metadata": {},
   "outputs": [
    {
     "data": {
      "image/png": "[encoded data removed]",
      "text/plain": [
       "<Figure size 1440x864 with 1 Axes>"
      ]
     },
     "metadata": {
      "needs_background": "light"
     },
     "output_type": "display_data"
    }
   ],
   "source": [
    "fig, ax = plt.subplots(figsize=(20,12))\n",
    "sns_heatmap = sns.heatmap(data.isnull(), yticklabels=False, cbar=False, cmap='viridis')"
   ]
  },
  {
   "cell_type": "markdown",
   "metadata": {},
   "source": [
    "# 2. Что будем предсказывать? \n",
    "\n",
    "Предсказывать будем жанр видео. Давайте посмотрим какие у нас есть жанры в данных. "
   ]
  },
  {
   "cell_type": "code",
   "execution_count": 41,
   "metadata": {},
   "outputs": [
    {
     "data": {
      "text/plain": [
       "rock       5888\n",
       "estrada    4151\n",
       "popsa      3339\n",
       "shanson    2061\n",
       "rap        2028\n",
       "indi       1359\n",
       "classic     298\n",
       "Name: music_style, dtype: int64"
      ]
     },
     "execution_count": 41,
     "metadata": {},
     "output_type": "execute_result"
    }
   ],
   "source": [
    "data.music_style.value_counts()"
   ]
  },
  {
   "cell_type": "markdown",
   "metadata": {},
   "source": [
    "Разбиваем выборку на обучающую выборку, в которой мы будем находить закономерности, и тестовую выборку, на которой мы будем проверять выявленные закономерности."
   ]
  },
  {
   "cell_type": "code",
   "execution_count": 42,
   "metadata": {},
   "outputs": [
    {
     "name": "stdout",
     "output_type": "stream",
     "text": [
      "Размер обучающей выборки: (15299, 30)\n",
      "Размер тестовой выборки: (3825, 30)\n"
     ]
    }
   ],
   "source": [
    "from sklearn.model_selection import train_test_split\n",
    "\n",
    "train, test = train_test_split(data, test_size = 0.2, random_state=201905)\n",
    "\n",
    "print(\"Размер обучающей выборки:\", train.shape)\n",
    "print(\"Размер тестовой выборки:\", test.shape)"
   ]
  },
  {
   "cell_type": "markdown",
   "metadata": {},
   "source": [
    "Убедимся, что мы не нарушили пропорции жанров при делении выборки на тренировочную и тестову. __Как думаете, зачем это нужно?__ "
   ]
  },
  {
   "cell_type": "code",
   "execution_count": 43,
   "metadata": {},
   "outputs": [
    {
     "data": {
      "text/plain": [
       "rock       0.308125\n",
       "estrada    0.216093\n",
       "popsa      0.177528\n",
       "shanson    0.107393\n",
       "rap        0.105040\n",
       "indi       0.070789\n",
       "classic    0.015034\n",
       "Name: music_style, dtype: float64"
      ]
     },
     "execution_count": 43,
     "metadata": {},
     "output_type": "execute_result"
    }
   ],
   "source": [
    "train.music_style.value_counts()/train.shape[0]"
   ]
  },
  {
   "cell_type": "code",
   "execution_count": 44,
   "metadata": {},
   "outputs": [
    {
     "data": {
      "text/plain": [
       "rock       0.306928\n",
       "estrada    0.220915\n",
       "popsa      0.162876\n",
       "rap        0.110065\n",
       "shanson    0.109281\n",
       "indi       0.072157\n",
       "classic    0.017778\n",
       "Name: music_style, dtype: float64"
      ]
     },
     "execution_count": 44,
     "metadata": {},
     "output_type": "execute_result"
    }
   ],
   "source": [
    "test.music_style.value_counts()/test.shape[0]"
   ]
  },
  {
   "cell_type": "markdown",
   "metadata": {},
   "source": [
    "Вроде бы всё нормально. Сейчас в нашем датасете все жанры записаны в текстовом виде. Мы с вами постоянно повторяем, как прописную истину то, что __модели поедают только цифры.__ Давайте переработаем жанры в дамми-переменные. Для этого будем использовать one hot encoding."
   ]
  },
  {
   "cell_type": "code",
   "execution_count": 65,
   "metadata": {},
   "outputs": [
    {
     "data": {
      "text/plain": [
       "[array(['classic', 'estrada', 'indi', 'popsa', 'rap', 'rock', 'shanson'],\n",
       "       dtype=object)]"
      ]
     },
     "execution_count": 65,
     "metadata": {},
     "output_type": "execute_result"
    }
   ],
   "source": [
    "# подгрузили команду для обработки \n",
    "from sklearn.preprocessing import OneHotEncoder\n",
    "\n",
    "# объявили кодировщик (как с регрессией было, но кодировщик)\n",
    "# опция нужна, чтобы видеть данные, которые придут к нам на выход\n",
    "encoder = OneHotEncoder(sparse=False)\n",
    "\n",
    "# обучили кодировщик (он запомнил какой цифрой закодирован какой стиль)\n",
    "encoder.fit(train.music_style.get_values().reshape((len(train), 1)))\n",
    "\n",
    "encoder.categories_  # можно посмотреть какие категории он выучил и какие позиции за них отвечают "
   ]
  },
  {
   "cell_type": "code",
   "execution_count": 67,
   "metadata": {},
   "outputs": [
    {
     "data": {
      "text/plain": [
       "array([[0., 1., 0., ..., 0., 0., 0.],\n",
       "       [0., 1., 0., ..., 0., 0., 0.],\n",
       "       [0., 0., 1., ..., 0., 0., 0.],\n",
       "       ...,\n",
       "       [0., 0., 0., ..., 0., 1., 0.],\n",
       "       [0., 0., 0., ..., 0., 0., 1.],\n",
       "       [0., 0., 0., ..., 0., 0., 0.]])"
      ]
     },
     "execution_count": 67,
     "metadata": {},
     "output_type": "execute_result"
    }
   ],
   "source": [
    "# преобразуем наши выборки \n",
    "y_train = encoder.transform(train.music_style.get_values().reshape((len(train), 1)))\n",
    "Y_test = encoder.transform(test.music_style.get_values().reshape((len(test), 1)))\n",
    "\n",
    "# теперь у нас в y лежит куча столбцов, единичка только в одном из них\n",
    "y_train"
   ]
  },
  {
   "cell_type": "code",
   "execution_count": 70,
   "metadata": {},
   "outputs": [
    {
     "data": {
      "text/plain": [
       "array([0., 1., 0., 0., 0., 0., 0.])"
      ]
     },
     "execution_count": 70,
     "metadata": {},
     "output_type": "execute_result"
    }
   ],
   "source": [
    "# это видео относится к какой категории? \n",
    "y_train[0]"
   ]
  },
  {
   "cell_type": "markdown",
   "metadata": {},
   "source": [
    "# 3. Моделирование! \n",
    "\n",
    "Давайте строить прогнозные модели! "
   ]
  },
  {
   "cell_type": "markdown",
   "metadata": {},
   "source": [
    "## 3.1 k Nearest Neighbours (метод ближайших соседей) \n",
    "\n",
    "**KNN** - один из базовых и максимально наглядных алгоритмов. Среди уже известных нам объектов находятся $k$ максимально похожих на наш неизвестный объект (соседей). Неизвестному объекту проставляется тот класс, который наиболее широко представлен среди его соседей. "
   ]
  },
  {
   "cell_type": "markdown",
   "metadata": {},
   "source": [
    "Возьмем все числовые данные из нашего набора."
   ]
  },
  {
   "cell_type": "code",
   "execution_count": 45,
   "metadata": {},
   "outputs": [],
   "source": [
    "X_train = train[real_variables]\n",
    "X_test = test[real_variables]"
   ]
  },
  {
   "cell_type": "markdown",
   "metadata": {},
   "source": [
    "Внутри метода ближайшего соседа мы будем измерять похожесть между объектами с помощью какого-то расстояния. На примеры таких расстояний мы смотрели на паре по математике для анализа данных. \n",
    "\n",
    "Давайте посмотрим на слудущую проблему. Пусть у нас есть два человека: Вася и Петя. Вася весит $90$ кг. Петя $60$ кг. У Васи рост $1.9$ метра. У Пети $1.7$ метра. Посчитаем расстояние между парнями: \n",
    "\n",
    "$$\n",
    "\\rho(\\text{Вася}, \\text{Петя}) = \\sqrt{(1.9 - 1.7)^2 + (90 - 60)^2} = \\sqrt{0.04 + 900}. \n",
    "$$\n",
    "\n",
    "Какой из признаков вносит больший вклад в расстояние? Рост. Просто из-за того, что он измерен в другой шкале. Это будет путать алгоритм, когда он будет искать расстояния. Чтобы избежать такой путанницы, данные нужно отскалировать. То есть привести к одной шкале. Например, с помощью `Min-max scaler`, который вы сами реализовывали в третьей домашке. После такого скалирования мы избавимся от зависимости от шкалы измерения. "
   ]
  },
  {
   "cell_type": "code",
   "execution_count": 71,
   "metadata": {},
   "outputs": [],
   "source": [
    "from sklearn.preprocessing import MinMaxScaler  # класс для скалирования! \n",
    "\n",
    "# Он сам будет считать максимумы, минимумы и делить! \n",
    "\n",
    "# Объеявили скалировшик \n",
    "scaler = MinMaxScaler( )\n",
    "\n",
    "# Обучили его на тренировочной выборке (он само посчитал все максимумы, минимумы, поделил)\n",
    "scaler.fit(X_train) \n",
    "\n",
    "# Теперь применяем его к нашим данным \n",
    "X_train_norm = scaler.transform(X_train) \n",
    "X_test_norm = scaler.transform(X_test)"
   ]
  },
  {
   "cell_type": "markdown",
   "metadata": {},
   "source": [
    "Наконец-то мы можем начать учить модели. Подгружаем метод ближайших соседей из пакета. "
   ]
  },
  {
   "cell_type": "code",
   "execution_count": 73,
   "metadata": {},
   "outputs": [],
   "source": [
    "from sklearn.neighbors import KNeighborsClassifier\n",
    "\n",
    "# объявляем метод 9 ближайших соседей\n",
    "knn = KNeighborsClassifier(n_neighbors = 9)\n",
    "\n",
    "# обучаем его по выборке \n",
    "knn.fit(X_train_norm, y_train)\n",
    "\n",
    "# строим для тестовой выборки прогнозы \n",
    "y_predicted = knn.predict(X_test_norm)"
   ]
  },
  {
   "cell_type": "markdown",
   "metadata": {},
   "source": [
    "Сейчас наши прогнозы выглядя как страшная матрица из дамми-переменных. "
   ]
  },
  {
   "cell_type": "code",
   "execution_count": 74,
   "metadata": {},
   "outputs": [
    {
     "data": {
      "text/plain": [
       "array([[0., 0., 0., ..., 0., 0., 0.],\n",
       "       [0., 0., 0., ..., 0., 1., 0.],\n",
       "       [0., 0., 0., ..., 0., 0., 0.],\n",
       "       ...,\n",
       "       [0., 0., 0., ..., 0., 0., 0.],\n",
       "       [0., 0., 0., ..., 0., 0., 0.],\n",
       "       [0., 0., 0., ..., 0., 0., 0.]])"
      ]
     },
     "execution_count": 74,
     "metadata": {},
     "output_type": "execute_result"
    }
   ],
   "source": [
    "y_predicted"
   ]
  },
  {
   "cell_type": "markdown",
   "metadata": {},
   "source": [
    "Как превратить её обратно, в осмысленные жанры? Правильно! Вспомнить про `encoder`, который мы создали выше. "
   ]
  },
  {
   "cell_type": "code",
   "execution_count": 75,
   "metadata": {},
   "outputs": [
    {
     "data": {
      "text/plain": [
       "array([['classic'],\n",
       "       ['rock'],\n",
       "       ['classic'],\n",
       "       ...,\n",
       "       ['classic'],\n",
       "       ['classic'],\n",
       "       ['classic']], dtype=object)"
      ]
     },
     "execution_count": 75,
     "metadata": {},
     "output_type": "execute_result"
    }
   ],
   "source": [
    "y_predicted = encoder.inverse_transform(y_predicted)\n",
    "y_predicted"
   ]
  },
  {
   "cell_type": "markdown",
   "metadata": {},
   "source": [
    "Интересно было бы узнать насколько качественной у нас получилась модель. Давайте посмотрим на какую-нибудь метрику качества, например на `accuracy`.  __Как думаете, это хорошая идея?__ "
   ]
  },
  {
   "cell_type": "code",
   "execution_count": 77,
   "metadata": {},
   "outputs": [
    {
     "data": {
      "text/plain": [
       "0.2169934640522876"
      ]
     },
     "execution_count": 77,
     "metadata": {},
     "output_type": "execute_result"
    }
   ],
   "source": [
    "from sklearn.metrics import accuracy_score\n",
    "\n",
    "accuracy_score(test.music_style.values, y_predicted)"
   ]
  },
  {
   "cell_type": "markdown",
   "metadata": {},
   "source": [
    "Негусто. Возможно нам стоит попробовать по разному учитывать соседей: более близкие соседи должны давать больший вклад, чем удаленные. Для этого у метода есть опция `distance`. "
   ]
  },
  {
   "cell_type": "code",
   "execution_count": 79,
   "metadata": {},
   "outputs": [
    {
     "data": {
      "text/plain": [
       "0.2593464052287582"
      ]
     },
     "execution_count": 79,
     "metadata": {},
     "output_type": "execute_result"
    }
   ],
   "source": [
    "# снова объявили метод ближайших соседей\n",
    "knn = KNeighborsClassifier(n_neighbors = 9, weights='distance')\n",
    "\n",
    "# обучили его \n",
    "knn.fit(X_train_norm, y_train)\n",
    "\n",
    "# построили прогноз \n",
    "y_predicted = knn.predict(X_test_norm)\n",
    "\n",
    "# раскодировали его \n",
    "y_predicted = encoder.inverse_transform(y_predicted)\n",
    "\n",
    "# посчитали долю верных ответов\n",
    "accuracy_score(test.music_style.values, y_predicted)"
   ]
  },
  {
   "cell_type": "markdown",
   "metadata": {},
   "source": [
    "Чуточку лучше. Для того, чтобы построить хорошую модель иногда нужно перебрать довольно много разных параметров модели. Давайте попробуем немного поперибирать. "
   ]
  },
  {
   "cell_type": "code",
   "execution_count": 80,
   "metadata": {},
   "outputs": [
    {
     "data": {
      "text/plain": [
       "GridSearchCV(cv=3, error_score='raise-deprecating',\n",
       "       estimator=KNeighborsClassifier(algorithm='auto', leaf_size=30, metric='minkowski',\n",
       "           metric_params=None, n_jobs=None, n_neighbors=5, p=2,\n",
       "           weights='uniform'),\n",
       "       fit_params=None, iid='warn', n_jobs=None,\n",
       "       param_grid={'n_neighbors': range(5, 16), 'weights': ['uniform', 'distance']},\n",
       "       pre_dispatch='2*n_jobs', refit=True, return_train_score='warn',\n",
       "       scoring='accuracy', verbose=0)"
      ]
     },
     "execution_count": 80,
     "metadata": {},
     "output_type": "execute_result"
    }
   ],
   "source": [
    "# Решётка для перебора \n",
    "from sklearn.model_selection import GridSearchCV\n",
    "\n",
    "# параметры, которые мы будем перебирать \n",
    "parameters = {\n",
    "     'n_neighbors':range(5, 16),         # число соседей от 5 до 15\n",
    "     'weights':['uniform', 'distance']   # надо ли более близких соседей учитывать с большим весом\n",
    "             }\n",
    "\n",
    "# объявили модель\n",
    "knn = KNeighborsClassifier()\n",
    "\n",
    "# завернули её в решётку для поиска параметров\n",
    "grid = GridSearchCV(knn, parameters, cv=3, scoring=\"accuracy\")\n",
    "\n",
    "# Обратите внимание на аргументы решчетого поиска: \n",
    "#       1. Сначала модель\n",
    "#       2. Какие параметры перебирать \n",
    "#       3. Число фолдов для кросс-валидации (подробнее с ней вы поработаете в домашке)\n",
    "#       4. Метрика, по которой нужно считать качество модели \n",
    "\n",
    "# обучаем нашу решётку (если мы хотим перебрать много параметров, обучение будет идти долго) \n",
    "grid.fit(X_train_norm, y_train)"
   ]
  },
  {
   "cell_type": "code",
   "execution_count": 82,
   "metadata": {},
   "outputs": [
    {
     "name": "stdout",
     "output_type": "stream",
     "text": [
      "KNeighborsClassifier(algorithm='auto', leaf_size=30, metric='minkowski',\n",
      "           metric_params=None, n_jobs=None, n_neighbors=5, p=2,\n",
      "           weights='distance')\n",
      "0.278514935616707\n"
     ]
    }
   ],
   "source": [
    "# смотрим какие параметры дали наибольшее качество\n",
    "print(grid.best_estimator_)\n",
    "\n",
    "# а также смотрим на качество этого классификатора\n",
    "print(grid.best_score_)"
   ]
  },
  {
   "cell_type": "markdown",
   "metadata": {},
   "source": [
    "Нам удалось поднять качество ещё сильнее! Ура. "
   ]
  },
  {
   "cell_type": "markdown",
   "metadata": {},
   "source": [
    "## 3.2 Решающие деревья \n",
    "\n",
    "<img src = \"http://res.cloudinary.com/dyd911kmh/image/upload/f_auto,q_auto:best/v1528907338/classification-tree_ygvats.png\">\n",
    "\n",
    "В листьях дерево - конечные принимаемые решения, в разветвлениях функции от отдельного признака. Давайте посмотрим как обучить дерево в питоне. "
   ]
  },
  {
   "cell_type": "code",
   "execution_count": 83,
   "metadata": {},
   "outputs": [],
   "source": [
    "# Подшружаем дерево \n",
    "from sklearn.tree import DecisionTreeClassifier"
   ]
  },
  {
   "cell_type": "code",
   "execution_count": 85,
   "metadata": {},
   "outputs": [
    {
     "data": {
      "text/plain": [
       "0.3754248366013072"
      ]
     },
     "execution_count": 85,
     "metadata": {},
     "output_type": "execute_result"
    }
   ],
   "source": [
    "# Объявляем дерево \n",
    "tree = DecisionTreeClassifier( )\n",
    "\n",
    "# учим дерево \n",
    "tree.fit(X_train, y_train)\n",
    "\n",
    "# предсказываем на тестовой выборке результаты \n",
    "y_predicted = tree.predict(X_test)\n",
    "\n",
    "# раскодировали предсказания \n",
    "y_predicted = encoder.inverse_transform(y_predicted)\n",
    "\n",
    "# посмотрели на качество на тесте\n",
    "accuracy_score(test.music_style.values, y_predicted)"
   ]
  },
  {
   "cell_type": "markdown",
   "metadata": {},
   "source": [
    "Дерево хорошо своей простотой, но по факту, чем выше наше дерево, тем более оно склонно к переобучению.\n",
    "Как быть? Построить много невысоких деревьев. Много деревьев - это лес, алгоритм, принимающий решение на основе множества деревьев, так и называется.\n"
   ]
  },
  {
   "cell_type": "code",
   "execution_count": 87,
   "metadata": {},
   "outputs": [
    {
     "data": {
      "text/plain": [
       "0.2415686274509804"
      ]
     },
     "execution_count": 87,
     "metadata": {},
     "output_type": "execute_result"
    }
   ],
   "source": [
    "# Подшружаем случайный лес\n",
    "from sklearn.ensemble import RandomForestClassifier\n",
    "\n",
    "# объявляем его, будем учить 1000 деревьев максимальной глубины 13 \n",
    "forest = RandomForestClassifier(max_depth=13, n_estimators=1000)\n",
    "\n",
    "# учим лес \n",
    "forest.fit(X_train, y_train)\n",
    "\n",
    "# строим предсказания \n",
    "y_predicted = forest.predict(X_test)\n",
    "\n",
    "# раскодировали их \n",
    "y_predicted = encoder.inverse_transform(y_predicted)\n",
    "\n",
    "# посмотрели долю верных прогнозов\n",
    "accuracy_score(test.music_style.values, y_predicted)"
   ]
  },
  {
   "cell_type": "markdown",
   "metadata": {},
   "source": [
    "# 4. Метрики классификации \n",
    "\n",
    "Отлично! У нас получилось оценить какой-то алгоритм. Давайте теперь посмотрим на то"
   ]
  },
  {
   "cell_type": "code",
   "execution_count": null,
   "metadata": {},
   "outputs": [],
   "source": []
  },
  {
   "cell_type": "code",
   "execution_count": null,
   "metadata": {},
   "outputs": [],
   "source": []
  },
  {
   "cell_type": "code",
   "execution_count": null,
   "metadata": {},
   "outputs": [],
   "source": []
  },
  {
   "cell_type": "code",
   "execution_count": null,
   "metadata": {},
   "outputs": [],
   "source": []
  },
  {
   "cell_type": "code",
   "execution_count": null,
   "metadata": {},
   "outputs": [],
   "source": []
  },
  {
   "cell_type": "code",
   "execution_count": null,
   "metadata": {},
   "outputs": [],
   "source": []
  },
  {
   "cell_type": "code",
   "execution_count": null,
   "metadata": {},
   "outputs": [],
   "source": []
  },
  {
   "cell_type": "markdown",
   "metadata": {},
   "source": [
    "# Feature Engineering\n",
    "в реальной жизни очевидных признаков всегда не хватает. Тогда приходится самостоятельно придумывать и извлекать новые признаки из сырых данных. Попробуем что-то придумать "
   ]
  },
  {
   "cell_type": "markdown",
   "metadata": {},
   "source": [
    "первое на что можно обратить внимание столбец categoryId. в нем числовой идентификатор категории. Попробуем для начала преобразовать его используя OHE"
   ]
  },
  {
   "cell_type": "code",
   "execution_count": null,
   "metadata": {},
   "outputs": [],
   "source": [
    "catEncoder = OneHotEncoder()\n",
    "catEncoder.fit(train.categoryId.values.reshape((len(train), 1)))\n",
    "cat_train = catEncoder.transform(train.categoryId.values.reshape((len(train), 1))).toarray()\n",
    "cat_test = catEncoder.transform(test.categoryId.values.reshape((len(test), 1))).toarray()"
   ]
  },
  {
   "cell_type": "markdown",
   "metadata": {},
   "source": [
    "кроме того мы можем использовать наиболее часто употребляемые теги"
   ]
  },
  {
   "cell_type": "code",
   "execution_count": null,
   "metadata": {},
   "outputs": [],
   "source": [
    "from ast import literal_eval\n"
   ]
  },
  {
   "cell_type": "code",
   "execution_count": null,
   "metadata": {},
   "outputs": [],
   "source": [
    "#для начала уберем пустые значения\n",
    "train.tags = train.tags.apply(lambda tags: [] if pd.isnull(tags) else literal_eval(tags))\n",
    "test.tags = test.tags.apply(lambda tags: [] if pd.isnull(tags) else literal_eval(tags))"
   ]
  },
  {
   "cell_type": "code",
   "execution_count": null,
   "metadata": {},
   "outputs": [],
   "source": []
  },
  {
   "cell_type": "code",
   "execution_count": null,
   "metadata": {},
   "outputs": [],
   "source": [
    "from collections import defaultdict\n",
    "\n",
    "import operator"
   ]
  },
  {
   "cell_type": "code",
   "execution_count": null,
   "metadata": {},
   "outputs": [],
   "source": [
    "tags_frequency = defaultdict(int)\n",
    "for tags in train.tags:\n",
    "    for tag in tags:\n",
    "        tags_frequency[tag.lower()] += 1\n",
    "tags_frequency = sorted(tags_frequency.items(), key=operator.itemgetter(1),reverse=True)\n"
   ]
  },
  {
   "cell_type": "markdown",
   "metadata": {},
   "source": [
    "возьмем 50 наиболее популярных тегов, и бинаризуем их"
   ]
  },
  {
   "cell_type": "code",
   "execution_count": null,
   "metadata": {},
   "outputs": [],
   "source": [
    "tag_index = {tag[0]: index for index, tag in enumerate(tags_frequency[:50])}"
   ]
  },
  {
   "cell_type": "code",
   "execution_count": null,
   "metadata": {},
   "outputs": [],
   "source": [
    "def tagsToFeatures(tags):\n",
    "    features = np.zeros(51)\n",
    "    for tag in tags:\n",
    "        index = tag_index.get(tag.lower(), -1)\n",
    "        features[index] = 1\n",
    "    return features[:50] "
   ]
  },
  {
   "cell_type": "code",
   "execution_count": null,
   "metadata": {},
   "outputs": [],
   "source": [
    "tags_train = train.tags.apply(tagsToFeatures)\n",
    "tags_train = np.array(tags_train.to_list())\n",
    "tags_test = test.tags.apply(tagsToFeatures)\n",
    "tags_test = np.array(tags_test.to_list())"
   ]
  },
  {
   "cell_type": "markdown",
   "metadata": {},
   "source": [
    "Теперь обучим новый лес"
   ]
  },
  {
   "cell_type": "code",
   "execution_count": null,
   "metadata": {},
   "outputs": [],
   "source": [
    "X_train = np.hstack((X_train.values, cat_train, tags_train))\n",
    "X_test = np.hstack((X_test.values, cat_test, tags_test))"
   ]
  },
  {
   "cell_type": "code",
   "execution_count": null,
   "metadata": {},
   "outputs": [],
   "source": [
    "X_train.shape, X_test.shape"
   ]
  },
  {
   "cell_type": "code",
   "execution_count": null,
   "metadata": {},
   "outputs": [],
   "source": [
    "forest = RandomForestClassifier(max_depth=13, n_estimators=5000)\n",
    "forest.fit(X_train, Y_train)"
   ]
  },
  {
   "cell_type": "code",
   "execution_count": null,
   "metadata": {},
   "outputs": [],
   "source": [
    "Y_predicted = forest.predict(X_test)\n",
    "Y_predicted = encoder.inverse_transform(Y_predicted)\n",
    "accuracy_score(test.music_style.values, Y_predicted)"
   ]
  },
  {
   "cell_type": "markdown",
   "metadata": {},
   "source": [
    "Попробуйте перебрать параметры и добиться более высокой точности для леса"
   ]
  },
  {
   "cell_type": "markdown",
   "metadata": {},
   "source": [
    "# 4. Схема нашей работы \n",
    "\n",
    "1. Посмотрели на данные, поняли что хотим прогнозировать \n",
    "2. Посмотрели есть ли в данных пропуски, обработали их (выбросили либо заполнили)\n",
    "3. Проскалировали переменные \n",
    "4. Подготовили переменную для прогнозирования, посмотрели есть ли с ней проблемы \n",
    "5. Начали строить модели, смотрим насколько они хороши по метрикам \n",
    "6. Подбираем гиперпараметры для моделей и пытаемся улучшить их"
   ]
  },
  {
   "cell_type": "code",
   "execution_count": null,
   "metadata": {},
   "outputs": [],
   "source": []
  }
 ],
 "metadata": {
  "kernelspec": {
   "display_name": "Python 3",
   "language": "python",
   "name": "python3"
  },
  "language_info": {
   "codemirror_mode": {
    "name": "ipython",
    "version": 3
   },
   "file_extension": ".py",
   "mimetype": "text/x-python",
   "name": "python",
   "nbconvert_exporter": "python",
   "pygments_lexer": "ipython3",
   "version": "3.7.2"
  }
 },
 "nbformat": 4,
 "nbformat_minor": 2
}
