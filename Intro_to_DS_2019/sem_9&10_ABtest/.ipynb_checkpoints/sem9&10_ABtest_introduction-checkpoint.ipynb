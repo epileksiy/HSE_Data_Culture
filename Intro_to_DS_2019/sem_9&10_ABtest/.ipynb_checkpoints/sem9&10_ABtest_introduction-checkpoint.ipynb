{
 "cells": [
  {
   "cell_type": "markdown",
   "metadata": {},
   "source": [
    "# Введение в АБ-тесты\n",
    "\n",
    "Давайте попробуем проделать все ручные задачи на компьютере! Начнём с возраста. "
   ]
  },
  {
   "cell_type": "code",
   "execution_count": 97,
   "metadata": {},
   "outputs": [],
   "source": [
    "import numpy as np\n",
    "import pandas as pd"
   ]
  },
  {
   "cell_type": "code",
   "execution_count": 83,
   "metadata": {},
   "outputs": [],
   "source": [
    "# выбока Фёдора \n",
    "x_f = np.array([200, 140])\n",
    "\n",
    "# выбока Шарика\n",
    "x_s = np.array([200, 190])\n",
    "\n",
    "# выбока Матроскина\n",
    "x_m = np.array([150, 140])"
   ]
  },
  {
   "cell_type": "code",
   "execution_count": 105,
   "metadata": {},
   "outputs": [
    {
     "data": {
      "text/plain": [
       "170.0"
      ]
     },
     "execution_count": 105,
     "metadata": {},
     "output_type": "execute_result"
    }
   ],
   "source": [
    "# среднее можно найти так\n",
    "x_f.mean()"
   ]
  },
  {
   "cell_type": "code",
   "execution_count": 104,
   "metadata": {},
   "outputs": [
    {
     "data": {
      "text/plain": [
       "42.42640687119285"
      ]
     },
     "execution_count": 104,
     "metadata": {},
     "output_type": "execute_result"
    }
   ],
   "source": [
    "# стандартное отклонение \n",
    "np.std(x_f, ddof=1)"
   ]
  },
  {
   "cell_type": "code",
   "execution_count": 112,
   "metadata": {},
   "outputs": [
    {
     "name": "stdout",
     "output_type": "stream",
     "text": [
      "Доверительный интервал: [111.20; 228.80]\n"
     ]
    }
   ],
   "source": [
    "# доверительный интервал вручную \n",
    "\n",
    "mean = x_f.mean()\n",
    "sd = np.std(x_f, ddof=1)\n",
    "\n",
    "n = x_f.size\n",
    "\n",
    "left = mean - 1.96*sd/np.sqrt(n)\n",
    "right = mean + 1.96*sd/np.sqrt(n)\n",
    "\n",
    "print('Доверительный интервал: [{:.2f}; {:.2f}]'.format(left,right))"
   ]
  },
  {
   "cell_type": "markdown",
   "metadata": {},
   "source": [
    "Точно такой же интервал, но внутренними средствами питона: "
   ]
  },
  {
   "cell_type": "code",
   "execution_count": 113,
   "metadata": {},
   "outputs": [
    {
     "data": {
      "text/plain": [
       "(111.20108046379838, 228.79891953620162)"
      ]
     },
     "execution_count": 113,
     "metadata": {},
     "output_type": "execute_result"
    }
   ],
   "source": [
    "from statsmodels.stats.weightstats import _zconfint_generic\n",
    "_zconfint_generic(mean,  sd/np.sqrt(n), 0.05, 'two-sided')"
   ]
  },
  {
   "cell_type": "markdown",
   "metadata": {},
   "source": [
    "Проверим гипотезу о том, что $mu = 160$. Сначала построим доверительный интервал для разности. Будем использовать критическое значение $1.96$. "
   ]
  },
  {
   "cell_type": "code",
   "execution_count": 114,
   "metadata": {},
   "outputs": [
    {
     "data": {
      "text/plain": [
       "(-48.79891953620162, 68.79891953620162)"
      ]
     },
     "execution_count": 114,
     "metadata": {},
     "output_type": "execute_result"
    }
   ],
   "source": [
    "mu = 160\n",
    "_zconfint_generic(mean - mu,  sd/np.sqrt(n), 0.05, 'two-sided')"
   ]
  },
  {
   "cell_type": "markdown",
   "metadata": {},
   "source": [
    "Теперь посчитаем руками наблюдаемое значение $t-$статистики. Если оно меньше $1.96$, на уровне значимости $5\\%$ гипотеза не отвергается. "
   ]
  },
  {
   "cell_type": "code",
   "execution_count": 137,
   "metadata": {},
   "outputs": [
    {
     "data": {
      "text/plain": [
       "0.33333333333333337"
      ]
     },
     "execution_count": 137,
     "metadata": {},
     "output_type": "execute_result"
    }
   ],
   "source": [
    "(x_f.mean() - mu)/std*np.sqrt(n)"
   ]
  },
  {
   "cell_type": "markdown",
   "metadata": {},
   "source": [
    "Теперь сделаем то же самое внутренними средствами питона. Первое число - $t-$ статистика. Второе число - максимальный уровень значимости, при котором гипотеза не отвергается. Если это число больше $5\\%$, гипотеза не отвергается на уровне доверия $95\\%$. Если меньше, отвергается. Просто пока что примите это как факт..."
   ]
  },
  {
   "cell_type": "code",
   "execution_count": 136,
   "metadata": {},
   "outputs": [
    {
     "data": {
      "text/plain": [
       "(0.3333333333333333, 0.7388826803635273)"
      ]
     },
     "execution_count": 136,
     "metadata": {},
     "output_type": "execute_result"
    }
   ],
   "source": [
    "from statsmodels.stats.weightstats import ztest\n",
    "ztest(x_f, value = mu)"
   ]
  },
  {
   "cell_type": "markdown",
   "metadata": {},
   "source": [
    "## Задачка 1\n",
    "\n",
    "Ежегодно более 200000 людей по всему миру сдают стандартизированный экзамен GMAT при поступлении на программы MBA. Средний результат составляет 525 баллов, стандартное отклонение — 100 баллов.\n",
    "\n",
    "Сто студентов закончили специальные подготовительные курсы и сдали экзамен. Средний полученный ими балл — 541.4. Проверьте гипотезу о неэффективности программы против односторонней альтернативы о том, что программа работает. Отвергается ли на уровне значимости 0.05 нулевая гипотеза? Введите достигаемый уровень значимости, округлённый до 4 знаков после десятичной точки."
   ]
  },
  {
   "cell_type": "code",
   "execution_count": 14,
   "metadata": {},
   "outputs": [
    {
     "name": "stdout",
     "output_type": "stream",
     "text": [
      "Доверительный интервал: [-3.60; 36.40]\n"
     ]
    }
   ],
   "source": [
    "mu = 525\n",
    "sd = 100\n",
    "\n",
    "n = 100\n",
    "mean = 541.4\n",
    "\n",
    "# руками считаем границы доверительного интервала: \n",
    "left = (mean - mu) - 2*sd/np.sqrt(n)\n",
    "right = (mean - mu) + 2*sd/np.sqrt(n)\n",
    "\n",
    "print('Доверительный интервал: [{:.2f}; {:.2f}]'.format(left,right))"
   ]
  },
  {
   "cell_type": "code",
   "execution_count": 18,
   "metadata": {},
   "outputs": [
    {
     "name": "stdout",
     "output_type": "stream",
     "text": [
      "1.6399999999999977\n"
     ]
    }
   ],
   "source": [
    "# Теперь то же самое через t-статистику! \n",
    "\n",
    "t_nabl = (mean - mu)/(sd/np.sqrt(n))\n",
    "print(t_nabl)"
   ]
  },
  {
   "cell_type": "markdown",
   "metadata": {},
   "source": [
    "Как было выше, доверительные интервалы, но с уточнённым значением $1.96$ можно построить внутренними средствами python."
   ]
  },
  {
   "cell_type": "code",
   "execution_count": 28,
   "metadata": {},
   "outputs": [
    {
     "name": "stdout",
     "output_type": "stream",
     "text": [
      "Доверительный интервал: [-3.20; 36.00]\n"
     ]
    }
   ],
   "source": [
    "left = (mean - mu) - 1.96*sd/np.sqrt(n)\n",
    "right = (mean - mu) + 1.96*sd/np.sqrt(n)\n",
    "\n",
    "print('Доверительный интервал: [{:.2f}; {:.2f}]'.format(left,right))"
   ]
  },
  {
   "cell_type": "code",
   "execution_count": 27,
   "metadata": {},
   "outputs": [
    {
     "data": {
      "text/plain": [
       "(-3.1996398454005615, 35.999639845400516)"
      ]
     },
     "execution_count": 27,
     "metadata": {},
     "output_type": "execute_result"
    }
   ],
   "source": [
    "from statsmodels.stats.weightstats import _zconfint_generic\n",
    "\n",
    "_zconfint_generic(mean - mu,  sd/np.sqrt(n), 0.05, 'two-sided')"
   ]
  },
  {
   "cell_type": "markdown",
   "metadata": {},
   "source": [
    "## Задачка 2\n",
    "\n",
    "Олег подбрасывает монетку и орёт: \"ОРЁЛ-РЕШКА-ОРЁЛ-РЕШКА!\". Ещё он недавно посмотрел фильм Кристофера Нолана \"Тёмный рыцарь\". Там ему очень понравился Харви Дент. Потому что у него тоже была монетка, которую тот подбрасывал. ЛСП стало интересно: а правильная ли у него монетка. Действительно ли она выпадает орлом с вероятностью $\\frac{1}{2}$? \n",
    "\n",
    "* Олег подбросил монетку трижды и получил комбинацию: $OPP$. Найдите долю выпадения орла.  Дальше будем обозначать эту долю как $\\hat p$. \n",
    "* На теории вероятностей вы докажете, что стандартное отклонение для доли считается по формуле $ \\sqrt{\\frac{\\hat p \\cdot (1 - \\hat p)}{n}}.$ Найдите среднее отклонение доли. \n",
    "* Можно показать, что $\\hat p$ имеет нормальное распределение. Постройте на основе правила двух сигм для вашей оценки доли доверительный интервал. Найдите его ширину. \n",
    "*  Олег подбросил монетку ещё два раза и получил $OPPOP$. Найдите доверительный интервал для этой ситуации. Найдите его ширину. Стал ли он уже? Почему это произошло? \n",
    "* Проверьте гипотезу о том, что $p = \\frac{1}{2}$ против гипотезы $p \\ne \\frac{1}{2}$"
   ]
  },
  {
   "cell_type": "markdown",
   "metadata": {},
   "source": [
    "Строим доверительный интервал для $p$ по формуле:\n",
    "\n",
    "$$\\hat{p}\\pm 1.96 \\cdot \\sqrt{\\frac{\\hat{p}\\left(1-\\hat{p}\\right)}{n}}$$"
   ]
  },
  {
   "cell_type": "code",
   "execution_count": 78,
   "metadata": {},
   "outputs": [
    {
     "name": "stdout",
     "output_type": "stream",
     "text": [
      "Доверительный интервал: [-0.20; 0.87]\n"
     ]
    }
   ],
   "source": [
    "n = 3\n",
    "m = 1\n",
    "p_hat = m/n\n",
    "\n",
    "std = np.sqrt(p_hat*(1-p_hat)/n)\n",
    "\n",
    "\n",
    "# руками считаем границы доверительного интервала: \n",
    "left =  p_hat - 1.96*std\n",
    "right = p_hat + 1.96*std\n",
    "\n",
    "print('Доверительный интервал: [{:.2f}; {:.2f}]'.format(left,right))"
   ]
  },
  {
   "cell_type": "code",
   "execution_count": 75,
   "metadata": {},
   "outputs": [
    {
     "data": {
      "text/plain": [
       "(0.0, 0.866767964039479)"
      ]
     },
     "execution_count": 75,
     "metadata": {},
     "output_type": "execute_result"
    }
   ],
   "source": [
    "from statsmodels.stats.proportion import proportion_confint\n",
    "\n",
    "# первым аргументом надо указать число удачных подбрасываний, вторым общее число бросков\n",
    "normal_interval = proportion_confint(m, n, alpha = 0.05)\n",
    "normal_interval"
   ]
  },
  {
   "cell_type": "code",
   "execution_count": 79,
   "metadata": {},
   "outputs": [
    {
     "name": "stdout",
     "output_type": "stream",
     "text": [
      "Ширина интервала: 0.866767964039479\n"
     ]
    }
   ],
   "source": [
    "print('Ширина интервала:', normal_interval[1] - normal_interval[0])"
   ]
  },
  {
   "cell_type": "markdown",
   "metadata": {},
   "source": [
    "Увеличим число наблюдений! "
   ]
  },
  {
   "cell_type": "code",
   "execution_count": 80,
   "metadata": {},
   "outputs": [
    {
     "name": "stdout",
     "output_type": "stream",
     "text": [
      "Ширина интервала: 0.8294065944921178\n"
     ]
    },
    {
     "data": {
      "text/plain": [
       "(0.0, 0.8294065944921178)"
      ]
     },
     "execution_count": 80,
     "metadata": {},
     "output_type": "execute_result"
    }
   ],
   "source": [
    "n = 5\n",
    "m = 2\n",
    "\n",
    "normal_interval = proportion_confint(m, n, alpha = 0.05)\n",
    "\n",
    "print('Ширина интервала:', normal_interval[1] - normal_interval[0])\n",
    "normal_interval"
   ]
  },
  {
   "cell_type": "markdown",
   "metadata": {},
   "source": [
    "Видим, что доверительный интервал стал уже. "
   ]
  },
  {
   "cell_type": "markdown",
   "metadata": {},
   "source": [
    "## Задачка 3\n",
    "\n",
    "Давайте уточним правило трёх сигм. Утвержедение: $95\\%$ вероятностной массы случайной величины $X \\sim N(\\mu,\\sigma^2)$ лежит в интервале $\\mu +- c \\cdot \\sigma$. Чему равно значение константы $c$? "
   ]
  },
  {
   "cell_type": "code",
   "execution_count": 20,
   "metadata": {},
   "outputs": [
    {
     "data": {
      "image/png": "[encoded data removed]",
      "text/plain": [
       "<Figure size 432x288 with 1 Axes>"
      ]
     },
     "metadata": {
      "needs_background": "light"
     },
     "output_type": "display_data"
    }
   ],
   "source": [
    "# пакет для картинок\n",
    "from matplotlib import pyplot as plt\n",
    "\n",
    "# пакет для статистики\n",
    "import scipy.stats as sts\n",
    "\n",
    "# сгенерируем выборку из нормального распределения\n",
    "norm_rv = sts.norm(0, 1)\n",
    "sample = norm_rv.rvs(10000)\n",
    "\n",
    "plt.hist(sample)\n",
    "plt.show()"
   ]
  },
  {
   "cell_type": "code",
   "execution_count": 138,
   "metadata": {},
   "outputs": [
    {
     "data": {
      "text/plain": [
       "-1.96"
      ]
     },
     "execution_count": 138,
     "metadata": {},
     "output_type": "execute_result"
    }
   ],
   "source": [
    "# находим нужный нам квантиль нормального распределения\n",
    "round(norm_rv.ppf((1-0.95)/2),4)"
   ]
  },
  {
   "cell_type": "markdown",
   "metadata": {},
   "source": [
    "По аналогии можно найти точное значение, на которое нужно умножать ошибку для любой константы $c$.\n",
    "\n",
    "__ВАЖНО:__ всё, о чём написано выше, работает только тогда, когда $\\bar x$ и $\\hat p$ имеют нормальное распределение. Иногда это не так и нужно использовать другие распределения. Но об этом вы будете говорить подробнее на теории вероятности и математической статистике. А мы в следущей тетрадке покажем вам более универсальный метод по работе с гипотезами, работающий почти всегда. Под названием бустрап."
   ]
  }
 ],
 "metadata": {
  "kernelspec": {
   "display_name": "Python 3",
   "language": "python",
   "name": "python3"
  },
  "language_info": {
   "codemirror_mode": {
    "name": "ipython",
    "version": 3
   },
   "file_extension": ".py",
   "mimetype": "text/x-python",
   "name": "python",
   "nbconvert_exporter": "python",
   "pygments_lexer": "ipython3",
   "version": "3.7.2"
  }
 },
 "nbformat": 4,
 "nbformat_minor": 2
}
