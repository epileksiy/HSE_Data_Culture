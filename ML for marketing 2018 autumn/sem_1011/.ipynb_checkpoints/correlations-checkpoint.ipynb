{
 "cells": [
  {
   "cell_type": "markdown",
   "metadata": {},
   "source": [
    "# Сказ о пиве и подгузниках\n",
    "\n",
    "Если очень сильно хочется, можно анализировать покупки людей в магазинах. Именно этим мы в этой небольшой тетрадке и займёмся. "
   ]
  },
  {
   "cell_type": "code",
   "execution_count": 92,
   "metadata": {},
   "outputs": [],
   "source": [
    "import pandas as pd\n",
    "import numpy as np"
   ]
  },
  {
   "cell_type": "markdown",
   "metadata": {},
   "source": [
    "Подружаем данные и смотрим как они выглядят."
   ]
  },
  {
   "cell_type": "code",
   "execution_count": 93,
   "metadata": {},
   "outputs": [
    {
     "data": {
      "text/plain": [
       "array(['citrus fruit,semi-finished bread,margarine,ready soups',\n",
       "       'tropical fruit,yogurt,coffee', 'whole milk', ...,\n",
       "       'chicken,citrus fruit,other vegetables,butter,yogurt,frozen dessert,domestic eggs,rolls/buns,rum,cling film/bags',\n",
       "       'semi-finished bread,bottled water,soda,bottled beer',\n",
       "       'chicken,tropical fruit,other vegetables,vinegar,shopping bags'],\n",
       "      dtype=object)"
      ]
     },
     "execution_count": 93,
     "metadata": {},
     "output_type": "execute_result"
    }
   ],
   "source": [
    "df = pd.read_csv('groceries.csv', sep=';', header=-1)\n",
    "purches = df[0].get_values()\n",
    "purches"
   ]
  },
  {
   "cell_type": "markdown",
   "metadata": {},
   "source": [
    "Наши данные - это длинные списки из покупок. Наример, в один из первых чеков вошли вот такие вот продукты: "
   ]
  },
  {
   "cell_type": "code",
   "execution_count": 94,
   "metadata": {},
   "outputs": [
    {
     "data": {
      "text/plain": [
       "'citrus fruit,semi-finished bread,margarine,ready soups'"
      ]
     },
     "execution_count": 94,
     "metadata": {},
     "output_type": "execute_result"
    }
   ],
   "source": [
    "purches[0]"
   ]
  },
  {
   "cell_type": "markdown",
   "metadata": {},
   "source": [
    "Давайте немного упорядочим наши данные. Превратим их из списочного вида в табличку. По строкам будут наблюдения, по столбцам названия продуктов. Если продукт был куплен в каком-то чеке, в колонке будет стоять $1$. Если не был, $0$."
   ]
  },
  {
   "cell_type": "code",
   "execution_count": 26,
   "metadata": {},
   "outputs": [],
   "source": [
    "purches_dicts = [ ]\n",
    "for item in purches:\n",
    "    cur_dict = { }\n",
    "    for jtem in item.split(','):\n",
    "        cur_dict[jtem] = 1\n",
    "    purches_dicts.append(cur_dict)"
   ]
  },
  {
   "cell_type": "markdown",
   "metadata": {},
   "source": [
    "Итак, итоговая таблица покупок. "
   ]
  },
  {
   "cell_type": "code",
   "execution_count": 32,
   "metadata": {
    "scrolled": true
   },
   "outputs": [
    {
     "name": "stdout",
     "output_type": "stream",
     "text": [
      "(9835, 169)\n"
     ]
    },
    {
     "data": {
      "text/html": [
       "<div>\n",
       "<style scoped>\n",
       "    .dataframe tbody tr th:only-of-type {\n",
       "        vertical-align: middle;\n",
       "    }\n",
       "\n",
       "    .dataframe tbody tr th {\n",
       "        vertical-align: top;\n",
       "    }\n",
       "\n",
       "    .dataframe thead th {\n",
       "        text-align: right;\n",
       "    }\n",
       "</style>\n",
       "<table border=\"1\" class=\"dataframe\">\n",
       "  <thead>\n",
       "    <tr style=\"text-align: right;\">\n",
       "      <th></th>\n",
       "      <th>Instant food products</th>\n",
       "      <th>UHT-milk</th>\n",
       "      <th>abrasive cleaner</th>\n",
       "      <th>artif. sweetener</th>\n",
       "      <th>baby cosmetics</th>\n",
       "      <th>baby food</th>\n",
       "      <th>bags</th>\n",
       "      <th>baking powder</th>\n",
       "      <th>bathroom cleaner</th>\n",
       "      <th>beef</th>\n",
       "      <th>...</th>\n",
       "      <th>turkey</th>\n",
       "      <th>vinegar</th>\n",
       "      <th>waffles</th>\n",
       "      <th>whipped/sour cream</th>\n",
       "      <th>whisky</th>\n",
       "      <th>white bread</th>\n",
       "      <th>white wine</th>\n",
       "      <th>whole milk</th>\n",
       "      <th>yogurt</th>\n",
       "      <th>zwieback</th>\n",
       "    </tr>\n",
       "  </thead>\n",
       "  <tbody>\n",
       "    <tr>\n",
       "      <th>0</th>\n",
       "      <td>0.0</td>\n",
       "      <td>0.0</td>\n",
       "      <td>0.0</td>\n",
       "      <td>0.0</td>\n",
       "      <td>0.0</td>\n",
       "      <td>0.0</td>\n",
       "      <td>0.0</td>\n",
       "      <td>0.0</td>\n",
       "      <td>0.0</td>\n",
       "      <td>0.0</td>\n",
       "      <td>...</td>\n",
       "      <td>0.0</td>\n",
       "      <td>0.0</td>\n",
       "      <td>0.0</td>\n",
       "      <td>0.0</td>\n",
       "      <td>0.0</td>\n",
       "      <td>0.0</td>\n",
       "      <td>0.0</td>\n",
       "      <td>0.0</td>\n",
       "      <td>0.0</td>\n",
       "      <td>0.0</td>\n",
       "    </tr>\n",
       "    <tr>\n",
       "      <th>1</th>\n",
       "      <td>0.0</td>\n",
       "      <td>0.0</td>\n",
       "      <td>0.0</td>\n",
       "      <td>0.0</td>\n",
       "      <td>0.0</td>\n",
       "      <td>0.0</td>\n",
       "      <td>0.0</td>\n",
       "      <td>0.0</td>\n",
       "      <td>0.0</td>\n",
       "      <td>0.0</td>\n",
       "      <td>...</td>\n",
       "      <td>0.0</td>\n",
       "      <td>0.0</td>\n",
       "      <td>0.0</td>\n",
       "      <td>0.0</td>\n",
       "      <td>0.0</td>\n",
       "      <td>0.0</td>\n",
       "      <td>0.0</td>\n",
       "      <td>0.0</td>\n",
       "      <td>1.0</td>\n",
       "      <td>0.0</td>\n",
       "    </tr>\n",
       "    <tr>\n",
       "      <th>2</th>\n",
       "      <td>0.0</td>\n",
       "      <td>0.0</td>\n",
       "      <td>0.0</td>\n",
       "      <td>0.0</td>\n",
       "      <td>0.0</td>\n",
       "      <td>0.0</td>\n",
       "      <td>0.0</td>\n",
       "      <td>0.0</td>\n",
       "      <td>0.0</td>\n",
       "      <td>0.0</td>\n",
       "      <td>...</td>\n",
       "      <td>0.0</td>\n",
       "      <td>0.0</td>\n",
       "      <td>0.0</td>\n",
       "      <td>0.0</td>\n",
       "      <td>0.0</td>\n",
       "      <td>0.0</td>\n",
       "      <td>0.0</td>\n",
       "      <td>1.0</td>\n",
       "      <td>0.0</td>\n",
       "      <td>0.0</td>\n",
       "    </tr>\n",
       "    <tr>\n",
       "      <th>3</th>\n",
       "      <td>0.0</td>\n",
       "      <td>0.0</td>\n",
       "      <td>0.0</td>\n",
       "      <td>0.0</td>\n",
       "      <td>0.0</td>\n",
       "      <td>0.0</td>\n",
       "      <td>0.0</td>\n",
       "      <td>0.0</td>\n",
       "      <td>0.0</td>\n",
       "      <td>0.0</td>\n",
       "      <td>...</td>\n",
       "      <td>0.0</td>\n",
       "      <td>0.0</td>\n",
       "      <td>0.0</td>\n",
       "      <td>0.0</td>\n",
       "      <td>0.0</td>\n",
       "      <td>0.0</td>\n",
       "      <td>0.0</td>\n",
       "      <td>0.0</td>\n",
       "      <td>1.0</td>\n",
       "      <td>0.0</td>\n",
       "    </tr>\n",
       "    <tr>\n",
       "      <th>4</th>\n",
       "      <td>0.0</td>\n",
       "      <td>0.0</td>\n",
       "      <td>0.0</td>\n",
       "      <td>0.0</td>\n",
       "      <td>0.0</td>\n",
       "      <td>0.0</td>\n",
       "      <td>0.0</td>\n",
       "      <td>0.0</td>\n",
       "      <td>0.0</td>\n",
       "      <td>0.0</td>\n",
       "      <td>...</td>\n",
       "      <td>0.0</td>\n",
       "      <td>0.0</td>\n",
       "      <td>0.0</td>\n",
       "      <td>0.0</td>\n",
       "      <td>0.0</td>\n",
       "      <td>0.0</td>\n",
       "      <td>0.0</td>\n",
       "      <td>1.0</td>\n",
       "      <td>0.0</td>\n",
       "      <td>0.0</td>\n",
       "    </tr>\n",
       "  </tbody>\n",
       "</table>\n",
       "<p>5 rows × 169 columns</p>\n",
       "</div>"
      ],
      "text/plain": [
       "   Instant food products  UHT-milk  abrasive cleaner  artif. sweetener  \\\n",
       "0                    0.0       0.0               0.0               0.0   \n",
       "1                    0.0       0.0               0.0               0.0   \n",
       "2                    0.0       0.0               0.0               0.0   \n",
       "3                    0.0       0.0               0.0               0.0   \n",
       "4                    0.0       0.0               0.0               0.0   \n",
       "\n",
       "   baby cosmetics  baby food  bags  baking powder  bathroom cleaner  beef  \\\n",
       "0             0.0        0.0   0.0            0.0               0.0   0.0   \n",
       "1             0.0        0.0   0.0            0.0               0.0   0.0   \n",
       "2             0.0        0.0   0.0            0.0               0.0   0.0   \n",
       "3             0.0        0.0   0.0            0.0               0.0   0.0   \n",
       "4             0.0        0.0   0.0            0.0               0.0   0.0   \n",
       "\n",
       "     ...     turkey  vinegar  waffles  whipped/sour cream  whisky  \\\n",
       "0    ...        0.0      0.0      0.0                 0.0     0.0   \n",
       "1    ...        0.0      0.0      0.0                 0.0     0.0   \n",
       "2    ...        0.0      0.0      0.0                 0.0     0.0   \n",
       "3    ...        0.0      0.0      0.0                 0.0     0.0   \n",
       "4    ...        0.0      0.0      0.0                 0.0     0.0   \n",
       "\n",
       "   white bread  white wine  whole milk  yogurt  zwieback  \n",
       "0          0.0         0.0         0.0     0.0       0.0  \n",
       "1          0.0         0.0         0.0     1.0       0.0  \n",
       "2          0.0         0.0         1.0     0.0       0.0  \n",
       "3          0.0         0.0         0.0     1.0       0.0  \n",
       "4          0.0         0.0         1.0     0.0       0.0  \n",
       "\n",
       "[5 rows x 169 columns]"
      ]
     },
     "execution_count": 32,
     "metadata": {},
     "output_type": "execute_result"
    }
   ],
   "source": [
    "df = pd.DataFrame(purches_dicts).fillna(0)\n",
    "print(df.shape)\n",
    "df.head()"
   ]
  },
  {
   "cell_type": "markdown",
   "metadata": {},
   "source": [
    "Какие продукты в выборке встречаются чаще всего."
   ]
  },
  {
   "cell_type": "code",
   "execution_count": 45,
   "metadata": {},
   "outputs": [
    {
     "data": {
      "text/plain": [
       "whole milk               2513.0\n",
       "other vegetables         1903.0\n",
       "rolls/buns               1809.0\n",
       "soda                     1715.0\n",
       "yogurt                   1372.0\n",
       "bottled water            1087.0\n",
       "root vegetables          1072.0\n",
       "tropical fruit           1032.0\n",
       "shopping bags             969.0\n",
       "sausage                   924.0\n",
       "pastry                    875.0\n",
       "citrus fruit              814.0\n",
       "bottled beer              792.0\n",
       "newspapers                785.0\n",
       "canned beer               764.0\n",
       "pip fruit                 744.0\n",
       "fruit/vegetable juice     711.0\n",
       "whipped/sour cream        705.0\n",
       "brown bread               638.0\n",
       "domestic eggs             624.0\n",
       "dtype: float64"
      ]
     },
     "execution_count": 45,
     "metadata": {},
     "output_type": "execute_result"
    }
   ],
   "source": [
    "df.sum(axis=0).sort_values(ascending=False)[:20]"
   ]
  },
  {
   "cell_type": "markdown",
   "metadata": {},
   "source": [
    "Матрица скоррелированности продуктов."
   ]
  },
  {
   "cell_type": "code",
   "execution_count": 52,
   "metadata": {
    "scrolled": false
   },
   "outputs": [
    {
     "data": {
      "text/html": [
       "<div>\n",
       "<style scoped>\n",
       "    .dataframe tbody tr th:only-of-type {\n",
       "        vertical-align: middle;\n",
       "    }\n",
       "\n",
       "    .dataframe tbody tr th {\n",
       "        vertical-align: top;\n",
       "    }\n",
       "\n",
       "    .dataframe thead th {\n",
       "        text-align: right;\n",
       "    }\n",
       "</style>\n",
       "<table border=\"1\" class=\"dataframe\">\n",
       "  <thead>\n",
       "    <tr style=\"text-align: right;\">\n",
       "      <th></th>\n",
       "      <th>Instant food products</th>\n",
       "      <th>UHT-milk</th>\n",
       "      <th>abrasive cleaner</th>\n",
       "      <th>artif. sweetener</th>\n",
       "      <th>baby cosmetics</th>\n",
       "      <th>baby food</th>\n",
       "      <th>bags</th>\n",
       "      <th>baking powder</th>\n",
       "      <th>bathroom cleaner</th>\n",
       "      <th>beef</th>\n",
       "      <th>...</th>\n",
       "      <th>turkey</th>\n",
       "      <th>vinegar</th>\n",
       "      <th>waffles</th>\n",
       "      <th>whipped/sour cream</th>\n",
       "      <th>whisky</th>\n",
       "      <th>white bread</th>\n",
       "      <th>white wine</th>\n",
       "      <th>whole milk</th>\n",
       "      <th>yogurt</th>\n",
       "      <th>zwieback</th>\n",
       "    </tr>\n",
       "  </thead>\n",
       "  <tbody>\n",
       "    <tr>\n",
       "      <th>Instant food products</th>\n",
       "      <td>1.000000</td>\n",
       "      <td>0.008598</td>\n",
       "      <td>-0.005378</td>\n",
       "      <td>-0.005141</td>\n",
       "      <td>-0.002223</td>\n",
       "      <td>-0.000907</td>\n",
       "      <td>-0.001815</td>\n",
       "      <td>0.013845</td>\n",
       "      <td>-0.004721</td>\n",
       "      <td>0.019695</td>\n",
       "      <td>...</td>\n",
       "      <td>0.017214</td>\n",
       "      <td>0.006884</td>\n",
       "      <td>-0.000215</td>\n",
       "      <td>0.005904</td>\n",
       "      <td>-0.002568</td>\n",
       "      <td>0.026516</td>\n",
       "      <td>-0.012528</td>\n",
       "      <td>0.025631</td>\n",
       "      <td>0.009795</td>\n",
       "      <td>0.033731</td>\n",
       "    </tr>\n",
       "    <tr>\n",
       "      <th>UHT-milk</th>\n",
       "      <td>0.008598</td>\n",
       "      <td>1.000000</td>\n",
       "      <td>-0.011118</td>\n",
       "      <td>0.029089</td>\n",
       "      <td>-0.004596</td>\n",
       "      <td>-0.001876</td>\n",
       "      <td>-0.003753</td>\n",
       "      <td>0.013637</td>\n",
       "      <td>0.011853</td>\n",
       "      <td>-0.008271</td>\n",
       "      <td>...</td>\n",
       "      <td>0.014629</td>\n",
       "      <td>0.013074</td>\n",
       "      <td>0.024576</td>\n",
       "      <td>0.014065</td>\n",
       "      <td>-0.005308</td>\n",
       "      <td>-0.002391</td>\n",
       "      <td>-0.013479</td>\n",
       "      <td>-0.058426</td>\n",
       "      <td>0.044235</td>\n",
       "      <td>0.025421</td>\n",
       "    </tr>\n",
       "    <tr>\n",
       "      <th>abrasive cleaner</th>\n",
       "      <td>-0.005378</td>\n",
       "      <td>-0.011118</td>\n",
       "      <td>1.000000</td>\n",
       "      <td>0.026568</td>\n",
       "      <td>-0.001477</td>\n",
       "      <td>-0.000603</td>\n",
       "      <td>-0.001205</td>\n",
       "      <td>-0.008020</td>\n",
       "      <td>0.029497</td>\n",
       "      <td>0.031886</td>\n",
       "      <td>...</td>\n",
       "      <td>-0.005412</td>\n",
       "      <td>0.037635</td>\n",
       "      <td>0.005816</td>\n",
       "      <td>0.036346</td>\n",
       "      <td>-0.001705</td>\n",
       "      <td>0.012982</td>\n",
       "      <td>0.004182</td>\n",
       "      <td>0.027627</td>\n",
       "      <td>0.025220</td>\n",
       "      <td>-0.004986</td>\n",
       "    </tr>\n",
       "    <tr>\n",
       "      <th>artif. sweetener</th>\n",
       "      <td>-0.005141</td>\n",
       "      <td>0.029089</td>\n",
       "      <td>0.026568</td>\n",
       "      <td>1.000000</td>\n",
       "      <td>-0.001412</td>\n",
       "      <td>-0.000576</td>\n",
       "      <td>-0.001152</td>\n",
       "      <td>0.032963</td>\n",
       "      <td>-0.002998</td>\n",
       "      <td>-0.005436</td>\n",
       "      <td>...</td>\n",
       "      <td>-0.005174</td>\n",
       "      <td>0.017582</td>\n",
       "      <td>-0.002135</td>\n",
       "      <td>-0.008955</td>\n",
       "      <td>-0.001630</td>\n",
       "      <td>0.005806</td>\n",
       "      <td>-0.007954</td>\n",
       "      <td>0.011558</td>\n",
       "      <td>0.033681</td>\n",
       "      <td>-0.004767</td>\n",
       "    </tr>\n",
       "    <tr>\n",
       "      <th>baby cosmetics</th>\n",
       "      <td>-0.002223</td>\n",
       "      <td>-0.004596</td>\n",
       "      <td>-0.001477</td>\n",
       "      <td>-0.001412</td>\n",
       "      <td>1.000000</td>\n",
       "      <td>-0.000249</td>\n",
       "      <td>-0.000498</td>\n",
       "      <td>0.027920</td>\n",
       "      <td>-0.001296</td>\n",
       "      <td>-0.005814</td>\n",
       "      <td>...</td>\n",
       "      <td>-0.002237</td>\n",
       "      <td>-0.002000</td>\n",
       "      <td>0.016481</td>\n",
       "      <td>0.009097</td>\n",
       "      <td>-0.000705</td>\n",
       "      <td>0.015327</td>\n",
       "      <td>-0.003440</td>\n",
       "      <td>0.013850</td>\n",
       "      <td>-0.009948</td>\n",
       "      <td>-0.002062</td>\n",
       "    </tr>\n",
       "  </tbody>\n",
       "</table>\n",
       "<p>5 rows × 169 columns</p>\n",
       "</div>"
      ],
      "text/plain": [
       "                       Instant food products  UHT-milk  abrasive cleaner  \\\n",
       "Instant food products               1.000000  0.008598         -0.005378   \n",
       "UHT-milk                            0.008598  1.000000         -0.011118   \n",
       "abrasive cleaner                   -0.005378 -0.011118          1.000000   \n",
       "artif. sweetener                   -0.005141  0.029089          0.026568   \n",
       "baby cosmetics                     -0.002223 -0.004596         -0.001477   \n",
       "\n",
       "                       artif. sweetener  baby cosmetics  baby food      bags  \\\n",
       "Instant food products         -0.005141       -0.002223  -0.000907 -0.001815   \n",
       "UHT-milk                       0.029089       -0.004596  -0.001876 -0.003753   \n",
       "abrasive cleaner               0.026568       -0.001477  -0.000603 -0.001205   \n",
       "artif. sweetener               1.000000       -0.001412  -0.000576 -0.001152   \n",
       "baby cosmetics                -0.001412        1.000000  -0.000249 -0.000498   \n",
       "\n",
       "                       baking powder  bathroom cleaner      beef    ...     \\\n",
       "Instant food products       0.013845         -0.004721  0.019695    ...      \n",
       "UHT-milk                    0.013637          0.011853 -0.008271    ...      \n",
       "abrasive cleaner           -0.008020          0.029497  0.031886    ...      \n",
       "artif. sweetener            0.032963         -0.002998 -0.005436    ...      \n",
       "baby cosmetics              0.027920         -0.001296 -0.005814    ...      \n",
       "\n",
       "                         turkey   vinegar   waffles  whipped/sour cream  \\\n",
       "Instant food products  0.017214  0.006884 -0.000215            0.005904   \n",
       "UHT-milk               0.014629  0.013074  0.024576            0.014065   \n",
       "abrasive cleaner      -0.005412  0.037635  0.005816            0.036346   \n",
       "artif. sweetener      -0.005174  0.017582 -0.002135           -0.008955   \n",
       "baby cosmetics        -0.002237 -0.002000  0.016481            0.009097   \n",
       "\n",
       "                         whisky  white bread  white wine  whole milk  \\\n",
       "Instant food products -0.002568     0.026516   -0.012528    0.025631   \n",
       "UHT-milk              -0.005308    -0.002391   -0.013479   -0.058426   \n",
       "abrasive cleaner      -0.001705     0.012982    0.004182    0.027627   \n",
       "artif. sweetener      -0.001630     0.005806   -0.007954    0.011558   \n",
       "baby cosmetics        -0.000705     0.015327   -0.003440    0.013850   \n",
       "\n",
       "                         yogurt  zwieback  \n",
       "Instant food products  0.009795  0.033731  \n",
       "UHT-milk               0.044235  0.025421  \n",
       "abrasive cleaner       0.025220 -0.004986  \n",
       "artif. sweetener       0.033681 -0.004767  \n",
       "baby cosmetics        -0.009948 -0.002062  \n",
       "\n",
       "[5 rows x 169 columns]"
      ]
     },
     "execution_count": 52,
     "metadata": {},
     "output_type": "execute_result"
    }
   ],
   "source": [
    "correlations = df.corr()\n",
    "correlations.head()"
   ]
  },
  {
   "cell_type": "markdown",
   "metadata": {},
   "source": [
    "Посмотрим какое именно пиво есть в выборке."
   ]
  },
  {
   "cell_type": "code",
   "execution_count": 51,
   "metadata": {},
   "outputs": [
    {
     "data": {
      "text/plain": [
       "['bottled beer', 'canned beer']"
      ]
     },
     "execution_count": 51,
     "metadata": {},
     "output_type": "execute_result"
    }
   ],
   "source": [
    "[item for item in df.columns.values if 'beer' in item]"
   ]
  },
  {
   "cell_type": "markdown",
   "metadata": {},
   "source": [
    "Коррелирующие продукты для бутылочного пива."
   ]
  },
  {
   "cell_type": "code",
   "execution_count": 60,
   "metadata": {},
   "outputs": [
    {
     "data": {
      "text/plain": [
       "bottled beer            1.000000\n",
       "liquor                  0.132855\n",
       "red/blush wine          0.089220\n",
       "bottled water           0.080402\n",
       "prosecco                0.052998\n",
       "liquor (appetizer)      0.049366\n",
       "tea                     0.047823\n",
       "specialty vegetables    0.041658\n",
       "roll products           0.036569\n",
       "brandy                  0.033047\n",
       "Name: bottled beer, dtype: float64"
      ]
     },
     "execution_count": 60,
     "metadata": {},
     "output_type": "execute_result"
    }
   ],
   "source": [
    "correlations['bottled beer'].sort_values(ascending = False).head(10)"
   ]
  },
  {
   "cell_type": "markdown",
   "metadata": {},
   "source": [
    "Наоборот, продукты, которые мешают купить бутылочное пиво."
   ]
  },
  {
   "cell_type": "code",
   "execution_count": 78,
   "metadata": {},
   "outputs": [
    {
     "data": {
      "text/plain": [
       "canned beer          -0.049591\n",
       "pastry               -0.033420\n",
       "butter milk          -0.029794\n",
       "shopping bags        -0.028878\n",
       "whipped/sour cream   -0.025744\n",
       "cream cheese         -0.025670\n",
       "specialty bar        -0.022136\n",
       "berries              -0.021536\n",
       "candy                -0.021230\n",
       "liver loaf           -0.021155\n",
       "Name: bottled beer, dtype: float64"
      ]
     },
     "execution_count": 78,
     "metadata": {},
     "output_type": "execute_result"
    }
   ],
   "source": [
    "correlations['bottled beer'].sort_values(ascending = True).head(10)"
   ]
  },
  {
   "cell_type": "markdown",
   "metadata": {},
   "source": [
    "Прлукты, которые чаще всего покупают с баночным пивом."
   ]
  },
  {
   "cell_type": "code",
   "execution_count": 61,
   "metadata": {},
   "outputs": [
    {
     "data": {
      "text/plain": [
       "canned beer           1.000000\n",
       "liquor (appetizer)    0.046854\n",
       "shopping bags         0.046811\n",
       "male cosmetics        0.030982\n",
       "red/blush wine        0.028549\n",
       "baby cosmetics        0.023598\n",
       "brandy                0.016596\n",
       "liqueur               0.016343\n",
       "cream                 0.010352\n",
       "syrup                 0.010100\n",
       "Name: canned beer, dtype: float64"
      ]
     },
     "execution_count": 61,
     "metadata": {},
     "output_type": "execute_result"
    }
   ],
   "source": [
    "correlations['canned beer'].sort_values(ascending = False).head(10)"
   ]
  },
  {
   "cell_type": "markdown",
   "metadata": {},
   "source": [
    "Посмотрим ещё на парочку продуктов."
   ]
  },
  {
   "cell_type": "code",
   "execution_count": 63,
   "metadata": {},
   "outputs": [
    {
     "data": {
      "text/plain": [
       "coffee                  1.000000\n",
       "condensed milk          0.082529\n",
       "sugar                   0.066510\n",
       "cling film/bags         0.059407\n",
       "UHT-milk                0.055370\n",
       "shopping bags           0.052144\n",
       "kitchen towels          0.048280\n",
       "oil                     0.044692\n",
       "specialty vegetables    0.042004\n",
       "pickled vegetables      0.041921\n",
       "Name: coffee, dtype: float64"
      ]
     },
     "execution_count": 63,
     "metadata": {},
     "output_type": "execute_result"
    }
   ],
   "source": [
    "correlations['coffee'].sort_values(ascending = False).head(10)"
   ]
  },
  {
   "cell_type": "code",
   "execution_count": 79,
   "metadata": {},
   "outputs": [
    {
     "data": {
      "text/plain": [
       "frozen fish              -0.018915\n",
       "beverages                -0.018740\n",
       "finished products        -0.014685\n",
       "white wine               -0.012279\n",
       "organic sausage          -0.011755\n",
       "prosecco                 -0.011207\n",
       "flower soil/fertilizer   -0.010923\n",
       "ready soups              -0.010631\n",
       "rum                      -0.010128\n",
       "decalcifier              -0.009703\n",
       "Name: coffee, dtype: float64"
      ]
     },
     "execution_count": 79,
     "metadata": {},
     "output_type": "execute_result"
    }
   ],
   "source": [
    "correlations['coffee'].sort_values(ascending = True).head(10)"
   ]
  },
  {
   "cell_type": "markdown",
   "metadata": {},
   "source": [
    "Какой-нибудь рандомный продукт..."
   ]
  },
  {
   "cell_type": "code",
   "execution_count": 90,
   "metadata": {},
   "outputs": [
    {
     "name": "stdout",
     "output_type": "stream",
     "text": [
      "baby cosmetics\n"
     ]
    },
    {
     "data": {
      "text/plain": [
       "cream             0.112438\n",
       "dish cleaner      0.078359\n",
       "cookware          0.077403\n",
       "syrup             0.070897\n",
       "kitchen towels    0.051406\n",
       "soups             0.048015\n",
       "butter milk       0.045765\n",
       "oil               0.045669\n",
       "sweet spreads     0.041124\n",
       "mustard           0.035099\n",
       "Name: baby cosmetics, dtype: float64"
      ]
     },
     "execution_count": 90,
     "metadata": {},
     "output_type": "execute_result"
    }
   ],
   "source": [
    "index = np.random.randint(0, df.shape[1],1)[0]\n",
    "product = df.columns[index]\n",
    "print(product)\n",
    "correlations[product].sort_values(ascending = False).head(10)"
   ]
  },
  {
   "cell_type": "code",
   "execution_count": 91,
   "metadata": {},
   "outputs": [
    {
     "data": {
      "text/plain": [
       "yogurt                  -0.009948\n",
       "bottled water           -0.008709\n",
       "sausage                 -0.007956\n",
       "pastry                  -0.007721\n",
       "bottled beer            -0.007312\n",
       "newspapers              -0.007277\n",
       "fruit/vegetable juice   -0.006897\n",
       "brown bread             -0.006507\n",
       "domestic eggs           -0.006431\n",
       "frankfurter             -0.006185\n",
       "Name: baby cosmetics, dtype: float64"
      ]
     },
     "execution_count": 91,
     "metadata": {},
     "output_type": "execute_result"
    }
   ],
   "source": [
    "correlations[product].sort_values(ascending = True).head(10)"
   ]
  },
  {
   "cell_type": "markdown",
   "metadata": {},
   "source": [
    "Можно находить среди продуктов, на основе скоррелированности целые кластеры покупаемых вместе продуктов. А ещё все гипотезы о корреляциях должны по-честному тестироваться. Но это уже совсем другая история, которая не подходит для коротенького последнего занятия. \n",
    "\n",
    "![](https://pp.userapi.com/c638028/v638028181/52e5e/1X-dkzNN1hk.jpg)"
   ]
  }
 ],
 "metadata": {
  "kernelspec": {
   "display_name": "Python 3",
   "language": "python",
   "name": "python3"
  },
  "language_info": {
   "codemirror_mode": {
    "name": "ipython",
    "version": 3
   },
   "file_extension": ".py",
   "mimetype": "text/x-python",
   "name": "python",
   "nbconvert_exporter": "python",
   "pygments_lexer": "ipython3",
   "version": "3.6.4"
  }
 },
 "nbformat": 4,
 "nbformat_minor": 2
}
