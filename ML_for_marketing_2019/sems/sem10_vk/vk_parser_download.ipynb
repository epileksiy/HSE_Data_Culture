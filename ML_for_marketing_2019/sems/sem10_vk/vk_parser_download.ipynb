{
 "cells": [
  {
   "cell_type": "markdown",
   "metadata": {},
   "source": [
    "<img align=\"center\" src=\"https://raw.githubusercontent.com/FUlyankin/Parsers/master/images%20/cats.jpg\" height=\"1200\" width=\"1200\"> \n",
    "\n",
    "# <center> ML для маркетинга. <br>  <br> Cюжетная арка 3: сегментация </center>\n",
    "\n",
    "В этом семестре мы с вами пройдём через несколько сюжетных арок. Третьей и заключительной такой аркой будет сегментация. \n",
    "\n",
    "\n",
    "#  Глава II (Вконтакте и его мальчик) "
   ]
  },
  {
   "cell_type": "markdown",
   "metadata": {},
   "source": [
    "Ознакомиться со способами взаимодействия с Вконтакте можно по [ссылке](https://vk.com/dev/manuals) на отличную документацию. Для того, чтобы получить доступ к выгрузке данных, нужно пройти ряд бюрократических процедур (о, боже, эти два предложения были так бюрократически сформулированы, что мне захотелось отстоять в очереди).\n",
    "\n",
    "Первая такая процедура заключается в создании своего приложения. Для этого переходим по [ссылке](http://vk.com/editapp?act=create) и проходимся по необходимым шагам:\n",
    "\n",
    "<img align=\"center\" src=\"pictures/app_creation_1.png\" height=\"600\" width=\"600\">\n",
    "\n",
    "После подтверждения своей личности по номеру телефона, попадаем на страницу свежесозданного приложения\n",
    "<img align=\"center\" src=\"pictures/app_creation_2.png\" height=\"600\" width=\"600\">\n",
    "\n",
    "Слева нам будем доступна вкладка с настройками, перейдя в неё мы увидим все необходимые нам для работы с приложением параметры:\n",
    "<img align=\"center\" src=\"pictures/app_creation_3.png\" height=\"600\" width=\"600\">\n"
   ]
  },
  {
   "cell_type": "markdown",
   "metadata": {},
   "source": [
    "Для работы с частью методов API этого вполне достаточно (обычно в заголовке такого метода стоит соответствующая пометка). Для части методов, используемых нами, может понадобиться ключ доступа.\n",
    "\n",
    "Для того, чтобы получить его, необходимо сделать ещё пару странных манипуляций:\n",
    "\n",
    "Переходим по ссылке вида (на месте звездочек должен стоять ID созданного вами приложения):\n",
    "\n",
    "> https://oauth.vk.com/authorize?client_id=**********&scope=14&redirect_uri=https://oauth.vk.com/blank.html&display=page&v=5.16&response_type=token\n",
    "\n",
    "<img align=\"center\" src=\"pictures/app_creation_4.png\" height=\"600\" width=\"600\">\n",
    "\n",
    "В итоге по этому запросу будет сформирована ссылка следующего вида:\n",
    "> https://oauth.vk.com/blank.html#access_token=25b636116ef40e0718fe4d9f382544fc28&expires_in=86400&user_id=*******\n",
    "\n",
    "Первый набор знаков - `access token`, т.е. маркер доступа. Вторая цифра (`expires_in=`) время работы маркера доступа в секундах (одни сутки). По истечению суток нужно будет получить новый маркер доступа. Последняя цифра (`user_id=`) ваш ID Вконтакте. Нам в дальнейшем понадобится маркер доступа. Для удобства сохраним его в отдельном файле или экспортируем в глобальную область видимости. В целях безопасности ваших данных не стоит нигде светить токенами и тем более выкладывать их в открытый доступ.\n",
    "\n",
    "Обратите внимание на ссылку, по которой мы делали запрос на предоставление токена. Внутри неё находится странный параметр `scope=14.` Эта загадочная цифра есть ничто иное, как права доступа к социальной сети. Подробнее познакомиться с взаимно-однозначным соответствием между числами и правами можно в документации. Например, если мы хотим получить доступ к друзьям, фото и аудио, мы подставим в scope цифру 2+4+8=14.\n",
    "\n",
    "> __ВАЖНО:__ Если отдать свой токен другому человеку, у него будет доступ к вашему аккаунту. Он легко может выкачать ваши личные переписки и даже удалить страницу. Не светите свой токен в интернетах и берегите его с молоду. "
   ]
  },
  {
   "cell_type": "markdown",
   "metadata": {},
   "source": [
    "# 1. Впервые врываемся в вк и узнаём как нас зовут"
   ]
  },
  {
   "cell_type": "code",
   "execution_count": 53,
   "metadata": {},
   "outputs": [],
   "source": [
    "import requests # библиотека для походов в интернет\n",
    "import time     # пакет для работы с временем"
   ]
  },
  {
   "cell_type": "markdown",
   "metadata": {},
   "source": [
    "Подгрузим токен."
   ]
  },
  {
   "cell_type": "code",
   "execution_count": 54,
   "metadata": {},
   "outputs": [],
   "source": [
    "# мой номер странички\n",
    "myid = '6045249'# вставить номер странички\n",
    "\n",
    "# версия используемого API\n",
    "version = '5.103' \n",
    "\n",
    "# подгружаем токен\n",
    "with open('secret_token.txt') as f:\n",
    "    token = f.read()"
   ]
  },
  {
   "cell_type": "markdown",
   "metadata": {},
   "source": [
    "Чтобы скачать что-то из контакта, надо сделать ссылку и сходить по ней пакетом `requests`. Ссылка должна будет включать в себя метод (что мы просим у вк) и параметры (насколько много). Мы будем просто заменять эти две штуки и выкачивать разные вещи. "
   ]
  },
  {
   "cell_type": "code",
   "execution_count": 55,
   "metadata": {},
   "outputs": [],
   "source": [
    "def vk_download(method, parameters):\n",
    "    url = 'https://api.vk.com/method/' + method + '?' + parameters + '&access_token=' + str(token) + '&v=' + version\n",
    "    response = requests.get(url) \n",
    "    infa = response.json()\n",
    "    return infa "
   ]
  },
  {
   "cell_type": "code",
   "execution_count": 56,
   "metadata": {},
   "outputs": [
    {
     "data": {
      "text/plain": [
       "{'response': [{'id': 6045249,\n",
       "   'first_name': 'Филипп',\n",
       "   'last_name': 'Ульянкин',\n",
       "   'is_closed': False,\n",
       "   'can_access_closed': True}]}"
      ]
     },
     "execution_count": 56,
     "metadata": {},
     "output_type": "execute_result"
    }
   ],
   "source": [
    "method = 'users.get'\n",
    "parameters = 'user_ids=' + myid\n",
    "\n",
    "vk_download(method, parameters)"
   ]
  },
  {
   "cell_type": "markdown",
   "metadata": {},
   "source": [
    "Если вы всё сделали правильно, то у вас выводится имя и фамилия."
   ]
  },
  {
   "cell_type": "markdown",
   "metadata": {},
   "source": [
    "# 2.  Скачаем всех подписчиков пабликов с мемами\n",
    "\n",
    "Мы хотели в следущей тетрадке поанализировать аудиторию разных пабликов с мемами и понять чем люди живут. Я выбрал для нас следушие паблики: \n",
    "\n",
    "**нормальные мемы**\n",
    "\n",
    "* [Хаер скул оф мемес](https://vk.com/hsemem)\n",
    "* [Мемы про машиное обучение для взрослых мужиков](https://vk.com/weirdreparametrizationtrick)\n",
    "* [Физкек](https://vk.com/phys_kek)\n",
    "* [Абстрактные мемы для элиты всех сортов](https://vk.com/abstract_memes)\n",
    "\n",
    "**сомнительные мемы**\n",
    "\n",
    "* [Я смотрю украинские шоу и радуюсь жизни](https://vk.com/ukrainskieshow)\n",
    "* [Female memes](https://vk.com/femalemem)\n",
    "\n",
    "\n",
    "**очень очень плохие мемы**\n",
    "\n",
    "* [Чёткие приколы](https://vk.com/oroom)\n",
    "* [Остроумные](https://vk.com/ostroym)\n",
    "* [Кривое зеркало (театр Евгения Петросяна)](https://vk.com/teleteatrkrivoezerkalo)\n",
    "\n"
   ]
  },
  {
   "cell_type": "code",
   "execution_count": 48,
   "metadata": {},
   "outputs": [],
   "source": [
    "publics = {\n",
    "    'hse_memes': '139105204',\n",
    "    'ml_memes': 'weirdreparametrizationtrick',\n",
    "    'fizkek': '111557607',\n",
    "    'amdevs' : '92337511',\n",
    "    \n",
    "    'female_memes': '139923997',\n",
    "    'ukr_memes': '111869067',\n",
    "    \n",
    "    'bad_memes1': '41807730',\n",
    "    'bad_memes2': '31836774',\n",
    "    'wtf_memes': 'teleteatrkrivoezerkalo'    \n",
    "}"
   ]
  },
  {
   "cell_type": "markdown",
   "metadata": {},
   "source": [
    "С каждой группы скачаем $50000$. По умлочанию все участники группы отсоритрованы по своему номеру id. Чем больше id, тем позднее зерегестрировался человек (поначалу id выдавались по порядку). Для того, чтобы срезать из группы свежих юзеров, давайте выкачивать их с большим значением `offset`. \n",
    "\n",
    "Начнём с вышки."
   ]
  },
  {
   "cell_type": "code",
   "execution_count": 6,
   "metadata": {},
   "outputs": [],
   "source": [
    "cur_id = publics['hse_memes']"
   ]
  },
  {
   "cell_type": "code",
   "execution_count": 7,
   "metadata": {},
   "outputs": [
    {
     "data": {
      "text/plain": [
       "50236"
      ]
     },
     "execution_count": 7,
     "metadata": {},
     "output_type": "execute_result"
    }
   ],
   "source": [
    "# узнаем сколько в группе человек\n",
    "cur_infa = vk_download('groups.getMembers', 'group_id=' + str(cur_id))\n",
    "cur_infa['response']['count']"
   ]
  },
  {
   "cell_type": "markdown",
   "metadata": {},
   "source": [
    "По числу людей в группе будем выбирать откуда начинать скачку. Если в группе $111 000$, тогда `offset = 111 000 - 50000.` Чтобы не уходить в отрицательные числа, если группа маленькая, будем брать максимум из $0$ и нашего отсупа."
   ]
  },
  {
   "cell_type": "code",
   "execution_count": 8,
   "metadata": {},
   "outputs": [
    {
     "data": {
      "text/plain": [
       "236"
      ]
     },
     "execution_count": 8,
     "metadata": {},
     "output_type": "execute_result"
    }
   ],
   "source": [
    "cur_infa['response']['count'] - 50000"
   ]
  },
  {
   "cell_type": "code",
   "execution_count": 9,
   "metadata": {},
   "outputs": [
    {
     "data": {
      "text/plain": [
       "236"
      ]
     },
     "execution_count": 9,
     "metadata": {},
     "output_type": "execute_result"
    }
   ],
   "source": [
    "start_offset = max(0, cur_infa['response']['count'] - 50000)\n",
    "start_offset"
   ]
  },
  {
   "cell_type": "markdown",
   "metadata": {},
   "source": [
    "Скачиваем! "
   ]
  },
  {
   "cell_type": "code",
   "execution_count": 10,
   "metadata": {},
   "outputs": [
    {
     "name": "stdout",
     "output_type": "stream",
     "text": [
      "CPU times: user 797 ms, sys: 79.4 ms, total: 876 ms\n",
      "Wall time: 36.2 s\n"
     ]
    }
   ],
   "source": [
    "%%time\n",
    "infa = [ ] # сюда буду сохранять людей\n",
    "\n",
    "for offset in range(start_offset, start_offset + 50000, 1000):\n",
    "    \n",
    "    time.sleep(0.4) # вк согласен работать 3 раза в секунду, \n",
    "                    # эта строка нужна, чтобы он не ругался \n",
    "    \n",
    "    cur_infa = vk_download('groups.getMembers', \n",
    "                'group_id=' + str(cur_id) + '&offset=' + str(offset))\n",
    "\n",
    "    infa.extend(cur_infa['response']['items'])"
   ]
  },
  {
   "cell_type": "code",
   "execution_count": 11,
   "metadata": {},
   "outputs": [
    {
     "data": {
      "text/plain": [
       "50000"
      ]
     },
     "execution_count": 11,
     "metadata": {},
     "output_type": "execute_result"
    }
   ],
   "source": [
    "len(infa)"
   ]
  },
  {
   "cell_type": "markdown",
   "metadata": {},
   "source": [
    "Завернём наш цикл с пары в функцию. И применим её по очереди к каждому паблику. "
   ]
  },
  {
   "cell_type": "code",
   "execution_count": 12,
   "metadata": {},
   "outputs": [],
   "source": [
    "def group_members_download(cur_id):\n",
    "    \n",
    "    # Сколько всего в группе людей\n",
    "    cur_infa = vk_download('groups.getMembers', 'group_id=' + str(cur_id))\n",
    "    \n",
    "    # стартовая точка\n",
    "    start_offset = max(0, cur_infa['response']['count'] - 50000)\n",
    "\n",
    "    infa = [ ] # сюда буду сохранять людей\n",
    "\n",
    "    # качаем по 1000 штук по циклу :) \n",
    "    for offset in range(start_offset, start_offset + 50000, 1000):\n",
    "\n",
    "        time.sleep(0.4) # вк согласен работать 3 раза в секунду, \n",
    "                        # эта строка нужна, чтобы он не ругался \n",
    "\n",
    "        cur_infa = vk_download('groups.getMembers', \n",
    "                    'group_id=' + str(cur_id) + '&offset=' + str(offset))\n",
    "\n",
    "        infa.extend(cur_infa['response']['items'])\n",
    "    return infa"
   ]
  },
  {
   "cell_type": "markdown",
   "metadata": {},
   "source": [
    "Давайте скачивать. "
   ]
  },
  {
   "cell_type": "code",
   "execution_count": 13,
   "metadata": {},
   "outputs": [
    {
     "name": "stdout",
     "output_type": "stream",
     "text": [
      "Качаю группу hse_memes\n",
      "Качаю группу ml_memes\n",
      "Качаю группу fizkek\n",
      "Качаю группу amdevs\n",
      "Качаю группу female_memes\n",
      "Качаю группу ukr_memes\n",
      "Качаю группу bad_memes1\n",
      "Качаю группу bad_memes2\n",
      "Качаю группу wtf_memes\n",
      "CPU times: user 6.54 s, sys: 526 ms, total: 7.06 s\n",
      "Wall time: 5min 3s\n"
     ]
    }
   ],
   "source": [
    "%%time\n",
    "members = { } # сюда будем класть всех членов групп по очереди\n",
    "\n",
    "for k,v in publics.items():\n",
    "    print('Качаю группу', k)\n",
    "    infa = group_members_download(v)\n",
    "    members[k] = infa    "
   ]
  },
  {
   "cell_type": "markdown",
   "metadata": {},
   "source": [
    "На всякий случай сохраним всех, кого скачали. Будет обидно потерять их и скачивать заново. "
   ]
  },
  {
   "cell_type": "code",
   "execution_count": 14,
   "metadata": {},
   "outputs": [],
   "source": [
    "import pickle  # пакет для сохранения и подгрузки питонячих объектов\n",
    "\n",
    "# сохраняем всё в файл group_members.pickle\n",
    "with open('group_members.pickle', 'wb') as f:\n",
    "    pickle.dump(members, f)\n",
    "    \n",
    "# Подгрузить данные из файлика можно вот так: \n",
    "# with open('group_members.pickle', 'rb') as f:\n",
    "#     members = pickle.load(f)"
   ]
  },
  {
   "cell_type": "markdown",
   "metadata": {},
   "source": [
    "# 3. Отфильтровываем плохих подписчиков\n",
    "\n",
    "Давайте выбросим из нашей выборки всех людей, которые: \n",
    "\n",
    "- Не заходили вконтакт в течение последлних 30 дней\n",
    "- Удалили свою страницу \n",
    "- Закрыли свой профиль от внещних глаз\n",
    "\n",
    "Узнать это всё можно, если найти соотвествующие [fields в документации.](https://vk.com/dev/objects/user) Про удаление страницы и закрытый профиль информация возвращается по умолчанию во вкладках `deactivated` и `is_closed`. Инфу про заходы надо тащить дополнительно с полем `last_seen`."
   ]
  },
  {
   "cell_type": "code",
   "execution_count": 15,
   "metadata": {},
   "outputs": [
    {
     "data": {
      "text/plain": [
       "{'response': [{'id': 6045249,\n",
       "   'first_name': 'Филипп',\n",
       "   'last_name': 'Ульянкин',\n",
       "   'is_closed': False,\n",
       "   'can_access_closed': True,\n",
       "   'last_seen': {'time': 1576173310, 'platform': 7}},\n",
       "  {'id': 494821147,\n",
       "   'first_name': 'Alina',\n",
       "   'last_name': 'Kobets',\n",
       "   'is_closed': True,\n",
       "   'can_access_closed': False,\n",
       "   'last_seen': {'time': 1576172178, 'platform': 7}}]}"
      ]
     },
     "execution_count": 15,
     "metadata": {},
     "output_type": "execute_result"
    }
   ],
   "source": [
    "infa = vk_download('users.get','user_ids=6045249,494821147&fields=last_seen')\n",
    "infa"
   ]
  },
  {
   "cell_type": "markdown",
   "metadata": {},
   "source": [
    "Время последнего захода указывается в виде количества секунд, прошедшего с 1 января 1970 года. Это везде так, привыкайте. "
   ]
  },
  {
   "cell_type": "code",
   "execution_count": 16,
   "metadata": {},
   "outputs": [
    {
     "data": {
      "text/plain": [
       "1576173555.350492"
      ]
     },
     "execution_count": 16,
     "metadata": {},
     "output_type": "execute_result"
    }
   ],
   "source": [
    "# Пакет time позволяет посмотреть сколько секунд прошло к текущему моменту. \n",
    "time.time()"
   ]
  },
  {
   "cell_type": "markdown",
   "metadata": {},
   "source": [
    "Сколько секунд в $30$ днях? "
   ]
  },
  {
   "cell_type": "code",
   "execution_count": 17,
   "metadata": {},
   "outputs": [
    {
     "data": {
      "text/plain": [
       "2592000"
      ]
     },
     "execution_count": 17,
     "metadata": {},
     "output_type": "execute_result"
    }
   ],
   "source": [
    "30*24*60*60"
   ]
  },
  {
   "cell_type": "code",
   "execution_count": 18,
   "metadata": {},
   "outputs": [
    {
     "data": {
      "text/plain": [
       "1573581555.375227"
      ]
     },
     "execution_count": 18,
     "metadata": {},
     "output_type": "execute_result"
    }
   ],
   "source": [
    "# Это дата 30-дневной давности :) \n",
    "time.time() - 30*24*60*60"
   ]
  },
  {
   "cell_type": "markdown",
   "metadata": {},
   "source": [
    "Пробуем скачать информацию! Документация говорит, что максимально в `user_ids` можно пихать $1000$ id. Снова придётся писать цикл. Напишем его для какой-нибудь группы, а потом завернём в функцию. "
   ]
  },
  {
   "cell_type": "code",
   "execution_count": 19,
   "metadata": {},
   "outputs": [
    {
     "data": {
      "text/plain": [
       "50000"
      ]
     },
     "execution_count": 19,
     "metadata": {},
     "output_type": "execute_result"
    }
   ],
   "source": [
    "memes_id = members['hse_memes']  # положили все id в вектор \n",
    "len(memes_id)"
   ]
  },
  {
   "cell_type": "markdown",
   "metadata": {},
   "source": [
    "Всего у нас 50 тыщ людей. Запихнём первую тыщу в функцию для скачивания. Перечислить все id в виде текста через запятую можно вот так: "
   ]
  },
  {
   "cell_type": "code",
   "execution_count": 20,
   "metadata": {},
   "outputs": [
    {
     "data": {
      "text/plain": [
       "2970179"
      ]
     },
     "execution_count": 20,
     "metadata": {},
     "output_type": "execute_result"
    }
   ],
   "source": [
    "# сделали каждый id текстом\n",
    "memes_id_text = [str(item) for item in memes_id]\n",
    "memes_id[0] # цифра  "
   ]
  },
  {
   "cell_type": "code",
   "execution_count": 21,
   "metadata": {},
   "outputs": [
    {
     "data": {
      "text/plain": [
       "'2970179'"
      ]
     },
     "execution_count": 21,
     "metadata": {},
     "output_type": "execute_result"
    }
   ],
   "source": [
    "memes_id_text[0] # текст"
   ]
  },
  {
   "cell_type": "code",
   "execution_count": 22,
   "metadata": {},
   "outputs": [
    {
     "data": {
      "text/plain": [
       "'2970179,2982422,2990617,3016483,3017013,3019390,3046176,3056709,3078214,3082394'"
      ]
     },
     "execution_count": 22,
     "metadata": {},
     "output_type": "execute_result"
    }
   ],
   "source": [
    "# перечислили их через запятую\n",
    "','.join(memes_id_text[:10])"
   ]
  },
  {
   "cell_type": "markdown",
   "metadata": {},
   "source": [
    "Скачаем инфу по шестнадцатой трёхсотне :3 "
   ]
  },
  {
   "cell_type": "code",
   "execution_count": 23,
   "metadata": {},
   "outputs": [],
   "source": [
    "infa = vk_download('users.get','user_ids=' + ','.join(memes_id_text[16*300:17*300]) + '&fields=last_seen')"
   ]
  },
  {
   "cell_type": "code",
   "execution_count": 24,
   "metadata": {},
   "outputs": [
    {
     "data": {
      "text/plain": [
       "{'id': 41951056,\n",
       " 'first_name': 'Arthur',\n",
       " 'last_name': 'Gabibullaev',\n",
       " 'is_closed': False,\n",
       " 'can_access_closed': True,\n",
       " 'last_seen': {'time': 1576170668, 'platform': 7}}"
      ]
     },
     "execution_count": 24,
     "metadata": {},
     "output_type": "execute_result"
    }
   ],
   "source": [
    "infa['response'][0]"
   ]
  },
  {
   "cell_type": "markdown",
   "metadata": {},
   "source": [
    "Просеиваем плохие id. "
   ]
  },
  {
   "cell_type": "code",
   "execution_count": 25,
   "metadata": {},
   "outputs": [
    {
     "ename": "KeyError",
     "evalue": "'last_seen'",
     "output_type": "error",
     "traceback": [
      "\u001b[0;31m---------------------------------------------------------------------------\u001b[0m",
      "\u001b[0;31mKeyError\u001b[0m                                  Traceback (most recent call last)",
      "\u001b[0;32m<ipython-input-25-857db227ba9d>\u001b[0m in \u001b[0;36m<module>\u001b[0;34m\u001b[0m\n\u001b[1;32m      6\u001b[0m     \u001b[0;32mif\u001b[0m \u001b[0;34m(\u001b[0m\u001b[0;34m'deactivated'\u001b[0m \u001b[0;32mnot\u001b[0m \u001b[0;32min\u001b[0m \u001b[0mitem\u001b[0m\u001b[0;34m)\u001b[0m \u001b[0;32mand\u001b[0m\u001b[0;31m \u001b[0m\u001b[0;31m\\\u001b[0m\u001b[0;34m\u001b[0m\u001b[0;34m\u001b[0m\u001b[0m\n\u001b[1;32m      7\u001b[0m        \u001b[0;34m(\u001b[0m\u001b[0mitem\u001b[0m\u001b[0;34m[\u001b[0m\u001b[0;34m'is_closed'\u001b[0m\u001b[0;34m]\u001b[0m \u001b[0;34m==\u001b[0m \u001b[0;32mFalse\u001b[0m\u001b[0;34m)\u001b[0m \u001b[0;32mand\u001b[0m\u001b[0;31m \u001b[0m\u001b[0;31m\\\u001b[0m\u001b[0;34m\u001b[0m\u001b[0;34m\u001b[0m\u001b[0m\n\u001b[0;32m----> 8\u001b[0;31m        \u001b[0;34m(\u001b[0m\u001b[0mitem\u001b[0m\u001b[0;34m[\u001b[0m\u001b[0;34m'last_seen'\u001b[0m\u001b[0;34m]\u001b[0m\u001b[0;34m[\u001b[0m\u001b[0;34m'time'\u001b[0m\u001b[0;34m]\u001b[0m \u001b[0;34m>=\u001b[0m \u001b[0mtime\u001b[0m\u001b[0;34m.\u001b[0m\u001b[0mtime\u001b[0m\u001b[0;34m(\u001b[0m\u001b[0;34m)\u001b[0m \u001b[0;34m-\u001b[0m \u001b[0;36m30\u001b[0m\u001b[0;34m*\u001b[0m\u001b[0;36m24\u001b[0m\u001b[0;34m*\u001b[0m\u001b[0;36m60\u001b[0m\u001b[0;34m*\u001b[0m\u001b[0;36m60\u001b[0m\u001b[0;34m)\u001b[0m\u001b[0;34m:\u001b[0m\u001b[0;34m\u001b[0m\u001b[0;34m\u001b[0m\u001b[0m\n\u001b[0m\u001b[1;32m      9\u001b[0m \u001b[0;34m\u001b[0m\u001b[0m\n\u001b[1;32m     10\u001b[0m                 \u001b[0mclean_member_id\u001b[0m\u001b[0;34m.\u001b[0m\u001b[0mappend\u001b[0m\u001b[0;34m(\u001b[0m\u001b[0mitem\u001b[0m\u001b[0;34m)\u001b[0m \u001b[0;31m# запоминаем его\u001b[0m\u001b[0;34m\u001b[0m\u001b[0;34m\u001b[0m\u001b[0m\n",
      "\u001b[0;31mKeyError\u001b[0m: 'last_seen'"
     ]
    }
   ],
   "source": [
    "clean_member_id = [ ] # сюда будем записывать хорошие\n",
    "\n",
    "for item in infa['response']:\n",
    "    \n",
    "    # если пользователь не удален, не приватный, а ещё недавно был в сети \n",
    "    if ('deactivated' not in item) and \\\n",
    "       (item['is_closed'] == False) and \\\n",
    "       (item['last_seen']['time'] >= time.time() - 30*24*60*60):\n",
    "    \n",
    "                clean_member_id.append(item) # запоминаем его "
   ]
  },
  {
   "cell_type": "markdown",
   "metadata": {},
   "source": [
    "АААААА НЕ РАБОТАЕТ!!! Посмотрим на ком именно произошла ошибка. "
   ]
  },
  {
   "cell_type": "code",
   "execution_count": 26,
   "metadata": {},
   "outputs": [
    {
     "data": {
      "text/plain": [
       "{'id': 42187308,\n",
       " 'first_name': 'Иван',\n",
       " 'last_name': 'Александров',\n",
       " 'is_closed': False,\n",
       " 'can_access_closed': True}"
      ]
     },
     "execution_count": 26,
     "metadata": {},
     "output_type": "execute_result"
    }
   ],
   "source": [
    "item"
   ]
  },
  {
   "cell_type": "markdown",
   "metadata": {},
   "source": [
    "У пользователя не скачалась информация о том как давно он заходил в сеть. Видимо, это происходило очень давно. Давайте будем выбрасывать таких людей из выборки. Нам в этом поможет конструкция `try-except`."
   ]
  },
  {
   "cell_type": "code",
   "execution_count": 27,
   "metadata": {},
   "outputs": [
    {
     "name": "stdout",
     "output_type": "stream",
     "text": [
      "{'id': 42187308, 'first_name': 'Иван', 'last_name': 'Александров', 'is_closed': False, 'can_access_closed': True}\n"
     ]
    }
   ],
   "source": [
    "clean_member_id = [ ] # сюда будем записывать хорошие\n",
    "\n",
    "for item in infa['response']:\n",
    "    \n",
    "    try: # попробуй сделать вот это\n",
    "        \n",
    "        # если пользователь не удален, не приватный, а ещё недавно был в сети \n",
    "        if ('deactivated' not in item) and \\\n",
    "           (item['is_closed'] == False) and \\\n",
    "           (item['last_seen']['time'] >= time.time() - 30*24*60*60):\n",
    "\n",
    "                    clean_member_id.append(item) # запоминаем его \n",
    "    \n",
    "    except: # если питон говорит, что ошибся, сделай вот это \n",
    "        print(item)"
   ]
  },
  {
   "cell_type": "markdown",
   "metadata": {},
   "source": [
    "Одного человека мы просто игнорируем. Не большая потеря для выборки. "
   ]
  },
  {
   "cell_type": "code",
   "execution_count": 28,
   "metadata": {},
   "outputs": [
    {
     "data": {
      "text/plain": [
       "251"
      ]
     },
     "execution_count": 28,
     "metadata": {},
     "output_type": "execute_result"
    }
   ],
   "source": [
    "len(clean_member_id) # из 300 осталось 294"
   ]
  },
  {
   "cell_type": "markdown",
   "metadata": {},
   "source": [
    "Это надо сделать со всеми id из списка, который мы скачали. Напишем для этого функцию и цикл. "
   ]
  },
  {
   "cell_type": "code",
   "execution_count": 29,
   "metadata": {},
   "outputs": [],
   "source": [
    "def filter_members(memes_id):\n",
    "    \n",
    "    # сделали id текстом\n",
    "    memes_id_text = [str(item) for item in memes_id]\n",
    "    \n",
    "    clean_memes_id = [ ] # список для хорших id \n",
    "    \n",
    "    # качаем информацию кусочками по 300 штук\n",
    "    for i in range(len(memes_id_text)//300):\n",
    "                \n",
    "        time.sleep(0.4) # немного подождали, чтобы вк нас не банил\n",
    "        \n",
    "                                                         # взяли текущие 300 человек из списка\n",
    "        infa = vk_download('users.get','user_ids=' + ','.join(memes_id_text[i*300:(i+1)*300]) + '&fields=last_seen')\n",
    " \n",
    "        \n",
    "\n",
    "        # чистим пользователей\n",
    "        for item in infa['response']:\n",
    "\n",
    "            try: # попробуй сделать вот это\n",
    "\n",
    "                # если пользователь не удален, не приватный, а ещё недавно был в сети \n",
    "                if ('deactivated' not in item) and \\\n",
    "                   (item['is_closed'] == False) and \\\n",
    "                   (item['last_seen']['time'] >= time.time() - 30*24*60*60):\n",
    "\n",
    "                            clean_memes_id.append(item) # запоминаем его \n",
    "\n",
    "            except:   # если питон говорит, что ошибся, сделай вот это \n",
    "                pass  # (ничего не делай) \n",
    "    \n",
    "\n",
    "    # можно выводить инфу на экран вот так\n",
    "    print('остаось {} человек'.format(len(clean_memes_id)))\n",
    "    \n",
    "    return clean_memes_id # вернули из функции чистые id"
   ]
  },
  {
   "cell_type": "markdown",
   "metadata": {},
   "source": [
    "Применяем эту функцию ко всем группам. "
   ]
  },
  {
   "cell_type": "code",
   "execution_count": 30,
   "metadata": {},
   "outputs": [
    {
     "name": "stdout",
     "output_type": "stream",
     "text": [
      "Фильтрую id из группы hse_memes\n",
      "остаось 39819 человек\n",
      "Фильтрую id из группы ml_memes\n",
      "остаось 7587 человек\n",
      "Фильтрую id из группы fizkek\n",
      "остаось 18355 человек\n",
      "Фильтрую id из группы amdevs\n",
      "остаось 24406 человек\n",
      "Фильтрую id из группы female_memes\n",
      "остаось 18995 человек\n",
      "Фильтрую id из группы ukr_memes\n",
      "остаось 15389 человек\n",
      "Фильтрую id из группы bad_memes1\n",
      "остаось 20547 человек\n",
      "Фильтрую id из группы bad_memes2\n",
      "остаось 28514 человек\n",
      "Фильтрую id из группы wtf_memes\n",
      "остаось 3214 человек\n",
      "CPU times: user 18 s, sys: 1.43 s, total: 19.4 s\n",
      "Wall time: 15min 37s\n"
     ]
    }
   ],
   "source": [
    "%%time\n",
    "clean_members = { } # сюда будем класть всех прочищеных членов групп по очереди\n",
    "\n",
    "for k,v in members.items():\n",
    "    print('Фильтрую id из группы', k)\n",
    "    infa = filter_members(v)\n",
    "    clean_members[k] = infa    "
   ]
  },
  {
   "cell_type": "markdown",
   "metadata": {},
   "source": [
    "__Первый вывод:__ манишлернеры какие-то хикки, закрывают свои страницы. А в группу кривого зеркала никто похоже не заходит. Петросян нагнал ботов. Снова на всякий случай сохраним все id. "
   ]
  },
  {
   "cell_type": "code",
   "execution_count": 31,
   "metadata": {},
   "outputs": [],
   "source": [
    "with open('group_clean_members.pickle', 'wb') as f:\n",
    "    pickle.dump(clean_members, f)"
   ]
  },
  {
   "cell_type": "markdown",
   "metadata": {},
   "source": [
    "# 4. Скачиваем стены\n",
    "\n",
    "Для каждого пользователя скачаем со стены $100$ записей. Снова если вк не разрешает нам сделать этого, будем игнорировать id. Приватные аккаунты всё ещё остались в выборке :( "
   ]
  },
  {
   "cell_type": "code",
   "execution_count": 57,
   "metadata": {},
   "outputs": [],
   "source": [
    "import pickle\n",
    "with open('group_clean_members.pickle', 'rb') as f:\n",
    "    clean_members = pickle.load(f)"
   ]
  },
  {
   "cell_type": "code",
   "execution_count": 58,
   "metadata": {},
   "outputs": [
    {
     "data": {
      "text/plain": [
       "3208515"
      ]
     },
     "execution_count": 58,
     "metadata": {},
     "output_type": "execute_result"
    }
   ],
   "source": [
    "cur_id = clean_members['hse_memes'][10]['id']\n",
    "cur_id"
   ]
  },
  {
   "cell_type": "code",
   "execution_count": 59,
   "metadata": {},
   "outputs": [
    {
     "data": {
      "text/plain": [
       "100"
      ]
     },
     "execution_count": 59,
     "metadata": {},
     "output_type": "execute_result"
    }
   ],
   "source": [
    "wall = vk_download('wall.get', 'owner_id='+str(cur_id)+'&count=100')\n",
    "wall = wall['response']['items']\n",
    "len(wall)"
   ]
  },
  {
   "cell_type": "code",
   "execution_count": 60,
   "metadata": {},
   "outputs": [
    {
     "data": {
      "text/plain": [
       "{'id': 18905,\n",
       " 'from_id': 3208515,\n",
       " 'owner_id': 3208515,\n",
       " 'date': 1575857187,\n",
       " 'post_type': 'post',\n",
       " 'text': '',\n",
       " 'attachments': [{'type': 'photo',\n",
       "   'photo': {'id': 457248884,\n",
       "    'album_id': -7,\n",
       "    'owner_id': 3208515,\n",
       "    'sizes': [{'type': 'm',\n",
       "      'url': 'https://sun9-69.userapi.com/c858336/v858336609/120c36/tXiIrwhOvhc.jpg',\n",
       "      'width': 130,\n",
       "      'height': 98},\n",
       "     {'type': 'o',\n",
       "      'url': 'https://sun9-9.userapi.com/c858336/v858336609/120c39/xxqAx1grUiw.jpg',\n",
       "      'width': 130,\n",
       "      'height': 98},\n",
       "     {'type': 'p',\n",
       "      'url': 'https://sun9-71.userapi.com/c858336/v858336609/120c3a/t4UHMLM1JQk.jpg',\n",
       "      'width': 200,\n",
       "      'height': 151},\n",
       "     {'type': 'q',\n",
       "      'url': 'https://sun9-27.userapi.com/c858336/v858336609/120c3b/8NI3cpmP1e0.jpg',\n",
       "      'width': 320,\n",
       "      'height': 242},\n",
       "     {'type': 'r',\n",
       "      'url': 'https://sun9-41.userapi.com/c858336/v858336609/120c3c/SpYR0IwxWwU.jpg',\n",
       "      'width': 510,\n",
       "      'height': 386},\n",
       "     {'type': 's',\n",
       "      'url': 'https://sun9-50.userapi.com/c858336/v858336609/120c35/2x-xgkU4yio.jpg',\n",
       "      'width': 75,\n",
       "      'height': 57},\n",
       "     {'type': 'x',\n",
       "      'url': 'https://sun9-28.userapi.com/c858336/v858336609/120c37/oRRdcLme1Jw.jpg',\n",
       "      'width': 604,\n",
       "      'height': 457},\n",
       "     {'type': 'y',\n",
       "      'url': 'https://sun9-71.userapi.com/c858336/v858336609/120c38/_ErTsG-1A-M.jpg',\n",
       "      'width': 640,\n",
       "      'height': 484}],\n",
       "    'text': '',\n",
       "    'date': 1575857186,\n",
       "    'access_key': '5996a83ad9466f75e5'}}],\n",
       " 'post_source': {'type': 'vk'},\n",
       " 'comments': {'count': 0, 'can_post': 1, 'groups_can_post': True},\n",
       " 'likes': {'count': 8, 'user_likes': 0, 'can_like': 1, 'can_publish': 1},\n",
       " 'reposts': {'count': 0, 'user_reposted': 0},\n",
       " 'views': {'count': 224},\n",
       " 'is_favorite': False}"
      ]
     },
     "execution_count": 60,
     "metadata": {},
     "output_type": "execute_result"
    }
   ],
   "source": [
    "wall[0]"
   ]
  },
  {
   "cell_type": "markdown",
   "metadata": {},
   "source": [
    "Будем как на паре вытаскивать тексты постов и тексты репостов. "
   ]
  },
  {
   "cell_type": "code",
   "execution_count": 36,
   "metadata": {
    "scrolled": false
   },
   "outputs": [],
   "source": [
    "post_texts = [cur['text'] for cur in wall]\n",
    "repost_texts = [cur['copy_history'][0]['text'] if 'copy_history' in cur else '' for cur in wall]"
   ]
  },
  {
   "cell_type": "markdown",
   "metadata": {},
   "source": [
    "Их будем соединять в один огромный пост. "
   ]
  },
  {
   "cell_type": "code",
   "execution_count": 37,
   "metadata": {
    "scrolled": false
   },
   "outputs": [
    {
     "data": {
      "text/plain": [
       "' Ааааааа  Как тебе такое, Илон Маск? Аааааааааааааааааа\\nКоротко о том почему я обожаю эту лабу Вёз из Бухареста через Афины банку горячего белого шоколада - это такая штука, которую заливаешь горячим молоком и умираешь от удовольствия. На каждой проверке рюкзака рентгеном, у меня просили её достать и внимательно рассматривали. \"Ха-ха, наверное на рентгене сыпучий материал выглядит похожим на жидкость с газом, вот они и думают что это банка с жидкостью\", думал я. \"Опять эти дурацкие правила по провозу жидкости в самолётах, сколько мемов про это было, охохох\". \\nИ только в Москве у меня дошло что банка, под завязку набитая белым порошком, вызывала у них подозрения не потому что похожа на жидкость, а потому что похожа на банку, наполненную белым порошком. Это история о том как я не нашёл во всём аэропорте повод миниджек-миниджек для наушников, но зато нашёл это.\\nЭто, кажется, даже не ЛПТ, а что-то древне́е. В Бухаресте детские площадки не хуже советских. Коротко о моих интересах по жизни на примере книжкой полки рандомной съемной квартиры в Бухаресте  Алишные отзывы русских людей с английским уровня \"свободно пишу/читаю со словарём\" иногда слишком хороши. Мы придумали раунд 2!\\nЕсли бы у вас был фетиш согласно теме вашей диссертации/ВКР, что бы вас возбуждало?\\n\\nНачну: втыкание людям электродов в голову и подчинение их своей воле (мухаха) Пытался вспомнить о Гамельнском крысолове, что привело к тому что мой воспалённый разум выдал \"Стокгольмский дудодув\". ААААА Еду на Яндекс-такси, из-за перепада в ценах взял комфорт+, т.к. было по той же цене что и эконом с наценкой. \\nТакую степень комфорта я ещё не ощущал в своей жизни. Например, водитель остановил машину чтобы вместо меня посраться с другим водителем, вот это сервис. Го придумывать лабораторки по информатике и программированию для гуманитариев!\\n\\nУ меня в заложниках группа психологов-первокуров и задача поиздева... кхм, научить их работать во всяких гуглодоках и чуток прогать. Мб кто-нибудь хочет затусить на выходных в скайпе/кафешке и придумать интересные лабораторные для них? Мне кажется, у меня в друзьях есть ИТ-люди которым было бы интересно такое замутить.  Смотрите какую мне охеренную афишу сделали! Это просто 10 из 10!   Если вам кажется что только у вас в жизни ничего не работает, приходите послушать про гипноз, который тоже не работает. Если ты вы получили суперспособность согласно теме своей диссертации/диплома, какой бы была эта суперспособность и каким бы супергероем вы были бы?\\n\\n(Человек-бесполезность который не вносит никакого эффекта уже занят) В общем, смешная штука в чём. \\n\\nМне кажется, что я не принадлежу к той сфере, в которой я работаю. Я постоянно чувствую себя недостаточно подготовленным, мне всё время кажется что мне нужно узнать гораздо, гораздо больше прежде чем я смогу хотя бы сравняться со своими коллегами. \\nЯ знаю что такое есть очень у многих. Я вижу людей вокруг, которые испытывают то же самое, являясь хорошими специалистами. И все говорят друг другу \"всё ок, это импостер синдром, на самом деле ты клёвый/клёвая\". \\nОднако, меня это не успокаивает, потому что мне кажется что остальные люди, испытывая этот синдром, за счёт своих качеств типа тревожности, старательности и т.п. \"догоняют\" коллег, становясь лучше. А вот лично я такой раздолбай что даже когда я испытываю вот это вот всё, моей мотивации не хватает на то чтобы поддаться в достаточной степени и, из страха что я самый отстающий, двигаться вперёд с приемлемой скоростью. \\nКороче. \\nВдумайтесь. \\nУ моего синдрома самозванца синдром самозванца. Аааааааааааааааа Как человеку, который боится математики всю сознательную жизнь, мне so far очень нравится Khan Academy как место где я пытаюсь пройти математику с самого начала заново.  Прошла эпоха АААААААААААААААААААААААААААААААААААААААА  Насколько я последнее время близок к тому чтобы уйти из науки: Я препод всего вторую неделю, и уже нахожу релевантные мемы. Переходи на тёмную сторону силы В следующие выходные рассказываю про гипноз в Краснодаре. (= Школа по когнитивной психологии памяти К. Дункера 2019 🖤 #трудовыебудни психолога  Я знаю что есть некоторое количество людей, которых я обещал позвать на эксперимент летом, но в итоге так и не позвал. Я про вас не забыл, и это родео ещё не окончено! :D Возможно, я себя недооцениваю. \\nВ кафе за соседнем столиком две девушки:\\n– Там мужик И-ДЕ-АЛЬ-НЫЙ! Женат не был, детей нету, по гороскопу Дева!\\n🤔🤔🤔🤔🤔🤔🤔🤔🤔🤔🤔🤔🤔🤔🤔🤔🤔 Это пипец!\\nhttp://www.rosbalt.ru/russia/2019/08/14/1797140.html\\nhttps://trv-science.ru/inostranec-snimaj-chasy/ Большая фарма сделала очередной ход И вернёмся к моим экспериментам.  Интересно, я когда-нибудь ел яйцо курицы, которую тоже ел?    Иногда на меня подписываются люди, и на вопрос о том, зачем они это делают, отвечают что у меня полезный/интересный контент на странице. \\n\\nА ещё, иногда мне становится стыдно что я пощу одни мемы и кулстори, поэтому, вот вам видос про статистику. БОЛЬШЕ МЕМОВ ПРО ДИССЕРТАЦИЮ (надо же что-то делать, раз её не пишу)\\n\\nMe: I want to study if we can use hypnosis to enhance academic performance in year!\\nGoogle Scholar: Язык моей диссертации А я тут мелькаю на 1:07! :D Прикладная Когнитивная Наука 2019 🖤 Хрен знает сколько лет развития павер поинта, и мы всё ещё не можем перейти на следующий слайд с одного клика, если на слайде фигачит незавершённая анимация. Оно сначала, на первый клик, проматывает анимацию в конец, делая некрасивый скачок, а на второй - переходит на следующий слайд. \\nИ единственное доступное юзерам решение этой проблемы — костыльное шо пипец. Мы должны натянуть на весь слайд прозрачный прямоугольник, который делаем кнопкой переключения слайда.\\nИ это не работает для кучи кликеров, которые имитируют кнопки \"вправо\" и \"влево\" на клавиатуре, а не нажатие мышкой!!!!!\\nААААААААААААААААА  ААААААААААААААААААААААААААААААААААААААААААААААААААААААААААААААААААААААААААААААААААААААААААААААААААААААААААААААААААААААААААААААААААААААААААААААААААААААААААААААА Ровно в творог сжечь полночь © [id1092577|Она же] У вас личность, у меня токсичность © [id1092577|Елена Сергеевна] Кто участвовал в моём эксперименте и хочет ещё (на этот раз необязательно 2 часа и без этого первого часа с тестом) - пишите! А если не напишете, я сам вам напишу. :D Слишком жиза, извините  Йоу. Встретили на улице котика. Он явно домашний, его явно кто-то выкинул, он не очень умеет жить на улице. Подзывается, ластится, не шипит, не дерётся. \\nМы его сейчас помоем, покормим, мб скормим глистогонное на всякий случай, но долго он у нас задержаться не может. Кто-нибудь хочет себе маленькое шоколадное чудовище?\\nАПД1: проведена диагностика мурчальника, проблем не выявлено.\\nАПД2: проявляет признаки узнавания лотка\\nАПД3: пережил помывку как герой, всё понял, вошёл в положение, поблагодарил, пожал руку\\nАПД4: ожидаемо подцепил блох пока шатался по улице, был помыт антиблоховым шампунем, но надо будет долечить. А ещё, на днях мы кинем его в лицо ветеринару  Когда формируешь группы для всех комбинаций переменных в своём эксперименте. Озарения в 3 ночи Когда очень хочешь посмотреть третью серию последнего сезона ИП, но обещал себе что сначала допишешь заявку на конференцию. АААААААААА Пока у меня ничего весёлого, вот вам вакансия У нас идея нескольких песен на стыке Булата Окуджавы и Короля и Шута. \\nМужик зарывает в тёплую землю виноградную косточку и собирается удобрить её ещё дышащим телом своего недруга. Перед этим он омывает тело и, подавшись искушению, съедает часть. \\nПрошло время, виноград созрел, мужик снова к нему приходит, говоря \"здравствуй, здравствуй, я вернулся\", прикасается к лозе, собирает виноград и делает из него вино. Но когда это вино начинают разливать по бокалам, в бокалы наливается кровь, потому что во время посадки винограда совершён страшный грех и ВИНОГРАД ТОТ ПРОКЛЯТ БЫЛ. Вопросов к людям псто!\\n\\nМы тут обсуждали отношения на расстоянии и всякое вот такое, и решили погуглить. И обнаружили полное отсутствие в гугле (по очевидным запросам, по крайней мере) какой-то нормальной и конкретной инфы про всякие штуки которые помогают при отношениях на расстоянии.\\nНе в смысле советы типа \"общайтесь каждый день/не общайтесь слишком часто\", \"трахайтесь по скайпу\", \"не ревнуйте\" и т.п., а какие-нибудь ололо сервисы для совместного просмотра видосов (типа синхтрубы и летсгейза), обзоры на способы информационной безопасности когда всякие фотки неприличные шлёте, способы/игрушки для секса на расстоянии, девайсы для расширения возможности связи (от ололо телеприсутствия до яхз передачи каких-то дополнительных модальностей, примитивного прикосновения там и т.п.), гайды про то как заказать цветы/еду с доставкой в другом городе и вот это вот всё. \\nНу не может же такого быть чтобы какие-нибудь умные чуваки не придумали сделать такой блог или вроде того. Мб кто-нибудь что-нибудь такое знает?\\n\\nUPD: Я нашёл вот это, и оно прекрасно вот прям с самого начала: https://samopoznanie.ru/articles/bezkontaktnyy_seks_i_orgazm_na_rasstoyanii_s_nulya_za_10_min/ Который раз замечаю интересное поведение рекламных ботов. \\nПосле каких-то мероприятий или типа того, часто бывает что мне разом добавляется в друзья несколько человек. И не было ещё ни разу чтобы в течение часов 8-ми ко мне не попытался добавиться рекламный бот. При этом, в \"спокойные\" периоды они так часто не пробуют. \\nТо есть, я правильно понимаю что эти ребята каким-то образом мониторят \"наплывы\" друзей и пытаются под шумок тоже пролезть? Потому что тактика вообще-то неплохая!  Когда пытаешься поступить в нормальное место. С 21 марта по 1 апреля меня не будет в Москве. Если вдруг понадоблюсь очно, то ловите меня до или после!      Когда тебе грустно, но ты не хочешь чтобы окружающие об этом знали.  Товарищи знающие, прошу помощи в поиске пульсометра!\\n\\nНужен девайс для исследования пульса относительно внешних событий. Вдруг среди моих знакомых есть кто-то кто сечёт и сможет подсказать? А то я знаю что всякие смартвотчи страдают отвратительной точностью, а все более-менее нормальные вешаются на грудь, что не устраивает меня. \\nЯ попробую, наверное, перечислить что я хочу от этого девайса:\\n\\n- Хорошая точность измерения ЧСС, это прям самое важное\\n- Удобное крепление - на запястье или плечо было бы идеально, если есть такие с норм точностью. На грудь ваще плохой вариант. На ногу можно. \\n- Сохранение файла в каком-нибудь виде, который можно запихнуть в R-Studio для анализа (если в слеующем пункте есть отправка сигнала на комп, то на это можно забить, там скорее всего легче написать свой софт который сохраняет как мне удобно)\\n- Какой-либо способ синхронизации с событиями внешнего мира. Возможность онлайн снимать показания пульса на какой-нибудь девайс и расставлять какие-нибудь POI (ну или написать свою софтинку которая ловит сигнал и позволяет ставить POI на записи). \\n- Батарейка должна держать типа 2-3 часа, что в моём понимании не очень требовательно. \\n\\nЧто скажете, умные люди, есть у меня шанс найти девайс моей мечты?  ААААААААААААААААААААААААААААААААААААААААААА  Никогда не думал что буду рыдать из-за фильма с названием \"Я хочу съесть твою поджелудочную\". Neuroscience in a nutshell Господи, это просто шедевр  А у вас бывало такое что вы случайно отправляли преподу какую-нибудь тупую опечатку и очень загонялись, но потом убеждали себя что навряд ли он это вообще заметит? \\nТак вот, АХАХАХАХАХАХАХАХАХАХАХАХА Кратко о 90% программ по обучению гипнозу. Кажется, я рассказал индекс по моему эксперименту всем кто этого хотел. Если я кого-то пропустил, пишите в личку. Срочно реквестую хорошие материалы про анатомию и физиологию секса у женщин, потому что я так больше не могу. :DDDDDDDDDDDD  Ой, а у той истории, кажется, случилось печальное продолжение.  Не знаю, не утка ли. но звучит восхитительно:\\n\\nЖители одного из домов Москвы начали сбор подписей против семей с онкобольными детьми, которые снимают жилье в их подъезде. Об этом рассказала координатор благотворительного фонда «Волонтеры в помощь детям-сиротам» Наталья Машкова, сообщают «Такие дела». \\n \\nСтаршая по подъезду обратилась к жильцам с призывом запретить больным раком арендовать квартиру. В петиции женщина написала, что рак — это заразное инфекционное заболевание, поэтому онкобольные ставят под угрозу здоровье жителей дома. «Мы собираем подписи, чтобы у нас в подъезде не было онкодиспансера, раковой больницы. У нас рассадник инфекции», — указано в обращении. \\n \\nПо словам Машковой, женщина активно агитирует жильцов в пользу своей инициативы и рассказывает людям «про 157 заразных вирусов». Также соседка обратилась с жалобой в Роспотребнадзор. Машкова отметила, что петиция не имеет юридической силы, поскольку собственники квартиры могут сдавать ее в аренду кому угодно. Она планирует развесить в подъезде информационные материалы о том, что рак не передается воздушно-капельным путем. \\n \\nСбор подписей открыли после того, как стало известно, что владельцы жилья заключили договор с благотворительным фондом. Организация предоставляет квартиру семьям с онкобольными детьми, которые приезжают в Москву на лечение в центре имени Рогачева. Такая практика существует у многих фондов: больные получают квоты от государства на лечение в столице, однако не могут себе позволить арендовать жилье на время терапии Чем внимательнее всматриваешься в фотографию, тем страннее она оказывается. Телефон решил что я могу перепутать местное время с домашним, и решил выводить мне местное отдельно, дополнительно к домашнему. \\n\\nСпасибо, телефон, ты всегда заботишься обо мне. А кто-то вообще помнит название книжки на которой основан мультсериал \"Вуншпунш\"? \\nЯ вам напомню, если вдруг вылетело из головы, это satanarchäolügenialkohöllische wunschpunsch.               Студенты: Наверно, аспиранты на кафедре проводят настоящие исследования, пишут диссертацию, занимаются серьёзными вещами.\\n\\nАспиранты на кафедре:     Идеальные отношения это МЖМ:\\nМужчина\\nЖенщина\\nМетапознание  10 октября, в 19:00\\nНовый и долгожданный формат!\\n\\nБеседа о гипнозе с Михаилом Решетниковым\\n\\nВход — 300 р.\\nЧаепитие включено\\n\\nВсем людям нравится что-то таинственное и мистическое, пугающее и чарующее. В наш век развитых науки и технологий «белых пятен» на карте знания осталось не так много, и хотя многие продолжают верить в астрологию и экстрасенсов, реально плохо объясненных притягательных загадок почти нет, но гипноз - одна из них.\\n\\nДействительно ли можно управлять другими людьми, внушать им свои мысли? Насколько опасны гипнотизеры - их правда вербуют спецслужбы или это журналистская чепуха? Можно ли вылечить человека от невроза, докопавшись до глубин его подсознания? Могут ли современные психологи объяснить гипноз, нирвану и другие «странные» состояния сознания? На многие эти вопросы в ходе интерактивной беседы ответит сотрудник Института когнитивных нейронаук, преподаватель НИУ ВШЭ Михаил Решетников, исследующий влияние гипноза на решение задач и мышление. Беседу проведет «заслуженный лектор» Ясно Пень Тимофей Березнер.\\n\\nВы можете задать любой вопрос Михаилу через комментарии к этому посту (даже, если не сможете попасть на мероприятие, ответ будет записан)\\nЛучший вопрос получит приз\\n\\nЛекция пройдет в клубе чайной культуры \"Мойчай.ру\" на Покровке.            Что нужно знать гику о мире настоящего и будущего? \\nКак машины делают искусство, возможно ли размножение при невесомости и когда уже мы сможем общаться с носителями другого языка при помощи девайсов? \\n \\nВсе это и еще немного больше в лектории Гики навсегда 14 и 15 сентября. \\n \\n14 сентября:\\nТема: \"Суперспособности: миф или реальность\". Полина Кривых - психофизиолог, популяризатор науки, лектор культурной платформы \"Синхронизация\", лектор и ментор Школы лекторов фонда «Эволюция». \\n\\nТема: \"Переводчик умер, да здравствует переводчик!\". Алексей Малов - лингвист, переводчик, координатор переводчиков и редакторов студии Vert Dider. \\n\\nТема: \"Секс-роботы. Предпосылки. Текущее положение индустрии. Перспективы\". Олег Кивокурцев - директор по развитию и основатель компании промобот. Входит в список Forbes under 30 Europe среди предпринимателей младше 30 лет.\\n\\nТема: \"Антагонизм дополненной и виртуальной реальности\". \\nИван Пузырев - специалист по VR, руководитель отдела дизайна и технологий компании Exhibit Worldwide (США), руководитель проектов компании Maestro Displays (Дубаи), создавал проекты для Motorola, SAAB, Сбербанка и других крупных брендов. \\n \\n15 сентября:\\nТема: \"Нейротеатр - театр постчеловека\". Юрий Дидевич - медиа-художник, саунд-артист, разработчик интерактивных инсталляций и перфомансов, один из создателей и бессменный координатор сообщества CNMRG (Computer & New Music Research Group). \\n \\nТема: “Машины в искусстве и машинное искусство\". Наталья Федорова искусствовед, кандидат филологических наук, научный сотрудник Смольного института свободных наук и искусств, исследователь языкового медиаискусства, куратор фестиваля медиапоэзии. \\n \\nТема: \"Гипноз и наука: а это вообще законно?\". Михаил Решетников - психофизиолог, аспирант ВШЭ, занимается физиологическими коррелятами гипнабельности. \\n\\nТема: \"Киборги и аватары в реальности. Где грань между человеком и зачеловеком?\". Игорь Трапезников - нейрофизиолог, киборг, футуролог, обладатель функциональных имплантов, персонального ЭЭГ OpenBCI, Emotive EPOC, устройства электростимуляции мозга tDCS Foc.us, моноколеса Solowheel и других гаджетов, повышающих функциональность и расширяющих возможности человека. \\n\\nТема: \"Секс в космосе\". Георгий Махатадзе - планетолог, магистрант геологического факультета МГУ, инженер-исследователь лаборатории изотопной геохимии и геохронологии ГЕОХИ РАН, научный консультант «Красивой науки». \\n \\nПодробное расписание лекториев ищите на наше сайте! Успевайте купить билет в предпродаже: https://vk.cc/9yjsF6 \\n \\nGEEK PICNIC 2019 \\n14-15 сентября, Краснодар \\n \\n#geekpicnic #geekpicnickrd\\nhttps://www.youtube.com/watch?v=ELXnSjDq8_M       Колоться можно: прививки не повышают риск рассеянного склероза\\n\\nПомимо аутизма и ДЦП, противники вакцинации умудряются обвинять прививки в том, что они провоцируют рассеянный склероз. Однако крупное исследование немецких учёных показывает, что и это не так. Работа была опубликована в журнале Neurology.\\n\\nЧитать дальше:\\nhttp://neuronovosti.ru/kolotsya-mozhno-privivki-ne-povyshayut-risk-rasseyannogo-skleroza/\\n\\n#нейроновости\\n#рассеянныйсклероз\\n#вакцинация                         Не очень лаконично\\n\\n#супы@cooktech\\n\"\"\"Рина\"\"\\nСмешать молоко и соль по вкусу. Выложить противень на противень, посыпать сахаром и солью. Подавать с гарниром из отварного картофеля, моркови, петрушки, сельдерея, сельдерея, петрушки, сельдерея, петрушки, сельдерея, соль, перец и все перемешать, посыпать сахаром и солью. Подавать с молоком, сметаной, сметаной, солью, перцем, солью, молотым перцем и сахаром. Подавать с маслом или сметаной.\" У нас открылся конкурс на позицию российского постдока! Проект \"Междисциплинарные исследования зрительного восприятия и внимания\". Мы ищем людей возрастом до 35 лет, которые не учились и не работали ранее во ВШЭ. Основными требованиями являются хорошее владение английским языком и опыт работы с айтрекером и/или в области машинного обучения. \\n\\nДедлайн подачи заявки: 31 мая 2019\\n \\nПодробнее о конкурсе можно узнать по ссылке: https://postdocru.hse.ru \\n \\nПо всем вопросам о проекте можно обращаться к руководителю лаборатории Джо Макиннесу (язык английский) (jmacinnes@hse.ru).    Репость себе на стенку, пусть все знают       #500Геномов от Zenome \\n \\nМы готовы подарить 500 полногеномных исследований и хотим предложить Вам принять участие в нашем эксперименте. \\nНам нужно выбрать 500 человек, которые получат анализ генома в подарок. \\nСуть нашего эксперимента: \\nМы дарим Вам анализ полной последовательности Вашего генома в обмен на предоставление Ваших данных для исследовательских целей. Конечно же, все участники исследования будут анонимизированы, но нам понадобится постоянная связь с Вами и Ваше согласие рассказывать нам об особенностях Вашего организма и психологического состояния. \\n \\nОт вас: \\n* Репост нашего эксперимента (или собственный пост с хэштегом #500Геномов) \\n* Заполнение анкеты https://goo.gl/forms/89kC9pCaFdeTi7O82 . Обратите внимание на пункт “ваша суперспособность” - укажите почему именно Вам мы должны сделать бесплатный анализ генома. \\n* Дождаться результатов нашего эксперимента: список победителей, а также инструкция для прохождения геномного анализа будут опубликованы 13 февраля. \\n \\nВ результате исследования Вы получите: \\n* Анализ полной последовательности вашей ДНК \\n* Подробный отчет о происхождении, здоровье, оптимальной диете и многих других особенностях организма, которые определяет твоя ДНК. \\n \\nP.S. Мы сможем начать реализацию эксперимента только если наберем 5000 заполненных анкет в течение двух недель. Поэтому просьба максимально широко распространить информацию об эксперименте всем заинтересованным друзьям и знакомым \\n \\nP.P.S. Если Вы представитель компании, которая заинтересована в исследованиях и персонализации своих продуктов, заполните анкету для компании https://goo.gl/forms/8QfBbCrjROKPEQ4t2 и мы расскажем, как Вы сможете принять участие в совместной исследовательской программе Zenome Research #500Геномов    Китайские власти сообщили о предварительных итогах расследования работы Цзянькуя Хэ, который в ноябре заявил о рождении первых в мире CRISPR-детей: в частности, они подтвердили не только существование близняшек Лулу и Наны, но и еще одну беременность участницы эксперимента\\n\\nhttps://nplus1.ru/news/2019/01/21/more-crispr-babies                   '"
      ]
     },
     "execution_count": 37,
     "metadata": {},
     "output_type": "execute_result"
    }
   ],
   "source": [
    "wall_text = ' '.join(post_texts) + ' '.join(repost_texts)\n",
    "wall_text"
   ]
  },
  {
   "cell_type": "markdown",
   "metadata": {},
   "source": [
    "Все такие стены будем сохранять. Для этого напишем функцию и цикл. "
   ]
  },
  {
   "cell_type": "code",
   "execution_count": 43,
   "metadata": {},
   "outputs": [],
   "source": [
    "def get_wall(user_id):\n",
    "    \n",
    "    # скачели стену \n",
    "    wall = vk_download('wall.get', 'owner_id='+str(user_id)+'&count=100')\n",
    "    \n",
    "    # распаковали её\n",
    "    wall = wall['response']['items']\n",
    "    post_texts = [cur['text'] for cur in wall]\n",
    "    repost_texts = [cur['copy_history'][0]['text'] if 'copy_history' in cur else '' for cur in wall]\n",
    "    \n",
    "    # соединили все посты и репосты в один длинный текст\n",
    "    wall_text = ' '.join(post_texts) + ' '.join(repost_texts)\n",
    "    return wall_text"
   ]
  },
  {
   "cell_type": "markdown",
   "metadata": {},
   "source": [
    "Из каждого паблика скачаем $1000$ рандомных стенок.  \n",
    "\n",
    "__ВАЖНО:__ на метод `wall.get` есть ограничение! Можно скачивать не более $5000$ стен в сутки. Когда вы пробьёте его, вы увидете ошибку \n",
    "\n",
    "```\n",
    "{'error': {'error_code': 29,\n",
    "  'error_msg': 'Rate limit reached',\n",
    "  'request_params': [{'key': 'owner_id', 'value': '43152073'},\n",
    "   {'key': 'count', 'value': '100'},\n",
    "   {'key': 'v', 'value': '5.103'},\n",
    "   {'key': 'method', 'value': 'wall.get'},\n",
    "   {'key': 'oauth', 'value': '1'}]}}\n",
    "```\n",
    "\n",
    "Нужно будет сделать в скачке перерыв. __Лучше качайте паблики по одному и сохраняйте в файлики по одному! Цикл для этого переписать вы в состоянии :)__"
   ]
  },
  {
   "cell_type": "code",
   "execution_count": 61,
   "metadata": {},
   "outputs": [
    {
     "name": "stdout",
     "output_type": "stream",
     "text": [
      "Качаю стены участников из группы female_memes\n",
      "Ошибка! {'id': 558287058, 'first_name': 'Анаит', 'last_name': 'Демина', 'is_closed': False, 'can_access_closed': True, 'last_seen': {'time': 1576173931, 'platform': 4}}\n",
      "Ошибка! {'id': 557473675, 'first_name': 'Лена', 'last_name': 'Осипова', 'is_closed': False, 'can_access_closed': True, 'last_seen': {'time': 1576172568, 'platform': 4}}\n",
      "Качаю стены участников из группы ukr_memes\n",
      "Ошибка! {'id': 541518457, 'first_name': 'Анастасия', 'last_name': 'Кузнецова', 'is_closed': False, 'can_access_closed': True, 'last_seen': {'time': 1576174145, 'platform': 1}}\n",
      "Качаю стены участников из группы bad_memes1\n",
      "Ошибка! {'id': 524183892, 'first_name': 'Луана', 'last_name': 'Иксанова', 'is_closed': False, 'can_access_closed': True, 'last_seen': {'time': 1576174246, 'platform': 4}}\n",
      "Ошибка! {'id': 558690285, 'first_name': 'Vladimir', 'last_name': 'Smile', 'is_closed': False, 'can_access_closed': True, 'last_seen': {'time': 1576170220, 'platform': 4}}\n",
      "Качаю стены участников из группы bad_memes2\n",
      "Ошибка! {'id': 570906498, 'first_name': 'Вероника', 'last_name': 'Эванс', 'is_closed': False, 'can_access_closed': True, 'last_seen': {'time': 1576154080, 'platform': 2}}\n",
      "Ошибка! {'id': 565027739, 'first_name': 'Денис', 'last_name': 'Фролов', 'is_closed': False, 'can_access_closed': True, 'last_seen': {'time': 1576174098, 'platform': 1}}\n",
      "Ошибка! {'id': 573813978, 'first_name': 'Кристина', 'last_name': 'Смирнова', 'is_closed': False, 'can_access_closed': True, 'last_seen': {'time': 1576174437, 'platform': 1}}\n",
      "Качаю стены участников из группы wtf_memes\n",
      "Ошибка! {'id': 263854627, 'first_name': 'Илья', 'last_name': 'Гуськов', 'is_closed': False, 'can_access_closed': True, 'last_seen': {'time': 1576172072, 'platform': 7}}\n",
      "Ошибка! {'id': 232854846, 'first_name': 'Настюша', 'last_name': 'Шершнёва', 'is_closed': False, 'can_access_closed': True, 'last_seen': {'time': 1576165128, 'platform': 4}}\n"
     ]
    }
   ],
   "source": [
    "import numpy as np\n",
    "\n",
    "for k,v in list(clean_members.items())[4:]:\n",
    "    print('Качаю стены участников из группы', k)    \n",
    "    wall_members = [ ] # сюда будем сохранять стенки\n",
    "    \n",
    "    cur_members = np.array(v) \n",
    "    cur_sample = np.random.choice(cur_members, 1000, replace = False)\n",
    "    \n",
    "    for item in cur_sample:\n",
    "    \n",
    "        time.sleep(0.4) # отдыхаем между запросами \n",
    "        \n",
    "        # попробуй, если код упал, напечатай мне id пользователя\n",
    "        try:\n",
    "            # распаковываем стену пользователя \n",
    "            wall_text = get_wall(item['id'])\n",
    "\n",
    "            cur_item = {'group': k, 'id': item['id'], 'wall': wall_text}\n",
    "\n",
    "            wall_members.append(cur_item)\n",
    "        except:\n",
    "            print('Ошибка!', item) \n",
    "\n",
    "    # сохраняем итоговые тексты стенок для текущего сообщества \n",
    "    with open(k + '.pickle', 'wb') as f:\n",
    "        pickle.dump(wall_members, f)\n"
   ]
  },
  {
   "cell_type": "code",
   "execution_count": 62,
   "metadata": {},
   "outputs": [
    {
     "name": "stdout",
     "output_type": "stream",
     "text": [
      "total 287800\r\n",
      "-rw-r--r--   1 fulyankin  staff   5,2M 12 дек 22:21 amdevs.pickle\r\n",
      "-rw-r--r--   1 fulyankin  staff   8,4M 13 дек 01:46 bad_memes1.pickle\r\n",
      "-rw-r--r--   1 fulyankin  staff   1,4M 13 дек 01:56 bad_memes2.pickle\r\n",
      "-rw-r--r--   1 fulyankin  staff   2,0M 13 дек 01:24 female_memes.pickle\r\n",
      "-rw-r--r--   1 fulyankin  staff    17M 12 дек 22:07 fizkek.pickle\r\n",
      "-rw-r--r--   1 fulyankin  staff    19M 12 дек 21:15 group_clean_members.pickle\r\n",
      "-rw-r--r--   1 fulyankin  staff   1,6M 12 дек 20:59 group_members.pickle\r\n",
      "-rw-r--r--   1 fulyankin  staff    17M 12 дек 21:32 hse_memes.pickle\r\n",
      "-rw-r--r--   1 fulyankin  staff    28M 12 дек 21:50 ml_memes.pickle\r\n",
      "drwxr-xr-x@ 14 fulyankin  staff   476B  6 дек 05:11 \u001b[1m\u001b[34mpictures\u001b[m\u001b[m\r\n",
      "-rw-r--r--@  1 fulyankin  staff    85B 13 дек 01:13 secret_token.txt\r\n",
      "-rw-r--r--   1 fulyankin  staff   3,0M 13 дек 01:34 ukr_memes.pickle\r\n",
      "-rw-r--r--   1 fulyankin  staff    71B  6 дек 11:11 untitled.txt\r\n",
      "-rw-r--r--   1 fulyankin  staff    92K 13 дек 02:08 vk_parser_download.ipynb\r\n",
      "-rw-r--r--@  1 fulyankin  staff   9,0K  7 дек 12:12 vk_parser_empty.ipynb\r\n",
      "-rw-r--r--@  1 fulyankin  staff    73K 10 дек 20:39 vk_parser_full.ipynb\r\n",
      "-rw-r--r--   1 fulyankin  staff    37M 13 дек 02:12 wtf_memes.pickle\r\n"
     ]
    }
   ],
   "source": [
    "!ls -hl"
   ]
  },
  {
   "cell_type": "markdown",
   "metadata": {},
   "source": [
    "Этот код будет работать довольно долго. Скачка будет идти со скоростью примерно $10000$ записей со стенок в час. Но тем не менее, он скачает нам всё, что нужно (вам в вашей работе $10000$ стенок более, чем достаточно для анализа."
   ]
  },
  {
   "cell_type": "code",
   "execution_count": null,
   "metadata": {},
   "outputs": [],
   "source": [
    "# wall_members[-1]"
   ]
  },
  {
   "cell_type": "code",
   "execution_count": null,
   "metadata": {},
   "outputs": [],
   "source": [
    "# сохраняем итоговые тексты стенок\n",
    "with open('group_clean_members.pickle', 'wb') as f:\n",
    "    pickle.dump(wall_members, f)"
   ]
  },
  {
   "cell_type": "markdown",
   "metadata": {},
   "source": [
    "## 5. Полезные хитрости\n",
    "\n",
    "\n",
    "#### Хитрость 1:  Не стесняйтесь пользоваться `try-except`\n",
    "\n",
    "Эта конструкция позволяет питону в случае ошибки сделать что-нибудь другое либо проигнорировать её. Например, мы хотим найти логарифм от всех чисел из списка: "
   ]
  },
  {
   "cell_type": "code",
   "execution_count": null,
   "metadata": {},
   "outputs": [],
   "source": [
    "from math import log \n",
    "\n",
    "a = [1,2,3,-1,-5,10,3]\n",
    "\n",
    "for item in a:\n",
    "    print(log(item))"
   ]
  },
  {
   "cell_type": "markdown",
   "metadata": {},
   "source": [
    "У нас не выходит, так как логарифм от отрицательных чисел не берётся. Чтобы код не падал при возникновении ошибки, мы можем его немного изменить: "
   ]
  },
  {
   "cell_type": "code",
   "execution_count": null,
   "metadata": {},
   "outputs": [],
   "source": [
    "from math import log \n",
    "\n",
    "a = [1,2,3,-1,-5,10,3]\n",
    "\n",
    "for item in a:\n",
    "    try:\n",
    "        print(log(item))  # попробуй взять логарифм\n",
    "    except:\n",
    "        print('я не смог') # если не вышло, сознайся и работай дальше"
   ]
  },
  {
   "cell_type": "markdown",
   "metadata": {},
   "source": [
    "Чудо! Код больше не падает."
   ]
  },
  {
   "cell_type": "markdown",
   "metadata": {},
   "source": [
    "Как это использовать в вашем парсере контакта? Ну, например, если вы очень сильно боитесь, что код ночью может упасть из-за какого-то одного стремного пользователя вк, его скачку внутри цикла можно переписать вот так: "
   ]
  },
  {
   "cell_type": "raw",
   "metadata": {},
   "source": [
    "try:\n",
    "    wall_text = get_wall(item['id'])\n",
    "except:\n",
    "    print('Ошибка в', item)"
   ]
  },
  {
   "cell_type": "markdown",
   "metadata": {},
   "source": [
    "Тогда в случае, если id будет битым, код не упадет, а продолжит работу, просто напечатав на экране, что в конкретном id произошла ошибка. Все остальные данные скачаются. Если вы боитесь, что компьютер может зависнуть ночью и умереть на половине скачки, добавьте внутрь цикла код, который будет сохранять данные по кусочкам, а не все сразу в конце скачки. "
   ]
  },
  {
   "cell_type": "markdown",
   "metadata": {},
   "source": [
    "#### Хитрость 2:  используйте пакет tqdm\n",
    "\n",
    "> Код уже работает час. Я вообще без понятия когда он закончит работу. Было бы круто узнать, сколько ещё ждать... \n",
    "\n",
    "Если в вашей голове возникла такая мысль, пакет `tqdm` ваш лучший друг. Установить его можно так: "
   ]
  },
  {
   "cell_type": "code",
   "execution_count": null,
   "metadata": {},
   "outputs": [],
   "source": [
    "!pip install tqdm"
   ]
  },
  {
   "cell_type": "markdown",
   "metadata": {},
   "source": [
    "Просто один раз запустите эту ячейку и `pip` (менеджер пакетов для питона) поставит его вам на компьютер. Теперь можно пользоваться вот такой штукой: "
   ]
  },
  {
   "cell_type": "code",
   "execution_count": null,
   "metadata": {},
   "outputs": [],
   "source": [
    "from tqdm import tqdm_notebook\n",
    "\n",
    "a = list(range(30))\n",
    "\n",
    "# 30 раз будем спать по секунде\n",
    "for i in tqdm_notebook(a):\n",
    "    time.sleep(1)"
   ]
  },
  {
   "cell_type": "markdown",
   "metadata": {},
   "source": [
    "Мы обмотали тот вектор, по которому идёт цикл в `tqdm_notebook`. Это даёт нам красивую зелёную строку, которая показывает насколько сильно мы продвинулись по коду. Обматывайте свои самые большие и долгие циклы в `tqdm_notebook` и всегда понимайте сколько осталось до конца. "
   ]
  },
  {
   "cell_type": "markdown",
   "metadata": {},
   "source": [
    "#### Хитрость 3:  аккуратная работа с массивами\n",
    "\n",
    "Если объявить список, куда вы закидываете людей в одной ячейке, а цикл запускать в другой, можно упростить себе жизнь. Смотрите как: "
   ]
  },
  {
   "cell_type": "code",
   "execution_count": null,
   "metadata": {},
   "outputs": [],
   "source": [
    "a = list(range(100)) # это 100 id которые я хочу скачать "
   ]
  },
  {
   "cell_type": "code",
   "execution_count": null,
   "metadata": {},
   "outputs": [],
   "source": [
    "b = [ ] # сюда я типо качаю по ним инфу"
   ]
  },
  {
   "cell_type": "code",
   "execution_count": null,
   "metadata": {},
   "outputs": [],
   "source": [
    "for i in a:\n",
    "    b.append(i**2)  # это я типо скачал её и добавил в b\n",
    "    \n",
    "    # это я сымитировал падение на 50 id (цикл просто прекратит работать)\n",
    "    if i == 50:\n",
    "        break"
   ]
  },
  {
   "cell_type": "code",
   "execution_count": null,
   "metadata": {},
   "outputs": [],
   "source": [
    "len(b) # скачали 51 человека, нужны еще 49"
   ]
  },
  {
   "cell_type": "markdown",
   "metadata": {},
   "source": [
    "В `b` уже записана информации по $51$ человеку. Давайте просто продолжим скачку тем же циклом, но с 52 человека!"
   ]
  },
  {
   "cell_type": "code",
   "execution_count": null,
   "metadata": {},
   "outputs": [],
   "source": [
    "for i in a[51:]:\n",
    "    b.append(i**2)  # это я типо скачал её и добавил в b\n",
    "    \n",
    "    # это я сымитировал падение на 50 id (цикл просто прекратит работать)\n",
    "    if i == 50:\n",
    "        break"
   ]
  },
  {
   "cell_type": "code",
   "execution_count": null,
   "metadata": {},
   "outputs": [],
   "source": [
    "len(b)  # всё скачалось! "
   ]
  },
  {
   "cell_type": "markdown",
   "metadata": {},
   "source": [
    "Надеюсь вы поняли о чём я. Когда код упал в середине списка для скачки, не обязательно запускать его с самого начала! Половина то уже скачалась и её можно сохранить. "
   ]
  },
  {
   "cell_type": "markdown",
   "metadata": {},
   "source": [
    "#### Хитрость 4:  ускорение кода в 25 раз\n",
    "\n",
    "При желании ваш код можно ускорить в $25$ раз. Для этого вам надо изучить самим [туториал по тому как качать вконтакте,](https://nbviewer.jupyter.org/github/FUlyankin/ekanam_grand_research/blob/master/0.%20vk_parser_tutorial.ipynb) В нём описано как можно переделать код в более быстрый. Можно взять код для скачки [отсюда,](https://github.com/DmitrySerg/OpenData/blob/master/RussianElections2018/Part_1_Parsing_VK.ipynb) он уже переделан. Но придётся заставить его работать. \n",
    "\n",
    "__Обратите внимание, что это не поможет вам пробить лимиты, которые вк устанавливает на работу разных методов скачки.__"
   ]
  },
  {
   "cell_type": "markdown",
   "metadata": {},
   "source": [
    "  "
   ]
  }
 ],
 "metadata": {
  "kernelspec": {
   "display_name": "Python 3",
   "language": "python",
   "name": "python3"
  },
  "language_info": {
   "codemirror_mode": {
    "name": "ipython",
    "version": 3
   },
   "file_extension": ".py",
   "mimetype": "text/x-python",
   "name": "python",
   "nbconvert_exporter": "python",
   "pygments_lexer": "ipython3",
   "version": "3.7.2"
  }
 },
 "nbformat": 4,
 "nbformat_minor": 2
}
