{
 "cells": [
  {
   "cell_type": "markdown",
   "metadata": {},
   "source": [
    "<img align=\"center\" src=\"https://raw.githubusercontent.com/FUlyankin/Parsers/master/images%20/cats.jpg\" height=\"1200\" width=\"1200\"> \n",
    "\n",
    "# <center> ML для маркетинга. <br>  <br> Cюжетная арка 3: сегментация </center>\n",
    "\n",
    "В этом семестре мы с вами пройдём через несколько сюжетных арок. Третьей и заключительной такой аркой будет сегментация. \n",
    "\n",
    "\n",
    "#  Глава II (Вконтакте и его мальчик) "
   ]
  },
  {
   "cell_type": "markdown",
   "metadata": {},
   "source": [
    "Ознакомиться со способами взаимодействия с Вконтакте можно по [ссылке](https://vk.com/dev/manuals) на отличную документацию. Для того, чтобы получить доступ к выгрузке данных, нужно пройти ряд бюрократических процедур (о, боже, эти два предложения были так бюрократически сформулированы, что мне захотелось отстоять в очереди).\n",
    "\n",
    "Первая такая процедура заключается в создании своего приложения. Для этого переходим по [ссылке](http://vk.com/editapp?act=create) и проходимся по необходимым шагам:\n",
    "\n",
    "<img align=\"center\" src=\"pictures/app_creation_1.png\" height=\"600\" width=\"600\">\n",
    "\n",
    "После подтверждения своей личности по номеру телефона, попадаем на страницу свежесозданного приложения\n",
    "<img align=\"center\" src=\"pictures/app_creation_2.png\" height=\"600\" width=\"600\">\n",
    "\n",
    "Слева нам будем доступна вкладка с настройками, перейдя в неё мы увидим все необходимые нам для работы с приложением параметры:\n",
    "<img align=\"center\" src=\"pictures/app_creation_3.png\" height=\"600\" width=\"600\">\n"
   ]
  },
  {
   "cell_type": "markdown",
   "metadata": {},
   "source": [
    "Для работы с частью методов API этого вполне достаточно (обычно в заголовке такого метода стоит соответствующая пометка). Для части методов, используемых нами, может понадобиться ключ доступа.\n",
    "\n",
    "Для того, чтобы получить его, необходимо сделать ещё пару странных манипуляций:\n",
    "\n",
    "Переходим по ссылке вида (на месте звездочек должен стоять ID созданного вами приложения):\n",
    "\n",
    "> https://oauth.vk.com/authorize?client_id=**********&scope=14&redirect_uri=https://oauth.vk.com/blank.html&display=page&v=5.16&response_type=token\n",
    "\n",
    "<img align=\"center\" src=\"pictures/app_creation_4.png\" height=\"600\" width=\"600\">\n",
    "\n",
    "В итоге по этому запросу будет сформирована ссылка следующего вида:\n",
    "> https://oauth.vk.com/blank.html#access_token=25b636116ef40e0718fe4d9f382544fc28&expires_in=86400&user_id=*******\n",
    "\n",
    "Первый набор знаков - `access token`, т.е. маркер доступа. Вторая цифра (`expires_in=`) время работы маркера доступа в секундах (одни сутки). По истечению суток нужно будет получить новый маркер доступа. Последняя цифра (`user_id=`) ваш ID Вконтакте. Нам в дальнейшем понадобится маркер доступа. Для удобства сохраним его в отдельном файле или экспортируем в глобальную область видимости. В целях безопасности ваших данных не стоит нигде светить токенами и тем более выкладывать их в открытый доступ.\n",
    "\n",
    "Обратите внимание на ссылку, по которой мы делали запрос на предоставление токена. Внутри неё находится странный параметр `scope=14.` Эта загадочная цифра есть ничто иное, как права доступа к социальной сети. Подробнее познакомиться с взаимно-однозначным соответствием между числами и правами можно в документации. Например, если мы хотим получить доступ к друзьям, фото и аудио, мы подставим в scope цифру 2+4+8=14.\n",
    "\n",
    "> __ВАЖНО:__ Если отдать свой токен другому человеку, у него будет доступ к вашему аккаунту. Он легко может выкачать ваши личные переписки и даже удалить страницу. Не светите свой токен в интернетах и берегите его с молоду. "
   ]
  },
  {
   "cell_type": "markdown",
   "metadata": {},
   "source": [
    "# 1. Впервые врываемся в вк и узнаём как нас зовут"
   ]
  },
  {
   "cell_type": "code",
   "execution_count": null,
   "metadata": {},
   "outputs": [],
   "source": [
    "import requests # библиотека для походов в интернет\n",
    "import time     # пакет для работы с временем"
   ]
  },
  {
   "cell_type": "markdown",
   "metadata": {},
   "source": [
    "Подгрузим токен."
   ]
  },
  {
   "cell_type": "code",
   "execution_count": null,
   "metadata": {},
   "outputs": [],
   "source": [
    "# мой номер странички\n",
    "myid = '6045249'# вставить номер странички\n",
    "\n",
    "# версия используемого API\n",
    "version = '5.103' \n",
    "\n",
    "# подгружаем токен\n",
    "with open('secret_token.txt') as f:\n",
    "    token = f.read()"
   ]
  },
  {
   "cell_type": "markdown",
   "metadata": {},
   "source": [
    "Чтобы скачать что-то из контакта, надо сделать ссылку и сходить по ней пакетом `requests`. Ссылка должна будет включать в себя метод (что мы просим у вк) и параметры (насколько много). Мы будем просто заменять эти две штуки и выкачивать разные вещи. "
   ]
  },
  {
   "cell_type": "code",
   "execution_count": null,
   "metadata": {},
   "outputs": [],
   "source": [
    "def vk_download(method, parameters):\n",
    "    url = 'https://api.vk.com/method/' + method + '?' + parameters + '&access_token=' + str(token) + '&v=' + version\n",
    "    response = requests.get(url) \n",
    "    infa = response.json()\n",
    "    return infa "
   ]
  },
  {
   "cell_type": "code",
   "execution_count": null,
   "metadata": {},
   "outputs": [],
   "source": [
    "method = 'users.get'\n",
    "parameters = 'user_ids=' + myid\n",
    "\n",
    "vk_download(method, parameters)"
   ]
  },
  {
   "cell_type": "markdown",
   "metadata": {},
   "source": [
    "Если вы всё сделали правильно, то у вас выводится имя и фамилия."
   ]
  },
  {
   "cell_type": "markdown",
   "metadata": {},
   "source": [
    "# 2.  Скачаем всех подписчиков пабликов с мемами\n",
    "\n",
    "Мы хотели в следущей тетрадке поанализировать аудиторию разных пабликов с мемами и понять чем люди живут. Я выбрал для нас следушие паблики: \n",
    "\n",
    "**нормальные мемы**\n",
    "\n",
    "* [Хаер скул оф мемес](https://vk.com/hsemem)\n",
    "* [Мемы про машиное обучение для взрослых мужиков](https://vk.com/weirdreparametrizationtrick)\n",
    "* [Физкек](https://vk.com/phys_kek)\n",
    "* [Абстрактные мемы для элиты всех сортов](https://vk.com/abstract_memes)\n",
    "\n",
    "**сомнительные мемы**\n",
    "\n",
    "* [Я смотрю украинские шоу и радуюсь жизни](https://vk.com/ukrainskieshow)\n",
    "* [Female memes](https://vk.com/femalemem)\n",
    "\n",
    "\n",
    "**очень очень плохие мемы**\n",
    "\n",
    "* [Чёткие приколы](https://vk.com/oroom)\n",
    "* [Остроумные](https://vk.com/ostroym)\n",
    "* [Кривое зеркало (театр Евгения Петросяна)](https://vk.com/teleteatrkrivoezerkalo)\n",
    "\n"
   ]
  },
  {
   "cell_type": "code",
   "execution_count": null,
   "metadata": {},
   "outputs": [],
   "source": [
    "publics = {\n",
    "    'hse_memes': '139105204',\n",
    "    'ml_memes': 'weirdreparametrizationtrick',\n",
    "    'fizkek': '111557607',\n",
    "    'amdevs' : '92337511',\n",
    "    \n",
    "    'female_memes': '139923997',\n",
    "    'ukr_memes': '111869067',\n",
    "    \n",
    "    'bad_memes1': '41807730',\n",
    "    'bad_memes2': '31836774',\n",
    "    'wtf_memes': 'teleteatrkrivoezerkalo'    \n",
    "}"
   ]
  },
  {
   "cell_type": "markdown",
   "metadata": {},
   "source": [
    "С каждой группы скачаем $50000$. По умлочанию все участники группы отсоритрованы по своему номеру id. Чем больше id, тем позднее зерегестрировался человек (поначалу id выдавались по порядку). Для того, чтобы срезать из группы свежих юзеров, давайте выкачивать их с большим значением `offset`. \n",
    "\n",
    "Начнём с вышки."
   ]
  },
  {
   "cell_type": "code",
   "execution_count": null,
   "metadata": {},
   "outputs": [],
   "source": [
    "cur_id = publics['hse_memes']"
   ]
  },
  {
   "cell_type": "code",
   "execution_count": null,
   "metadata": {},
   "outputs": [],
   "source": [
    "# узнаем сколько в группе человек\n",
    "cur_infa = vk_download('groups.getMembers', 'group_id=' + str(cur_id))\n",
    "cur_infa['response']['count']"
   ]
  },
  {
   "cell_type": "markdown",
   "metadata": {},
   "source": [
    "По числу людей в группе будем выбирать откуда начинать скачку. Если в группе $111 000$, тогда `offset = 111 000 - 50000.` Чтобы не уходить в отрицательные числа, если группа маленькая, будем брать максимум из $0$ и нашего отсупа."
   ]
  },
  {
   "cell_type": "code",
   "execution_count": null,
   "metadata": {},
   "outputs": [],
   "source": [
    "cur_infa['response']['count'] - 50000"
   ]
  },
  {
   "cell_type": "code",
   "execution_count": null,
   "metadata": {},
   "outputs": [],
   "source": [
    "start_offset = max(0, cur_infa['response']['count'] - 50000)\n",
    "start_offset"
   ]
  },
  {
   "cell_type": "markdown",
   "metadata": {},
   "source": [
    "Скачиваем! "
   ]
  },
  {
   "cell_type": "code",
   "execution_count": null,
   "metadata": {},
   "outputs": [],
   "source": [
    "%%time\n",
    "infa = [ ] # сюда буду сохранять людей\n",
    "\n",
    "for offset in range(start_offset, start_offset + 50000, 1000):\n",
    "    \n",
    "    time.sleep(0.4) # вк согласен работать 3 раза в секунду, \n",
    "                    # эта строка нужна, чтобы он не ругался \n",
    "    \n",
    "    cur_infa = vk_download('groups.getMembers', \n",
    "                'group_id=' + str(cur_id) + '&offset=' + str(offset))\n",
    "\n",
    "    infa.extend(cur_infa['response']['items'])"
   ]
  },
  {
   "cell_type": "code",
   "execution_count": null,
   "metadata": {},
   "outputs": [],
   "source": [
    "len(infa)"
   ]
  },
  {
   "cell_type": "markdown",
   "metadata": {},
   "source": [
    "Завернём наш цикл с пары в функцию. И применим её по очереди к каждому паблику. "
   ]
  },
  {
   "cell_type": "code",
   "execution_count": null,
   "metadata": {},
   "outputs": [],
   "source": [
    "def group_members_download(cur_id):\n",
    "    \n",
    "    # Сколько всего в группе людей\n",
    "    cur_infa = vk_download('groups.getMembers', 'group_id=' + str(cur_id))\n",
    "    \n",
    "    # стартовая точка\n",
    "    start_offset = max(0, cur_infa['response']['count'] - 50000)\n",
    "\n",
    "    infa = [ ] # сюда буду сохранять людей\n",
    "\n",
    "    # качаем по 1000 штук по циклу :) \n",
    "    for offset in range(start_offset, start_offset + 50000, 1000):\n",
    "\n",
    "        time.sleep(0.4) # вк согласен работать 3 раза в секунду, \n",
    "                        # эта строка нужна, чтобы он не ругался \n",
    "\n",
    "        cur_infa = vk_download('groups.getMembers', \n",
    "                    'group_id=' + str(cur_id) + '&offset=' + str(offset))\n",
    "\n",
    "        infa.extend(cur_infa['response']['items'])\n",
    "    return infa"
   ]
  },
  {
   "cell_type": "markdown",
   "metadata": {},
   "source": [
    "Давайте скачивать. "
   ]
  },
  {
   "cell_type": "code",
   "execution_count": null,
   "metadata": {},
   "outputs": [],
   "source": [
    "%%time\n",
    "members = { } # сюда будем класть всех членов групп по очереди\n",
    "\n",
    "for k,v in publics.items():\n",
    "    print('Качаю группу', k)\n",
    "    infa = group_members_download(v)\n",
    "    members[k] = infa    "
   ]
  },
  {
   "cell_type": "markdown",
   "metadata": {},
   "source": [
    "На всякий случай сохраним всех, кого скачали. Будет обидно потерять их и скачивать заново. "
   ]
  },
  {
   "cell_type": "code",
   "execution_count": null,
   "metadata": {},
   "outputs": [],
   "source": [
    "import pickle  # пакет для сохранения и подгрузки питонячих объектов\n",
    "\n",
    "# сохраняем всё в файл group_members.pickle\n",
    "with open('group_members.pickle', 'wb') as f:\n",
    "    pickle.dump(members, f)\n",
    "    \n",
    "# Подгрузить данные из файлика можно вот так: \n",
    "# with open('group_members.pickle', 'rb') as f:\n",
    "#     members = pickle.load(f)"
   ]
  },
  {
   "cell_type": "markdown",
   "metadata": {},
   "source": [
    "# 3. Отфильтровываем плохих подписчиков\n",
    "\n",
    "Давайте выбросим из нашей выборки всех людей, которые: \n",
    "\n",
    "- Не заходили вконтакт в течение последлних 30 дней\n",
    "- Удалили свою страницу \n",
    "- Закрыли свой профиль от внещних глаз\n",
    "\n",
    "Узнать это всё можно, если найти соотвествующие [fields в документации.](https://vk.com/dev/objects/user) Про удаление страницы и закрытый профиль информация возвращается по умолчанию во вкладках `deactivated` и `is_closed`. Инфу про заходы надо тащить дополнительно с полем `last_seen`."
   ]
  },
  {
   "cell_type": "code",
   "execution_count": null,
   "metadata": {},
   "outputs": [],
   "source": [
    "infa = vk_download('users.get','user_ids=6045249,494821147&fields=last_seen')\n",
    "infa"
   ]
  },
  {
   "cell_type": "markdown",
   "metadata": {},
   "source": [
    "Время последнего захода указывается в виде количества секунд, прошедшего с 1 января 1970 года. Это везде так, привыкайте. "
   ]
  },
  {
   "cell_type": "code",
   "execution_count": null,
   "metadata": {},
   "outputs": [],
   "source": [
    "# Пакет time позволяет посмотреть сколько секунд прошло к текущему моменту. \n",
    "time.time()"
   ]
  },
  {
   "cell_type": "markdown",
   "metadata": {},
   "source": [
    "Сколько секунд в $30$ днях? "
   ]
  },
  {
   "cell_type": "code",
   "execution_count": null,
   "metadata": {},
   "outputs": [],
   "source": [
    "30*24*60*60"
   ]
  },
  {
   "cell_type": "code",
   "execution_count": null,
   "metadata": {},
   "outputs": [],
   "source": [
    "# Это дата 30-дневной давности :) \n",
    "time.time() - 30*24*60*60"
   ]
  },
  {
   "cell_type": "markdown",
   "metadata": {},
   "source": [
    "Пробуем скачать информацию! Документация говорит, что максимально в `user_ids` можно пихать $1000$ id. Снова придётся писать цикл. Напишем его для какой-нибудь группы, а потом завернём в функцию. "
   ]
  },
  {
   "cell_type": "code",
   "execution_count": null,
   "metadata": {},
   "outputs": [],
   "source": [
    "memes_id = members['hse_memes']  # положили все id в вектор \n",
    "len(memes_id)"
   ]
  },
  {
   "cell_type": "markdown",
   "metadata": {},
   "source": [
    "Всего у нас 50 тыщ людей. Запихнём первую тыщу в функцию для скачивания. Перечислить все id в виде текста через запятую можно вот так: "
   ]
  },
  {
   "cell_type": "code",
   "execution_count": null,
   "metadata": {},
   "outputs": [],
   "source": [
    "# сделали каждый id текстом\n",
    "memes_id_text = [str(item) for item in memes_id]\n",
    "memes_id[0] # цифра  "
   ]
  },
  {
   "cell_type": "code",
   "execution_count": null,
   "metadata": {},
   "outputs": [],
   "source": [
    "memes_id_text[0] # текст"
   ]
  },
  {
   "cell_type": "code",
   "execution_count": null,
   "metadata": {},
   "outputs": [],
   "source": [
    "# перечислили их через запятую\n",
    "','.join(memes_id_text[:10])"
   ]
  },
  {
   "cell_type": "markdown",
   "metadata": {},
   "source": [
    "Скачаем инфу по шестнадцатой трёхсотне :3 "
   ]
  },
  {
   "cell_type": "code",
   "execution_count": null,
   "metadata": {},
   "outputs": [],
   "source": [
    "infa = vk_download('users.get','user_ids=' + ','.join(memes_id_text[16*300:17*300]) + '&fields=last_seen')"
   ]
  },
  {
   "cell_type": "code",
   "execution_count": null,
   "metadata": {},
   "outputs": [],
   "source": [
    "infa['response'][0]"
   ]
  },
  {
   "cell_type": "markdown",
   "metadata": {},
   "source": [
    "Просеиваем плохие id. "
   ]
  },
  {
   "cell_type": "code",
   "execution_count": null,
   "metadata": {},
   "outputs": [],
   "source": [
    "clean_member_id = [ ] # сюда будем записывать хорошие\n",
    "\n",
    "for item in infa['response']:\n",
    "    \n",
    "    # если пользователь не удален, не приватный, а ещё недавно был в сети \n",
    "    if ('deactivated' not in item) and \\\n",
    "       (item['is_closed'] == False) and \\\n",
    "       (item['last_seen']['time'] >= time.time() - 30*24*60*60):\n",
    "    \n",
    "                clean_member_id.append(item) # запоминаем его "
   ]
  },
  {
   "cell_type": "markdown",
   "metadata": {},
   "source": [
    "АААААА НЕ РАБОТАЕТ!!! Посмотрим на ком именно произошла ошибка. "
   ]
  },
  {
   "cell_type": "code",
   "execution_count": null,
   "metadata": {},
   "outputs": [],
   "source": [
    "item"
   ]
  },
  {
   "cell_type": "markdown",
   "metadata": {},
   "source": [
    "У пользователя не скачалась информация о том как давно он заходил в сеть. Видимо, это происходило очень давно. Давайте будем выбрасывать таких людей из выборки. Нам в этом поможет конструкция `try-except`."
   ]
  },
  {
   "cell_type": "code",
   "execution_count": null,
   "metadata": {},
   "outputs": [],
   "source": [
    "clean_member_id = [ ] # сюда будем записывать хорошие\n",
    "\n",
    "for item in infa['response']:\n",
    "    \n",
    "    try: # попробуй сделать вот это\n",
    "        \n",
    "        # если пользователь не удален, не приватный, а ещё недавно был в сети \n",
    "        if ('deactivated' not in item) and \\\n",
    "           (item['is_closed'] == False) and \\\n",
    "           (item['last_seen']['time'] >= time.time() - 30*24*60*60):\n",
    "\n",
    "                    clean_member_id.append(item) # запоминаем его \n",
    "    \n",
    "    except: # если питон говорит, что ошибся, сделай вот это \n",
    "        print(item)"
   ]
  },
  {
   "cell_type": "markdown",
   "metadata": {},
   "source": [
    "Одного человека мы просто игнорируем. Не большая потеря для выборки. "
   ]
  },
  {
   "cell_type": "code",
   "execution_count": null,
   "metadata": {},
   "outputs": [],
   "source": [
    "len(clean_member_id) # из 300 осталось 294"
   ]
  },
  {
   "cell_type": "markdown",
   "metadata": {},
   "source": [
    "Это надо сделать со всеми id из списка, который мы скачали. Напишем для этого функцию и цикл. "
   ]
  },
  {
   "cell_type": "code",
   "execution_count": null,
   "metadata": {},
   "outputs": [],
   "source": [
    "def filter_members(memes_id):\n",
    "    \n",
    "    # сделали id текстом\n",
    "    memes_id_text = [str(item) for item in memes_id]\n",
    "    \n",
    "    clean_memes_id = [ ] # список для хорших id \n",
    "    \n",
    "    # качаем информацию кусочками по 300 штук\n",
    "    for i in range(len(memes_id_text)//300):\n",
    "                \n",
    "        time.sleep(0.4) # немного подождали, чтобы вк нас не банил\n",
    "        \n",
    "                                                         # взяли текущие 300 человек из списка\n",
    "        infa = vk_download('users.get','user_ids=' + ','.join(memes_id_text[i*300:(i+1)*300]) + '&fields=last_seen')\n",
    " \n",
    "        \n",
    "\n",
    "        # чистим пользователей\n",
    "        for item in infa['response']:\n",
    "\n",
    "            try: # попробуй сделать вот это\n",
    "\n",
    "                # если пользователь не удален, не приватный, а ещё недавно был в сети \n",
    "                if ('deactivated' not in item) and \\\n",
    "                   (item['is_closed'] == False) and \\\n",
    "                   (item['last_seen']['time'] >= time.time() - 30*24*60*60):\n",
    "\n",
    "                            clean_memes_id.append(item) # запоминаем его \n",
    "\n",
    "            except:   # если питон говорит, что ошибся, сделай вот это \n",
    "                pass  # (ничего не делай) \n",
    "    \n",
    "\n",
    "    # можно выводить инфу на экран вот так\n",
    "    print('остаось {} человек'.format(len(clean_memes_id)))\n",
    "    \n",
    "    return clean_memes_id # вернули из функции чистые id"
   ]
  },
  {
   "cell_type": "markdown",
   "metadata": {},
   "source": [
    "Применяем эту функцию ко всем группам. "
   ]
  },
  {
   "cell_type": "code",
   "execution_count": null,
   "metadata": {},
   "outputs": [],
   "source": [
    "%%time\n",
    "clean_members = { } # сюда будем класть всех прочищеных членов групп по очереди\n",
    "\n",
    "for k,v in members.items():\n",
    "    print('Фильтрую id из группы', k)\n",
    "    infa = filter_members(v)\n",
    "    clean_members[k] = infa    "
   ]
  },
  {
   "cell_type": "markdown",
   "metadata": {},
   "source": [
    "__Первый вывод:__ манишлернеры какие-то хикки, закрывают свои страницы. А в группу кривого зеркала никто похоже не заходит. Петросян нагнал ботов. Снова на всякий случай сохраним все id. "
   ]
  },
  {
   "cell_type": "code",
   "execution_count": null,
   "metadata": {},
   "outputs": [],
   "source": [
    "with open('group_clean_members.pickle', 'wb') as f:\n",
    "    pickle.dump(clean_members, f)"
   ]
  },
  {
   "cell_type": "markdown",
   "metadata": {},
   "source": [
    "# 4. Скачиваем стены\n",
    "\n",
    "Для каждого пользователя скачаем со стены $100$ записей. Снова если вк не разрешает нам сделать этого, будем игнорировать id. Приватные аккаунты всё ещё остались в выборке :( "
   ]
  },
  {
   "cell_type": "code",
   "execution_count": null,
   "metadata": {},
   "outputs": [],
   "source": [
    "import pickle\n",
    "with open('group_clean_members.pickle', 'rb') as f:\n",
    "    clean_members = pickle.load(f)"
   ]
  },
  {
   "cell_type": "code",
   "execution_count": null,
   "metadata": {},
   "outputs": [],
   "source": [
    "cur_id = clean_members['hse_memes'][10]['id']\n",
    "cur_id"
   ]
  },
  {
   "cell_type": "code",
   "execution_count": null,
   "metadata": {},
   "outputs": [],
   "source": [
    "wall = vk_download('wall.get', 'owner_id='+str(cur_id)+'&count=100')\n",
    "wall = wall['response']['items']\n",
    "len(wall)"
   ]
  },
  {
   "cell_type": "code",
   "execution_count": null,
   "metadata": {},
   "outputs": [],
   "source": [
    "wall[0]"
   ]
  },
  {
   "cell_type": "markdown",
   "metadata": {},
   "source": [
    "Будем как на паре вытаскивать тексты постов и тексты репостов. "
   ]
  },
  {
   "cell_type": "code",
   "execution_count": null,
   "metadata": {
    "scrolled": false
   },
   "outputs": [],
   "source": [
    "post_texts = [cur['text'] for cur in wall]\n",
    "repost_texts = [cur['copy_history'][0]['text'] if 'copy_history' in cur else '' for cur in wall]"
   ]
  },
  {
   "cell_type": "markdown",
   "metadata": {},
   "source": [
    "Их будем соединять в один огромный пост. "
   ]
  },
  {
   "cell_type": "code",
   "execution_count": null,
   "metadata": {
    "scrolled": false
   },
   "outputs": [],
   "source": [
    "wall_text = ' '.join(post_texts) + ' '.join(repost_texts)\n",
    "wall_text"
   ]
  },
  {
   "cell_type": "markdown",
   "metadata": {},
   "source": [
    "Все такие стены будем сохранять. Для этого напишем функцию и цикл. "
   ]
  },
  {
   "cell_type": "code",
   "execution_count": null,
   "metadata": {},
   "outputs": [],
   "source": [
    "def get_wall(user_id):\n",
    "    \n",
    "    # скачели стену \n",
    "    wall = vk_download('wall.get', 'owner_id='+str(user_id)+'&count=100')\n",
    "    \n",
    "    # распаковали её\n",
    "    wall = wall['response']['items']\n",
    "    post_texts = [cur['text'] for cur in wall]\n",
    "    repost_texts = [cur['copy_history'][0]['text'] if 'copy_history' in cur else '' for cur in wall]\n",
    "    \n",
    "    # соединили все посты и репосты в один длинный текст\n",
    "    wall_text = ' '.join(post_texts) + ' '.join(repost_texts)\n",
    "    return wall_text"
   ]
  },
  {
   "cell_type": "markdown",
   "metadata": {},
   "source": [
    "Из каждого паблика скачаем $1000$ рандомных стенок.  \n",
    "\n",
    "__ВАЖНО:__ на метод `wall.get` есть ограничение! Можно скачивать не более $5000$ стен в сутки. Когда вы пробьёте его, вы увидете ошибку \n",
    "\n",
    "```\n",
    "{'error': {'error_code': 29,\n",
    "  'error_msg': 'Rate limit reached',\n",
    "  'request_params': [{'key': 'owner_id', 'value': '43152073'},\n",
    "   {'key': 'count', 'value': '100'},\n",
    "   {'key': 'v', 'value': '5.103'},\n",
    "   {'key': 'method', 'value': 'wall.get'},\n",
    "   {'key': 'oauth', 'value': '1'}]}}\n",
    "```\n",
    "\n",
    "Нужно будет сделать в скачке перерыв. __Лучше качайте паблики по одному и сохраняйте в файлики по одному! Цикл для этого переписать вы в состоянии :)__"
   ]
  },
  {
   "cell_type": "code",
   "execution_count": null,
   "metadata": {},
   "outputs": [],
   "source": [
    "import numpy as np\n",
    "\n",
    "for k,v in list(clean_members.items())[1:]:\n",
    "    print('Качаю стены участников из группы', k)    \n",
    "    wall_members = [ ] # сюда будем сохранять стенки\n",
    "    \n",
    "    cur_members = np.array(v) \n",
    "    cur_sample = np.random.choice(cur_members, 1000, replace = False)\n",
    "    \n",
    "    for item in cur_sample:\n",
    "    \n",
    "        time.sleep(0.4) # отдыхаем между запросами \n",
    "        \n",
    "        # попробуй, если код упал, напечатай мне id пользователя\n",
    "        try:\n",
    "            # распаковываем стену пользователя \n",
    "            wall_text = get_wall(item['id'])\n",
    "\n",
    "            cur_item = {'group': k, 'id': item['id'], 'wall': wall_text}\n",
    "\n",
    "            wall_members.append(cur_item)\n",
    "        except:\n",
    "            print('Ошибка!', item) \n",
    "\n",
    "    # сохраняем итоговые тексты стенок для текущего сообщества \n",
    "    with open(k + '.pickle', 'wb') as f:\n",
    "        pickle.dump(wall_members, f)\n"
   ]
  },
  {
   "cell_type": "code",
   "execution_count": null,
   "metadata": {},
   "outputs": [],
   "source": [
    "!ls -hl"
   ]
  },
  {
   "cell_type": "markdown",
   "metadata": {},
   "source": [
    "Этот код будет работать довольно долго. Скачка будет идти со скоростью примерно $10000$ записей со стенок в час. Но тем не менее, он скачает нам всё, что нужно (вам в вашей работе $10000$ стенок более, чем достаточно для анализа."
   ]
  },
  {
   "cell_type": "code",
   "execution_count": null,
   "metadata": {},
   "outputs": [],
   "source": [
    "# wall_members[-1]"
   ]
  },
  {
   "cell_type": "code",
   "execution_count": null,
   "metadata": {},
   "outputs": [],
   "source": [
    "# сохраняем итоговые тексты стенок\n",
    "with open('group_clean_members.pickle', 'wb') as f:\n",
    "    pickle.dump(wall_members, f)"
   ]
  },
  {
   "cell_type": "markdown",
   "metadata": {},
   "source": [
    "## 5. Полезные хитрости\n",
    "\n",
    "\n",
    "#### Хитрость 1:  Не стесняйтесь пользоваться `try-except`\n",
    "\n",
    "Эта конструкция позволяет питону в случае ошибки сделать что-нибудь другое либо проигнорировать её. Например, мы хотим найти логарифм от всех чисел из списка: "
   ]
  },
  {
   "cell_type": "code",
   "execution_count": null,
   "metadata": {},
   "outputs": [],
   "source": [
    "from math import log \n",
    "\n",
    "a = [1,2,3,-1,-5,10,3]\n",
    "\n",
    "for item in a:\n",
    "    print(log(item))"
   ]
  },
  {
   "cell_type": "markdown",
   "metadata": {},
   "source": [
    "У нас не выходит, так как логарифм от отрицательных чисел не берётся. Чтобы код не падал при возникновении ошибки, мы можем его немного изменить: "
   ]
  },
  {
   "cell_type": "code",
   "execution_count": null,
   "metadata": {},
   "outputs": [],
   "source": [
    "from math import log \n",
    "\n",
    "a = [1,2,3,-1,-5,10,3]\n",
    "\n",
    "for item in a:\n",
    "    try:\n",
    "        print(log(item))  # попробуй взять логарифм\n",
    "    except:\n",
    "        print('я не смог') # если не вышло, сознайся и работай дальше"
   ]
  },
  {
   "cell_type": "markdown",
   "metadata": {},
   "source": [
    "Чудо! Код больше не падает."
   ]
  },
  {
   "cell_type": "markdown",
   "metadata": {},
   "source": [
    "Как это использовать в вашем парсере контакта? Ну, например, если вы очень сильно боитесь, что код ночью может упасть из-за какого-то одного стремного пользователя вк, его скачку внутри цикла можно переписать вот так: "
   ]
  },
  {
   "cell_type": "raw",
   "metadata": {},
   "source": [
    "try:\n",
    "    wall_text = get_wall(item['id'])\n",
    "except:\n",
    "    print('Ошибка в', item)"
   ]
  },
  {
   "cell_type": "markdown",
   "metadata": {},
   "source": [
    "Тогда в случае, если id будет битым, код не упадет, а продолжит работу, просто напечатав на экране, что в конкретном id произошла ошибка. Все остальные данные скачаются. Если вы боитесь, что компьютер может зависнуть ночью и умереть на половине скачки, добавьте внутрь цикла код, который будет сохранять данные по кусочкам, а не все сразу в конце скачки. "
   ]
  },
  {
   "cell_type": "markdown",
   "metadata": {},
   "source": [
    "#### Хитрость 2:  используйте пакет tqdm\n",
    "\n",
    "> Код уже работает час. Я вообще без понятия когда он закончит работу. Было бы круто узнать, сколько ещё ждать... \n",
    "\n",
    "Если в вашей голове возникла такая мысль, пакет `tqdm` ваш лучший друг. Установить его можно так: "
   ]
  },
  {
   "cell_type": "code",
   "execution_count": null,
   "metadata": {},
   "outputs": [],
   "source": [
    "!pip install tqdm"
   ]
  },
  {
   "cell_type": "markdown",
   "metadata": {},
   "source": [
    "Просто один раз запустите эту ячейку и `pip` (менеджер пакетов для питона) поставит его вам на компьютер. Теперь можно пользоваться вот такой штукой: "
   ]
  },
  {
   "cell_type": "code",
   "execution_count": null,
   "metadata": {},
   "outputs": [],
   "source": [
    "from tqdm import tqdm_notebook\n",
    "\n",
    "a = list(range(30))\n",
    "\n",
    "# 30 раз будем спать по секунде\n",
    "for i in tqdm_notebook(a):\n",
    "    time.sleep(1)"
   ]
  },
  {
   "cell_type": "markdown",
   "metadata": {},
   "source": [
    "Мы обмотали тот вектор, по которому идёт цикл в `tqdm_notebook`. Это даёт нам красивую зелёную строку, которая показывает насколько сильно мы продвинулись по коду. Обматывайте свои самые большие и долгие циклы в `tqdm_notebook` и всегда понимайте сколько осталось до конца. "
   ]
  },
  {
   "cell_type": "markdown",
   "metadata": {},
   "source": [
    "#### Хитрость 3:  аккуратная работа с массивами\n",
    "\n",
    "Если объявить список, куда вы закидываете людей в одной ячейке, а цикл запускать в другой, можно упростить себе жизнь. Смотрите как: "
   ]
  },
  {
   "cell_type": "code",
   "execution_count": null,
   "metadata": {},
   "outputs": [],
   "source": [
    "a = list(range(100)) # это 100 id которые я хочу скачать "
   ]
  },
  {
   "cell_type": "code",
   "execution_count": null,
   "metadata": {},
   "outputs": [],
   "source": [
    "b = [ ] # сюда я типо качаю по ним инфу"
   ]
  },
  {
   "cell_type": "code",
   "execution_count": null,
   "metadata": {},
   "outputs": [],
   "source": [
    "for i in a:\n",
    "    b.append(i**2)  # это я типо скачал её и добавил в b\n",
    "    \n",
    "    # это я сымитировал падение на 50 id (цикл просто прекратит работать)\n",
    "    if i == 50:\n",
    "        break"
   ]
  },
  {
   "cell_type": "code",
   "execution_count": null,
   "metadata": {},
   "outputs": [],
   "source": [
    "len(b) # скачали 51 человека, нужны еще 49"
   ]
  },
  {
   "cell_type": "markdown",
   "metadata": {},
   "source": [
    "В `b` уже записана информации по $51$ человеку. Давайте просто продолжим скачку тем же циклом, но с 52 человека!"
   ]
  },
  {
   "cell_type": "code",
   "execution_count": null,
   "metadata": {},
   "outputs": [],
   "source": [
    "for i in a[51:]:\n",
    "    b.append(i**2)  # это я типо скачал её и добавил в b\n",
    "    \n",
    "    # это я сымитировал падение на 50 id (цикл просто прекратит работать)\n",
    "    if i == 50:\n",
    "        break"
   ]
  },
  {
   "cell_type": "code",
   "execution_count": null,
   "metadata": {},
   "outputs": [],
   "source": [
    "len(b)  # всё скачалось! "
   ]
  },
  {
   "cell_type": "markdown",
   "metadata": {},
   "source": [
    "Надеюсь вы поняли о чём я. Когда код упал в середине списка для скачки, не обязательно запускать его с самого начала! Половина то уже скачалась и её можно сохранить. "
   ]
  },
  {
   "cell_type": "markdown",
   "metadata": {},
   "source": [
    "#### Хитрость 4:  ускорение кода в 25 раз\n",
    "\n",
    "При желании ваш код можно ускорить в $25$ раз. Для этого вам надо изучить самим [туториал по тому как качать вконтакте,](https://nbviewer.jupyter.org/github/FUlyankin/ekanam_grand_research/blob/master/0.%20vk_parser_tutorial.ipynb) В нём описано как можно переделать код в более быстрый. Можно взять код для скачки [отсюда,](https://github.com/DmitrySerg/OpenData/blob/master/RussianElections2018/Part_1_Parsing_VK.ipynb) он уже переделан. Но придётся заставить его работать. \n",
    "\n",
    "__Обратите внимание, что это не поможет вам пробить лимиты, которые вк устанавливает на работу разных методов скачки.__"
   ]
  },
  {
   "cell_type": "markdown",
   "metadata": {},
   "source": [
    "  "
   ]
  }
 ],
 "metadata": {
  "kernelspec": {
   "display_name": "Python 3",
   "language": "python",
   "name": "python3"
  },
  "language_info": {
   "codemirror_mode": {
    "name": "ipython",
    "version": 3
   },
   "file_extension": ".py",
   "mimetype": "text/x-python",
   "name": "python",
   "nbconvert_exporter": "python",
   "pygments_lexer": "ipython3",
   "version": "3.7.2"
  }
 },
 "nbformat": 4,
 "nbformat_minor": 2
}
