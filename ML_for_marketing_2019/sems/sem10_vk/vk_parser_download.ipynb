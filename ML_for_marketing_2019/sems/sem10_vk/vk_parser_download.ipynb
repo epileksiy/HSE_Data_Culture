{
 "cells": [
  {
   "cell_type": "markdown",
   "metadata": {},
   "source": [
    "<img align=\"center\" src=\"https://raw.githubusercontent.com/FUlyankin/Parsers/master/images%20/cats.jpg\" height=\"1200\" width=\"1200\"> \n",
    "\n",
    "# <center> ML для маркетинга. <br>  <br> Cюжетная арка 3: сегментация </center>\n",
    "\n",
    "В этом семестре мы с вами пройдём через несколько сюжетных арок. Третьей и заключительной такой аркой будет сегментация. \n",
    "\n",
    "\n",
    "#  Глава II (Вконтакте и его мальчик) "
   ]
  },
  {
   "cell_type": "markdown",
   "metadata": {},
   "source": [
    "Ознакомиться со способами взаимодействия с Вконтакте можно по [ссылке](https://vk.com/dev/manuals) на отличную документацию. Для того, чтобы получить доступ к выгрузке данных, нужно пройти ряд бюрократических процедур (о, боже, эти два предложения были так бюрократически сформулированы, что мне захотелось отстоять в очереди).\n",
    "\n",
    "Первая такая процедура заключается в создании своего приложения. Для этого переходим по [ссылке](http://vk.com/editapp?act=create) и проходимся по необходимым шагам:\n",
    "\n",
    "<img align=\"center\" src=\"pictures/app_creation_1.png\" height=\"600\" width=\"600\">\n",
    "\n",
    "После подтверждения своей личности по номеру телефона, попадаем на страницу свежесозданного приложения\n",
    "<img align=\"center\" src=\"pictures/app_creation_2.png\" height=\"600\" width=\"600\">\n",
    "\n",
    "Слева нам будем доступна вкладка с настройками, перейдя в неё мы увидим все необходимые нам для работы с приложением параметры:\n",
    "<img align=\"center\" src=\"pictures/app_creation_3.png\" height=\"600\" width=\"600\">\n"
   ]
  },
  {
   "cell_type": "markdown",
   "metadata": {},
   "source": [
    "Для работы с частью методов API этого вполне достаточно (обычно в заголовке такого метода стоит соответствующая пометка). Для части методов, используемых нами, может понадобиться ключ доступа.\n",
    "\n",
    "Для того, чтобы получить его, необходимо сделать ещё пару странных манипуляций:\n",
    "\n",
    "Переходим по ссылке вида (на месте звездочек должен стоять ID созданного вами приложения):\n",
    "\n",
    "> https://oauth.vk.com/authorize?client_id=**********&scope=14&redirect_uri=https://oauth.vk.com/blank.html&display=page&v=5.16&response_type=token\n",
    "\n",
    "<img align=\"center\" src=\"pictures/app_creation_4.png\" height=\"600\" width=\"600\">\n",
    "\n",
    "В итоге по этому запросу будет сформирована ссылка следующего вида:\n",
    "> https://oauth.vk.com/blank.html#access_token=25b636116ef40e0718fe4d9f382544fc28&expires_in=86400&user_id=*******\n",
    "\n",
    "Первый набор знаков - `access token`, т.е. маркер доступа. Вторая цифра (`expires_in=`) время работы маркера доступа в секундах (одни сутки). По истечению суток нужно будет получить новый маркер доступа. Последняя цифра (`user_id=`) ваш ID Вконтакте. Нам в дальнейшем понадобится маркер доступа. Для удобства сохраним его в отдельном файле или экспортируем в глобальную область видимости. В целях безопасности ваших данных не стоит нигде светить токенами и тем более выкладывать их в открытый доступ.\n",
    "\n",
    "Обратите внимание на ссылку, по которой мы делали запрос на предоставление токена. Внутри неё находится странный параметр `scope=14.` Эта загадочная цифра есть ничто иное, как права доступа к социальной сети. Подробнее познакомиться с взаимно-однозначным соответствием между числами и правами можно в документации. Например, если мы хотим получить доступ к друзьям, фото и аудио, мы подставим в scope цифру 2+4+8=14.\n",
    "\n",
    "> __ВАЖНО:__ Если отдать свой токен другому человеку, у него будет доступ к вашему аккаунту. Он легко может выкачать ваши личные переписки и даже удалить страницу. Не светите свой токен в интернетах и берегите его с молоду. "
   ]
  },
  {
   "cell_type": "markdown",
   "metadata": {},
   "source": [
    "# 1. Впервые врываемся в вк и узнаём как нас зовут"
   ]
  },
  {
   "cell_type": "code",
   "execution_count": 1,
   "metadata": {},
   "outputs": [],
   "source": [
    "import requests # библиотека для походов в интернет\n",
    "import time     # пакет для работы с временем"
   ]
  },
  {
   "cell_type": "markdown",
   "metadata": {},
   "source": [
    "Подгрузим токен."
   ]
  },
  {
   "cell_type": "code",
   "execution_count": 2,
   "metadata": {},
   "outputs": [],
   "source": [
    "# мой номер странички\n",
    "myid = '6045249'# вставить номер странички\n",
    "\n",
    "# версия используемого API\n",
    "version = '5.103' \n",
    "\n",
    "# подгружаем токен\n",
    "with open('secret_token.txt') as f:\n",
    "    token = f.read()"
   ]
  },
  {
   "cell_type": "markdown",
   "metadata": {},
   "source": [
    "Чтобы скачать что-то из контакта, надо сделать ссылку и сходить по ней пакетом `requests`. Ссылка должна будет включать в себя метод (что мы просим у вк) и параметры (насколько много). Мы будем просто заменять эти две штуки и выкачивать разные вещи. "
   ]
  },
  {
   "cell_type": "code",
   "execution_count": 3,
   "metadata": {},
   "outputs": [],
   "source": [
    "def vk_download(method, parameters):\n",
    "    url = 'https://api.vk.com/method/' + method + '?' + parameters + '&access_token=' + str(token) + '&v=' + version\n",
    "    response = requests.get(url) \n",
    "    infa = response.json()\n",
    "    return infa "
   ]
  },
  {
   "cell_type": "code",
   "execution_count": 4,
   "metadata": {},
   "outputs": [
    {
     "data": {
      "text/plain": [
       "{'response': [{'id': 6045249,\n",
       "   'first_name': 'Филипп',\n",
       "   'last_name': 'Ульянкин',\n",
       "   'is_closed': False,\n",
       "   'can_access_closed': True}]}"
      ]
     },
     "execution_count": 4,
     "metadata": {},
     "output_type": "execute_result"
    }
   ],
   "source": [
    "method = 'users.get'\n",
    "parameters = 'user_ids=' + myid\n",
    "\n",
    "vk_download(method, parameters)"
   ]
  },
  {
   "cell_type": "markdown",
   "metadata": {},
   "source": [
    "Если вы всё сделали правильно, то у вас выводится имя и фамилия."
   ]
  },
  {
   "cell_type": "markdown",
   "metadata": {},
   "source": [
    "# 2.  Скачаем всех подписчиков пабликов с мемами\n",
    "\n",
    "Мы хотели в следущей тетрадке поанализировать аудиторию разных пабликов с мемами и понять чем люди живут. Я выбрал для нас следушие паблики: \n",
    "\n",
    "**нормальные мемы**\n",
    "\n",
    "* [Хаер скул оф мемес](https://vk.com/hsemem)\n",
    "* [Мемы про машиное обучение для взрослых мужиков](https://vk.com/weirdreparametrizationtrick)\n",
    "* [Физкек](https://vk.com/phys_kek)\n",
    "* [Абстрактные мемы для элиты всех сортов](https://vk.com/abstract_memes)\n",
    "\n",
    "**сомнительные мемы**\n",
    "\n",
    "* [Я смотрю украинские шоу и радуюсь жизни](https://vk.com/ukrainskieshow)\n",
    "* [Female memes](https://vk.com/femalemem)\n",
    "\n",
    "\n",
    "**очень очень плохие мемы**\n",
    "\n",
    "* [Чёткие приколы](https://vk.com/oroom)\n",
    "* [Остроумные](https://vk.com/ostroym)\n",
    "* [Кривое зеркало (театр Евгения Петросяна)](https://vk.com/teleteatrkrivoezerkalo)\n",
    "\n"
   ]
  },
  {
   "cell_type": "code",
   "execution_count": 5,
   "metadata": {},
   "outputs": [],
   "source": [
    "publics = {\n",
    "    'hse_memes': '139105204',\n",
    "    'ml_memes': 'weirdreparametrizationtrick',\n",
    "    'fizkek': '111557607',\n",
    "    'amdevs' : '92337511',\n",
    "    \n",
    "    'female_memes': '139923997',\n",
    "    'ukr_memes': '111869067',\n",
    "    \n",
    "    'bad_memes1': '41807730',\n",
    "    'bad_memes2': '31836774',\n",
    "    'wtf_memes': 'teleteatrkrivoezerkalo'    \n",
    "}"
   ]
  },
  {
   "cell_type": "markdown",
   "metadata": {},
   "source": [
    "С каждой группы скачаем $50000$. По умлочанию все участники группы отсоритрованы по своему номеру id. Чем больше id, тем позднее зерегестрировался человек (поначалу id выдавались по порядку). Для того, чтобы срезать из группы свежих юзеров, давайте выкачивать их с большим значением `offset`. \n",
    "\n",
    "Начнём с вышки."
   ]
  },
  {
   "cell_type": "code",
   "execution_count": 6,
   "metadata": {},
   "outputs": [],
   "source": [
    "cur_id = publics['hse_memes']"
   ]
  },
  {
   "cell_type": "code",
   "execution_count": 7,
   "metadata": {},
   "outputs": [
    {
     "data": {
      "text/plain": [
       "49674"
      ]
     },
     "execution_count": 7,
     "metadata": {},
     "output_type": "execute_result"
    }
   ],
   "source": [
    "# узнаем сколько в группе человек\n",
    "cur_infa = vk_download('groups.getMembers', 'group_id=' + str(cur_id))\n",
    "cur_infa['response']['count']"
   ]
  },
  {
   "cell_type": "markdown",
   "metadata": {},
   "source": [
    "По числу людей в группе будем выбирать откуда начинать скачку. Если в группе $111 000$, тогда `offset = 111 000 - 50000.` Чтобы не уходить в отрицательные числа, если группа маленькая, будем брать максимум из $0$ и нашего отсупа."
   ]
  },
  {
   "cell_type": "code",
   "execution_count": 8,
   "metadata": {},
   "outputs": [
    {
     "data": {
      "text/plain": [
       "-326"
      ]
     },
     "execution_count": 8,
     "metadata": {},
     "output_type": "execute_result"
    }
   ],
   "source": [
    "cur_infa['response']['count'] - 50000"
   ]
  },
  {
   "cell_type": "code",
   "execution_count": 9,
   "metadata": {},
   "outputs": [
    {
     "data": {
      "text/plain": [
       "0"
      ]
     },
     "execution_count": 9,
     "metadata": {},
     "output_type": "execute_result"
    }
   ],
   "source": [
    "start_offset = max(0, cur_infa['response']['count'] - 50000)\n",
    "start_offset"
   ]
  },
  {
   "cell_type": "markdown",
   "metadata": {},
   "source": [
    "Скачиваем! "
   ]
  },
  {
   "cell_type": "code",
   "execution_count": 10,
   "metadata": {},
   "outputs": [
    {
     "name": "stdout",
     "output_type": "stream",
     "text": [
      "CPU times: user 924 ms, sys: 73.4 ms, total: 997 ms\n",
      "Wall time: 26.7 s\n"
     ]
    }
   ],
   "source": [
    "%%time\n",
    "infa = [ ] # сюда буду сохранять людей\n",
    "\n",
    "for offset in range(start_offset, start_offset + 50000, 1000):\n",
    "    \n",
    "    time.sleep(0.4) # вк согласен работать 3 раза в секунду, \n",
    "                    # эта строка нужна, чтобы он не ругался \n",
    "    \n",
    "    cur_infa = vk_download('groups.getMembers', \n",
    "                'group_id=' + str(cur_id) + '&offset=' + str(offset))\n",
    "\n",
    "    infa.extend(cur_infa['response']['items'])"
   ]
  },
  {
   "cell_type": "code",
   "execution_count": 11,
   "metadata": {},
   "outputs": [
    {
     "data": {
      "text/plain": [
       "49674"
      ]
     },
     "execution_count": 11,
     "metadata": {},
     "output_type": "execute_result"
    }
   ],
   "source": [
    "len(infa)"
   ]
  },
  {
   "cell_type": "markdown",
   "metadata": {},
   "source": [
    "Завернём наш цикл с пары в функцию. И применим её по очереди к каждому паблику. "
   ]
  },
  {
   "cell_type": "code",
   "execution_count": 12,
   "metadata": {},
   "outputs": [],
   "source": [
    "def group_members_download(cur_id):\n",
    "    \n",
    "    # Сколько всего в группе людей\n",
    "    cur_infa = vk_download('groups.getMembers', 'group_id=' + str(cur_id))\n",
    "    \n",
    "    # стартовая точка\n",
    "    start_offset = max(0, cur_infa['response']['count'] - 50000)\n",
    "\n",
    "    infa = [ ] # сюда буду сохранять людей\n",
    "\n",
    "    # качаем по 1000 штук по циклу :) \n",
    "    for offset in range(start_offset, start_offset + 50000, 1000):\n",
    "\n",
    "        time.sleep(0.4) # вк согласен работать 3 раза в секунду, \n",
    "                        # эта строка нужна, чтобы он не ругался \n",
    "\n",
    "        cur_infa = vk_download('groups.getMembers', \n",
    "                    'group_id=' + str(cur_id) + '&offset=' + str(offset))\n",
    "\n",
    "        infa.extend(cur_infa['response']['items'])\n",
    "    return infa"
   ]
  },
  {
   "cell_type": "markdown",
   "metadata": {},
   "source": [
    "Давайте скачивать. "
   ]
  },
  {
   "cell_type": "code",
   "execution_count": 13,
   "metadata": {},
   "outputs": [
    {
     "name": "stdout",
     "output_type": "stream",
     "text": [
      "Качаю группу hse_memes\n",
      "Качаю группу ml_memes\n",
      "Качаю группу fizkek\n",
      "Качаю группу amdevs\n",
      "Качаю группу female_memes\n",
      "Качаю группу ukr_memes\n",
      "Качаю группу bad_memes1\n",
      "Качаю группу bad_memes2\n",
      "Качаю группу wtf_memes\n",
      "CPU times: user 8.3 s, sys: 657 ms, total: 8.96 s\n",
      "Wall time: 4min 29s\n"
     ]
    }
   ],
   "source": [
    "%%time\n",
    "members = { } # сюда будем класть всех членов групп по очереди\n",
    "\n",
    "for k,v in publics.items():\n",
    "    print('Качаю группу', k)\n",
    "    infa = group_members_download(v)\n",
    "    members[k] = infa    "
   ]
  },
  {
   "cell_type": "markdown",
   "metadata": {},
   "source": [
    "На всякий случай сохраним всех, кого скачали. Будет обидно потерять их и скачивать заново. "
   ]
  },
  {
   "cell_type": "code",
   "execution_count": 14,
   "metadata": {},
   "outputs": [],
   "source": [
    "import pickle  # пакет для сохранения и подгрузки питонячих объектов\n",
    "\n",
    "# сохраняем всё в файл group_members.pickle\n",
    "with open('group_members.pickle', 'wb') as f:\n",
    "    pickle.dump(members, f)\n",
    "    \n",
    "# Подгрузить данные из файлика можно вот так: \n",
    "# with open('group_members.pickle', 'rb') as f:\n",
    "#     members = pickle.load(f)"
   ]
  },
  {
   "cell_type": "markdown",
   "metadata": {},
   "source": [
    "# 3. Отфильтровываем плохих подписчиков\n",
    "\n",
    "Давайте выбросим из нашей выборки всех людей, которые: \n",
    "\n",
    "- Не заходили вконтакт в течение последлних 30 дней\n",
    "- Удалили свою страницу \n",
    "- Закрыли свой профиль от внещних глаз\n",
    "\n",
    "Узнать это всё можно, если найти соотвествующие [fields в документации.](https://vk.com/dev/objects/user) Про удаление страницы и закрытый профиль информация возвращается по умолчанию во вкладках `deactivated` и `is_closed`. Инфу про заходы надо тащить дополнительно с полем `last_seen`."
   ]
  },
  {
   "cell_type": "code",
   "execution_count": 15,
   "metadata": {},
   "outputs": [
    {
     "data": {
      "text/plain": [
       "{'response': [{'id': 6045249,\n",
       "   'first_name': 'Филипп',\n",
       "   'last_name': 'Ульянкин',\n",
       "   'is_closed': False,\n",
       "   'can_access_closed': True,\n",
       "   'last_seen': {'time': 1575729218, 'platform': 7}},\n",
       "  {'id': 494821147,\n",
       "   'first_name': 'Alina',\n",
       "   'last_name': 'Kobets',\n",
       "   'is_closed': True,\n",
       "   'can_access_closed': False,\n",
       "   'last_seen': {'time': 1575723875, 'platform': 4}}]}"
      ]
     },
     "execution_count": 15,
     "metadata": {},
     "output_type": "execute_result"
    }
   ],
   "source": [
    "infa = vk_download('users.get','user_ids=6045249,494821147&fields=last_seen')\n",
    "infa"
   ]
  },
  {
   "cell_type": "markdown",
   "metadata": {},
   "source": [
    "Время последнего захода указывается в виде количества секунд, прошедшего с 1 января 1970 года. Это везде так, привыкайте. "
   ]
  },
  {
   "cell_type": "code",
   "execution_count": 16,
   "metadata": {},
   "outputs": [
    {
     "data": {
      "text/plain": [
       "1575729570.349834"
      ]
     },
     "execution_count": 16,
     "metadata": {},
     "output_type": "execute_result"
    }
   ],
   "source": [
    "# Пакет time позволяет посмотреть сколько секунд прошло к текущему моменту. \n",
    "time.time()"
   ]
  },
  {
   "cell_type": "markdown",
   "metadata": {},
   "source": [
    "Сколько секунд в $30$ днях? "
   ]
  },
  {
   "cell_type": "code",
   "execution_count": 17,
   "metadata": {},
   "outputs": [
    {
     "data": {
      "text/plain": [
       "2592000"
      ]
     },
     "execution_count": 17,
     "metadata": {},
     "output_type": "execute_result"
    }
   ],
   "source": [
    "30*24*60*60"
   ]
  },
  {
   "cell_type": "code",
   "execution_count": 18,
   "metadata": {},
   "outputs": [
    {
     "data": {
      "text/plain": [
       "1573137570.367504"
      ]
     },
     "execution_count": 18,
     "metadata": {},
     "output_type": "execute_result"
    }
   ],
   "source": [
    "# Это дата 30-дневной давности :) \n",
    "time.time() - 30*24*60*60"
   ]
  },
  {
   "cell_type": "markdown",
   "metadata": {},
   "source": [
    "Пробуем скачать информацию! Документация говорит, что максимально в `user_ids` можно пихать $1000$ id. Снова придётся писать цикл. Напишем его для какой-нибудь группы, а потом завернём в функцию. "
   ]
  },
  {
   "cell_type": "code",
   "execution_count": 19,
   "metadata": {},
   "outputs": [
    {
     "data": {
      "text/plain": [
       "49674"
      ]
     },
     "execution_count": 19,
     "metadata": {},
     "output_type": "execute_result"
    }
   ],
   "source": [
    "memes_id = members['hse_memes']  # положили все id в вектор \n",
    "len(memes_id)"
   ]
  },
  {
   "cell_type": "markdown",
   "metadata": {},
   "source": [
    "Всего у нас 50 тыщ людей. Запихнём первую тыщу в функцию для скачивания. Перечислить все id в виде текста через запятую можно вот так: "
   ]
  },
  {
   "cell_type": "code",
   "execution_count": 20,
   "metadata": {},
   "outputs": [
    {
     "data": {
      "text/plain": [
       "1257"
      ]
     },
     "execution_count": 20,
     "metadata": {},
     "output_type": "execute_result"
    }
   ],
   "source": [
    "# сделали каждый id текстом\n",
    "memes_id_text = [str(item) for item in memes_id]\n",
    "memes_id[0] # цифра  "
   ]
  },
  {
   "cell_type": "code",
   "execution_count": 21,
   "metadata": {},
   "outputs": [
    {
     "data": {
      "text/plain": [
       "'1257'"
      ]
     },
     "execution_count": 21,
     "metadata": {},
     "output_type": "execute_result"
    }
   ],
   "source": [
    "memes_id_text[0] # текст"
   ]
  },
  {
   "cell_type": "code",
   "execution_count": 22,
   "metadata": {},
   "outputs": [
    {
     "data": {
      "text/plain": [
       "'1257,2050,8612,9804,10615,10904,41832,42159,42495,50385'"
      ]
     },
     "execution_count": 22,
     "metadata": {},
     "output_type": "execute_result"
    }
   ],
   "source": [
    "# перечислили их через запятую\n",
    "','.join(memes_id_text[:10])"
   ]
  },
  {
   "cell_type": "markdown",
   "metadata": {},
   "source": [
    "Скачаем инфу по шестнадцатой трёхсотне :3 "
   ]
  },
  {
   "cell_type": "code",
   "execution_count": 23,
   "metadata": {},
   "outputs": [],
   "source": [
    "infa = vk_download('users.get','user_ids=' + ','.join(memes_id_text[16*300:17*300]) + '&fields=last_seen')"
   ]
  },
  {
   "cell_type": "code",
   "execution_count": 24,
   "metadata": {},
   "outputs": [
    {
     "data": {
      "text/plain": [
       "{'id': 40232864,\n",
       " 'first_name': 'София',\n",
       " 'last_name': 'Шевченко',\n",
       " 'is_closed': True,\n",
       " 'can_access_closed': False,\n",
       " 'last_seen': {'time': 1575687597, 'platform': 1}}"
      ]
     },
     "execution_count": 24,
     "metadata": {},
     "output_type": "execute_result"
    }
   ],
   "source": [
    "infa['response'][0]"
   ]
  },
  {
   "cell_type": "markdown",
   "metadata": {},
   "source": [
    "Просеиваем плохие id. "
   ]
  },
  {
   "cell_type": "code",
   "execution_count": 25,
   "metadata": {},
   "outputs": [
    {
     "ename": "KeyError",
     "evalue": "'last_seen'",
     "output_type": "error",
     "traceback": [
      "\u001b[0;31m---------------------------------------------------------------------------\u001b[0m",
      "\u001b[0;31mKeyError\u001b[0m                                  Traceback (most recent call last)",
      "\u001b[0;32m<ipython-input-25-857db227ba9d>\u001b[0m in \u001b[0;36m<module>\u001b[0;34m\u001b[0m\n\u001b[1;32m      6\u001b[0m     \u001b[0;32mif\u001b[0m \u001b[0;34m(\u001b[0m\u001b[0;34m'deactivated'\u001b[0m \u001b[0;32mnot\u001b[0m \u001b[0;32min\u001b[0m \u001b[0mitem\u001b[0m\u001b[0;34m)\u001b[0m \u001b[0;32mand\u001b[0m\u001b[0;31m \u001b[0m\u001b[0;31m\\\u001b[0m\u001b[0;34m\u001b[0m\u001b[0;34m\u001b[0m\u001b[0m\n\u001b[1;32m      7\u001b[0m        \u001b[0;34m(\u001b[0m\u001b[0mitem\u001b[0m\u001b[0;34m[\u001b[0m\u001b[0;34m'is_closed'\u001b[0m\u001b[0;34m]\u001b[0m \u001b[0;34m==\u001b[0m \u001b[0;32mFalse\u001b[0m\u001b[0;34m)\u001b[0m \u001b[0;32mand\u001b[0m\u001b[0;31m \u001b[0m\u001b[0;31m\\\u001b[0m\u001b[0;34m\u001b[0m\u001b[0;34m\u001b[0m\u001b[0m\n\u001b[0;32m----> 8\u001b[0;31m        \u001b[0;34m(\u001b[0m\u001b[0mitem\u001b[0m\u001b[0;34m[\u001b[0m\u001b[0;34m'last_seen'\u001b[0m\u001b[0;34m]\u001b[0m\u001b[0;34m[\u001b[0m\u001b[0;34m'time'\u001b[0m\u001b[0;34m]\u001b[0m \u001b[0;34m>=\u001b[0m \u001b[0mtime\u001b[0m\u001b[0;34m.\u001b[0m\u001b[0mtime\u001b[0m\u001b[0;34m(\u001b[0m\u001b[0;34m)\u001b[0m \u001b[0;34m-\u001b[0m \u001b[0;36m30\u001b[0m\u001b[0;34m*\u001b[0m\u001b[0;36m24\u001b[0m\u001b[0;34m*\u001b[0m\u001b[0;36m60\u001b[0m\u001b[0;34m*\u001b[0m\u001b[0;36m60\u001b[0m\u001b[0;34m)\u001b[0m\u001b[0;34m:\u001b[0m\u001b[0;34m\u001b[0m\u001b[0;34m\u001b[0m\u001b[0m\n\u001b[0m\u001b[1;32m      9\u001b[0m \u001b[0;34m\u001b[0m\u001b[0m\n\u001b[1;32m     10\u001b[0m                 \u001b[0mclean_member_id\u001b[0m\u001b[0;34m.\u001b[0m\u001b[0mappend\u001b[0m\u001b[0;34m(\u001b[0m\u001b[0mitem\u001b[0m\u001b[0;34m)\u001b[0m \u001b[0;31m# запоминаем его\u001b[0m\u001b[0;34m\u001b[0m\u001b[0;34m\u001b[0m\u001b[0m\n",
      "\u001b[0;31mKeyError\u001b[0m: 'last_seen'"
     ]
    }
   ],
   "source": [
    "clean_member_id = [ ] # сюда будем записывать хорошие\n",
    "\n",
    "for item in infa['response']:\n",
    "    \n",
    "    # если пользователь не удален, не приватный, а ещё недавно был в сети \n",
    "    if ('deactivated' not in item) and \\\n",
    "       (item['is_closed'] == False) and \\\n",
    "       (item['last_seen']['time'] >= time.time() - 30*24*60*60):\n",
    "    \n",
    "                clean_member_id.append(item) # запоминаем его "
   ]
  },
  {
   "cell_type": "markdown",
   "metadata": {},
   "source": [
    "АААААА НЕ РАБОТАЕТ!!! Посмотрим на ком именно произошла ошибка. "
   ]
  },
  {
   "cell_type": "code",
   "execution_count": 26,
   "metadata": {},
   "outputs": [
    {
     "data": {
      "text/plain": [
       "{'id': 42187308,\n",
       " 'first_name': 'Иван',\n",
       " 'last_name': 'Александров',\n",
       " 'is_closed': False,\n",
       " 'can_access_closed': True}"
      ]
     },
     "execution_count": 26,
     "metadata": {},
     "output_type": "execute_result"
    }
   ],
   "source": [
    "item"
   ]
  },
  {
   "cell_type": "markdown",
   "metadata": {},
   "source": [
    "У пользователя не скачалась информация о том как давно он заходил в сеть. Видимо, это происходило очень давно. Давайте будем выбрасывать таких людей из выборки. Нам в этом поможет конструкция `try-except`."
   ]
  },
  {
   "cell_type": "code",
   "execution_count": 27,
   "metadata": {},
   "outputs": [
    {
     "name": "stdout",
     "output_type": "stream",
     "text": [
      "{'id': 42187308, 'first_name': 'Иван', 'last_name': 'Александров', 'is_closed': False, 'can_access_closed': True}\n"
     ]
    }
   ],
   "source": [
    "clean_member_id = [ ] # сюда будем записывать хорошие\n",
    "\n",
    "for item in infa['response']:\n",
    "    \n",
    "    try: # попробуй сделать вот это\n",
    "        \n",
    "        # если пользователь не удален, не приватный, а ещё недавно был в сети \n",
    "        if ('deactivated' not in item) and \\\n",
    "           (item['is_closed'] == False) and \\\n",
    "           (item['last_seen']['time'] >= time.time() - 30*24*60*60):\n",
    "\n",
    "                    clean_member_id.append(item) # запоминаем его \n",
    "    \n",
    "    except: # если питон говорит, что ошибся, сделай вот это \n",
    "        print(item)"
   ]
  },
  {
   "cell_type": "markdown",
   "metadata": {},
   "source": [
    "Одного человека мы просто игнорируем. Не большая потеря для выборки. "
   ]
  },
  {
   "cell_type": "code",
   "execution_count": 29,
   "metadata": {},
   "outputs": [
    {
     "data": {
      "text/plain": [
       "242"
      ]
     },
     "execution_count": 29,
     "metadata": {},
     "output_type": "execute_result"
    }
   ],
   "source": [
    "len(clean_member_id) # из 300 осталось 294"
   ]
  },
  {
   "cell_type": "markdown",
   "metadata": {},
   "source": [
    "Это надо сделать со всеми id из списка, который мы скачали. Напишем для этого функцию и цикл. "
   ]
  },
  {
   "cell_type": "code",
   "execution_count": 30,
   "metadata": {},
   "outputs": [],
   "source": [
    "def filter_members(memes_id):\n",
    "    \n",
    "    # сделали id текстом\n",
    "    memes_id_text = [str(item) for item in memes_id]\n",
    "    \n",
    "    clean_memes_id = [ ] # список для хорших id \n",
    "    \n",
    "    # качаем информацию кусочками по 300 штук\n",
    "    for i in range(len(memes_id_text)//300):\n",
    "                \n",
    "        time.sleep(0.4) # немного подождали, чтобы вк нас не банил\n",
    "        \n",
    "                                                         # взяли текущие 300 человек из списка\n",
    "        infa = vk_download('users.get','user_ids=' + ','.join(memes_id_text[i*300:(i+1)*300]) + '&fields=last_seen')\n",
    " \n",
    "        \n",
    "\n",
    "        # чистим пользователей\n",
    "        for item in infa['response']:\n",
    "\n",
    "            try: # попробуй сделать вот это\n",
    "\n",
    "                # если пользователь не удален, не приватный, а ещё недавно был в сети \n",
    "                if ('deactivated' not in item) and \\\n",
    "                   (item['is_closed'] == False) and \\\n",
    "                   (item['last_seen']['time'] >= time.time() - 30*24*60*60):\n",
    "\n",
    "                            clean_memes_id.append(item) # запоминаем его \n",
    "\n",
    "            except:   # если питон говорит, что ошибся, сделай вот это \n",
    "                pass  # (ничего не делай) \n",
    "    \n",
    "\n",
    "    # можно выводить инфу на экран вот так\n",
    "    print('остаось {} человек'.format(len(clean_memes_id)))\n",
    "    \n",
    "    return clean_memes_id # вернули из функции чистые id"
   ]
  },
  {
   "cell_type": "markdown",
   "metadata": {},
   "source": [
    "Применяем эту функцию ко всем группам. "
   ]
  },
  {
   "cell_type": "code",
   "execution_count": 31,
   "metadata": {},
   "outputs": [
    {
     "name": "stdout",
     "output_type": "stream",
     "text": [
      "Фильтрую id из группы hse_memes\n",
      "остаось 39581 человек\n",
      "Фильтрую id из группы ml_memes\n",
      "остаось 7595 человек\n",
      "Фильтрую id из группы fizkek\n",
      "остаось 18172 человек\n",
      "Фильтрую id из группы amdevs\n",
      "остаось 24436 человек\n",
      "Фильтрую id из группы female_memes\n",
      "остаось 19197 человек\n",
      "Фильтрую id из группы ukr_memes\n",
      "остаось 15472 человек\n",
      "Фильтрую id из группы bad_memes1\n",
      "остаось 20466 человек\n",
      "Фильтрую id из группы bad_memes2\n",
      "остаось 28738 человек\n",
      "Фильтрую id из группы wtf_memes\n",
      "остаось 3236 человек\n",
      "CPU times: user 22.4 s, sys: 1.77 s, total: 24.2 s\n",
      "Wall time: 13min 52s\n"
     ]
    }
   ],
   "source": [
    "%%time\n",
    "clean_members = { } # сюда будем класть всех прочищеных членов групп по очереди\n",
    "\n",
    "for k,v in members.items():\n",
    "    print('Фильтрую id из группы', k)\n",
    "    infa = filter_members(v)\n",
    "    clean_members[k] = infa    "
   ]
  },
  {
   "cell_type": "markdown",
   "metadata": {},
   "source": [
    "__Первый вывод:__ манишлернеры какие-то хикки, закрывают свои страницы. А в группу кривого зеркала никто похоже не заходит. Петросян нагнал ботов. Снова на всякий случай сохраним все id. "
   ]
  },
  {
   "cell_type": "code",
   "execution_count": 32,
   "metadata": {},
   "outputs": [],
   "source": [
    "with open('group_clean_members.pickle', 'wb') as f:\n",
    "    pickle.dump(clean_members, f)"
   ]
  },
  {
   "cell_type": "markdown",
   "metadata": {},
   "source": [
    "# 4. Скачиваем стены\n",
    "\n",
    "Для каждого пользователя скачаем со стены $100$ записей. Снова если вк не разрешает нам сделать этого, будем игнорировать id. Приватные аккаунты всё ещё остались в выборке :( "
   ]
  },
  {
   "cell_type": "code",
   "execution_count": 33,
   "metadata": {},
   "outputs": [
    {
     "data": {
      "text/plain": [
       "66203"
      ]
     },
     "execution_count": 33,
     "metadata": {},
     "output_type": "execute_result"
    }
   ],
   "source": [
    "cur_id = clean_members['hse_memes'][10]['id']\n",
    "cur_id"
   ]
  },
  {
   "cell_type": "code",
   "execution_count": 34,
   "metadata": {},
   "outputs": [
    {
     "data": {
      "text/plain": [
       "100"
      ]
     },
     "execution_count": 34,
     "metadata": {},
     "output_type": "execute_result"
    }
   ],
   "source": [
    "wall = vk_download('wall.get', 'owner_id='+str(cur_id)+'&count=100')\n",
    "wall = wall['response']['items']\n",
    "len(wall)"
   ]
  },
  {
   "cell_type": "code",
   "execution_count": 35,
   "metadata": {},
   "outputs": [
    {
     "data": {
      "text/plain": [
       "{'id': 1142,\n",
       " 'from_id': 3214918,\n",
       " 'owner_id': 66203,\n",
       " 'date': 1569920551,\n",
       " 'post_type': 'post',\n",
       " 'text': '',\n",
       " 'attachments': [{'type': 'photo',\n",
       "   'photo': {'id': 457239688,\n",
       "    'album_id': -5,\n",
       "    'owner_id': 3214918,\n",
       "    'sizes': [{'type': 'm',\n",
       "      'url': 'https://sun9-31.userapi.com/c853620/v853620720/10f167/Q7LDKLAdo-k.jpg',\n",
       "      'width': 130,\n",
       "      'height': 127},\n",
       "     {'type': 'o',\n",
       "      'url': 'https://sun9-42.userapi.com/c853620/v853620720/10f16c/Qku2YoEhnnc.jpg',\n",
       "      'width': 130,\n",
       "      'height': 127},\n",
       "     {'type': 'p',\n",
       "      'url': 'https://sun9-45.userapi.com/c853620/v853620720/10f16d/1rkFY4rLQco.jpg',\n",
       "      'width': 200,\n",
       "      'height': 196},\n",
       "     {'type': 'q',\n",
       "      'url': 'https://sun9-48.userapi.com/c853620/v853620720/10f16e/p5xtuqmDqfk.jpg',\n",
       "      'width': 320,\n",
       "      'height': 313},\n",
       "     {'type': 'r',\n",
       "      'url': 'https://sun9-17.userapi.com/c853620/v853620720/10f16f/I1H44yKBg4Y.jpg',\n",
       "      'width': 510,\n",
       "      'height': 499},\n",
       "     {'type': 's',\n",
       "      'url': 'https://sun9-62.userapi.com/c853620/v853620720/10f166/35y_xe5QTnc.jpg',\n",
       "      'width': 75,\n",
       "      'height': 73},\n",
       "     {'type': 'w',\n",
       "      'url': 'https://sun9-10.userapi.com/c853620/v853620720/10f16b/0GcjZFD84YM.jpg',\n",
       "      'width': 1125,\n",
       "      'height': 1102},\n",
       "     {'type': 'x',\n",
       "      'url': 'https://sun9-24.userapi.com/c853620/v853620720/10f168/iIyNbLDCdhc.jpg',\n",
       "      'width': 604,\n",
       "      'height': 591},\n",
       "     {'type': 'y',\n",
       "      'url': 'https://sun9-29.userapi.com/c853620/v853620720/10f169/UNIjjQMn3jc.jpg',\n",
       "      'width': 807,\n",
       "      'height': 790},\n",
       "     {'type': 'z',\n",
       "      'url': 'https://sun9-27.userapi.com/c853620/v853620720/10f16a/NWVjVlGQg5E.jpg',\n",
       "      'width': 1103,\n",
       "      'height': 1080}],\n",
       "    'text': '',\n",
       "    'date': 1569920549,\n",
       "    'access_key': '932581d5133d368ab8'}}],\n",
       " 'post_source': {'type': 'api', 'platform': 'iphone'},\n",
       " 'comments': {'count': 2, 'can_post': 1, 'groups_can_post': True},\n",
       " 'likes': {'count': 0, 'user_likes': 0, 'can_like': 1, 'can_publish': 0},\n",
       " 'reposts': {'count': 0, 'user_reposted': 0},\n",
       " 'is_favorite': False}"
      ]
     },
     "execution_count": 35,
     "metadata": {},
     "output_type": "execute_result"
    }
   ],
   "source": [
    "wall[0]"
   ]
  },
  {
   "cell_type": "markdown",
   "metadata": {},
   "source": [
    "Будем как на паре вытаскивать тексты постов и тексты репостов. "
   ]
  },
  {
   "cell_type": "code",
   "execution_count": 36,
   "metadata": {
    "scrolled": false
   },
   "outputs": [],
   "source": [
    "post_texts = [cur['text'] for cur in wall]\n",
    "repost_texts = [cur['copy_history'][0]['text'] if 'copy_history' in cur else '' for cur in wall]"
   ]
  },
  {
   "cell_type": "markdown",
   "metadata": {},
   "source": [
    "Их будем соединять в один огромный пост. "
   ]
  },
  {
   "cell_type": "code",
   "execution_count": 37,
   "metadata": {
    "scrolled": false
   },
   "outputs": [
    {
     "data": {
      "text/plain": [
       "' С Днем рождения, Юлия, личного счастья и успехов в профессиональной деятельности!)  Внимание! Открывается ежегодный летний набор на обучение английскому и французскому языкам :) Опыт более 10 лет, магистратура Сорбонны, стажировки за границей, все уровни, бизнес-курсы, курсы для путешествий, грамматика, международные экзамены. Лично или по Скайпу. Некоторые отзывы можно почитать тут https://profi.ru/profile/LamekinaUN/?tab=reviews#reviews-tab. Прошу лайков и репостов. Обращайтесь! :) Номер телефона поменялся, пишите в личку. Кто хотел еще на эксперименты, вперед к Кириллу)   Итак, ребятки, хватит развлекаться, настало время внести свой вклад в науку :)\\n\\nПриглашаем вас на ЭЭГ-эксперимент, связанный с изучением процессов восприятия речи и внимания. Эксперимент проходит в в Центре Нейроэкономики и Когнитивных Исследований НИУ ВШЭ на Кривоколенном переулке, д 3а (м Лубянка, Чистые пруды) и занимает 2-3 часа вашего времени (зависит от вашей головы ;).\\nОт вас :\\n- 18 - 40 лет\\n- Родной язык - русский\\n- Правши \\n- С нормальным или скорректированным зрением (с очками и линзами можно) \\n- Без личной истории неврологических и психиатрических заболеваний\\n\\nОт нас:\\n- возможность узнать больше о человеческом мозге и процессах восприятия\\n- возможность понаблюдать за работой современного научного центра по изучению мозга, использующего новейшее оборудование\\n- чай, кофе, печеньки, приятная атмосфера :)\\n- ! Новогодний бонус! - возможность сделать селфи в виде елочки (см. фото)\\nОбращаться в личку) Прошу репост, особенно коллег)  😉 Открытки и поздравления! 😉 \\n\\n    Новая открытка для Вас\\n\\n    смотреть здесь ==> http://vk.com/app1803950 ❤ С Днем рождения!!!\\nСбычи мечт!!! Счастья и любви!!! С ДНЁМ РОЖДЕНИЯ !!!! Юлечка, с Днём варенья!🍾🎂🎉🎁 Юлечка, с днём Рождения тебя!🎂💐🎁 Друзья, в связи с освободившимися местами набираю дополнительно учеников по английскому и французскому языкам. Опыт более 10 лет, магистратура Сорбонны, все уровни, бизнес-курсы, курсы для путешествий, грамматика, постановка произношения, международные экзамены. Обращайтесь! :) Venice carnival Юля собирается на пару 👌😊 С днём Рождения, Юлечка!🎁🎂🎉💐🍾 Юля!!! Поздравляю с Днём Варенья! Желаю здоровья, любви, счастья и всяческих успехов!))) Кириль фром Пэрис уив лав) С Днем рождения Поздравляю!!!!!!!!!!!!\\n 😃 Картинки и открытки ♥ vk.com/fotomagic_su ♥ Поздравляю с днём рождения)))\\nЖелаю много радости и любви\\n 💐 🎈С днём рождения!🎉 дохлая мышь в московском метро) Ребятки, у нас снова концерт)) кто хочет пойти на RHCP и Сплин 09.07? Не могу не поделиться, насколько это было круто!!!)))) И шоу, и звук!!! И ВСЕ старые песни, как будто тебе опять 16)))) Планирую сходить на Sensation white 18.06 и максидром с Rammstein 19.06. Кто тоже идет или хочет пойти?)) Настроение!   Ребятки, кто хочет сходить/уже идет на Земфиру 1го числа? Юлька,  с праздником! :) Успеха, радости и весеннего настроения!:) С 8 марта!\\n 😃 Картинки и открытки ♥ vk.com/fotomagic_su ♥ С Рождеством!\\n 😃 Красивые картинки и открытки ♥ vk.com/fotomimi ♥ Привет Декабрь Год Обезьяны 2016\\n 😃 Красивые картинки и открытки ♥ vk.com/fotomimi ♥ Отправлено через ♥ http://vk.com/app1783280 ♥ С днем Рождения, Юлечка!💐🍰🎈🎁Всего самого доброго и светлого тебе!💫✨💫  😉 Вам открытка —->  ❤ http://vk.com/app2324342 ❤    С НОВЫМ ГОДОМ !!!!!!\\n😉 Вам открытка —->  ❤ http://vk.com/app2324342 ❤ 🌷 http://vk.com/flower_cards#4634949 😃   С Днём Рождения, Джули!))))\\nСчастья, радости, удачи!!!))))) С Днём Рождения, Юля!) С Днём Варенья! Поменьше тебе проблем и побольше счастья! :) С днем Рождения!!!! )))) С ДНЁМ РОЖДЕНИЯ СЕСТРЁНКА !!!! Юля, с Днём Рождения!!! С днём рождения!!! Счастья-позитива каждый день )) Хэй Хэй Хэй!! С днём Варенья!))) 🌷 http://vk.com/flower_cards#4586647 😃 🌷 http://vk.com/flower_cards#4586647 😃   ☆Отправлено через http://vk.com/top_cards#638596 #TopCards #открытки Пусть первый подснежник\\nПодарит Вам нежность!\\nВесеннее солнце подарит тепло!\\nА мартовский ветер подарит надежду,\\nИ счастье, и радость, и только добро! Сегодня, в день Восьмое Марта,\\nПусть солнышко сияет ярко,\\nПусть радость, счастье принесет,\\nИ пусть успех не обойдет.\\nЗдоровья крепкого желаю,\\nС весной пришедшей поздравляю!\\n\\n☆Отправлено через http://vk.com/top_cards#3961657 #TopCards #открытки весна\\n😃 Красивые картинки и открытки ♥ vk.com/fotomimi ♥  С РОЖДЕСТВОМ!!\\n✔ Красивые картинки и открытки ♥ vk.com/fotomimi ♥ Дорогая, поздравляю с Новым Годом!!! Пусть он побьет все рекорды по исполнению желаний! : ) ☆Отправлено через http://vk.com/app1808497#4384511    Приехала в Москву на неделю, желающие встретиться велкам)) Юлька с Днем Рождения тебя!!! От всего сердца желаю тебе преогромнейшего счастья , радости , любви, крепкого здоровья и удачи во всем!!! Пусть сбудутся все мечты и ожидания! Урааа очень скучаю по тебе! Спасибо всем большое!!! Тут плохо со связью и проблематично отвечать( но я.все дошло по адресу, не сомневайтесь)) С Днем Рождения, Юль) С Днём Рождения! ;) Юлька!!!с днем рождения!!!будь здорова,счастлива,весела,чтоб все-все сбывалось и всяких эксессов не случалось никогда!!!уррра!!!!)))) С Днем Рождения!!! Счастья, здоровья и успехов по жизни!!! С Днем Рождения,Юлечка!!!!Всего самого наилучшего!!исполнения самых заветных желаний!!!! С Днем Рождения! Всего самого светлого и прекрасного☺ Поздравляю с Днём Рождения !!!!!!!!!\\nОтправлено через - ♥ http://vk.com/app1803950 ♥ Сестренка, с днем рождения! :*** С днём рождения!!!! Всего только самого светлого и радостного!! Юля, с Днём Рождения!!!! всего самого вкусного как этот торт)) С днем рождения, Юлечка!Всего самого доброго и светлого тебе!;))) Созвонимся,когда вернешься тогда! Пока ничего делать не надо,я просто решила предупредить заранее))) хорошего тебе отдыха!  Есть лишний билет на концерт Сургановой 21 июня. Кто желает?))  ☆Отправлено через https://vk.com/app1808497#3978058 8 марта\\n• Красивые картинки и открытки ► vk.com/fotomimi ◄ Спасибо Вам за то, что делаете мою жизнь ярче!!!\\n☆Отправлено через https://vk.com/top_cards#3966681 ☆Отправлено через https://vk.com/top_cards#3959095 ☆Отправлено через https://vk.com/top_cards#3088614 ☆Отправлено через https://vk.com/app1808497#3918814 ☆Отправлено через https://vk.com/top_cards#3869471 ☆Отправлено через https://vk.com/top_cards#3871007  Просто чтоб ты улыбнулась))\\nХорошего дня))))))))))))))\\n• Красивые картинки и открытки ► vk.com/fotomimi ◄    Дорогие друзья! \\nВ центре нейроэкономики и когнитивных исследований НИУ ВШЭ (https://www.hse.ru/cdm-centre/) проводится исследование с использованием электроэнцефалографии (ЭЭГ). \\n \\nВам не придется нажимать на кнопки, дергать джойстик и вообще хоть как-то напрягаться. Просто смотрите мультфильм и отвечаете на пару вопросов по сюжету. Все это в шапочке с электродами!!!\\n\\nУсловия для участия: \\n- вы должны быть правшой; \\n- у вас и ваших ближайших родственников (родителей, братья сестры) не должно быть психических и неврологических заболеваний; \\n- вы не должны принимать какие-либо лекарства, влияющие на центральную нервную систему; \\n- у вас не должно быть сотрясений мозга и серьезных травм головы; \\n- к сожалению, если вы носите линзы - вы нам не подходите (но если вы можете надеть очки вместо линз - все будет отлично);\\n- у вас должен быть нормальный или скорректированный до нормального слух. \\n\\nДлительность эксперимента: 1-1,5 часа на установку электродов + 1 час просмотра мультфильма. \\n \\nЭксперимент проводится с середины ноября и до конца декабря по адресу: г. Москва, Кривоколенный пер., д. 3, стр. 1. Кто готов поучаствовать, пишите в лс. И записывайтесь в гуглдок: https://docs.google.com/spreadsheets/d/1TR8B_7rNRr2D4maVwfXZ-qV9kjowNuumy-bZrfbgtYQ/edit?usp=sharing \\n\\nРепосты приветствуются!   Итак, этот день настал. Друзья, вы наверняка заметили что я либо перестал с вами общаться, либо стал злоупотреблять какими-то непонятными странными словечками. Нет, я не сошел с ума, просто я учусь в магистратуре Вышки на программе «Когнитивные науки и технологии»! Моя прекрасная учеба подходит к кульминации и я приглашаю вас поучаствовать в своем эксперименте - не упустите лимитированную возможность помочь нейронауке, пробраться в секретную лабораторию оборудованную технологиями из будущего и узнать о последних трендах в исследованиях мозга из первых уст.\\nЭксперимент состоит из двух частей:\\n\\n· I этап : фМРТ сканирование. Проходит в Лечебном реабилитационном центре каждое воскресенье начиная с 16 часов, по адресу Иваньковское шоссе, д.3 ст. метро Сокол, Щукинская, Стрешнево. Вам нужно будет смотреть на лица и дома внутри сканера. Эксперимент занимает около 15 минут. Эта часть не оплачивается материально, зато в качестве бонуса по результатам сканирования вам будет предоставлена небольшая консультация по результатам МРТ, можно будет повертеть свой мозг со всех сторон, а также сделать его снимки с любого понравившегося ракурса.\\n\\n· II этап : Эксперимент с использованием ТМС. Проходит в лаборатории НИУ ВШЭ, по адресу Кривоколенный переулок дом 3, метро Чистые Пруды. Теперь вам нужно будет выполнять задание на идентификацию объектов, а в это время я буду направлять магнитное поле на кору вашего мозга (это не больно и безопасно). Эксперимент занимает примерно 3 часа и оплачивается из расчета 250 р/час.\\n\\nУсловия участия:\\n\\n· Возраст 18-30 лет\\n· Нормальное или скорректированное зрение\\n· Праворукость\\n· Отсутствие металлических имплантов в теле\\n· Отсутствие неврологических заболеваний\\n\\nРепост все дела  Привет, народ! \\nЯ хочу пригласить вас принять участие в нашем поведенческом эксперименте по обработке эмоциональной информации. Нужно будет сидеть перед компьютером, смотреть на картинки и отвечать на опросники. \\nЭтот эксперимент только для русских. В награду за прохождения вам обещаны вкусняшки. Вся процедура займет от 30 минут до 1 часа. \\nЭксперимент проходит на факультете психологии Высшей школы экономики (Армянский переулок, д.4, стр. 2)\\nВы можете связаться со мной через email (arm.raheem@gmail.com) или отправить мне сообщение Вконтакте.\\nОчень ждём!  Сдаётся одна из двух комнат в квартире у м. Свиблово \\nул. Уржумская, рядом с метро. \\n \\nКомната просторная, около 18 кв.м., есть балкон (см. фотографии). \\n19000+ коммунальные услуги и интернет. \\n \\n \\nЯ снимаю соседнюю комнату, ищу себе соседа, я из Мексики, учу русский язык и работаю. \\nГоворю по-испански, по-английски, немного по-русски. \\nПишите в личные сообщения.                    ВНИМАНИЕ!!! АТТРАКЦИОН НЕСЛЫХАННОЙ ЩЕДРОСТИ!\\nВ целях освобождения пространства для новых свершений, продам картины по приятным ценам от 500 рублей! Не знаете, что подарить другу на день рождения? Подарите картину! :) По всем вопросам пишите в личку. Альбом будет пополняться. \\nРепост укрепляет дружбу)            Друзья!\\n\\nС апреля будет сдаваться наша 1-комнатная квартира в Королеве (пока мы в ней живем).\\n\\nОт Ярослаского вокзала 35 мин на электричке до ст Подлипки Дачные, от нее 10 мин пешком.\\n\\nКвартира на 7 этаже 9-этажного кирпичного дома, дом находится почти в лесу. В квартире достаточно свежий ремонт, встроенная кухня с посудомойкой, в комнате кондиционер, вся необходимая мебель (диван, гостиная, вместит шкаф, комп стол), в ванной стиралка. Есть большая застекленная лоджия с тумбой и шкафом.Проведен интернет, есть телефон, 2 метал двери.\\n\\nЦена - 25.000 руб в мес + оплата телефона и электричества. Фото вышлю в личку.\\n\\nОбращаться либо в личку, либо по телефону - 8 926 155 17 89    Я сейчас хочу и прошу только одного, чтобы эта запись собрала столько же перепостов, сколько и лайков.\\n\\nМы с сыном Санькой купили в зоомагазине корм нашему коту и побрели в сторону дома.\\nВо дворе на снегу сидел рыжий щенок. Он переминался с лапки на лапку и слушал девушку, которая, как и мы, просто шла мимо, но, увидев малыша, остановилась. Щенок смотрел на нее, поворачивая мордочку, то влево, то вправо, а иногда нервно слизывал с земли снег. Девушка, как будто ожидая ответа, спрашивала у щенка: «Да откуда ты такой?», «Да что с тобой случилось?», «Замерз, маленький?» - в глазах у нее стояли слезы.\\nМы с Санькой тоже стали расспрашивать пса, и я тоже чуть не плакала.\\n- У меня дома большая собака, я не потяну вторую, - сказала девушка.\\n- Мы тоже не можем взять – у нас кот.\\n- Что у него с ушами, я не пойму? – испугалась девушка.\\n- У него их нет, - присмотрелась я.\\nУ щенка были обрезаны оба уха. Обрезаны почти под корень. Раны свежие.\\nМы стояли перед собакой, не зная, что делать, не зная, на кого переложить эту ответственность. Я думала о нашем коте, о том, что коты иногда дружат с собаками, о том, что я зареклась заводить собаку, о том, что нас часто не бывает дома и мы не можем…. О том, что щенка надо срочно вести к ветеринару, о том, что прием стоит денег, а у меня в кармане последняя тысяча.\\n- Давайте отнесем его в зоомагазин, там принимает ветеринар, - предложила я. И мы стали ловить щенка. Оказалось, он нас боялся и близко к себе не подпускал. Я достала кусочек кошачьего корма и подманила безухого. Поймали. Понесли к доктору. По дороге познакомились, разделили ответственность и приняли решение: оказываем первую помощь, затем Аня забирает щенка к себе на передержку, а я занимаюсь поиском хозяина для него.\\nВот, собственно, поэтому, друзья, я вам и пишу.\\n\\nВетеринар осмотрел щенка и заключил:\\n- Щенку месяца два – два с половиной, вырастет крупным, килограмм на 25, по размеру будет как ротвейлер.\\nЧто с ушами, доктор толком не понял, якобы непрофессионально купировали, даже швы не наложили. Не буду произносить вслух, что мы с Аней думаем по поводу этого купирования, не похоже оно на улучшение экстерьера, тем более у беспородной собаки.\\nВетеринар уколол щенку антибиотик и обработал уши лекарством. Когда трогали ушки, пес орал истошно, человеческим голосом. Сын Санька не выдержал, обхватил голову и выбежал из кабинета. А вечером перед сном он, потрясенный, спросил: «Мама, разве могут собаки таким голосом кричать? Я думал, они только лают и рычат».\\nВ кабинет сбежался весь персонал - все смотрели на безухого и жалели его. Зашел охранник, спросил, что с ушами? Зашла кассир, узнать, где мы его взяли, покупатели в зале забеспокоились, подошла девушка-ветеринар, чтобы помочь.\\nЩенок сидел послушно. От лекарства у него окрасились уши в невероятный бирюзовый цвет, и теперь он, со своими щенячьими глазами выглядел, как птица счастья.\\nВрачи объяснили нам, как, когда и что колоть, подобрали шампунь от блох, глистогонный препарат, лакомство и корм. Кое-что подарили, кое-что продали с большой скидкой. Аня взяла пса на руки, и мы понесли его к ней домой.\\nАня боялась, что грязный щенок перепачкает всю квартиру, и собралась было надеть на него ошейник, чтобы привязать в прихожей, но, увидев ошейник, пес заорал так же истошно, как на столе у ветеринара, забился в угол. Ошейник спрятали. Успокоился, выпил очень много воды (стало понятно, почему он слизывал снег с земли) и крепко уснул. Расстались, договорившись - я вернусь с фотоаппаратом, чтобы сфотографировать найденыша для публикации в соцсетях.\\nК моему возвращению Аня помыла щенка и еще раз обработала раны. От еды он пока отказался.\\nЯ сделала несколько фотографий этого милого настрадавшегося ребенка. Я смотрю на них и плачу. Даже не хочу думать о том, что ему пришлось пережить. Хочу думать о хорошем: мы его вылечим, мы найдем ему хозяина, и он будет самым счастливым псом Безуховым, ведь правда?\\nПомогите нам с Аней, пожалуйста! Советом, звонком, перепостом. Пошлите эти фотографии знакомым, расскажите о собаке друзьям, подумайте, может сами возьмете Безухого?\\nМои контакты: 8-903-226-71-76\\nkazarinavika@mail.ru\\nВиктория. Дорогие друзья, друзья друзей, знакомые и совсем чужие люди. Ниже следует коммерческое объявление. Вы его обязаны прочитать, хотя бы из любопытства.\\n\\nСнять квартиру в Москве непросто, а иногда недешево вовсе. Тот, кто арендует жилье, знают, что при каждой смене квартиры нужно готовиться морально и физически отдать три суммы сразу. Именно поэтому иногда важно и удобно пользоваться репостами друзей, которые кому-то помогают обрести жилье, а себе – зарабатывают плюсы в карму.\\nИтак, вашему вниманию предлагается чудесная уютная квартира эконом-класса в ЮЗАО, расположенная в непосредственной близости от метро Каховская/ Севастопольская (пешком 12 минут). Также до нее легко добраться наземным транспортом от метро Новые Черемушки, Калужская, Профсоюзная, Университет, Проспект Вернадского, Варшавская.\\n\\nКвартира однокомнатная с перепланировкой – комната разделена на две: основную, большую комнату, «зал», и маленькую, без окна. Очень удобно, когда кто-то допоздна смотрит телевизор, а кто-то хочет лечь спать пораньше. Очень удобно, когда приезжают гости. Очень удобно, когда есть ребенок. Идеально подойдет для пары, для двоих друзей, подруг, пары с ребенком. Можно жить и втроем, если соблюдать правила общежития. Хочу отметить, что в маленькой есть вся необходимая мебель: кровать, шкаф, комод – она обставлена, как полноценная комната.\\n\\nВ квартире есть все для комфортной жизни: газовая плита, холодильник, стиральная машина, балкон, практически незахламленный, мебель времен примерно Путина, Ельцина, не Тутанхамона. Для съемной квартиры очень даже. Я видела много съемных, и среди них были либо дорогие, с евроремонтом, либо дешевые и так себе. Эта квартирка – уютненькая.\\n\\nОтдельным плюсом нужно отметить хозяина квартиры – он в Москве бывает редко, раз в полгода, - идеальный домовладелец. Плату за аренду нужно относить в банк, на его счет. При заселении потребуется оплата за первый месяц и так называемый депозит, оплата за последний месяц.\\n\\nВсем заинтересовавшимся фотографии, стоимость - 35 000 плюс коммунальные платежи (около двух тысяч). Не упустите свой шанс снять квартиру в Москве недорого! :)           Ищу жильцов в квартиру однокомнатную, метро Коньково, 5-8 минут ходьбы от метро, Профсоюзная 119. Цена вопроса - 30к + коммуналку самостоятельно (около 4к). Квартира в хорошем состоянии, не возражаем против животных. Заезд с сентября. Вопросы, если можно, в почту alexvir на ящике гмейл.ком.\\nФото см. тут http://vk.com/album966471_200838469\\nПравда они с 2013 года, сейчас там сделан новый шкаф купе в прихожей, и несколько еще вещей отремонтировано. Новые фото попробую сделать попозже.\\n\\nПрошу помочь распространить ) У меня складывается такое ощущение, что всем есть где жить... Что, никому не нужно перекантоваться?\\n\\nРаскрываю карты: за житьё со мной нужно заплатить 6 тысяч рублей до конца июля, можно приехать хоть завтра, плюс с 23 июня чуть ли не до середины июля меня не будет в городе, то есть моя потенциальная соседка будет жить вообще одна.\\n\\nШикарные условия же, повторяю, пять минут от метро Молодежная, белая комната, двухэтажная кровать, волшебный шар, книги, рядом Крылатские Холмы и Филёвский Парк, чистый воздух. \\n\\nТеперь вот уже очень прошу репост, уважаемые друзья!     Сдам квартиру м. Щелковская. Без комиссии. Перепост, пожалуйста!)    Серия принтов \"Букварь\" от Елены Щелкун The first rule of procrastination club will be covered on the next meeting.\\n\\n#illness@sickipedia Буду благодарна репосту.\\nВашему вниманию представляется однокомнатная квартира (47 кв.м.) на юго-западе Москвы, улица Новаторов, 36-3, в 22-этажном новом панельном доме на 20 этаже, полностью обставленная. Квартира сдается впервые на длительный срок, от 2 лет. Подъезд ухоженный, есть консьерж, этаж закрыт на ключ, везде сделан ремонт.\\nМы бы не хотели животных в квартире (но можем договориться о стерилизованном\\\\кастрированном животном), рассматриваем семьи без детей.\\nЦена аренды: 45 000 рублей в месяц, куда входит кварплата, оплата консьержа и уборки 2 раза в месяц (если Вы сами готовы справиться с уборкой и содержать квартиру в чистоте, цена с удовольствием может быть снижена). Отдельно, по счетчикам оплачиваются вода и электричество. На данный момент работает беспроводной интернет, цифровое тв, если то не потребуется, мы все отключим. Квартира полностью обустроена и готова для проживания, есть гардеробная, очень удобная для использования. Район зеленый и спокойный, рядом находится Воронцовский парк, вокруг много супермаркетов и торговых центров. 10 минут до метро Калужская или пр-т Вернадского, 15 минут до метро Новые Черемушки. Пожалуйста, пишите, ego_trip@mail.ru или сюда, Лена.                  Друзья! Я в ближайшее время съезжаю со съемной 1к. квартиры на Ломоносовском, д.3-1 (прямо посередине между м. Университет и м. Профсоюзная). У вас есть возможность снять её без агенсткой комиссии! Площадь: 20 м. комната и 6 м. кухня, есть балкон, 3 этаж. Цена - 27-28 тыс + коммунальные платежи. Много фото здесь - http://share.pho.to/1g68X. \\n\\nОкна пластиковые и батареи зимой греют хорошо. На данный момент в квартире нет спальных мест. Из того, что видно на фото останутся большие шкафы, стиральная машина, плита, кухонный стол, пара табуреток и письменный стол. Можете выкинуть имеющуюся мебель и завезти свою. \\n\\nХозяйка отличная, приезжает за деньгами раз в месяц и больше вас не трогает. С ней можно будет договориться, если вы захотите сделать ремонт в счет аренды.\\n\\nЕсли есть вопросы, задавайте в личку.         Продаем свою двушку по переуступке в г. Железнодорожный в строящемся (скорее достраивающемся) микрорайоне «Центральный» за 4600 т/р. Общая площадь -55,15 кв. м, кухня-9, комнаты- 17,25 и 11,45. Дом уже построен, сдача (и, собственно, получение ключей) в июне. Квартира будет уже с ремонтом (прозванным в народе «евро») от застройщика. Всевозможные блага цивилизации: поликлиники, школы, садики и пр. – в шаговой доступности. До станции 15 минут пешком. Вопросы в личку,плиз.\\nР.S. репост данного сообщения способствует улучшению кармы   Для комфортного проживания ищу соседа в 3-шку. Университетский проспект, 23к2.\\n\\nСейчас живем вдвоем, я и мой друг Максим.\\nМне 24 года, выпускник МГУ.\\nМакс дизайнер, а я работаю в IB.\\n\\nКомната просторная и чистая 25 метров, все есть: диван кожаный, стол, шкаф. Подъезд чистый. До Киевской 10 минут на маршрутке.\\nЦена:18к.\\n\\nЧувство юмора и доброжелательное отношение к жизни приветствуется)\\nСрочно.\\n\\nСпасибо за репост)'"
      ]
     },
     "execution_count": 37,
     "metadata": {},
     "output_type": "execute_result"
    }
   ],
   "source": [
    "wall_text = ' '.join(post_texts) + ' '.join(repost_texts)\n",
    "wall_text"
   ]
  },
  {
   "cell_type": "markdown",
   "metadata": {},
   "source": [
    "Все такие стены будем сохранять. Для этого напишем функцию и цикл. "
   ]
  },
  {
   "cell_type": "code",
   "execution_count": 63,
   "metadata": {},
   "outputs": [],
   "source": [
    "def get_wall(user_id):\n",
    "    \n",
    "    # скачели стену \n",
    "    wall = vk_download('wall.get', 'owner_id='+str(user_id)+'&count=100')\n",
    "    \n",
    "    # распаковали её\n",
    "    wall = wall['response']['items']\n",
    "    post_texts = [cur['text'] for cur in wall]\n",
    "    repost_texts = [cur['copy_history'][0]['text'] if 'copy_history' in cur else '' for cur in wall]\n",
    "    \n",
    "    # соединили все посты и репосты в один длинный текст\n",
    "    wall_text = ' '.join(post_texts) + ' '.join(repost_texts)\n",
    "    return wall_text"
   ]
  },
  {
   "cell_type": "markdown",
   "metadata": {},
   "source": [
    "Из каждого паблика скачаем $1000$ рандомных стенок. "
   ]
  },
  {
   "cell_type": "code",
   "execution_count": 88,
   "metadata": {},
   "outputs": [],
   "source": [
    "wall_members = [ ] # сюда будем сохранять стенки"
   ]
  },
  {
   "cell_type": "code",
   "execution_count": null,
   "metadata": {},
   "outputs": [
    {
     "name": "stdout",
     "output_type": "stream",
     "text": [
      "Качаю стены участников из группы hse_memes\n"
     ]
    }
   ],
   "source": [
    "%%time \n",
    "for k,v in clean_members.items():\n",
    "    print('Качаю стены участников из группы', k)    \n",
    "    \n",
    "    cur_members = np.array(v) \n",
    "    cur_sample = np.random.choice(cur_members, 1000, replace = False)\n",
    "    \n",
    "    for item in v:\n",
    "    \n",
    "        time.sleep(0.4) # отдыхаем между запросами \n",
    "        \n",
    "        # попробуй, если код упал, напечатай мне id пользователя\n",
    "        try:\n",
    "            # распаковываем стену пользователя \n",
    "            wall_text = get_wall(item['id'])\n",
    "\n",
    "            cur_item = {'group': k, 'id': item['id'], 'wall': wall_text}\n",
    "\n",
    "            wall_members.append(cur_item)\n",
    "        except:\n",
    "            print('Ошибка!', item) \n",
    "        "
   ]
  },
  {
   "cell_type": "markdown",
   "metadata": {},
   "source": [
    "Этот код будет работать довольно долго. Скачка будет идти со скоростью примерно $10000$ записей со стенок в час. Но тем не менее, он скачает нам всё, что нужно (вам в вашей работе $10000$ стенок более, чем достаточно для анализа."
   ]
  },
  {
   "cell_type": "code",
   "execution_count": 85,
   "metadata": {},
   "outputs": [],
   "source": [
    "# wall_members[-1]"
   ]
  },
  {
   "cell_type": "code",
   "execution_count": 86,
   "metadata": {},
   "outputs": [
    {
     "data": {
      "text/plain": [
       "{'id': 8331030,\n",
       " 'first_name': 'Кирилл',\n",
       " 'last_name': 'Архипов',\n",
       " 'is_closed': False,\n",
       " 'can_access_closed': True,\n",
       " 'last_seen': {'time': 1575727238, 'platform': 4}}"
      ]
     },
     "execution_count": 86,
     "metadata": {},
     "output_type": "execute_result"
    }
   ],
   "source": [
    "item"
   ]
  },
  {
   "cell_type": "code",
   "execution_count": null,
   "metadata": {},
   "outputs": [],
   "source": []
  },
  {
   "cell_type": "code",
   "execution_count": null,
   "metadata": {},
   "outputs": [],
   "source": []
  },
  {
   "cell_type": "code",
   "execution_count": null,
   "metadata": {},
   "outputs": [],
   "source": [
    "# сохраняем итоговые тексты стенок\n",
    "with open('group_clean_members.pickle', 'wb') as f:\n",
    "    pickle.dump(wall_members, f)"
   ]
  },
  {
   "cell_type": "code",
   "execution_count": null,
   "metadata": {},
   "outputs": [],
   "source": []
  },
  {
   "cell_type": "code",
   "execution_count": null,
   "metadata": {},
   "outputs": [],
   "source": []
  },
  {
   "cell_type": "code",
   "execution_count": null,
   "metadata": {},
   "outputs": [],
   "source": []
  },
  {
   "cell_type": "markdown",
   "metadata": {},
   "source": [
    "## 5. Полезные хитрости\n",
    "\n",
    "\n",
    "#### Хитрость 1:  Не стесняйтесь пользоваться `try-except`\n",
    "\n",
    "Эта конструкция позволяет питону в случае ошибки сделать что-нибудь другое либо проигнорировать её. Например, мы хотим найти логарифм от всех чисел из списка: "
   ]
  },
  {
   "cell_type": "code",
   "execution_count": 45,
   "metadata": {},
   "outputs": [
    {
     "name": "stdout",
     "output_type": "stream",
     "text": [
      "0.0\n",
      "0.6931471805599453\n",
      "1.0986122886681098\n"
     ]
    },
    {
     "ename": "ValueError",
     "evalue": "math domain error",
     "output_type": "error",
     "traceback": [
      "\u001b[0;31m---------------------------------------------------------------------------\u001b[0m",
      "\u001b[0;31mValueError\u001b[0m                                Traceback (most recent call last)",
      "\u001b[0;32m<ipython-input-45-523b7735cdde>\u001b[0m in \u001b[0;36m<module>\u001b[0;34m\u001b[0m\n\u001b[1;32m      4\u001b[0m \u001b[0;34m\u001b[0m\u001b[0m\n\u001b[1;32m      5\u001b[0m \u001b[0;32mfor\u001b[0m \u001b[0mitem\u001b[0m \u001b[0;32min\u001b[0m \u001b[0ma\u001b[0m\u001b[0;34m:\u001b[0m\u001b[0;34m\u001b[0m\u001b[0;34m\u001b[0m\u001b[0m\n\u001b[0;32m----> 6\u001b[0;31m     \u001b[0mprint\u001b[0m\u001b[0;34m(\u001b[0m\u001b[0mlog\u001b[0m\u001b[0;34m(\u001b[0m\u001b[0mitem\u001b[0m\u001b[0;34m)\u001b[0m\u001b[0;34m)\u001b[0m\u001b[0;34m\u001b[0m\u001b[0;34m\u001b[0m\u001b[0m\n\u001b[0m",
      "\u001b[0;31mValueError\u001b[0m: math domain error"
     ]
    }
   ],
   "source": [
    "from math import log \n",
    "\n",
    "a = [1,2,3,-1,-5,10,3]\n",
    "\n",
    "for item in a:\n",
    "    print(log(item))"
   ]
  },
  {
   "cell_type": "markdown",
   "metadata": {},
   "source": [
    "У нас не выходит, так как логарифм от отрицательных чисел не берётся. Чтобы код не падал при возникновении ошибки, мы можем его немного изменить: "
   ]
  },
  {
   "cell_type": "code",
   "execution_count": 46,
   "metadata": {},
   "outputs": [
    {
     "name": "stdout",
     "output_type": "stream",
     "text": [
      "0.0\n",
      "0.6931471805599453\n",
      "1.0986122886681098\n",
      "я не смог\n",
      "я не смог\n",
      "2.302585092994046\n",
      "1.0986122886681098\n"
     ]
    }
   ],
   "source": [
    "from math import log \n",
    "\n",
    "a = [1,2,3,-1,-5,10,3]\n",
    "\n",
    "for item in a:\n",
    "    try:\n",
    "        print(log(item))  # попробуй взять логарифм\n",
    "    except:\n",
    "        print('я не смог') # если не вышло, сознайся и работай дальше"
   ]
  },
  {
   "cell_type": "markdown",
   "metadata": {},
   "source": [
    "Чудо! Код больше не падает."
   ]
  },
  {
   "cell_type": "markdown",
   "metadata": {},
   "source": [
    "Как это использовать в вашем парсере контакта? Ну, например, если вы очень сильно боитесь, что код ночью может упасть из-за какого-то одного стремного пользователя вк, его скачку внутри цикла можно переписать вот так: "
   ]
  },
  {
   "cell_type": "raw",
   "metadata": {},
   "source": [
    "try:\n",
    "    wall_text = get_wall(item['id'])\n",
    "except:\n",
    "    print('Ошибка в', item)"
   ]
  },
  {
   "cell_type": "markdown",
   "metadata": {},
   "source": [
    "Тогда в случае, если id будет битым, код не упадет, а продолжит работу, просто напечатав на экране, что в конкретном id произошла ошибка. Все остальные данные скачаются. Если вы боитесь, что компьютер может зависнуть ночью и умереть на половине скачки, добавьте внутрь цикла код, который будет сохранять данные по кусочкам, а не все сразу в конце скачки. "
   ]
  },
  {
   "cell_type": "markdown",
   "metadata": {},
   "source": [
    "#### Хитрость 2:  используйте пакет tqdm\n",
    "\n",
    "> Код уже работает час. Я вообще без понятия когда он закончит работу. Было бы круто узнать, сколько ещё ждать... \n",
    "\n",
    "Если в вашей голове возникла такая мысль, пакет `tqdm` ваш лучший друг. Установить его можно так: "
   ]
  },
  {
   "cell_type": "code",
   "execution_count": 47,
   "metadata": {},
   "outputs": [
    {
     "name": "stdout",
     "output_type": "stream",
     "text": [
      "Requirement already satisfied: tqdm in /usr/local/lib/python3.7/site-packages (4.36.1)\n",
      "\u001b[33mWARNING: You are using pip version 19.2.2, however version 19.3.1 is available.\n",
      "You should consider upgrading via the 'pip install --upgrade pip' command.\u001b[0m\n"
     ]
    }
   ],
   "source": [
    "!pip install tqdm"
   ]
  },
  {
   "cell_type": "markdown",
   "metadata": {},
   "source": [
    "Просто один раз запустите эту ячейку и `pip` (менеджер пакетов для питона) поставит его вам на компьютер. Теперь можно пользоваться вот такой штукой: "
   ]
  },
  {
   "cell_type": "code",
   "execution_count": 48,
   "metadata": {},
   "outputs": [
    {
     "data": {
      "application/vnd.jupyter.widget-view+json": {
       "model_id": "086182caa834429c92b487e6c0f2f556",
       "version_major": 2,
       "version_minor": 0
      },
      "text/plain": [
       "HBox(children=(IntProgress(value=0, max=30), HTML(value='')))"
      ]
     },
     "metadata": {},
     "output_type": "display_data"
    },
    {
     "name": "stdout",
     "output_type": "stream",
     "text": [
      "\n"
     ]
    }
   ],
   "source": [
    "from tqdm import tqdm_notebook\n",
    "\n",
    "a = list(range(30))\n",
    "\n",
    "# 30 раз будем спать по секунде\n",
    "for i in tqdm_notebook(a):\n",
    "    time.sleep(1)"
   ]
  },
  {
   "cell_type": "markdown",
   "metadata": {},
   "source": [
    "Мы обмотали тот вектор, по которому идёт цикл в `tqdm_notebook`. Это даёт нам красивую зелёную строку, которая показывает насколько сильно мы продвинулись по коду. Обматывайте свои самые большие и долгие циклы в `tqdm_notebook` и всегда понимайте сколько осталось до конца. "
   ]
  },
  {
   "cell_type": "markdown",
   "metadata": {},
   "source": [
    "#### Хитрость 3:  аккуратная работа с массивами\n",
    "\n",
    "Если объявить список, куда вы закидываете людей в одной ячейке, а цикл запускать в другой, можно упростить себе жизнь. Смотрите как: "
   ]
  },
  {
   "cell_type": "code",
   "execution_count": 56,
   "metadata": {},
   "outputs": [],
   "source": [
    "a = list(range(100)) # это 100 id которые я хочу скачать "
   ]
  },
  {
   "cell_type": "code",
   "execution_count": 57,
   "metadata": {},
   "outputs": [],
   "source": [
    "b = [ ] # сюда я типо качаю по ним инфу"
   ]
  },
  {
   "cell_type": "code",
   "execution_count": 58,
   "metadata": {},
   "outputs": [],
   "source": [
    "for i in a:\n",
    "    b.append(i**2)  # это я типо скачал её и добавил в b\n",
    "    \n",
    "    # это я сымитировал падение на 50 id (цикл просто прекратит работать)\n",
    "    if i == 50:\n",
    "        break"
   ]
  },
  {
   "cell_type": "code",
   "execution_count": 59,
   "metadata": {},
   "outputs": [
    {
     "data": {
      "text/plain": [
       "51"
      ]
     },
     "execution_count": 59,
     "metadata": {},
     "output_type": "execute_result"
    }
   ],
   "source": [
    "len(b) # скачали 51 человека, нужны еще 49"
   ]
  },
  {
   "cell_type": "markdown",
   "metadata": {},
   "source": [
    "В `b` уже записана информации по $51$ человеку. Давайте просто продолжим скачку тем же циклом, но с 52 человека!"
   ]
  },
  {
   "cell_type": "code",
   "execution_count": 60,
   "metadata": {},
   "outputs": [],
   "source": [
    "for i in a[51:]:\n",
    "    b.append(i**2)  # это я типо скачал её и добавил в b\n",
    "    \n",
    "    # это я сымитировал падение на 50 id (цикл просто прекратит работать)\n",
    "    if i == 50:\n",
    "        break"
   ]
  },
  {
   "cell_type": "code",
   "execution_count": 61,
   "metadata": {},
   "outputs": [
    {
     "data": {
      "text/plain": [
       "100"
      ]
     },
     "execution_count": 61,
     "metadata": {},
     "output_type": "execute_result"
    }
   ],
   "source": [
    "len(b)  # всё скачалось! "
   ]
  },
  {
   "cell_type": "markdown",
   "metadata": {},
   "source": [
    "Надеюсь вы поняли о чём я. Когда код упал в середине списка для скачки, не обязательно запускать его с самого начала! Половина то уже скачалась и её можно сохранить. "
   ]
  },
  {
   "cell_type": "markdown",
   "metadata": {},
   "source": [
    "#### Хитрость 4:  ускорение кода в 25 раз\n",
    "\n",
    "При желании ваш код можно ускорить в $25$ раз. Для этого вам надо изучить самим [туториал по тому как качать вконтакте,](https://nbviewer.jupyter.org/github/FUlyankin/ekanam_grand_research/blob/master/0.%20vk_parser_tutorial.ipynb) В нём описано как можно переделать код в более быстрый. Можно взять код для скачки [отсюда,](https://github.com/DmitrySerg/OpenData/blob/master/RussianElections2018/Part_1_Parsing_VK.ipynb) он уже переделан. Но придётся заставить его работать. "
   ]
  },
  {
   "cell_type": "markdown",
   "metadata": {},
   "source": [
    "  "
   ]
  }
 ],
 "metadata": {
  "kernelspec": {
   "display_name": "Python 3",
   "language": "python",
   "name": "python3"
  },
  "language_info": {
   "codemirror_mode": {
    "name": "ipython",
    "version": 3
   },
   "file_extension": ".py",
   "mimetype": "text/x-python",
   "name": "python",
   "nbconvert_exporter": "python",
   "pygments_lexer": "ipython3",
   "version": "3.7.2"
  }
 },
 "nbformat": 4,
 "nbformat_minor": 2
}
