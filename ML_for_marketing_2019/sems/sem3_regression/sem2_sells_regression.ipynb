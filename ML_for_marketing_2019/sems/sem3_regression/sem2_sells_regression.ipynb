{
 "cells": [
  {
   "cell_type": "markdown",
   "metadata": {},
   "source": [
    "<img src=\"https://justaklikaway.files.wordpress.com/2014/05/shut-up-and-take-my-money.jpg\" height=\"400\" width=\"400\"> \n",
    "\n",
    "# <center> ML для маркетинга. <br>  <br> Cюжетная арка 1: продажи </center>\n",
    "\n",
    "В этом семестре мы с вами пройдём через несколько сюжетных арок. Первой такой аркой будут продажи. Им будет посвящена первая серия из семинаров и домашек. \n",
    "\n",
    "\n",
    "#  Эпизод II (атака моделей) \n",
    "\n",
    "В этом эпизоде мы с вами попробуем взять уже предобработанные данные и натравим на них модели. Ох! Ну и жара же сейчас пойдёт."
   ]
  },
  {
   "cell_type": "markdown",
   "metadata": {},
   "source": [
    "## Задача \n",
    "\n",
    "В первой части нашего курса мы с вами будем обсуждать такой сюжет, как продажи. Будем стараться их спрогнозировать. Повторите семинары по регрессии из прошлого семестра. Мы будем пользоваться знаниями, которые там получили. Сегодня занимаемся моделированием. В следущий раз занимаемся оценкой бизнес-эффекта от наших моделей. "
   ]
  },
  {
   "cell_type": "code",
   "execution_count": 3,
   "metadata": {},
   "outputs": [],
   "source": [
    "# Как обычно, для начала подгружаем нужные нам пакеты\n",
    "import pandas as pd    # пакет для работы с таблицами \n",
    "import numpy as np     # пакет для работы с матрицами \n",
    "\n",
    "# пакеты для картиночек \n",
    "import matplotlib\n",
    "\n",
    "import matplotlib.pyplot as plt\n",
    "import seaborn as sns\n",
    "plt.style.use('ggplot')  # правильный (наиболее красивый) стиль у графиков\n",
    "\n",
    "%matplotlib inline"
   ]
  },
  {
   "cell_type": "markdown",
   "metadata": {},
   "source": [
    "## Что уже есть? \n",
    "\n",
    "В прошлый раз мы поговорили о том, зачем надо вдруг кому-то предсказывать продажи и собрали для этих целей датасет по данным walmart. "
   ]
  },
  {
   "cell_type": "code",
   "execution_count": 4,
   "metadata": {},
   "outputs": [
    {
     "name": "stdout",
     "output_type": "stream",
     "text": [
      "Размерность таблицы: (343650, 148)\n"
     ]
    },
    {
     "data": {
      "text/html": [
       "<div>\n",
       "<style scoped>\n",
       "    .dataframe tbody tr th:only-of-type {\n",
       "        vertical-align: middle;\n",
       "    }\n",
       "\n",
       "    .dataframe tbody tr th {\n",
       "        vertical-align: top;\n",
       "    }\n",
       "\n",
       "    .dataframe thead th {\n",
       "        text-align: right;\n",
       "    }\n",
       "</style>\n",
       "<table border=\"1\" class=\"dataframe\">\n",
       "  <thead>\n",
       "    <tr style=\"text-align: right;\">\n",
       "      <th></th>\n",
       "      <th>Weekly_Sales</th>\n",
       "      <th>Size</th>\n",
       "      <th>Temperature</th>\n",
       "      <th>Fuel_Price</th>\n",
       "      <th>MarkDown1</th>\n",
       "      <th>MarkDown2</th>\n",
       "      <th>MarkDown3</th>\n",
       "      <th>MarkDown4</th>\n",
       "      <th>MarkDown5</th>\n",
       "      <th>CPI</th>\n",
       "      <th>...</th>\n",
       "      <th>Month_2</th>\n",
       "      <th>Month_3</th>\n",
       "      <th>Month_4</th>\n",
       "      <th>Month_5</th>\n",
       "      <th>Month_6</th>\n",
       "      <th>Month_7</th>\n",
       "      <th>Month_8</th>\n",
       "      <th>Month_9</th>\n",
       "      <th>Black_Friday</th>\n",
       "      <th>Pre_christmas</th>\n",
       "    </tr>\n",
       "  </thead>\n",
       "  <tbody>\n",
       "    <tr>\n",
       "      <th>0</th>\n",
       "      <td>24924.50</td>\n",
       "      <td>151315</td>\n",
       "      <td>5.727778</td>\n",
       "      <td>2.572</td>\n",
       "      <td>0.0</td>\n",
       "      <td>0.0</td>\n",
       "      <td>0.0</td>\n",
       "      <td>0.0</td>\n",
       "      <td>0.0</td>\n",
       "      <td>211.096358</td>\n",
       "      <td>...</td>\n",
       "      <td>1</td>\n",
       "      <td>0</td>\n",
       "      <td>0</td>\n",
       "      <td>0</td>\n",
       "      <td>0</td>\n",
       "      <td>0</td>\n",
       "      <td>0</td>\n",
       "      <td>0</td>\n",
       "      <td>0</td>\n",
       "      <td>0</td>\n",
       "    </tr>\n",
       "    <tr>\n",
       "      <th>1</th>\n",
       "      <td>46039.49</td>\n",
       "      <td>151315</td>\n",
       "      <td>3.616667</td>\n",
       "      <td>2.548</td>\n",
       "      <td>0.0</td>\n",
       "      <td>0.0</td>\n",
       "      <td>0.0</td>\n",
       "      <td>0.0</td>\n",
       "      <td>0.0</td>\n",
       "      <td>211.242170</td>\n",
       "      <td>...</td>\n",
       "      <td>1</td>\n",
       "      <td>0</td>\n",
       "      <td>0</td>\n",
       "      <td>0</td>\n",
       "      <td>0</td>\n",
       "      <td>0</td>\n",
       "      <td>0</td>\n",
       "      <td>0</td>\n",
       "      <td>0</td>\n",
       "      <td>0</td>\n",
       "    </tr>\n",
       "    <tr>\n",
       "      <th>2</th>\n",
       "      <td>41595.55</td>\n",
       "      <td>151315</td>\n",
       "      <td>4.405556</td>\n",
       "      <td>2.514</td>\n",
       "      <td>0.0</td>\n",
       "      <td>0.0</td>\n",
       "      <td>0.0</td>\n",
       "      <td>0.0</td>\n",
       "      <td>0.0</td>\n",
       "      <td>211.289143</td>\n",
       "      <td>...</td>\n",
       "      <td>1</td>\n",
       "      <td>0</td>\n",
       "      <td>0</td>\n",
       "      <td>0</td>\n",
       "      <td>0</td>\n",
       "      <td>0</td>\n",
       "      <td>0</td>\n",
       "      <td>0</td>\n",
       "      <td>0</td>\n",
       "      <td>0</td>\n",
       "    </tr>\n",
       "    <tr>\n",
       "      <th>3</th>\n",
       "      <td>19403.54</td>\n",
       "      <td>151315</td>\n",
       "      <td>8.127778</td>\n",
       "      <td>2.561</td>\n",
       "      <td>0.0</td>\n",
       "      <td>0.0</td>\n",
       "      <td>0.0</td>\n",
       "      <td>0.0</td>\n",
       "      <td>0.0</td>\n",
       "      <td>211.319643</td>\n",
       "      <td>...</td>\n",
       "      <td>1</td>\n",
       "      <td>0</td>\n",
       "      <td>0</td>\n",
       "      <td>0</td>\n",
       "      <td>0</td>\n",
       "      <td>0</td>\n",
       "      <td>0</td>\n",
       "      <td>0</td>\n",
       "      <td>0</td>\n",
       "      <td>0</td>\n",
       "    </tr>\n",
       "    <tr>\n",
       "      <th>4</th>\n",
       "      <td>21827.90</td>\n",
       "      <td>151315</td>\n",
       "      <td>8.055556</td>\n",
       "      <td>2.625</td>\n",
       "      <td>0.0</td>\n",
       "      <td>0.0</td>\n",
       "      <td>0.0</td>\n",
       "      <td>0.0</td>\n",
       "      <td>0.0</td>\n",
       "      <td>211.350143</td>\n",
       "      <td>...</td>\n",
       "      <td>0</td>\n",
       "      <td>1</td>\n",
       "      <td>0</td>\n",
       "      <td>0</td>\n",
       "      <td>0</td>\n",
       "      <td>0</td>\n",
       "      <td>0</td>\n",
       "      <td>0</td>\n",
       "      <td>0</td>\n",
       "      <td>0</td>\n",
       "    </tr>\n",
       "  </tbody>\n",
       "</table>\n",
       "<p>5 rows × 148 columns</p>\n",
       "</div>"
      ],
      "text/plain": [
       "   Weekly_Sales    Size  Temperature  Fuel_Price  MarkDown1  MarkDown2  \\\n",
       "0      24924.50  151315     5.727778       2.572        0.0        0.0   \n",
       "1      46039.49  151315     3.616667       2.548        0.0        0.0   \n",
       "2      41595.55  151315     4.405556       2.514        0.0        0.0   \n",
       "3      19403.54  151315     8.127778       2.561        0.0        0.0   \n",
       "4      21827.90  151315     8.055556       2.625        0.0        0.0   \n",
       "\n",
       "   MarkDown3  MarkDown4  MarkDown5         CPI  ...  Month_2  Month_3  \\\n",
       "0        0.0        0.0        0.0  211.096358  ...        1        0   \n",
       "1        0.0        0.0        0.0  211.242170  ...        1        0   \n",
       "2        0.0        0.0        0.0  211.289143  ...        1        0   \n",
       "3        0.0        0.0        0.0  211.319643  ...        1        0   \n",
       "4        0.0        0.0        0.0  211.350143  ...        0        1   \n",
       "\n",
       "   Month_4  Month_5  Month_6  Month_7  Month_8  Month_9  Black_Friday  \\\n",
       "0        0        0        0        0        0        0             0   \n",
       "1        0        0        0        0        0        0             0   \n",
       "2        0        0        0        0        0        0             0   \n",
       "3        0        0        0        0        0        0             0   \n",
       "4        0        0        0        0        0        0             0   \n",
       "\n",
       "   Pre_christmas  \n",
       "0              0  \n",
       "1              0  \n",
       "2              0  \n",
       "3              0  \n",
       "4              0  \n",
       "\n",
       "[5 rows x 148 columns]"
      ]
     },
     "execution_count": 4,
     "metadata": {},
     "output_type": "execute_result"
    }
   ],
   "source": [
    "df = pd.read_csv('../sem1_data_prepare/sales_train_v1.tsv', sep='\\t')    # подгружаем датасет\n",
    "print('Размерность таблицы:', df.shape)      # shape показывает его размер\n",
    "df.head()                    "
   ]
  },
  {
   "cell_type": "markdown",
   "metadata": {},
   "source": [
    "## 1. Метрики \n",
    "\n",
    "В прошлои семестре мы с вами обсуждали довольно много разных метрик для задачи регрессии. Говорили о разнице между ними и где какую лучше использовать. Помните? Или уже забыли? Если забыли, бегом вспоминать в материалы предыдущего модуля! \n",
    "\n",
    "------------------\n",
    "\n",
    "Мы при решении задачи будем использовать MAE. Давайте подгрузим эту метрику и посчитаем её на игрушечном примере. "
   ]
  },
  {
   "cell_type": "code",
   "execution_count": 6,
   "metadata": {
    "scrolled": true
   },
   "outputs": [
    {
     "data": {
      "text/plain": [
       "1.5"
      ]
     },
     "execution_count": 6,
     "metadata": {},
     "output_type": "execute_result"
    }
   ],
   "source": [
    "from sklearn.metrics import mean_absolute_error as mae # подгружаем метрики\n",
    "\n",
    "y_test = [1,2,3,4]\n",
    "y_pred = [1,1,1,1]\n",
    "\n",
    "mae(y_test, y_pred)"
   ]
  },
  {
   "cell_type": "markdown",
   "metadata": {},
   "source": [
    "## 2. Тренировочная и тестовая выборки \n",
    "\n",
    "Разбиваем выборку на две части. Кстати говоря, зачем мы это делаем?! "
   ]
  },
  {
   "cell_type": "code",
   "execution_count": 7,
   "metadata": {},
   "outputs": [],
   "source": [
    "# это то, что мы пытаемся прогнозировать! \n",
    "y = df['ln_future_sales']\n",
    " \n",
    "# то, по чему пытаемся прогнозировать, ln_Weekly_Sales оставили!\n",
    "df = df.drop(['ln_future_sales', 'future_sales', 'Weekly_Sales'], axis=1)\n",
    "X = df.get_values()\n",
    "\n",
    "# Запомним на всякий случй имена всех переменных \n",
    "feature_names = df.columns"
   ]
  },
  {
   "cell_type": "markdown",
   "metadata": {},
   "source": [
    "Будем бить по классике. На самом деле, в данных есть временная структура. Мы, в таком разбиении её игнорируем, предполагая, что наблюдения не зависят от времени. Это не совсем правда. Работе с временными рядами в анализе данных посвящена отдельная огромная область. В неё мы не полезем."
   ]
  },
  {
   "cell_type": "code",
   "execution_count": 8,
   "metadata": {},
   "outputs": [],
   "source": [
    "from sklearn.model_selection import train_test_split  # функция для деления \n",
    "\n",
    "# делим в пропорции 70 к 30\n",
    "y_train, y_test, X_train, X_test = train_test_split(y, X, test_size = 0.3)"
   ]
  },
  {
   "cell_type": "markdown",
   "metadata": {},
   "source": [
    "## 3. Наивный прогноз \n",
    "\n",
    "Что такое наивный прогноз небось тоже забыли? Именно его мы построим для наших данных первым делом. Будем говорить, что продажи в любом магазине совпадают со средним значением. Это самый глупый прогноз, который мы можем сделать. С ним мы будем сравнивать прогнозы более сложных моделей. "
   ]
  },
  {
   "cell_type": "code",
   "execution_count": 9,
   "metadata": {},
   "outputs": [
    {
     "data": {
      "text/plain": [
       "array([8.53773034, 8.53773034, 8.53773034, 8.53773034, 8.53773034])"
      ]
     },
     "execution_count": 9,
     "metadata": {},
     "output_type": "execute_result"
    }
   ],
   "source": [
    "y_mean = np.mean(y_train)                     # посчитали среднее \n",
    "y_pred_naive = np.ones(len(y_test)) * y_mean  # спрогнозировали им продажи\n",
    "y_pred_naive[:5]"
   ]
  },
  {
   "cell_type": "code",
   "execution_count": 10,
   "metadata": {},
   "outputs": [
    {
     "data": {
      "text/plain": [
       "1.525995705554025"
      ]
     },
     "execution_count": 10,
     "metadata": {},
     "output_type": "execute_result"
    }
   ],
   "source": [
    "# та самая функция, которую мы сделали в самом начале тетрадки\n",
    "mae(y_test, y_pred_naive)"
   ]
  },
  {
   "cell_type": "markdown",
   "metadata": {},
   "source": [
    "Можно посмотреть на ошибку не в $\\ln(money)$, а в $money$!"
   ]
  },
  {
   "cell_type": "code",
   "execution_count": 11,
   "metadata": {},
   "outputs": [
    {
     "data": {
      "text/plain": [
       "13701.839129062608"
      ]
     },
     "execution_count": 11,
     "metadata": {},
     "output_type": "execute_result"
    }
   ],
   "source": [
    "mae(np.exp(y_test), np.exp(y_pred_naive))"
   ]
  },
  {
   "cell_type": "markdown",
   "metadata": {},
   "source": [
    "## 4. Линейная регрессия \n",
    "\n",
    "Пришло время построить линейную регрессию! Эта модель говорит, что объём продаж формируется в результате суммирования тех характеристик, которыми обладает магазин с какими-то весами\n",
    "\n",
    "$$\n",
    "y = \\beta_0 + \\beta_1 x_1 + ... \\beta_n x_n.\n",
    "$$\n",
    "\n",
    "Например, если мы оценили модель и у нас получилось, что \n",
    "\n",
    "$$ sales = 10000 + 20 \\cdot t,$$\n",
    "\n",
    "то это означает, что средний объём продаж равен 10 тыс. рублей. При этом каждый дополнительный градус температуры на улице, в среднем, при прочих равных, увеличивает объёмы продаж на 20 рублей. \n",
    "\n",
    "Для того, чтобы подобрать коэффициенты обычно минимизируют MSE. Сегодня мы проделаем это на компьютере, в следущий раз проделаем это руками прямо на доске. "
   ]
  },
  {
   "cell_type": "code",
   "execution_count": 13,
   "metadata": {},
   "outputs": [],
   "source": [
    "from sklearn.linear_model import LinearRegression # подгрузили модель\n",
    "\n",
    "# Объявили модель\n",
    "model_reg = LinearRegression()\n",
    "\n",
    "# Обучили модель на тренировочной выборке \n",
    "model_reg.fit(X_train, y_train)\n",
    "\n",
    "# Сделали прогнозы на тестовой выборке \n",
    "y_pred_reg = model_reg.predict(X_test)"
   ]
  },
  {
   "cell_type": "markdown",
   "metadata": {},
   "source": [
    "Посмотрим на ошибку прогноза на тестовой выборке."
   ]
  },
  {
   "cell_type": "code",
   "execution_count": 14,
   "metadata": {},
   "outputs": [
    {
     "data": {
      "text/plain": [
       "0.2252602353846725"
      ]
     },
     "execution_count": 14,
     "metadata": {},
     "output_type": "execute_result"
    }
   ],
   "source": [
    "# в логарифмах денег\n",
    "mae(y_test, y_pred_reg)"
   ]
  },
  {
   "cell_type": "code",
   "execution_count": 15,
   "metadata": {
    "scrolled": true
   },
   "outputs": [
    {
     "data": {
      "text/plain": [
       "2155.011682234372"
      ]
     },
     "execution_count": 15,
     "metadata": {},
     "output_type": "execute_result"
    }
   ],
   "source": [
    "mae(np.exp(y_test), np.exp(y_pred_reg))"
   ]
  },
  {
   "cell_type": "markdown",
   "metadata": {},
   "source": [
    "По сравнению с наивным прогнозом, она довольно сильно упала. Кажется, что за счёт этой модели мы можем каким-то образом сэкономить денег. Правда пока что не очень понятно как именно.  Кстати говоря, для того, чтобы смотреть насколько хорошими, в случае регрессии, получились прогнозы, можно строить такие вот картинки. "
   ]
  },
  {
   "cell_type": "code",
   "execution_count": 16,
   "metadata": {},
   "outputs": [
    {
     "data": {
      "image/png": "[encoded data removed]",
      "text/plain": [
       "<Figure size 432x288 with 1 Axes>"
      ]
     },
     "metadata": {
      "needs_background": "light"
     },
     "output_type": "display_data"
    }
   ],
   "source": [
    "plt.scatter(y_test, y_pred_reg)\n",
    "plt.xlabel('Истинные значения')\n",
    "plt.ylabel('Предсказанные значения')\n",
    "plt.axis('equal')\n",
    "plt.axis('square')\n",
    "plt.xlim([0,plt.xlim()[1]])\n",
    "plt.ylim([0,plt.ylim()[1]])\n",
    "_ = plt.plot([-100, 100], [-100, 100])"
   ]
  },
  {
   "cell_type": "markdown",
   "metadata": {},
   "source": [
    "Если все точки на диагонали, значит наша модель строит очень хорошие предсказания. Такую же можно построить и для тренировочной выборки. "
   ]
  },
  {
   "cell_type": "code",
   "execution_count": 17,
   "metadata": {},
   "outputs": [
    {
     "data": {
      "image/png": "[encoded data removed]",
      "text/plain": [
       "<Figure size 432x288 with 1 Axes>"
      ]
     },
     "metadata": {
      "needs_background": "light"
     },
     "output_type": "display_data"
    }
   ],
   "source": [
    "plt.scatter(y_train, model_reg.predict(X_train))\n",
    "plt.xlabel('Истинные значения')\n",
    "plt.ylabel('Предсказанные значения')\n",
    "plt.axis('equal')\n",
    "plt.axis('square')\n",
    "plt.xlim([0,plt.xlim()[1]])\n",
    "plt.ylim([0,plt.ylim()[1]])\n",
    "_ = plt.plot([-100, 100], [-100, 100])"
   ]
  },
  {
   "cell_type": "markdown",
   "metadata": {},
   "source": [
    "Если вдруг окажется, что на тренировочных данных прогнозы чётко лежат на диагонали, а на тестовой выборке полный хаос, значит мы переобчуились. Если, конечно, мы не имеем дело со случайным лесом. __Случайный лес не переобучается.__ Или про это вы уже тоже забыли? \n",
    "\n",
    "Посмотрим на то, какие признаки вносят в продажи наибольший вклад. "
   ]
  },
  {
   "cell_type": "code",
   "execution_count": 18,
   "metadata": {},
   "outputs": [
    {
     "data": {
      "text/plain": [
       "array([ 6.55791313e-07,  4.26151229e-04,  3.91511546e-03,  7.18514386e-07,\n",
       "       -4.65694048e-06, -1.04807153e-06,  7.28977366e-07,  1.35363788e-06,\n",
       "       -8.73620523e-04,  6.88690165e-03,  9.27906114e-01,  8.87243320e-03,\n",
       "       -1.90313358e-03,  3.66142411e-03, -9.47204604e-03,  9.20124395e-05,\n",
       "       -1.13090698e-02,  2.88257671e-02, -6.88525259e-02,  3.21048787e-02,\n",
       "       -1.33343780e-02,  1.44723477e-02, -1.83845041e-02,  1.28564261e-02,\n",
       "        1.22511771e-02, -2.98334224e-02, -6.91611206e-02, -8.04669839e-02,\n",
       "       -3.47705169e-02, -5.36168428e-02,  2.63183721e-02, -8.38194136e-03,\n",
       "       -1.71021376e-02, -9.56136888e-02,  5.50365841e-03,  2.03569640e-02,\n",
       "       -1.89945199e-02,  3.75276435e-02, -1.16409020e-01,  1.88853276e-02,\n",
       "       -1.04956122e-01, -8.08905244e-02, -1.58118067e-01, -6.87072956e-02,\n",
       "        1.23661910e-02, -5.73925925e-02, -6.73337856e-02, -2.19674409e-01,\n",
       "       -1.32756078e-01, -2.95705512e-02, -1.08788830e-01,  3.87687841e-02,\n",
       "       -1.09081198e-01, -3.57052154e-02, -8.71309589e-02, -5.08172829e-02,\n",
       "       -3.52121102e-02,  2.20231521e-02, -6.06959504e-02,  4.44934403e-03,\n",
       "        2.61596851e-01,  3.21189273e-01,  1.95285819e-01,  2.89594400e-01,\n",
       "        2.36852570e-01,  1.26578499e-01,  2.42554796e-01,  2.95453494e-01,\n",
       "        2.14522917e-01,  2.25227298e-01,  2.16411380e-01,  1.13914459e-01,\n",
       "        2.98018186e-01,  2.28480218e-01,  2.15338775e-01,  1.89338879e-01,\n",
       "       -2.33771188e-02,  2.98673122e-02,  1.33562118e-01,  1.57761786e-01,\n",
       "        1.90574768e-01,  2.39534655e-01,  1.52502941e-01,  1.61540439e-01,\n",
       "        1.61795597e-01,  4.98706621e-02, -1.35360466e-04,  1.48621641e-01,\n",
       "        1.26387954e-01,  6.18063455e-02,  1.41275379e-01,  1.51859742e-01,\n",
       "        2.25653207e-01,  1.03671168e-01,  7.45730089e-02,  3.56245703e-01,\n",
       "        3.26567180e-01,  3.92967173e-02,  1.39207233e-01,  1.34504908e-01,\n",
       "        2.62687726e-01,  1.34675936e-01,  5.47627469e-02, -1.74613725e-01,\n",
       "        1.84301805e-01,  1.09427467e-01,  8.58918499e-02, -4.19701941e-02,\n",
       "       -2.28585083e-02,  1.80939984e-01,  1.39830281e-01,  2.77972568e-01,\n",
       "        2.09408553e-01,  2.71166058e-01,  1.66141902e-01,  2.45326370e-01,\n",
       "        2.46753604e-01,  1.12993807e-01,  7.96228533e-02,  2.04569407e-01,\n",
       "        3.08011813e-01,  2.77602016e-01,  3.55428310e-01,  2.39003307e-01,\n",
       "        2.40663815e-01,  3.58765347e-01,  2.30541744e-01,  2.16605081e-01,\n",
       "        1.22900764e-01,  1.18172051e-01, -5.74861611e-02, -1.31831131e-01,\n",
       "       -1.42261836e-02,  2.59082271e-02,  8.80577564e-02, -5.28508623e-02,\n",
       "       -6.94904839e-03, -4.86405882e-02, -3.68454147e-02, -3.50927604e-02,\n",
       "       -3.34813838e-02, -4.19214649e-02, -4.37744990e-02, -1.90865695e-01,\n",
       "       -8.10983587e-01])"
      ]
     },
     "execution_count": 18,
     "metadata": {},
     "output_type": "execute_result"
    }
   ],
   "source": [
    "model_reg.coef_  # коэффициенты модели"
   ]
  },
  {
   "cell_type": "code",
   "execution_count": 19,
   "metadata": {},
   "outputs": [
    {
     "data": {
      "text/html": [
       "<div>\n",
       "<style scoped>\n",
       "    .dataframe tbody tr th:only-of-type {\n",
       "        vertical-align: middle;\n",
       "    }\n",
       "\n",
       "    .dataframe tbody tr th {\n",
       "        vertical-align: top;\n",
       "    }\n",
       "\n",
       "    .dataframe thead th {\n",
       "        text-align: right;\n",
       "    }\n",
       "</style>\n",
       "<table border=\"1\" class=\"dataframe\">\n",
       "  <thead>\n",
       "    <tr style=\"text-align: right;\">\n",
       "      <th></th>\n",
       "      <th>feature</th>\n",
       "      <th>importance</th>\n",
       "    </tr>\n",
       "  </thead>\n",
       "  <tbody>\n",
       "    <tr>\n",
       "      <th>0</th>\n",
       "      <td>Size</td>\n",
       "      <td>6.557913e-07</td>\n",
       "    </tr>\n",
       "    <tr>\n",
       "      <th>1</th>\n",
       "      <td>Temperature</td>\n",
       "      <td>4.261512e-04</td>\n",
       "    </tr>\n",
       "    <tr>\n",
       "      <th>2</th>\n",
       "      <td>Fuel_Price</td>\n",
       "      <td>3.915115e-03</td>\n",
       "    </tr>\n",
       "    <tr>\n",
       "      <th>3</th>\n",
       "      <td>MarkDown1</td>\n",
       "      <td>7.185144e-07</td>\n",
       "    </tr>\n",
       "    <tr>\n",
       "      <th>4</th>\n",
       "      <td>MarkDown2</td>\n",
       "      <td>-4.656940e-06</td>\n",
       "    </tr>\n",
       "  </tbody>\n",
       "</table>\n",
       "</div>"
      ],
      "text/plain": [
       "       feature    importance\n",
       "0         Size  6.557913e-07\n",
       "1  Temperature  4.261512e-04\n",
       "2   Fuel_Price  3.915115e-03\n",
       "3    MarkDown1  7.185144e-07\n",
       "4    MarkDown2 -4.656940e-06"
      ]
     },
     "execution_count": 19,
     "metadata": {},
     "output_type": "execute_result"
    }
   ],
   "source": [
    "featureImportance = pd.DataFrame({\"feature\": feature_names,  \"importance\": model_reg.coef_})\n",
    "featureImportance.head()"
   ]
  },
  {
   "cell_type": "code",
   "execution_count": 20,
   "metadata": {},
   "outputs": [
    {
     "data": {
      "text/html": [
       "<div>\n",
       "<style scoped>\n",
       "    .dataframe tbody tr th:only-of-type {\n",
       "        vertical-align: middle;\n",
       "    }\n",
       "\n",
       "    .dataframe tbody tr th {\n",
       "        vertical-align: top;\n",
       "    }\n",
       "\n",
       "    .dataframe thead th {\n",
       "        text-align: right;\n",
       "    }\n",
       "</style>\n",
       "<table border=\"1\" class=\"dataframe\">\n",
       "  <thead>\n",
       "    <tr style=\"text-align: right;\">\n",
       "      <th></th>\n",
       "      <th>importance</th>\n",
       "    </tr>\n",
       "    <tr>\n",
       "      <th>feature</th>\n",
       "      <th></th>\n",
       "    </tr>\n",
       "  </thead>\n",
       "  <tbody>\n",
       "    <tr>\n",
       "      <th>ln_Weekly_Sales</th>\n",
       "      <td>0.927906</td>\n",
       "    </tr>\n",
       "    <tr>\n",
       "      <th>Dept_95</th>\n",
       "      <td>0.358765</td>\n",
       "    </tr>\n",
       "    <tr>\n",
       "      <th>Dept_38</th>\n",
       "      <td>0.356246</td>\n",
       "    </tr>\n",
       "    <tr>\n",
       "      <th>Dept_92</th>\n",
       "      <td>0.355428</td>\n",
       "    </tr>\n",
       "    <tr>\n",
       "      <th>Dept_40</th>\n",
       "      <td>0.326567</td>\n",
       "    </tr>\n",
       "  </tbody>\n",
       "</table>\n",
       "</div>"
      ],
      "text/plain": [
       "                 importance\n",
       "feature                    \n",
       "ln_Weekly_Sales    0.927906\n",
       "Dept_95            0.358765\n",
       "Dept_38            0.356246\n",
       "Dept_92            0.355428\n",
       "Dept_40            0.326567"
      ]
     },
     "execution_count": 20,
     "metadata": {},
     "output_type": "execute_result"
    }
   ],
   "source": [
    "featureImportance.set_index('feature', inplace=True)\n",
    "featureImportance.sort_values([\"importance\"], ascending=False, inplace=True)\n",
    "featureImportance.head()"
   ]
  },
  {
   "cell_type": "code",
   "execution_count": 21,
   "metadata": {},
   "outputs": [
    {
     "data": {
      "image/png": "[encoded data removed]",
      "text/plain": [
       "<Figure size 864x360 with 1 Axes>"
      ]
     },
     "metadata": {
      "needs_background": "light"
     },
     "output_type": "display_data"
    }
   ],
   "source": [
    "featureImportance[\"importance\"][:15].plot('bar', figsize=(12,5));"
   ]
  },
  {
   "cell_type": "code",
   "execution_count": 22,
   "metadata": {},
   "outputs": [
    {
     "data": {
      "image/png": "[encoded data removed]",
      "text/plain": [
       "<Figure size 864x360 with 1 Axes>"
      ]
     },
     "metadata": {
      "needs_background": "light"
     },
     "output_type": "display_data"
    }
   ],
   "source": [
    "featureImportance[\"importance\"][-15:].plot('bar', figsize=(12,5));"
   ]
  },
  {
   "cell_type": "markdown",
   "metadata": {},
   "source": [
    "Почему рождество и чёрная пятница оказались с отрицательными весами? Ответ простой: при предобработке мы сделали ошибку. Мы прогнозируем спрос на завтра. Рождество сегодня. Значит завтра спрос сильно упадёт. Так и просходит в модели. Чтобы дамми, наложенная на рождество оказалась положительной, нам надо было сдвинуть её по времени на единицу, чего мы не сделали. \n",
    "\n",
    "__Мораль:__ если вы видите, что модель себя ведёт странно, возможно, был сделан косяк при предобработке данных. "
   ]
  },
  {
   "cell_type": "markdown",
   "metadata": {},
   "source": [
    "## 5. Кросс-валидация \n",
    "\n",
    "Главная задача обучаемых алгоритмов – их способность обобщаться, то есть хорошо работать на новых данных. Поскольку на новых данных мы сразу не можем проверить качество построенной модели (нам ведь надо для них сделать прогноз, то есть истинных значений целевого признака мы для них не знаем), то надо пожертвовать небольшой порцией данных, чтоб на ней проверить качество модели. Чаще всего это делается одним из 2 способов:\n",
    "\n",
    "\n",
    "* отложенная выборка __(held-out/hold-out set).__ При таком подходе мы оставляем какую-то долю обучающей выборки (как правило от 20% до 40%), обучаем модель на остальных данных (60-80% исходной выборки) и считаем некоторую метрику качества модели. Сейчас мы сделали именно так. У этого подхода есть минусы. Результат работы модели может сильно зависеть от конкретного разбиения. Хочется убить эту зависиомсть. Для этого используют кросс-валидацию. \n",
    "\n",
    "* кросс-валидация __(cross-validation, на русский еще переводят как скользящий или перекрестный контроль).__ Тут самый частый случай – K-fold кросс-валидация\n",
    "\n",
    "\n",
    "\n",
    "<img src=\"https://hsto.org/files/b1d/706/e6c/b1d706e6c9df49c297b6152878a2d03f.png\" height=\"600\" width=\"600\"> \n",
    "\n",
    "\n",
    "Модель обучается $K$ раз на разных подвыборках исходной выборки (белый цвет), а проверяется на одной подвыборке (каждый раз на разной, оранжевый цвет). Получаются $K$ оценок качества модели, которые обычно усредняются, выдавая среднюю оценку качества классификации/регрессии на кросс-валидации. \n",
    "\n",
    "Кросс-валидация дает лучшую, по сравнению с отложенной выборкой, оценку качества модели на новых данных. Но кросс-валидация вычислительно дорогостоящая, если данных много.\n",
    " \n",
    "Кросс-валидация – очень важная техника в машинном обучении, с ее помощью выбираются гиперпараметры моделей, сравниваются модели между собой, оценивается полезность новых признаков в задаче и т.д."
   ]
  },
  {
   "cell_type": "markdown",
   "metadata": {},
   "source": [
    "Попробуем посмотреть на качество нашей регрессии на кросс-валидации."
   ]
  },
  {
   "cell_type": "code",
   "execution_count": 23,
   "metadata": {},
   "outputs": [
    {
     "data": {
      "text/plain": [
       "array([-0.19216956, -0.192205  , -0.19587381, -0.18837414, -0.18349438])"
      ]
     },
     "execution_count": 23,
     "metadata": {},
     "output_type": "execute_result"
    }
   ],
   "source": [
    "from sklearn.model_selection import cross_val_score\n",
    "\n",
    "model = LinearRegression()\n",
    "\n",
    "mse_val = cross_val_score(model, X_train, y_train, cv=5, scoring='neg_mean_squared_error')\n",
    "mse_val"
   ]
  },
  {
   "cell_type": "code",
   "execution_count": 24,
   "metadata": {},
   "outputs": [
    {
     "data": {
      "text/plain": [
       "0.4363486140083602"
      ]
     },
     "execution_count": 24,
     "metadata": {},
     "output_type": "execute_result"
    }
   ],
   "source": [
    "np.mean(np.sqrt(-1*mse_val))"
   ]
  },
  {
   "cell_type": "markdown",
   "metadata": {},
   "source": [
    "## 6 Регуляризация\n",
    "\n",
    "Теперь мы умеем оценивать линейную регрессию и смотреть на её качество по кросс-валидации. Пришло время переходить к более сложным моделям. Давайте посмотрим на Lasso-регрессию. Для начала просто оценим её. Потом уже будем смотреть на то, чем она лучше обычной. "
   ]
  },
  {
   "cell_type": "code",
   "execution_count": 25,
   "metadata": {},
   "outputs": [],
   "source": [
    "from sklearn.linear_model import Lasso  # подгрузили модель\n",
    "\n",
    "# Объявили модель\n",
    "model_simplelasso = Lasso(alpha = 10)\n",
    "\n",
    "# Обучили модель на тренировочной выборке \n",
    "model_simplelasso.fit(X_train, y_train)\n",
    "\n",
    "# Сделали прогнозы на тестовой выборке \n",
    "y_pred_lasso = model_simplelasso.predict(X_test)"
   ]
  },
  {
   "cell_type": "code",
   "execution_count": 26,
   "metadata": {},
   "outputs": [
    {
     "data": {
      "text/plain": [
       "1.4531967039529892"
      ]
     },
     "execution_count": 26,
     "metadata": {},
     "output_type": "execute_result"
    }
   ],
   "source": [
    "mae(y_test,y_pred_lasso)"
   ]
  },
  {
   "cell_type": "markdown",
   "metadata": {},
   "source": [
    "Посмотрим на коэффициенты модели. "
   ]
  },
  {
   "cell_type": "code",
   "execution_count": 27,
   "metadata": {},
   "outputs": [
    {
     "data": {
      "text/plain": [
       "array([ 1.04464896e-05, -0.00000000e+00, -0.00000000e+00,  3.69410762e-06,\n",
       "       -3.04774139e-06,  1.80944626e-06, -8.29647542e-07,  1.03213832e-05,\n",
       "       -0.00000000e+00, -0.00000000e+00,  0.00000000e+00, -0.00000000e+00,\n",
       "       -0.00000000e+00,  0.00000000e+00,  0.00000000e+00, -0.00000000e+00,\n",
       "        0.00000000e+00,  0.00000000e+00,  0.00000000e+00,  0.00000000e+00,\n",
       "        0.00000000e+00,  0.00000000e+00, -0.00000000e+00, -0.00000000e+00,\n",
       "        0.00000000e+00, -0.00000000e+00,  0.00000000e+00, -0.00000000e+00,\n",
       "        0.00000000e+00, -0.00000000e+00,  0.00000000e+00,  0.00000000e+00,\n",
       "        0.00000000e+00, -0.00000000e+00,  0.00000000e+00, -0.00000000e+00,\n",
       "        0.00000000e+00,  0.00000000e+00, -0.00000000e+00, -0.00000000e+00,\n",
       "       -0.00000000e+00,  0.00000000e+00, -0.00000000e+00,  0.00000000e+00,\n",
       "       -0.00000000e+00, -0.00000000e+00, -0.00000000e+00, -0.00000000e+00,\n",
       "       -0.00000000e+00,  0.00000000e+00, -0.00000000e+00, -0.00000000e+00,\n",
       "       -0.00000000e+00, -0.00000000e+00, -0.00000000e+00, -0.00000000e+00,\n",
       "       -0.00000000e+00, -0.00000000e+00, -0.00000000e+00,  0.00000000e+00,\n",
       "        0.00000000e+00,  0.00000000e+00,  0.00000000e+00,  0.00000000e+00,\n",
       "        0.00000000e+00, -0.00000000e+00,  0.00000000e+00,  0.00000000e+00,\n",
       "        0.00000000e+00,  0.00000000e+00,  0.00000000e+00, -0.00000000e+00,\n",
       "        0.00000000e+00,  0.00000000e+00,  0.00000000e+00,  0.00000000e+00,\n",
       "       -0.00000000e+00, -0.00000000e+00, -0.00000000e+00, -0.00000000e+00,\n",
       "        0.00000000e+00,  0.00000000e+00, -0.00000000e+00, -0.00000000e+00,\n",
       "       -0.00000000e+00, -0.00000000e+00, -0.00000000e+00, -0.00000000e+00,\n",
       "       -0.00000000e+00, -0.00000000e+00, -0.00000000e+00, -0.00000000e+00,\n",
       "        0.00000000e+00, -0.00000000e+00, -0.00000000e+00,  0.00000000e+00,\n",
       "        0.00000000e+00, -0.00000000e+00, -0.00000000e+00, -0.00000000e+00,\n",
       "        0.00000000e+00, -0.00000000e+00, -0.00000000e+00, -0.00000000e+00,\n",
       "        0.00000000e+00, -0.00000000e+00, -0.00000000e+00, -0.00000000e+00,\n",
       "       -0.00000000e+00,  0.00000000e+00, -0.00000000e+00,  0.00000000e+00,\n",
       "        0.00000000e+00,  0.00000000e+00, -0.00000000e+00,  0.00000000e+00,\n",
       "        0.00000000e+00, -0.00000000e+00, -0.00000000e+00,  0.00000000e+00,\n",
       "        0.00000000e+00,  0.00000000e+00,  0.00000000e+00,  0.00000000e+00,\n",
       "        0.00000000e+00,  0.00000000e+00,  0.00000000e+00,  0.00000000e+00,\n",
       "       -0.00000000e+00,  0.00000000e+00,  0.00000000e+00, -0.00000000e+00,\n",
       "        0.00000000e+00,  0.00000000e+00,  0.00000000e+00, -0.00000000e+00,\n",
       "       -0.00000000e+00, -0.00000000e+00, -0.00000000e+00,  0.00000000e+00,\n",
       "       -0.00000000e+00, -0.00000000e+00, -0.00000000e+00,  0.00000000e+00,\n",
       "       -0.00000000e+00])"
      ]
     },
     "execution_count": 27,
     "metadata": {},
     "output_type": "execute_result"
    }
   ],
   "source": [
    "model_simplelasso.coef_"
   ]
  },
  {
   "cell_type": "markdown",
   "metadata": {},
   "source": [
    "Огромное количество нулей. Как так получилось?  Дело в том, что Lasso-регрессия отличается от обычной специальным штрафом: __регуляризацией.__ В течение всего предыдущего курса мы говорили, что модели часто страдают таким недугом, как переобучение. \n",
    "\n",
    "![](https://cdn-ssl-devio-img.classmethod.jp/wp-content/uploads/2015/05/mlconcepts_image51.png)\n",
    "\n",
    "В случае регрессии это выражается в том, что линия, которую мы проводим, слишком подробно вылизывает точки пространства. На самой правой каритинке именно это и произошло. Для того, чтобы так подробно опутать точки, регрессии надо делать очень резкие повороты. Для резких поворотов ей необходимы большие коэффициенты. \n",
    "\n",
    "Получается, что если мы хотим избежать резких поворотов, и значит, переобучения, нам нужно накладывать на коэффициенты специальные штрафы, которые не дадут им становиться очень-очень большими. Как можно оштрафовать коэффициенты за их размер? Очень просто. Давайте возьмём нашу функцию ошибки, $MSE$, и прибавим к ней дополнительное слагаемое. \n",
    "\n",
    "$$MSE + \\alpha \\cdot \\sum |\\beta|.$$ \n",
    "\n",
    "Теперь мы будем минимизировать не просто квадрат ошибки, а квадрат ошибки плюс сумму модулей коэффициентов. Этот приём не даст нашей модели переобучится. \n",
    "\n",
    "Обратите внимание, что штраф мы вносим с весом $\\alpha$. Если взять $\\alpha = 1000$, то мы говорим, что очень сильно хотим штрафовать коэффициенты за их размер. Если мы берём $\\alpha = 1$, мы говорим, что хотим внести мааааааленький штраф. В нашем случае штраф получился равен $100$. Оказалось, что это довольно много и огромное число коэффициентов занулилось. Качество модели упало. \n",
    "\n",
    "Кроме модулей коэффициентов, можно добавлять штраф из квадратов коэффициентов \n",
    "\n",
    "$$MSE + \\alpha \\cdot \\sum \\beta^2.$$ \n",
    "\n",
    "Такая модель называется redge-регрессией (гребневой регрессией)."
   ]
  },
  {
   "cell_type": "markdown",
   "metadata": {},
   "source": [
    "Возникает вопрос: а надо ли нам вообще в случае наших продаж боятся переобучения и подбирать $\\alpha$? Не очень понятно. Чтобы разобраться обычно пробуют много разных значений $\\alpha$ и ищут такое, чтобы ошибка на кросс-валидации стала поменьше.  Делается это с помощью специального метода: `GridSearch`, поиска по решётке. Такие параметры, как $\\alpha$, которые можно покрутить и посмотреть что изменится, называются __гиперпараметрами модели.__ "
   ]
  },
  {
   "cell_type": "code",
   "execution_count": 28,
   "metadata": {},
   "outputs": [
    {
     "name": "stdout",
     "output_type": "stream",
     "text": [
      "CPU times: user 3min 53s, sys: 21.1 s, total: 4min 14s\n",
      "Wall time: 3min 52s\n"
     ]
    }
   ],
   "source": [
    "%%time\n",
    "from sklearn.model_selection import GridSearchCV\n",
    "\n",
    "# Решётака для перебора параметра \n",
    "param_grid = {'alpha': [0.001, 0.01, 0.05, 0.1, 0.5, 0.8, 1, 5, 10]}\n",
    "\n",
    "# Объявили модель \n",
    "model_lasso = Lasso() \n",
    "\n",
    "# Объявили перебор, cv=5 это количество фолдов для валидации\n",
    "grid_cv_lasso = GridSearchCV(model_lasso, param_grid, cv = 5, scoring='neg_mean_absolute_error')\n",
    "\n",
    "# обучаем решётку\n",
    "grid_cv_lasso.fit(X_train, y_train)"
   ]
  },
  {
   "cell_type": "markdown",
   "metadata": {},
   "source": [
    "Перебор работает очень долго. Для каждого `alpha` нам надо учить `cv` моделей. Всего получается в нашей ситуции учится $9 \\cdot 5 = 45$ моделей. Параметров для перебора в моделях бывает много. Обычно поиск по решётке используют в случае $1,2$, ну максимум $3$ параметров."
   ]
  },
  {
   "cell_type": "code",
   "execution_count": 28,
   "metadata": {},
   "outputs": [
    {
     "name": "stdout",
     "output_type": "stream",
     "text": [
      "Лучшее значение параметра: {'alpha': 0.001}\n",
      "Лучшее качество: -0.19395653731843174\n"
     ]
    }
   ],
   "source": [
    "print('Лучшее значение параметра:', grid_cv_lasso.best_params_)\n",
    "print('Лучшее качество:', grid_cv_lasso.best_score_)"
   ]
  },
  {
   "cell_type": "code",
   "execution_count": 29,
   "metadata": {},
   "outputs": [
    {
     "data": {
      "text/plain": [
       "0.4404049696795345"
      ]
     },
     "execution_count": 29,
     "metadata": {},
     "output_type": "execute_result"
    }
   ],
   "source": [
    "-1*grid_cv_lasso.best_score_"
   ]
  },
  {
   "cell_type": "code",
   "execution_count": 30,
   "metadata": {},
   "outputs": [],
   "source": [
    "model_lasso = grid_cv_lasso.best_estimator_\n",
    "\n",
    "# Сделали прогнозы\n",
    "y_pred_lasso = model_lasso.predict(X_test)"
   ]
  },
  {
   "cell_type": "code",
   "execution_count": 31,
   "metadata": {},
   "outputs": [
    {
     "name": "stdout",
     "output_type": "stream",
     "text": [
      "MAE: 0.22306035862080364\n",
      "RMSE: 0.4452814862126029\n"
     ]
    }
   ],
   "source": [
    "mae(y_test, y_pred_lasso)"
   ]
  },
  {
   "cell_type": "markdown",
   "metadata": {},
   "source": [
    "Лучшее `alpha` оказалось очень маленьким. Значит модели не нужна регуляризация. Это хорошая новость. Проблемы начнутся позже, в домашке. "
   ]
  },
  {
   "cell_type": "markdown",
   "metadata": {},
   "source": [
    "## 6. Случайный лес \n",
    "\n",
    "Напоследок давайте попробуем натравить на данные более сложную модель, случайный лес. Вы же ещё не забыли как строятся деревья?  В случае случайного леса они строятся максимально независимо по разным подвыборкам из нашей большой таблички. Каждое дерево даёт нам прогноз, потом мы берём весь лес и усредняем по нему прогнозы. В итоге получается один коллективный прогноз. \n",
    "\n",
    "Ясное дело, что лес будет учиться намного дольше обычной регрессии из-за того, что под капотом леса работает жадный алгоритм. Мы должны попробовать сделать разбиение в каждой вершине дерева в куче разных мест и посмотреть что будет. Помните мы руками на доске учили деревья? Не помните? Уже забыли? Ну и балбесы! Ой, всё. "
   ]
  },
  {
   "cell_type": "code",
   "execution_count": 32,
   "metadata": {},
   "outputs": [
    {
     "name": "stdout",
     "output_type": "stream",
     "text": [
      "CPU times: user 18min 24s, sys: 9.7 s, total: 18min 34s\n",
      "Wall time: 18min 38s\n"
     ]
    }
   ],
   "source": [
    "%%time\n",
    "from sklearn.ensemble import RandomForestRegressor\n",
    "\n",
    "# Объявили лес из 10 деревьев \n",
    "rf = RandomForestRegressor(n_estimators=10)\n",
    "\n",
    "# Обучили лес \n",
    "rf.fit(X_train, y_train)\n",
    "\n",
    "# Сделали по лесу прогнозы \n",
    "y_pred_forest = rf.predict(X_test)"
   ]
  },
  {
   "cell_type": "markdown",
   "metadata": {},
   "source": [
    "Смотрим на прогнозные метрики. "
   ]
  },
  {
   "cell_type": "code",
   "execution_count": 33,
   "metadata": {},
   "outputs": [
    {
     "name": "stdout",
     "output_type": "stream",
     "text": [
      "MAE: 0.2108135137887035\n",
      "RMSE: 0.41188050277583305\n"
     ]
    }
   ],
   "source": [
    "mae(y_test, y_pred_forest)"
   ]
  },
  {
   "cell_type": "markdown",
   "metadata": {},
   "source": [
    "Они же, но в деньгах. "
   ]
  },
  {
   "cell_type": "code",
   "execution_count": 34,
   "metadata": {},
   "outputs": [
    {
     "name": "stdout",
     "output_type": "stream",
     "text": [
      "MAE: 1861.3886133632996\n",
      "RMSE: 5328.037146058631\n"
     ]
    }
   ],
   "source": [
    "mae(np.exp(y_test), np.exp(y_pred_forest))"
   ]
  },
  {
   "cell_type": "markdown",
   "metadata": {},
   "source": [
    "Картинка с прогнозами на тестовой выборке. "
   ]
  },
  {
   "cell_type": "code",
   "execution_count": 35,
   "metadata": {},
   "outputs": [
    {
     "data": {
      "image/png": "[encoded data removed]",
      "text/plain": [
       "<Figure size 432x288 with 1 Axes>"
      ]
     },
     "metadata": {
      "needs_background": "light"
     },
     "output_type": "display_data"
    }
   ],
   "source": [
    "plt.scatter(y_test, y_pred_forest)\n",
    "plt.xlabel('Истинные значения')\n",
    "plt.ylabel('Предсказанные значения')\n",
    "plt.axis('equal')\n",
    "plt.axis('square')\n",
    "plt.xlim([0,plt.xlim()[1]])\n",
    "plt.ylim([0,plt.ylim()[1]])\n",
    "_ = plt.plot([-100, 100], [-100, 100])"
   ]
  },
  {
   "cell_type": "markdown",
   "metadata": {},
   "source": [
    "Она же на тренировочной выборке. "
   ]
  },
  {
   "cell_type": "code",
   "execution_count": 36,
   "metadata": {},
   "outputs": [
    {
     "data": {
      "image/png": "[encoded data removed]",
      "text/plain": [
       "<Figure size 432x288 with 1 Axes>"
      ]
     },
     "metadata": {
      "needs_background": "light"
     },
     "output_type": "display_data"
    }
   ],
   "source": [
    "plt.scatter(y_train, rf.predict(X_train))\n",
    "plt.xlabel('Истинные значения')\n",
    "plt.ylabel('Предсказанные значения')\n",
    "plt.axis('equal')\n",
    "plt.axis('square')\n",
    "plt.xlim([0,plt.xlim()[1]])\n",
    "plt.ylim([0,plt.ylim()[1]])\n",
    "_ = plt.plot([-100, 100], [-100, 100])"
   ]
  },
  {
   "cell_type": "markdown",
   "metadata": {},
   "source": [
    "Внимательный студент завопит в голос, что лес переобучился, потому что он вытянулся вдоль диагонали на тренировочной выборке, а на тестовой не вытянулся! Студент был бы прав, если бы это был __любой другой алгоритм.__ Случайный лес очень хорош тем, что __он не переобучается.__"
   ]
  },
  {
   "cell_type": "markdown",
   "metadata": {},
   "source": [
    "У случайного леса, кстати говоря, тоже куча гиперпараметров. И их тоже все можно перебирать. Правда это займёт ещё больше времени, чем в случае регрессии, так как алгоритм обучает много-много деревьев."
   ]
  },
  {
   "cell_type": "markdown",
   "metadata": {},
   "source": [
    "## 7. Сохраняем результаты\n",
    "\n",
    "Сохраняем модели на свой компьютер. На следущем семинаре они нам пригодятся. Мы будем более досканально исследовать их с точки зрения безнес-эффекта. "
   ]
  },
  {
   "cell_type": "code",
   "execution_count": 37,
   "metadata": {},
   "outputs": [],
   "source": [
    "from sklearn.externals import joblib"
   ]
  },
  {
   "cell_type": "code",
   "execution_count": 38,
   "metadata": {},
   "outputs": [
    {
     "data": {
      "text/plain": [
       "['model_lasso.pkl']"
      ]
     },
     "execution_count": 38,
     "metadata": {},
     "output_type": "execute_result"
    }
   ],
   "source": [
    "joblib.dump(model_lasso, 'model_lasso.pkl') "
   ]
  },
  {
   "cell_type": "code",
   "execution_count": 39,
   "metadata": {},
   "outputs": [
    {
     "data": {
      "text/plain": [
       "['model_rf.pkl']"
      ]
     },
     "execution_count": 39,
     "metadata": {},
     "output_type": "execute_result"
    }
   ],
   "source": [
    "# Лес сохранять не будем, он много весит, но делается это вот так: \n",
    "# joblib.dump(rf, 'model_rf.pkl') "
   ]
  }
 ],
 "metadata": {
  "kernelspec": {
   "display_name": "Python 3",
   "language": "python",
   "name": "python3"
  },
  "language_info": {
   "codemirror_mode": {
    "name": "ipython",
    "version": 3
   },
   "file_extension": ".py",
   "mimetype": "text/x-python",
   "name": "python",
   "nbconvert_exporter": "python",
   "pygments_lexer": "ipython3",
   "version": "3.7.2"
  }
 },
 "nbformat": 4,
 "nbformat_minor": 2
}
