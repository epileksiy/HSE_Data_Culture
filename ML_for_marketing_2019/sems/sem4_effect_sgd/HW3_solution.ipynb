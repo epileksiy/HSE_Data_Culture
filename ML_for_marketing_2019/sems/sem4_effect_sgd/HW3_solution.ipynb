{
 "cells": [
  {
   "cell_type": "markdown",
   "metadata": {},
   "source": [
    "<img src=\"https://justaklikaway.files.wordpress.com/2014/05/shut-up-and-take-my-money.jpg\" height=\"400\" width=\"400\"> \n",
    "\n",
    "# <center> ML для маркетинга. <br>  <br> Сюжетная арка 1: продажи </center>\n",
    "\n",
    "В этом семестре мы с вами пройдём через несколько сюжетных арок. Первой такой аркой будут продажи. Им будет посвящена первая серия из домашек и семинаров. \n",
    "\n",
    "\n",
    "### Задача:\n",
    "\n",
    "Мы будем работать с датасетом __bikes_rent.csv__, в котором по дням записаны календарная информация и погодные условия, характеризующие автоматизированные пункты проката велосипедов, а также число прокатов в этот день. Последнее мы будем предсказывать; таким образом, мы будем решать задачу регрессии.\n",
    "\n",
    "\n",
    "#  Эпизод III (месть менеджера) \n",
    "\n",
    "Модель готова, пора заколачивать бабло. Расчехляйте свой искусственный интеллект и готовьте мешок для шекелей. "
   ]
  },
  {
   "cell_type": "code",
   "execution_count": 15,
   "metadata": {},
   "outputs": [],
   "source": [
    "# Как обычно, для начала подгружаем нужные нам пакеты\n",
    "import pandas as pd    # пакет для работы с таблицами \n",
    "import numpy as np     # пакет для работы с матрицами \n",
    "\n",
    "# пакеты для картиночек \n",
    "import matplotlib\n",
    "\n",
    "import matplotlib.pyplot as plt\n",
    "import seaborn as sns\n",
    "plt.style.use('ggplot')  # правильный (наиболее красивый) стиль у графиков\n",
    "\n",
    "%matplotlib inline"
   ]
  },
  {
   "cell_type": "markdown",
   "metadata": {},
   "source": [
    "__[1]__ Подгрузите тестовую выборку и модель. Выбросите из выборки все `pca`, если они в ней есть. "
   ]
  },
  {
   "cell_type": "code",
   "execution_count": 16,
   "metadata": {},
   "outputs": [
    {
     "name": "stdout",
     "output_type": "stream",
     "text": [
      "Размерность таблицы: (120, 37)\n"
     ]
    },
    {
     "data": {
      "text/html": [
       "<div>\n",
       "<style scoped>\n",
       "    .dataframe tbody tr th:only-of-type {\n",
       "        vertical-align: middle;\n",
       "    }\n",
       "\n",
       "    .dataframe tbody tr th {\n",
       "        vertical-align: top;\n",
       "    }\n",
       "\n",
       "    .dataframe thead th {\n",
       "        text-align: right;\n",
       "    }\n",
       "</style>\n",
       "<table border=\"1\" class=\"dataframe\">\n",
       "  <thead>\n",
       "    <tr style=\"text-align: right;\">\n",
       "      <th></th>\n",
       "      <th>temp</th>\n",
       "      <th>atemp</th>\n",
       "      <th>hum</th>\n",
       "      <th>windspeed(mph)</th>\n",
       "      <th>windspeed(ms)</th>\n",
       "      <th>cnt</th>\n",
       "      <th>season_2</th>\n",
       "      <th>season_3</th>\n",
       "      <th>season_4</th>\n",
       "      <th>yr_1</th>\n",
       "      <th>...</th>\n",
       "      <th>weekday_6</th>\n",
       "      <th>workingday_1</th>\n",
       "      <th>weathersit_2</th>\n",
       "      <th>weathersit_3</th>\n",
       "      <th>temp_sq</th>\n",
       "      <th>atemp_sq</th>\n",
       "      <th>hum_sq</th>\n",
       "      <th>windspeed(mph)_sq</th>\n",
       "      <th>windspeed(ms)_sq</th>\n",
       "      <th>super_nice_day</th>\n",
       "    </tr>\n",
       "  </thead>\n",
       "  <tbody>\n",
       "    <tr>\n",
       "      <th>0</th>\n",
       "      <td>29.007500</td>\n",
       "      <td>33.08145</td>\n",
       "      <td>79.0833</td>\n",
       "      <td>10.125107</td>\n",
       "      <td>4.526199</td>\n",
       "      <td>6034</td>\n",
       "      <td>0</td>\n",
       "      <td>1</td>\n",
       "      <td>0</td>\n",
       "      <td>1</td>\n",
       "      <td>...</td>\n",
       "      <td>0</td>\n",
       "      <td>0</td>\n",
       "      <td>0</td>\n",
       "      <td>0</td>\n",
       "      <td>841.435056</td>\n",
       "      <td>1094.382334</td>\n",
       "      <td>6254.168339</td>\n",
       "      <td>102.517792</td>\n",
       "      <td>20.486477</td>\n",
       "      <td>False</td>\n",
       "    </tr>\n",
       "    <tr>\n",
       "      <th>1</th>\n",
       "      <td>29.759153</td>\n",
       "      <td>34.34440</td>\n",
       "      <td>75.5000</td>\n",
       "      <td>15.833507</td>\n",
       "      <td>7.078009</td>\n",
       "      <td>6864</td>\n",
       "      <td>0</td>\n",
       "      <td>1</td>\n",
       "      <td>0</td>\n",
       "      <td>1</td>\n",
       "      <td>...</td>\n",
       "      <td>0</td>\n",
       "      <td>1</td>\n",
       "      <td>0</td>\n",
       "      <td>0</td>\n",
       "      <td>885.607187</td>\n",
       "      <td>1179.537811</td>\n",
       "      <td>5700.250000</td>\n",
       "      <td>250.699944</td>\n",
       "      <td>50.098217</td>\n",
       "      <td>False</td>\n",
       "    </tr>\n",
       "    <tr>\n",
       "      <th>2</th>\n",
       "      <td>30.203347</td>\n",
       "      <td>35.44915</td>\n",
       "      <td>74.1250</td>\n",
       "      <td>12.583136</td>\n",
       "      <td>5.625005</td>\n",
       "      <td>7112</td>\n",
       "      <td>0</td>\n",
       "      <td>1</td>\n",
       "      <td>0</td>\n",
       "      <td>1</td>\n",
       "      <td>...</td>\n",
       "      <td>0</td>\n",
       "      <td>1</td>\n",
       "      <td>0</td>\n",
       "      <td>0</td>\n",
       "      <td>912.242170</td>\n",
       "      <td>1256.642236</td>\n",
       "      <td>5494.515625</td>\n",
       "      <td>158.335312</td>\n",
       "      <td>31.640680</td>\n",
       "      <td>False</td>\n",
       "    </tr>\n",
       "    <tr>\n",
       "      <th>3</th>\n",
       "      <td>28.563347</td>\n",
       "      <td>32.76645</td>\n",
       "      <td>81.0417</td>\n",
       "      <td>9.542207</td>\n",
       "      <td>4.265627</td>\n",
       "      <td>6203</td>\n",
       "      <td>0</td>\n",
       "      <td>1</td>\n",
       "      <td>0</td>\n",
       "      <td>1</td>\n",
       "      <td>...</td>\n",
       "      <td>0</td>\n",
       "      <td>1</td>\n",
       "      <td>1</td>\n",
       "      <td>0</td>\n",
       "      <td>815.864792</td>\n",
       "      <td>1073.640246</td>\n",
       "      <td>6567.757139</td>\n",
       "      <td>91.053714</td>\n",
       "      <td>18.195571</td>\n",
       "      <td>False</td>\n",
       "    </tr>\n",
       "    <tr>\n",
       "      <th>4</th>\n",
       "      <td>28.836653</td>\n",
       "      <td>32.86020</td>\n",
       "      <td>73.6250</td>\n",
       "      <td>11.500282</td>\n",
       "      <td>5.140940</td>\n",
       "      <td>7504</td>\n",
       "      <td>0</td>\n",
       "      <td>1</td>\n",
       "      <td>0</td>\n",
       "      <td>1</td>\n",
       "      <td>...</td>\n",
       "      <td>0</td>\n",
       "      <td>1</td>\n",
       "      <td>0</td>\n",
       "      <td>0</td>\n",
       "      <td>831.552556</td>\n",
       "      <td>1079.792744</td>\n",
       "      <td>5420.640625</td>\n",
       "      <td>132.256486</td>\n",
       "      <td>26.429260</td>\n",
       "      <td>False</td>\n",
       "    </tr>\n",
       "  </tbody>\n",
       "</table>\n",
       "<p>5 rows × 37 columns</p>\n",
       "</div>"
      ],
      "text/plain": [
       "        temp     atemp      hum  windspeed(mph)  windspeed(ms)   cnt  \\\n",
       "0  29.007500  33.08145  79.0833       10.125107       4.526199  6034   \n",
       "1  29.759153  34.34440  75.5000       15.833507       7.078009  6864   \n",
       "2  30.203347  35.44915  74.1250       12.583136       5.625005  7112   \n",
       "3  28.563347  32.76645  81.0417        9.542207       4.265627  6203   \n",
       "4  28.836653  32.86020  73.6250       11.500282       5.140940  7504   \n",
       "\n",
       "   season_2  season_3  season_4  yr_1  ...  weekday_6  workingday_1  \\\n",
       "0         0         1         0     1  ...          0             0   \n",
       "1         0         1         0     1  ...          0             1   \n",
       "2         0         1         0     1  ...          0             1   \n",
       "3         0         1         0     1  ...          0             1   \n",
       "4         0         1         0     1  ...          0             1   \n",
       "\n",
       "   weathersit_2  weathersit_3     temp_sq     atemp_sq       hum_sq  \\\n",
       "0             0             0  841.435056  1094.382334  6254.168339   \n",
       "1             0             0  885.607187  1179.537811  5700.250000   \n",
       "2             0             0  912.242170  1256.642236  5494.515625   \n",
       "3             1             0  815.864792  1073.640246  6567.757139   \n",
       "4             0             0  831.552556  1079.792744  5420.640625   \n",
       "\n",
       "   windspeed(mph)_sq  windspeed(ms)_sq  super_nice_day  \n",
       "0         102.517792         20.486477           False  \n",
       "1         250.699944         50.098217           False  \n",
       "2         158.335312         31.640680           False  \n",
       "3          91.053714         18.195571           False  \n",
       "4         132.256486         26.429260           False  \n",
       "\n",
       "[5 rows x 37 columns]"
      ]
     },
     "execution_count": 16,
     "metadata": {},
     "output_type": "execute_result"
    }
   ],
   "source": [
    "df = pd.read_csv('data_test.csv', sep='\\t')    # подгружаем датасет\n",
    "df.drop(['pca_1', 'pca_2', 'pca_3'], axis=1, inplace=True)\n",
    "print('Размерность таблицы:', df.shape)      # shape показывает его размер\n",
    "df.head()      "
   ]
  },
  {
   "cell_type": "code",
   "execution_count": 17,
   "metadata": {},
   "outputs": [
    {
     "data": {
      "text/plain": [
       "Lasso(alpha=2.9899999999999998, copy_X=True, fit_intercept=True,\n",
       "   max_iter=1000, normalize=False, positive=False, precompute=False,\n",
       "   random_state=None, selection='cyclic', tol=0.0001, warm_start=False)"
      ]
     },
     "execution_count": 17,
     "metadata": {},
     "output_type": "execute_result"
    }
   ],
   "source": [
    "from sklearn.externals import joblib\n",
    "\n",
    "model_lasso = joblib.load('model_hw.pkl')\n",
    "model_lasso"
   ]
  },
  {
   "cell_type": "markdown",
   "metadata": {},
   "source": [
    "__[1]__ Постройте табличку с тремя столбцами: \n",
    "\n",
    "* Колонка с реальным спросом, `cnt` \n",
    "* Колонка со спросом, который предсказывает наша модель методом `predict`\n",
    "* Колонка с наивным прогнозом (среднее по тренировочной выборке, напомню что оно оказалось равно $2054.$)"
   ]
  },
  {
   "cell_type": "code",
   "execution_count": 18,
   "metadata": {},
   "outputs": [
    {
     "data": {
      "text/html": [
       "<div>\n",
       "<style scoped>\n",
       "    .dataframe tbody tr th:only-of-type {\n",
       "        vertical-align: middle;\n",
       "    }\n",
       "\n",
       "    .dataframe tbody tr th {\n",
       "        vertical-align: top;\n",
       "    }\n",
       "\n",
       "    .dataframe thead th {\n",
       "        text-align: right;\n",
       "    }\n",
       "</style>\n",
       "<table border=\"1\" class=\"dataframe\">\n",
       "  <thead>\n",
       "    <tr style=\"text-align: right;\">\n",
       "      <th></th>\n",
       "      <th>real</th>\n",
       "      <th>predict</th>\n",
       "      <th>naive</th>\n",
       "    </tr>\n",
       "  </thead>\n",
       "  <tbody>\n",
       "    <tr>\n",
       "      <th>0</th>\n",
       "      <td>6034</td>\n",
       "      <td>4490.689944</td>\n",
       "      <td>2054</td>\n",
       "    </tr>\n",
       "    <tr>\n",
       "      <th>1</th>\n",
       "      <td>6864</td>\n",
       "      <td>4542.931663</td>\n",
       "      <td>2054</td>\n",
       "    </tr>\n",
       "    <tr>\n",
       "      <th>2</th>\n",
       "      <td>7112</td>\n",
       "      <td>4580.422962</td>\n",
       "      <td>2054</td>\n",
       "    </tr>\n",
       "    <tr>\n",
       "      <th>3</th>\n",
       "      <td>6203</td>\n",
       "      <td>4489.133039</td>\n",
       "      <td>2054</td>\n",
       "    </tr>\n",
       "    <tr>\n",
       "      <th>4</th>\n",
       "      <td>7504</td>\n",
       "      <td>4681.513762</td>\n",
       "      <td>2054</td>\n",
       "    </tr>\n",
       "  </tbody>\n",
       "</table>\n",
       "</div>"
      ],
      "text/plain": [
       "   real      predict  naive\n",
       "0  6034  4490.689944   2054\n",
       "1  6864  4542.931663   2054\n",
       "2  7112  4580.422962   2054\n",
       "3  6203  4489.133039   2054\n",
       "4  7504  4681.513762   2054"
      ]
     },
     "execution_count": 18,
     "metadata": {},
     "output_type": "execute_result"
    }
   ],
   "source": [
    "dfp = pd.DataFrame() \n",
    "\n",
    "dfp['real'] = df['cnt'] \n",
    "dfp['predict'] = model_lasso.predict(df.drop('cnt', axis=1).values)\n",
    "dfp['naive'] = 2054\n",
    "dfp.head()"
   ]
  },
  {
   "cell_type": "markdown",
   "metadata": {},
   "source": [
    "__[2]__   Какуюс среднюю ошибку допускают наши модели? Какая ошибается чаще?  Какой у моделей средний перепрогноз? Какой средний недопрогноз?"
   ]
  },
  {
   "cell_type": "code",
   "execution_count": 19,
   "metadata": {},
   "outputs": [
    {
     "data": {
      "text/plain": [
       "(924.5555555555555, 3997.135135135135)"
      ]
     },
     "execution_count": 19,
     "metadata": {},
     "output_type": "execute_result"
    }
   ],
   "source": [
    "loss = dfp['naive'].values - dfp['real'].values\n",
    "l_naive_over = np.mean(loss[loss > 0]) \n",
    "l_naive_under = -1*np.mean(loss[loss < 0])\n",
    "\n",
    "l_naive_over, l_naive_under"
   ]
  },
  {
   "cell_type": "code",
   "execution_count": 20,
   "metadata": {},
   "outputs": [
    {
     "data": {
      "text/plain": [
       "(294.66075726660495, 3353.141911169361)"
      ]
     },
     "execution_count": 20,
     "metadata": {},
     "output_type": "execute_result"
    }
   ],
   "source": [
    "loss = dfp['predict'].values - dfp['real'].values\n",
    "l_regr_over = np.mean(loss[loss > 0])\n",
    "l_regr_under =-1*np.mean(loss[loss < 0])\n",
    "\n",
    "l_regr_over, l_regr_under"
   ]
  },
  {
   "cell_type": "markdown",
   "metadata": {},
   "source": [
    "__[2]__  Какая из ошибок получилась больше (перепрогноз или недопрогноз)? Как думаете, из-за чего так происходит в случае нашей модели?  \n",
    "\n",
    "Чтобы правильно ответить на этот вопрос, придётся сделать две вещи: \n",
    "\n",
    "1. Вспомнить какую метрику вы использовали для обучения модели и какими свойствами она обладает. Забыли как считаются метрики регрессии? [Освежите память в этом pdf.](https://github.com/FUlyankin/HSE_Data_Culture/blob/master/Intro_to_DS_2019/sem_6_regression/sem_6_semi.pdf) \n",
    "2. Построить гистограмму для спроса на тренировочной выборке (табличку с тренировочными данными придётся подгрузить в блокнот). Построить гистограмму для спроса на тестовой выборке. Сравните эти гистограммы между собой.\n",
    "\n",
    "Соедините знания о данных и метриках и сделайте выводы. \n",
    "\n",
    "__Ответ:__ \n",
    "\n",
    "* Мы использовали для обучения MSE. Она пытается прогнозировать нам среднее и штрафует сильнее за более сильные ошибки из-зи квадрата. \n",
    "* По гистограммам с теста и трейна видно, что модель мы учили на одном подмножестве ответов, а тестируем её на другом. В тестовой выборке есть смещение в большую сторону, из-за этого возникает более большая ошибка перепрогноза. Когда пытаетесь разбивать выборку для решения задачи регрессии на тренировочную и тестовую, нужно следить чтобы распределение целевого признака было в обеих выборках похожим. "
   ]
  },
  {
   "cell_type": "code",
   "execution_count": 23,
   "metadata": {},
   "outputs": [
    {
     "data": {
      "image/png": "[encoded data removed]",
      "text/plain": [
       "<Figure size 432x288 with 1 Axes>"
      ]
     },
     "metadata": {
      "needs_background": "light"
     },
     "output_type": "display_data"
    }
   ],
   "source": [
    "df = pd.read_csv('../sem1&2_data_prepare/data_train.csv', sep='\\t')\n",
    "df.cnt.hist();"
   ]
  },
  {
   "cell_type": "code",
   "execution_count": 25,
   "metadata": {},
   "outputs": [
    {
     "data": {
      "image/png": "[encoded data removed]",
      "text/plain": [
       "<Figure size 432x288 with 1 Axes>"
      ]
     },
     "metadata": {
      "needs_background": "light"
     },
     "output_type": "display_data"
    }
   ],
   "source": [
    "dfp.real.hist();"
   ]
  },
  {
   "cell_type": "markdown",
   "metadata": {},
   "source": [
    "__[2]__  __Легенда:__ мэр одного крупного мегаполиса решил сделать свой город более хипстерским. Для этого он совместно с крупным банком открыл по всему городу пункты велопроката. Люди могут взять велик в одном месте, немного покататься и оставить его на любой другой удобной станции проката.\n",
    "\n",
    "Велики довольно часто ломаются. Приходится обновлять велопарк. Если спрос слишком низкий, при этом в прокате слишком много великов, и происходит поломка, мэр просто выкидывает старый велик и ничего не делает. Если спрос высокий, мэр не только быстро чинит сломанные велики, но ещё и закупает новые. Мэр понимает, что в течение сезона спрос постоянно меняется. Для того, чтобы принимать правильные решения, он хочет использовать вашу модель. Объясни мэру по пунктам как можно это сделать и к какому бизнес-эффекту это приведёт. Опишите как измерить этот бизнес-эффект в деньгах. Если вы не понимаете о чём вообще идёт речь, [вспомните кекс про пиццу](https://github.com/FUlyankin/HSE_Data_Culture/blob/master/Intro_to_DS_2019/big_hw/big_hw2_ans.pdf) и пишите в чат. \n",
    "\n",
    "__Ответ:__  (Не надо только тут писать листы А4, двух небольшиз ёмких абзацев вполне достаточно. "
   ]
  },
  {
   "cell_type": "code",
   "execution_count": null,
   "metadata": {},
   "outputs": [],
   "source": []
  },
  {
   "cell_type": "markdown",
   "metadata": {},
   "source": [
    "__[2]__ Мэра каждую ночь мучает кошмар. Ему снится как его оппонент побеждает в выборах, которые состоятся через год. Чтобы не допустить этого, мэр придумывает хитры план. Он будет вкидывать на рынок специально побольше великов, чтобы всем людям хватало и они оставались довольны.\n",
    "\n",
    "Какой ошибки мэр боится сильнее недопрогноза или перепрогноза? Как можно переделать метрику для обучения регрессии, чтобы модель штрафовала одну из ошибок сильнее? Выпишите конкретные формулы.  Вбить формулы в тетрадку можно вот так: "
   ]
  },
  {
   "cell_type": "raw",
   "metadata": {},
   "source": [
    "$$\n",
    "x_t = x_{t-1} - \\gamma \\cdot L'(x)\n",
    "$$"
   ]
  },
  {
   "cell_type": "markdown",
   "metadata": {},
   "source": [
    "Когда вы допишите формулу и нажмёте для ячейки shift+enter, она превратиться вот в такое чудо: \n",
    "\n",
    "\n",
    "$$\n",
    "x_t = x_{t-1} - \\gamma \\cdot L'(x)\n",
    "$$\n",
    "\n",
    "__Ответ:__  Нам нужна квантильная ошибка. Про неё подробнее можно почитать в прошлогодней пдф-ке. Больший вес надо будет дать недопрогнозу. Для него критичнее возникновение недовольства из-за нехватки велосипедов."
   ]
  },
  {
   "cell_type": "markdown",
   "metadata": {},
   "source": [
    " "
   ]
  }
 ],
 "metadata": {
  "kernelspec": {
   "display_name": "Python 3",
   "language": "python",
   "name": "python3"
  },
  "language_info": {
   "codemirror_mode": {
    "name": "ipython",
    "version": 3
   },
   "file_extension": ".py",
   "mimetype": "text/x-python",
   "name": "python",
   "nbconvert_exporter": "python",
   "pygments_lexer": "ipython3",
   "version": "3.7.2"
  }
 },
 "nbformat": 4,
 "nbformat_minor": 2
}
