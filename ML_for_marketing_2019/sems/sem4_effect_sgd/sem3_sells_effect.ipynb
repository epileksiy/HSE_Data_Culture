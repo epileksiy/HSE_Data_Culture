{
 "cells": [
  {
   "cell_type": "markdown",
   "metadata": {},
   "source": [
    "<img src=\"https://justaklikaway.files.wordpress.com/2014/05/shut-up-and-take-my-money.jpg\" height=\"400\" width=\"400\"> \n",
    "\n",
    "# <center> ML для маркетинга. <br>  <br> Cюжетная арка 1: продажи </center>\n",
    "\n",
    "В этом семестре мы с вами пройдём через несколько сюжетных арок. Первой такой аркой будут продажи. Им будет посвящена первая серия из семинаров и домашек. \n",
    "\n",
    "\n",
    "#  Эпизод III (месть менеджера) \n",
    "\n",
    "Ну вот и всё, модель готова. Она прогнозирует продажи. Когда нас попросили сделать её, предполагалось, что она будет решать какую-то реальную сложную проблему и сэкономит нам гору бабла. Давайте посмотрим насколько успешно она с этим справляется."
   ]
  },
  {
   "cell_type": "code",
   "execution_count": 1,
   "metadata": {},
   "outputs": [],
   "source": [
    "# Как обычно, для начала подгружаем нужные нам пакеты\n",
    "import pandas as pd    # пакет для работы с таблицами \n",
    "import numpy as np     # пакет для работы с матрицами \n",
    "\n",
    "# пакеты для картиночек \n",
    "import matplotlib\n",
    "\n",
    "import matplotlib.pyplot as plt\n",
    "import seaborn as sns\n",
    "plt.style.use('ggplot')  # правильный (наиболее красивый) стиль у графиков\n",
    "\n",
    "%matplotlib inline"
   ]
  },
  {
   "cell_type": "markdown",
   "metadata": {},
   "source": [
    "# 1. Тестовый период и модели\n",
    "\n",
    "Подгрузим данные, которые мы отложили для тестового периода. Их наша модель ещё не видела. Интересно, как именно она на них себя покажет."
   ]
  },
  {
   "cell_type": "code",
   "execution_count": 2,
   "metadata": {},
   "outputs": [
    {
     "name": "stdout",
     "output_type": "stream",
     "text": [
      "Размерность таблицы: (73684, 148)\n"
     ]
    },
    {
     "data": {
      "text/html": [
       "<div>\n",
       "<style scoped>\n",
       "    .dataframe tbody tr th:only-of-type {\n",
       "        vertical-align: middle;\n",
       "    }\n",
       "\n",
       "    .dataframe tbody tr th {\n",
       "        vertical-align: top;\n",
       "    }\n",
       "\n",
       "    .dataframe thead th {\n",
       "        text-align: right;\n",
       "    }\n",
       "</style>\n",
       "<table border=\"1\" class=\"dataframe\">\n",
       "  <thead>\n",
       "    <tr style=\"text-align: right;\">\n",
       "      <th></th>\n",
       "      <th>Weekly_Sales</th>\n",
       "      <th>Size</th>\n",
       "      <th>Temperature</th>\n",
       "      <th>Fuel_Price</th>\n",
       "      <th>MarkDown1</th>\n",
       "      <th>MarkDown2</th>\n",
       "      <th>MarkDown3</th>\n",
       "      <th>MarkDown4</th>\n",
       "      <th>MarkDown5</th>\n",
       "      <th>CPI</th>\n",
       "      <th>...</th>\n",
       "      <th>Month_2</th>\n",
       "      <th>Month_3</th>\n",
       "      <th>Month_4</th>\n",
       "      <th>Month_5</th>\n",
       "      <th>Month_6</th>\n",
       "      <th>Month_7</th>\n",
       "      <th>Month_8</th>\n",
       "      <th>Month_9</th>\n",
       "      <th>Black_Friday</th>\n",
       "      <th>Pre_christmas</th>\n",
       "    </tr>\n",
       "  </thead>\n",
       "  <tbody>\n",
       "    <tr>\n",
       "      <th>0</th>\n",
       "      <td>17147.44</td>\n",
       "      <td>151315</td>\n",
       "      <td>24.194444</td>\n",
       "      <td>3.749</td>\n",
       "      <td>21290.13</td>\n",
       "      <td>0.0</td>\n",
       "      <td>69.89</td>\n",
       "      <td>4977.35</td>\n",
       "      <td>3261.04</td>\n",
       "      <td>221.671800</td>\n",
       "      <td>...</td>\n",
       "      <td>0</td>\n",
       "      <td>0</td>\n",
       "      <td>0</td>\n",
       "      <td>1</td>\n",
       "      <td>0</td>\n",
       "      <td>0</td>\n",
       "      <td>0</td>\n",
       "      <td>0</td>\n",
       "      <td>0</td>\n",
       "      <td>0</td>\n",
       "    </tr>\n",
       "    <tr>\n",
       "      <th>1</th>\n",
       "      <td>18164.20</td>\n",
       "      <td>151315</td>\n",
       "      <td>23.205556</td>\n",
       "      <td>3.688</td>\n",
       "      <td>8351.40</td>\n",
       "      <td>0.0</td>\n",
       "      <td>10.52</td>\n",
       "      <td>2443.14</td>\n",
       "      <td>3127.88</td>\n",
       "      <td>221.725663</td>\n",
       "      <td>...</td>\n",
       "      <td>0</td>\n",
       "      <td>0</td>\n",
       "      <td>0</td>\n",
       "      <td>1</td>\n",
       "      <td>0</td>\n",
       "      <td>0</td>\n",
       "      <td>0</td>\n",
       "      <td>0</td>\n",
       "      <td>0</td>\n",
       "      <td>0</td>\n",
       "    </tr>\n",
       "    <tr>\n",
       "      <th>2</th>\n",
       "      <td>18517.79</td>\n",
       "      <td>151315</td>\n",
       "      <td>21.294444</td>\n",
       "      <td>3.630</td>\n",
       "      <td>6154.14</td>\n",
       "      <td>0.0</td>\n",
       "      <td>45.11</td>\n",
       "      <td>1675.49</td>\n",
       "      <td>5508.18</td>\n",
       "      <td>221.742674</td>\n",
       "      <td>...</td>\n",
       "      <td>0</td>\n",
       "      <td>0</td>\n",
       "      <td>0</td>\n",
       "      <td>1</td>\n",
       "      <td>0</td>\n",
       "      <td>0</td>\n",
       "      <td>0</td>\n",
       "      <td>0</td>\n",
       "      <td>0</td>\n",
       "      <td>0</td>\n",
       "    </tr>\n",
       "    <tr>\n",
       "      <th>3</th>\n",
       "      <td>16963.55</td>\n",
       "      <td>151315</td>\n",
       "      <td>25.122222</td>\n",
       "      <td>3.561</td>\n",
       "      <td>4039.39</td>\n",
       "      <td>0.0</td>\n",
       "      <td>745.19</td>\n",
       "      <td>1429.96</td>\n",
       "      <td>3631.13</td>\n",
       "      <td>221.744944</td>\n",
       "      <td>...</td>\n",
       "      <td>0</td>\n",
       "      <td>0</td>\n",
       "      <td>0</td>\n",
       "      <td>1</td>\n",
       "      <td>0</td>\n",
       "      <td>0</td>\n",
       "      <td>0</td>\n",
       "      <td>0</td>\n",
       "      <td>0</td>\n",
       "      <td>0</td>\n",
       "    </tr>\n",
       "    <tr>\n",
       "      <th>4</th>\n",
       "      <td>16065.49</td>\n",
       "      <td>151315</td>\n",
       "      <td>25.527778</td>\n",
       "      <td>3.501</td>\n",
       "      <td>6086.21</td>\n",
       "      <td>12.0</td>\n",
       "      <td>370.51</td>\n",
       "      <td>148.75</td>\n",
       "      <td>3690.85</td>\n",
       "      <td>221.747214</td>\n",
       "      <td>...</td>\n",
       "      <td>0</td>\n",
       "      <td>0</td>\n",
       "      <td>0</td>\n",
       "      <td>0</td>\n",
       "      <td>1</td>\n",
       "      <td>0</td>\n",
       "      <td>0</td>\n",
       "      <td>0</td>\n",
       "      <td>0</td>\n",
       "      <td>0</td>\n",
       "    </tr>\n",
       "  </tbody>\n",
       "</table>\n",
       "<p>5 rows × 148 columns</p>\n",
       "</div>"
      ],
      "text/plain": [
       "   Weekly_Sales    Size  Temperature  Fuel_Price  MarkDown1  MarkDown2  \\\n",
       "0      17147.44  151315    24.194444       3.749   21290.13        0.0   \n",
       "1      18164.20  151315    23.205556       3.688    8351.40        0.0   \n",
       "2      18517.79  151315    21.294444       3.630    6154.14        0.0   \n",
       "3      16963.55  151315    25.122222       3.561    4039.39        0.0   \n",
       "4      16065.49  151315    25.527778       3.501    6086.21       12.0   \n",
       "\n",
       "   MarkDown3  MarkDown4  MarkDown5         CPI  ...  Month_2  Month_3  \\\n",
       "0      69.89    4977.35    3261.04  221.671800  ...        0        0   \n",
       "1      10.52    2443.14    3127.88  221.725663  ...        0        0   \n",
       "2      45.11    1675.49    5508.18  221.742674  ...        0        0   \n",
       "3     745.19    1429.96    3631.13  221.744944  ...        0        0   \n",
       "4     370.51     148.75    3690.85  221.747214  ...        0        0   \n",
       "\n",
       "   Month_4  Month_5  Month_6  Month_7  Month_8  Month_9  Black_Friday  \\\n",
       "0        0        1        0        0        0        0             0   \n",
       "1        0        1        0        0        0        0             0   \n",
       "2        0        1        0        0        0        0             0   \n",
       "3        0        1        0        0        0        0             0   \n",
       "4        0        0        1        0        0        0             0   \n",
       "\n",
       "   Pre_christmas  \n",
       "0              0  \n",
       "1              0  \n",
       "2              0  \n",
       "3              0  \n",
       "4              0  \n",
       "\n",
       "[5 rows x 148 columns]"
      ]
     },
     "execution_count": 2,
     "metadata": {},
     "output_type": "execute_result"
    }
   ],
   "source": [
    "df = pd.read_csv('../sem1_data_prepare/sales_test_v1.tsv', sep='\\t')    # подгружаем датасет\n",
    "print('Размерность таблицы:', df.shape)      # shape показывает его размер\n",
    "df.head()                    "
   ]
  },
  {
   "cell_type": "markdown",
   "metadata": {},
   "source": [
    "Подгружаем нашу модель. "
   ]
  },
  {
   "cell_type": "code",
   "execution_count": 11,
   "metadata": {},
   "outputs": [
    {
     "data": {
      "text/plain": [
       "Lasso(alpha=0.001, copy_X=True, fit_intercept=True, max_iter=1000,\n",
       "   normalize=False, positive=False, precompute=False, random_state=None,\n",
       "   selection='cyclic', tol=0.0001, warm_start=False)"
      ]
     },
     "execution_count": 11,
     "metadata": {},
     "output_type": "execute_result"
    }
   ],
   "source": [
    "from sklearn.externals import joblib\n",
    "\n",
    "model_lasso = joblib.load('../sem2_regression/model_lasso.pkl')\n",
    "model_lasso"
   ]
  },
  {
   "cell_type": "code",
   "execution_count": 12,
   "metadata": {},
   "outputs": [
    {
     "data": {
      "text/plain": [
       "RandomForestRegressor(bootstrap=True, criterion='mse', max_depth=None,\n",
       "           max_features='auto', max_leaf_nodes=None,\n",
       "           min_impurity_decrease=0.0, min_impurity_split=None,\n",
       "           min_samples_leaf=1, min_samples_split=2,\n",
       "           min_weight_fraction_leaf=0.0, n_estimators=100, n_jobs=None,\n",
       "           oob_score=False, random_state=None, verbose=0, warm_start=False)"
      ]
     },
     "execution_count": 12,
     "metadata": {},
     "output_type": "execute_result"
    }
   ],
   "source": [
    "model_rf = joblib.load('../sem2_regression/model_rf.pkl')\n",
    "model_rf"
   ]
  },
  {
   "cell_type": "markdown",
   "metadata": {},
   "source": [
    "Давайте построим небольшую табличку с прогнозами, с которой в дальнейшем и будем работать."
   ]
  },
  {
   "cell_type": "code",
   "execution_count": 15,
   "metadata": {},
   "outputs": [],
   "source": [
    "# это то, что мы пытаемся прогнозировать! \n",
    "y = df['ln_future_sales']\n",
    "\n",
    "# то, по чему пытаемся прогнозировать, ln_Weekly_Sales оставили!\n",
    "df = df.drop(['ln_future_sales', 'future_sales', 'Weekly_Sales'], axis=1)\n",
    "X = df.get_values()"
   ]
  },
  {
   "cell_type": "code",
   "execution_count": 18,
   "metadata": {},
   "outputs": [],
   "source": [
    "dfp = pd.DataFrame() \n",
    "\n",
    "dfp['real'] = y\n",
    "dfp['lasso_predict'] = model_lasso.predict(X)\n",
    "dfp['rf_predict'] = model_rf.predict(X)"
   ]
  },
  {
   "cell_type": "code",
   "execution_count": 19,
   "metadata": {},
   "outputs": [
    {
     "data": {
      "text/html": [
       "<div>\n",
       "<style scoped>\n",
       "    .dataframe tbody tr th:only-of-type {\n",
       "        vertical-align: middle;\n",
       "    }\n",
       "\n",
       "    .dataframe tbody tr th {\n",
       "        vertical-align: top;\n",
       "    }\n",
       "\n",
       "    .dataframe thead th {\n",
       "        text-align: right;\n",
       "    }\n",
       "</style>\n",
       "<table border=\"1\" class=\"dataframe\">\n",
       "  <thead>\n",
       "    <tr style=\"text-align: right;\">\n",
       "      <th></th>\n",
       "      <th>real</th>\n",
       "      <th>lasso_predict</th>\n",
       "      <th>rf_predict</th>\n",
       "    </tr>\n",
       "  </thead>\n",
       "  <tbody>\n",
       "    <tr>\n",
       "      <th>0</th>\n",
       "      <td>9.807263</td>\n",
       "      <td>9.752433</td>\n",
       "      <td>9.676369</td>\n",
       "    </tr>\n",
       "    <tr>\n",
       "      <th>1</th>\n",
       "      <td>9.826541</td>\n",
       "      <td>9.795832</td>\n",
       "      <td>9.846766</td>\n",
       "    </tr>\n",
       "    <tr>\n",
       "      <th>2</th>\n",
       "      <td>9.738881</td>\n",
       "      <td>9.824624</td>\n",
       "      <td>9.859840</td>\n",
       "    </tr>\n",
       "    <tr>\n",
       "      <th>3</th>\n",
       "      <td>9.684491</td>\n",
       "      <td>9.731945</td>\n",
       "      <td>9.737745</td>\n",
       "    </tr>\n",
       "    <tr>\n",
       "      <th>4</th>\n",
       "      <td>9.779454</td>\n",
       "      <td>9.688332</td>\n",
       "      <td>9.727878</td>\n",
       "    </tr>\n",
       "  </tbody>\n",
       "</table>\n",
       "</div>"
      ],
      "text/plain": [
       "       real  lasso_predict  rf_predict\n",
       "0  9.807263       9.752433    9.676369\n",
       "1  9.826541       9.795832    9.846766\n",
       "2  9.738881       9.824624    9.859840\n",
       "3  9.684491       9.731945    9.737745\n",
       "4  9.779454       9.688332    9.727878"
      ]
     },
     "execution_count": 19,
     "metadata": {},
     "output_type": "execute_result"
    }
   ],
   "source": [
    "dfp.head()"
   ]
  },
  {
   "cell_type": "markdown",
   "metadata": {},
   "source": [
    "# 2. Легенда\n",
    "\n",
    "Всё, что описано в этом пункте - это легенда. Правду о своих магазинах знает только Walmart. \n",
    "\n",
    "* Будем считать, что мы работаем со скоропортящимся продуктом. Если люди в течение недели его не раскупают, он протухает. Приходится его выкидывать.\n",
    "* Будем считать, что сейчас магазины работают очень-очень глупым образом: \n",
    "\n",
    "Все магазины делятся на три типа. В каждый мы специально закупаем слишком много продуктов. В магазины типа $A$ каждую неделю мы покупаем товара на $500000$, в магазины типа $B$ на $700000$, в магазины типа $C$ на $120000$. Всё, что остаётся в конце недели - списывается. Выходит, что те данные, которые мы видим в табличке - это реальный спрос на товар. \n",
    "\n",
    "Будем считать, что закупочные цены вдвоё ниже розничных. То есть, когда мы хотим продать товара на $500000$, как в случае магазина $A$, мы тритим на закупку $250000$. \n",
    "\n",
    "__Ситуация в будущем:__\n",
    "\n",
    "Магазину надоело тратить деньги на закупку впустую. Возникает желание научиться оптимизировать закупки. Для этого есть две стратегии.\n",
    "\n",
    "__Стратегия 1:__ Будем закупать на следущую неделю ровно столько продуктов, сколько было распродано за текущую неделю. Если потребители приходили в магазин и не могли купить товар, будем увеличивать закупку на $10000$.\n",
    "\n",
    "__Стратегия 2:__ Обучим модель, которая будет прогнозировать продажи. Сколько она спрогнозировала, столько и будем привозить. \n"
   ]
  },
  {
   "cell_type": "markdown",
   "metadata": {},
   "source": [
    "### Задание 1 \n",
    "\n",
    "__[1]__ Сколько денег мы потеряем на тестовом периоде из-за лишних закупок, если продолжим действовать по той же самой стратегии? "
   ]
  },
  {
   "cell_type": "code",
   "execution_count": null,
   "metadata": {},
   "outputs": [],
   "source": []
  },
  {
   "cell_type": "markdown",
   "metadata": {},
   "source": [
    "__[3]__ Обучите линейную регрессию без подбора гиперпараметров. Выясните сколько денег она позволяет сэкономить на закупках в течение тестовго периода. Сколько при этом денег будет потеряно из-за перепрогноза? Сколько денег будет потеряно из-за недопрогноза? Правда ли, что линейная регрессия по ошибкам обоих типов оказывается лучше первой стратегии? "
   ]
  },
  {
   "cell_type": "code",
   "execution_count": null,
   "metadata": {},
   "outputs": [],
   "source": []
  },
  {
   "cell_type": "markdown",
   "metadata": {},
   "source": [
    "__[3]__ Пусть ошибка недопрогноза для нас страшнее. Оцените насколько (это творчество). По аналогии [с примерами из документации](https://github.com/keras-team/keras/blob/master/keras/losses.py) реализуйте такую функцию потерь и обучите свою архитектуру, используя её. "
   ]
  },
  {
   "cell_type": "code",
   "execution_count": null,
   "metadata": {},
   "outputs": [],
   "source": []
  },
  {
   "cell_type": "markdown",
   "metadata": {},
   "source": [
    "__[2]__ Последний пункт! Он состоит из балобалии. Предположим, что ваша итоговая архитектура - пушка! Она рвёт все бэйзлайны и вы собираетесь с довольным, улыбающимся менеджером катить в прод. Поначалу модель будет работать просто отлично. Однако через какое-то время начнут всплывать проблемы. Что это за проблемы? Какие соломинки можно было бы подстелить для их решения? "
   ]
  },
  {
   "cell_type": "code",
   "execution_count": null,
   "metadata": {},
   "outputs": [],
   "source": []
  }
 ],
 "metadata": {
  "kernelspec": {
   "display_name": "Python 3",
   "language": "python",
   "name": "python3"
  },
  "language_info": {
   "codemirror_mode": {
    "name": "ipython",
    "version": 3
   },
   "file_extension": ".py",
   "mimetype": "text/x-python",
   "name": "python",
   "nbconvert_exporter": "python",
   "pygments_lexer": "ipython3",
   "version": "3.7.2"
  }
 },
 "nbformat": 4,
 "nbformat_minor": 2
}
