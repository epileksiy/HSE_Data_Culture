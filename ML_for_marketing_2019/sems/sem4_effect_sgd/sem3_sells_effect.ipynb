{
 "cells": [
  {
   "cell_type": "markdown",
   "metadata": {},
   "source": [
    "<img src=\"https://justaklikaway.files.wordpress.com/2014/05/shut-up-and-take-my-money.jpg\" height=\"400\" width=\"400\"> \n",
    "\n",
    "# <center> ML для маркетинга. <br>  <br> Cюжетная арка 1: продажи </center>\n",
    "\n",
    "В этом семестре мы с вами пройдём через несколько сюжетных арок. Первой такой аркой будут продажи. Им будет посвящена первая серия из семинаров и домашек. \n",
    "\n",
    "\n",
    "#  Эпизод III (месть менеджера) \n",
    "\n",
    "Ну вот и всё, модель готова. Она прогнозирует продажи. Когда нас попросили сделать её, предполагалось, что она будет решать какую-то реальную сложную проблему и сэкономит нам гору бабла. Давайте посмотрим насколько успешно она с этим справляется."
   ]
  },
  {
   "cell_type": "code",
   "execution_count": 1,
   "metadata": {},
   "outputs": [],
   "source": [
    "# Как обычно, для начала подгружаем нужные нам пакеты\n",
    "import pandas as pd    # пакет для работы с таблицами \n",
    "import numpy as np     # пакет для работы с матрицами \n",
    "\n",
    "# пакеты для картиночек \n",
    "import matplotlib\n",
    "\n",
    "import matplotlib.pyplot as plt\n",
    "import seaborn as sns\n",
    "plt.style.use('ggplot')  # правильный (наиболее красивый) стиль у графиков\n",
    "\n",
    "%matplotlib inline"
   ]
  },
  {
   "cell_type": "markdown",
   "metadata": {},
   "source": [
    "# 1. Модель и тестовы данные\n",
    "\n",
    "Подгрузим данные, которые мы отложили для тестового периода. Их наша модель ещё не видела. Интересно, как именно она на них себя покажет."
   ]
  },
  {
   "cell_type": "code",
   "execution_count": 2,
   "metadata": {},
   "outputs": [
    {
     "name": "stdout",
     "output_type": "stream",
     "text": [
      "Размерность таблицы: (73684, 148)\n"
     ]
    },
    {
     "data": {
      "text/html": [
       "<div>\n",
       "<style scoped>\n",
       "    .dataframe tbody tr th:only-of-type {\n",
       "        vertical-align: middle;\n",
       "    }\n",
       "\n",
       "    .dataframe tbody tr th {\n",
       "        vertical-align: top;\n",
       "    }\n",
       "\n",
       "    .dataframe thead th {\n",
       "        text-align: right;\n",
       "    }\n",
       "</style>\n",
       "<table border=\"1\" class=\"dataframe\">\n",
       "  <thead>\n",
       "    <tr style=\"text-align: right;\">\n",
       "      <th></th>\n",
       "      <th>Weekly_Sales</th>\n",
       "      <th>Size</th>\n",
       "      <th>Temperature</th>\n",
       "      <th>Fuel_Price</th>\n",
       "      <th>MarkDown1</th>\n",
       "      <th>MarkDown2</th>\n",
       "      <th>MarkDown3</th>\n",
       "      <th>MarkDown4</th>\n",
       "      <th>MarkDown5</th>\n",
       "      <th>CPI</th>\n",
       "      <th>...</th>\n",
       "      <th>Month_2</th>\n",
       "      <th>Month_3</th>\n",
       "      <th>Month_4</th>\n",
       "      <th>Month_5</th>\n",
       "      <th>Month_6</th>\n",
       "      <th>Month_7</th>\n",
       "      <th>Month_8</th>\n",
       "      <th>Month_9</th>\n",
       "      <th>Black_Friday</th>\n",
       "      <th>Pre_christmas</th>\n",
       "    </tr>\n",
       "  </thead>\n",
       "  <tbody>\n",
       "    <tr>\n",
       "      <th>0</th>\n",
       "      <td>17147.44</td>\n",
       "      <td>151315</td>\n",
       "      <td>24.194444</td>\n",
       "      <td>3.749</td>\n",
       "      <td>21290.13</td>\n",
       "      <td>0.0</td>\n",
       "      <td>69.89</td>\n",
       "      <td>4977.35</td>\n",
       "      <td>3261.04</td>\n",
       "      <td>221.671800</td>\n",
       "      <td>...</td>\n",
       "      <td>0</td>\n",
       "      <td>0</td>\n",
       "      <td>0</td>\n",
       "      <td>1</td>\n",
       "      <td>0</td>\n",
       "      <td>0</td>\n",
       "      <td>0</td>\n",
       "      <td>0</td>\n",
       "      <td>0</td>\n",
       "      <td>0</td>\n",
       "    </tr>\n",
       "    <tr>\n",
       "      <th>1</th>\n",
       "      <td>18164.20</td>\n",
       "      <td>151315</td>\n",
       "      <td>23.205556</td>\n",
       "      <td>3.688</td>\n",
       "      <td>8351.40</td>\n",
       "      <td>0.0</td>\n",
       "      <td>10.52</td>\n",
       "      <td>2443.14</td>\n",
       "      <td>3127.88</td>\n",
       "      <td>221.725663</td>\n",
       "      <td>...</td>\n",
       "      <td>0</td>\n",
       "      <td>0</td>\n",
       "      <td>0</td>\n",
       "      <td>1</td>\n",
       "      <td>0</td>\n",
       "      <td>0</td>\n",
       "      <td>0</td>\n",
       "      <td>0</td>\n",
       "      <td>0</td>\n",
       "      <td>0</td>\n",
       "    </tr>\n",
       "    <tr>\n",
       "      <th>2</th>\n",
       "      <td>18517.79</td>\n",
       "      <td>151315</td>\n",
       "      <td>21.294444</td>\n",
       "      <td>3.630</td>\n",
       "      <td>6154.14</td>\n",
       "      <td>0.0</td>\n",
       "      <td>45.11</td>\n",
       "      <td>1675.49</td>\n",
       "      <td>5508.18</td>\n",
       "      <td>221.742674</td>\n",
       "      <td>...</td>\n",
       "      <td>0</td>\n",
       "      <td>0</td>\n",
       "      <td>0</td>\n",
       "      <td>1</td>\n",
       "      <td>0</td>\n",
       "      <td>0</td>\n",
       "      <td>0</td>\n",
       "      <td>0</td>\n",
       "      <td>0</td>\n",
       "      <td>0</td>\n",
       "    </tr>\n",
       "    <tr>\n",
       "      <th>3</th>\n",
       "      <td>16963.55</td>\n",
       "      <td>151315</td>\n",
       "      <td>25.122222</td>\n",
       "      <td>3.561</td>\n",
       "      <td>4039.39</td>\n",
       "      <td>0.0</td>\n",
       "      <td>745.19</td>\n",
       "      <td>1429.96</td>\n",
       "      <td>3631.13</td>\n",
       "      <td>221.744944</td>\n",
       "      <td>...</td>\n",
       "      <td>0</td>\n",
       "      <td>0</td>\n",
       "      <td>0</td>\n",
       "      <td>1</td>\n",
       "      <td>0</td>\n",
       "      <td>0</td>\n",
       "      <td>0</td>\n",
       "      <td>0</td>\n",
       "      <td>0</td>\n",
       "      <td>0</td>\n",
       "    </tr>\n",
       "    <tr>\n",
       "      <th>4</th>\n",
       "      <td>16065.49</td>\n",
       "      <td>151315</td>\n",
       "      <td>25.527778</td>\n",
       "      <td>3.501</td>\n",
       "      <td>6086.21</td>\n",
       "      <td>12.0</td>\n",
       "      <td>370.51</td>\n",
       "      <td>148.75</td>\n",
       "      <td>3690.85</td>\n",
       "      <td>221.747214</td>\n",
       "      <td>...</td>\n",
       "      <td>0</td>\n",
       "      <td>0</td>\n",
       "      <td>0</td>\n",
       "      <td>0</td>\n",
       "      <td>1</td>\n",
       "      <td>0</td>\n",
       "      <td>0</td>\n",
       "      <td>0</td>\n",
       "      <td>0</td>\n",
       "      <td>0</td>\n",
       "    </tr>\n",
       "  </tbody>\n",
       "</table>\n",
       "<p>5 rows × 148 columns</p>\n",
       "</div>"
      ],
      "text/plain": [
       "   Weekly_Sales    Size  Temperature  Fuel_Price  MarkDown1  MarkDown2  \\\n",
       "0      17147.44  151315    24.194444       3.749   21290.13        0.0   \n",
       "1      18164.20  151315    23.205556       3.688    8351.40        0.0   \n",
       "2      18517.79  151315    21.294444       3.630    6154.14        0.0   \n",
       "3      16963.55  151315    25.122222       3.561    4039.39        0.0   \n",
       "4      16065.49  151315    25.527778       3.501    6086.21       12.0   \n",
       "\n",
       "   MarkDown3  MarkDown4  MarkDown5         CPI  ...  Month_2  Month_3  \\\n",
       "0      69.89    4977.35    3261.04  221.671800  ...        0        0   \n",
       "1      10.52    2443.14    3127.88  221.725663  ...        0        0   \n",
       "2      45.11    1675.49    5508.18  221.742674  ...        0        0   \n",
       "3     745.19    1429.96    3631.13  221.744944  ...        0        0   \n",
       "4     370.51     148.75    3690.85  221.747214  ...        0        0   \n",
       "\n",
       "   Month_4  Month_5  Month_6  Month_7  Month_8  Month_9  Black_Friday  \\\n",
       "0        0        1        0        0        0        0             0   \n",
       "1        0        1        0        0        0        0             0   \n",
       "2        0        1        0        0        0        0             0   \n",
       "3        0        1        0        0        0        0             0   \n",
       "4        0        0        1        0        0        0             0   \n",
       "\n",
       "   Pre_christmas  \n",
       "0              0  \n",
       "1              0  \n",
       "2              0  \n",
       "3              0  \n",
       "4              0  \n",
       "\n",
       "[5 rows x 148 columns]"
      ]
     },
     "execution_count": 2,
     "metadata": {},
     "output_type": "execute_result"
    }
   ],
   "source": [
    "df = pd.read_csv('sales_test_v1.tsv', sep='\\t')    # подгружаем датасет\n",
    "print('Размерность таблицы:', df.shape)      # shape показывает его размер\n",
    "df.head()                    "
   ]
  },
  {
   "cell_type": "markdown",
   "metadata": {},
   "source": [
    "Подгружаем нашу модель. "
   ]
  },
  {
   "cell_type": "code",
   "execution_count": 3,
   "metadata": {},
   "outputs": [
    {
     "data": {
      "text/plain": [
       "LinearRegression(copy_X=True, fit_intercept=True, n_jobs=None,\n",
       "         normalize=False)"
      ]
     },
     "execution_count": 3,
     "metadata": {},
     "output_type": "execute_result"
    }
   ],
   "source": [
    "from sklearn.externals import joblib\n",
    "\n",
    "model_lasso = joblib.load('model_regression.pkl')\n",
    "model_lasso"
   ]
  },
  {
   "cell_type": "markdown",
   "metadata": {},
   "source": [
    "Давайте построим небольшую табличку с прогнозами, с которой в дальнейшем и будем работать."
   ]
  },
  {
   "cell_type": "code",
   "execution_count": 4,
   "metadata": {},
   "outputs": [],
   "source": [
    "# это то, что мы пытаемся прогнозировать! \n",
    "y = df['ln_future_sales']\n",
    "\n",
    "# то, по чему пытаемся прогнозировать, ln_Weekly_Sales оставили!\n",
    "df = df.drop(['ln_future_sales', 'future_sales', 'Weekly_Sales'], axis=1)\n",
    "X = df.get_values()"
   ]
  },
  {
   "cell_type": "markdown",
   "metadata": {},
   "source": [
    "Создайте табличку `dfp` и положите в неё три колонки: `real` с настоящими продажами в тестовом периоде и `regression_predict` с прогнозными, `naive` с текущими продажами."
   ]
  },
  {
   "cell_type": "code",
   "execution_count": 19,
   "metadata": {},
   "outputs": [
    {
     "data": {
      "text/html": [
       "<div>\n",
       "<style scoped>\n",
       "    .dataframe tbody tr th:only-of-type {\n",
       "        vertical-align: middle;\n",
       "    }\n",
       "\n",
       "    .dataframe tbody tr th {\n",
       "        vertical-align: top;\n",
       "    }\n",
       "\n",
       "    .dataframe thead th {\n",
       "        text-align: right;\n",
       "    }\n",
       "</style>\n",
       "<table border=\"1\" class=\"dataframe\">\n",
       "  <thead>\n",
       "    <tr style=\"text-align: right;\">\n",
       "      <th></th>\n",
       "      <th>real</th>\n",
       "      <th>predict</th>\n",
       "      <th>naive</th>\n",
       "    </tr>\n",
       "  </thead>\n",
       "  <tbody>\n",
       "    <tr>\n",
       "      <th>0</th>\n",
       "      <td>18165.20</td>\n",
       "      <td>18317.925422</td>\n",
       "      <td>17148.44</td>\n",
       "    </tr>\n",
       "    <tr>\n",
       "      <th>1</th>\n",
       "      <td>18518.79</td>\n",
       "      <td>19003.533617</td>\n",
       "      <td>18165.20</td>\n",
       "    </tr>\n",
       "    <tr>\n",
       "      <th>2</th>\n",
       "      <td>16964.55</td>\n",
       "      <td>19486.145112</td>\n",
       "      <td>18518.79</td>\n",
       "    </tr>\n",
       "    <tr>\n",
       "      <th>3</th>\n",
       "      <td>16066.49</td>\n",
       "      <td>18020.766871</td>\n",
       "      <td>16964.55</td>\n",
       "    </tr>\n",
       "    <tr>\n",
       "      <th>4</th>\n",
       "      <td>17667.00</td>\n",
       "      <td>17569.439838</td>\n",
       "      <td>16066.49</td>\n",
       "    </tr>\n",
       "  </tbody>\n",
       "</table>\n",
       "</div>"
      ],
      "text/plain": [
       "       real       predict     naive\n",
       "0  18165.20  18317.925422  17148.44\n",
       "1  18518.79  19003.533617  18165.20\n",
       "2  16964.55  19486.145112  18518.79\n",
       "3  16066.49  18020.766871  16964.55\n",
       "4  17667.00  17569.439838  16066.49"
      ]
     },
     "execution_count": 19,
     "metadata": {},
     "output_type": "execute_result"
    }
   ],
   "source": [
    "dfp = pd.DataFrame() \n",
    "\n",
    "# Экспонента, потому что переходим от логарифмов к деньгам\n",
    "dfp['real'] = np.exp(y)\n",
    "dfp['predict'] = np.exp(model_lasso.predict(X))\n",
    "dfp['naive'] = np.exp(df['ln_Weekly_Sales'])\n",
    "\n",
    "dfp.head()"
   ]
  },
  {
   "cell_type": "code",
   "execution_count": 20,
   "metadata": {},
   "outputs": [
    {
     "data": {
      "text/plain": [
       "1716.4399712236902"
      ]
     },
     "execution_count": 20,
     "metadata": {},
     "output_type": "execute_result"
    }
   ],
   "source": [
    "from sklearn.metrics import mean_absolute_error as mae\n",
    "mae(dfp.real, dfp.predict)"
   ]
  },
  {
   "cell_type": "code",
   "execution_count": 21,
   "metadata": {},
   "outputs": [
    {
     "data": {
      "text/plain": [
       "1576.8757076163072"
      ]
     },
     "execution_count": 21,
     "metadata": {},
     "output_type": "execute_result"
    }
   ],
   "source": [
    "mae(dfp.real, dfp.naive)"
   ]
  },
  {
   "cell_type": "markdown",
   "metadata": {},
   "source": [
    "# 2. Наивный прогноз\n",
    "\n",
    "Обычно модели учат, когда хотят что-нибудь улучшить. Давайте представим себе, что Walrmat нас с вами нанял, чтобы решить проблемы с оптимизацией закупок. \n",
    "\n",
    "* Будем считать, что мы работаем со скоропортящимся продуктом. Если люди в течение недели его не раскупают, он протухает. Приходится его выбрасывать.\n",
    "* Будем считать, что если продуктов не хватает, магазин не может удовлетворить спрос клиента, но при этом записывает в книжечку сколько потенциально продуктов не было продано. \n",
    "\n",
    "Ну и последняя предпосылка. Магазин покупает на следущую неделю столько продуктов, сколько хотели купить потребители в течение текущей недели."
   ]
  },
  {
   "cell_type": "markdown",
   "metadata": {},
   "source": [
    "Сколько денег в течение тестового периода мы теряем из-за перепрогноза и того, что продукт портится? "
   ]
  },
  {
   "cell_type": "code",
   "execution_count": 22,
   "metadata": {},
   "outputs": [
    {
     "data": {
      "text/plain": [
       "array([-1016.76,  -353.59,  1554.24,   898.06, -1600.51])"
      ]
     },
     "execution_count": 22,
     "metadata": {},
     "output_type": "execute_result"
    }
   ],
   "source": [
    "# вычитаем из прогнозных значений реальные\n",
    "loss = dfp['naive'].values - dfp['real'].values\n",
    "loss[:5]"
   ]
  },
  {
   "cell_type": "code",
   "execution_count": 23,
   "metadata": {},
   "outputs": [
    {
     "data": {
      "text/plain": [
       "array([False, False,  True, ..., False,  True, False])"
      ]
     },
     "execution_count": 23,
     "metadata": {},
     "output_type": "execute_result"
    }
   ],
   "source": [
    "loss > 0  # был ли перепрогноз"
   ]
  },
  {
   "cell_type": "code",
   "execution_count": 24,
   "metadata": {},
   "outputs": [
    {
     "data": {
      "text/plain": [
       "array([1554.24,  898.06,  107.18, ...,   69.36,  138.66,  301.01])"
      ]
     },
     "execution_count": 24,
     "metadata": {},
     "output_type": "execute_result"
    }
   ],
   "source": [
    "loss[loss > 0] # только потери при перепрогнозе"
   ]
  },
  {
   "cell_type": "code",
   "execution_count": 25,
   "metadata": {},
   "outputs": [
    {
     "data": {
      "text/plain": [
       "57851127.08999999"
      ]
     },
     "execution_count": 25,
     "metadata": {},
     "output_type": "execute_result"
    }
   ],
   "source": [
    "l_naive_over = np.sum(loss[loss > 0])  # суммарные денежные потери\n",
    "l_naive_over "
   ]
  },
  {
   "cell_type": "markdown",
   "metadata": {},
   "source": [
    "Сколько денег в течение тестового периода мы теряем из-за недопрогноза?"
   ]
  },
  {
   "cell_type": "code",
   "execution_count": 26,
   "metadata": {},
   "outputs": [
    {
     "data": {
      "text/plain": [
       "58339382.54999999"
      ]
     },
     "execution_count": 26,
     "metadata": {},
     "output_type": "execute_result"
    }
   ],
   "source": [
    "l_naive_under = -1*np.sum(loss[loss < 0])\n",
    "l_naive_under"
   ]
  },
  {
   "cell_type": "markdown",
   "metadata": {},
   "source": [
    "Обратите внимание, что если потребитель пришёл в магазин и ему не хватает товара, он уходит. Мы не всегда можем точно узнать что именно он хотел купить, поэтому цифра недопрогноза на практике будет получатся примерной. "
   ]
  },
  {
   "cell_type": "markdown",
   "metadata": {},
   "source": [
    "# 3. Регрессия \n",
    "\n",
    "Теперь на арену выходит наша регрессия. Давайте представим себе, что мы внедрили её во всех магазинах. Какими будут наши потери от перепрогноза и недопрогноза? "
   ]
  },
  {
   "cell_type": "code",
   "execution_count": 27,
   "metadata": {},
   "outputs": [
    {
     "data": {
      "text/plain": [
       "(63291896.97219472, 63182265.86745168)"
      ]
     },
     "execution_count": 27,
     "metadata": {},
     "output_type": "execute_result"
    }
   ],
   "source": [
    "loss = dfp['predict'].values - dfp['real'].values\n",
    "l_regr_over = np.sum(loss[loss > 0])\n",
    "l_regr_under =-1*np.sum(loss[loss < 0])\n",
    "\n",
    "l_regr_over, l_regr_under"
   ]
  },
  {
   "cell_type": "code",
   "execution_count": 28,
   "metadata": {},
   "outputs": [
    {
     "data": {
      "text/plain": [
       "(63291896.97219472, 57851127.08999999)"
      ]
     },
     "execution_count": 28,
     "metadata": {},
     "output_type": "execute_result"
    }
   ],
   "source": [
    "l_regr_over, l_naive_over"
   ]
  },
  {
   "cell_type": "code",
   "execution_count": 29,
   "metadata": {},
   "outputs": [
    {
     "data": {
      "text/plain": [
       "(63182265.86745168, 58339382.54999999)"
      ]
     },
     "execution_count": 29,
     "metadata": {},
     "output_type": "execute_result"
    }
   ],
   "source": [
    "l_regr_under, l_naive_under"
   ]
  },
  {
   "cell_type": "markdown",
   "metadata": {},
   "source": [
    "Вопрос в том, будет ли от этого экономия... "
   ]
  },
  {
   "cell_type": "code",
   "execution_count": 30,
   "metadata": {},
   "outputs": [
    {
     "data": {
      "text/plain": [
       "-5440769.882194728"
      ]
     },
     "execution_count": 30,
     "metadata": {},
     "output_type": "execute_result"
    }
   ],
   "source": [
    "l_naive_over - l_regr_over # экономия при перепрогнозах"
   ]
  },
  {
   "cell_type": "code",
   "execution_count": 31,
   "metadata": {},
   "outputs": [
    {
     "data": {
      "text/plain": [
       "-4842883.317451693"
      ]
     },
     "execution_count": 31,
     "metadata": {},
     "output_type": "execute_result"
    }
   ],
   "source": [
    "l_naive_under - l_regr_under # экономия при недопрогнозах"
   ]
  },
  {
   "cell_type": "markdown",
   "metadata": {},
   "source": [
    "Неожиданно оказывается, что прогноз __\"завтра будет то же самое, что и сегодня\"__ работает лучше. Пока что наша модель абсолютно бесполезна. Иногда так бывает. Для того, чтобы обучить хорошую модель, нужно лучше стараться. Как думаете, что мы сделали с вами при обучении плохо? \n",
    "\n",
    "Обратите внимание на следущую вещь. Обычно, когда модель работает, не ограничиваются подсчётом какого-то одного числа. На части магазинов запускают полноценный АБ-тест. В следущей сюжетной арке, когда мы доберёмся до применения, и моделька окажется хорошей, мы обязательно сымитируем такой тест."
   ]
  },
  {
   "cell_type": "markdown",
   "metadata": {},
   "source": [
    "## Почиташки \n",
    "\n",
    "* [Интересное чтиво](https://secretmag.ru/business/trade-secret/brilliant-v-smetane-kak-izbyonka-stala-prodavcom-svezhei-molochki-1-v-rossii.htm) про Избёнку "
   ]
  },
  {
   "cell_type": "markdown",
   "metadata": {},
   "source": [
    "  "
   ]
  }
 ],
 "metadata": {
  "kernelspec": {
   "display_name": "Python 3",
   "language": "python",
   "name": "python3"
  },
  "language_info": {
   "codemirror_mode": {
    "name": "ipython",
    "version": 3
   },
   "file_extension": ".py",
   "mimetype": "text/x-python",
   "name": "python",
   "nbconvert_exporter": "python",
   "pygments_lexer": "ipython3",
   "version": "3.7.2"
  }
 },
 "nbformat": 4,
 "nbformat_minor": 2
}
