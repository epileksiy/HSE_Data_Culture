{
 "cells": [
  {
   "cell_type": "markdown",
   "metadata": {},
   "source": [
    "<img src=\"https://cs7.pikabu.ru/post_img/2014/03/10/4/1394427243_1353289544.jpg\" height=\"400\" width=\"400\"> \n",
    "\n",
    "# <center> ML для маркетинга. <br>  <br> Cюжетная арка 2: отток и привлечение </center>\n",
    "\n",
    "В этом семестре мы с вами пройдём через несколько сюжетных арок. Второй такой аркой будут отток и привлечение. Им будет посвящена вторая серия из семинаров и домашек. \n",
    "\n",
    "В домашке мы поработаем с немного другой задачей классификации. Она будет связана с оттоком и превлечением клиентов. Будет весело __(но это неточно)__! \n",
    "\n",
    "## Задача:\n",
    "\n",
    "В наших руках оказались [данные со статистикой скачки мобильных приложений из Appstore.](https://www.kaggle.com/ramamet4/app-store-apple-data-set-10k-apps/home) Предположим, что мы хотим запилить своё собственное приложение и заработать на нём денег. Чтобы успешно монетизироваться, нам нужно много пользователей. Возникает задача их привлечения и последущего удержания.\n",
    "\n",
    "Для того, чтобы наше приложение привлекло много пользователей, хочется, чтобы у него были высокие рейтинги. В этой тетрадке мы попробуем обучить модель, которая будет предсказывать рейтинг приложения по его параметрам. С помощью этой модели мы сможем посмотреть на то, на какие факторы имеет смысл обращать внимание в первую очередь, а также мы посмотрим как именно долгосрочный рейтиг (удержание) отличается от краткосрочного (привлечение). \n",
    "\n",
    "\n",
    "#  Часть I (Братство предобработки) "
   ]
  },
  {
   "cell_type": "code",
   "execution_count": 1,
   "metadata": {},
   "outputs": [],
   "source": [
    "# Как обычно, для начала подгружаем нужные нам пакеты\n",
    "import pandas as pd    # пакет для работы с таблицами \n",
    "import numpy as np     # пакет для работы с матрицами \n",
    "\n",
    "# пакеты для картиночек \n",
    "import matplotlib\n",
    "import matplotlib.pyplot as plt\n",
    "\n",
    "import seaborn as sns\n",
    "%matplotlib inline"
   ]
  },
  {
   "cell_type": "markdown",
   "metadata": {},
   "source": [
    "Наш набор данных содержит более $7000$ наблюдений о мобильных приложениях под IOS. \n",
    "\n",
    "__Описание переменных:__\n",
    "\n",
    "* `id` - идентификатор приложения;\n",
    "* `track_name` - название приложения;\n",
    "* `size_bytes` - размер приложения в байтах;\n",
    "* `currency` - тип валюты, в которой платят за приложение;\n",
    "* `price` - цена приложения;\n",
    "* `rating_count_tot` - число проголосовавших юзеров;\n",
    "* `rating_count_ver` - число проголосовавших юзеров (для текущей версии приложения);\n",
    "* `user_rating` - среднее значение рейтинга для всех версий;\n",
    "* `user_rating_ver` - среднее значение рейтинга для текущей версии;\n",
    "* `ver` - код последней версии;\n",
    "* `cont_rating` - возрастные ограничения;\n",
    "* `prime_genre` - жанр;\n",
    "* `sup_devices.num` - число поддерживающих устройств;\n",
    "* `ipadSc_urls.num` - число скриншотов с примерами;\n",
    "* `lang.num` - число поддерживаемых языков;\n",
    "* `vpp_lic` - есть ли лицензия VPP;\n",
    "* `app_desc` - описание приложения. \n"
   ]
  },
  {
   "cell_type": "code",
   "execution_count": 2,
   "metadata": {},
   "outputs": [
    {
     "name": "stdout",
     "output_type": "stream",
     "text": [
      "(7197, 16)\n"
     ]
    },
    {
     "data": {
      "text/html": [
       "<div>\n",
       "<style scoped>\n",
       "    .dataframe tbody tr th:only-of-type {\n",
       "        vertical-align: middle;\n",
       "    }\n",
       "\n",
       "    .dataframe tbody tr th {\n",
       "        vertical-align: top;\n",
       "    }\n",
       "\n",
       "    .dataframe thead th {\n",
       "        text-align: right;\n",
       "    }\n",
       "</style>\n",
       "<table border=\"1\" class=\"dataframe\">\n",
       "  <thead>\n",
       "    <tr style=\"text-align: right;\">\n",
       "      <th></th>\n",
       "      <th>track_name</th>\n",
       "      <th>size_bytes</th>\n",
       "      <th>currency</th>\n",
       "      <th>price</th>\n",
       "      <th>rating_count_tot</th>\n",
       "      <th>rating_count_ver</th>\n",
       "      <th>user_rating</th>\n",
       "      <th>user_rating_ver</th>\n",
       "      <th>ver</th>\n",
       "      <th>cont_rating</th>\n",
       "      <th>prime_genre</th>\n",
       "      <th>sup_devices.num</th>\n",
       "      <th>ipadSc_urls.num</th>\n",
       "      <th>lang.num</th>\n",
       "      <th>vpp_lic</th>\n",
       "      <th>app_desc</th>\n",
       "    </tr>\n",
       "  </thead>\n",
       "  <tbody>\n",
       "    <tr>\n",
       "      <th>0</th>\n",
       "      <td>PAC-MAN Premium</td>\n",
       "      <td>100788224</td>\n",
       "      <td>USD</td>\n",
       "      <td>3.99</td>\n",
       "      <td>21292</td>\n",
       "      <td>26</td>\n",
       "      <td>4.0</td>\n",
       "      <td>4.5</td>\n",
       "      <td>6.3.5</td>\n",
       "      <td>4+</td>\n",
       "      <td>Games</td>\n",
       "      <td>38</td>\n",
       "      <td>5</td>\n",
       "      <td>10</td>\n",
       "      <td>1</td>\n",
       "      <td>SAVE 20%, now only $3.99 for a limited time!\\n...</td>\n",
       "    </tr>\n",
       "    <tr>\n",
       "      <th>1</th>\n",
       "      <td>Evernote - stay organized</td>\n",
       "      <td>158578688</td>\n",
       "      <td>USD</td>\n",
       "      <td>0.00</td>\n",
       "      <td>161065</td>\n",
       "      <td>26</td>\n",
       "      <td>4.0</td>\n",
       "      <td>3.5</td>\n",
       "      <td>8.2.2</td>\n",
       "      <td>4+</td>\n",
       "      <td>Productivity</td>\n",
       "      <td>37</td>\n",
       "      <td>5</td>\n",
       "      <td>23</td>\n",
       "      <td>1</td>\n",
       "      <td>Let Evernote change the way you organize your ...</td>\n",
       "    </tr>\n",
       "    <tr>\n",
       "      <th>2</th>\n",
       "      <td>WeatherBug - Local Weather, Radar, Maps, Alerts</td>\n",
       "      <td>100524032</td>\n",
       "      <td>USD</td>\n",
       "      <td>0.00</td>\n",
       "      <td>188583</td>\n",
       "      <td>2822</td>\n",
       "      <td>3.5</td>\n",
       "      <td>4.5</td>\n",
       "      <td>5.0.0</td>\n",
       "      <td>4+</td>\n",
       "      <td>Weather</td>\n",
       "      <td>37</td>\n",
       "      <td>5</td>\n",
       "      <td>3</td>\n",
       "      <td>1</td>\n",
       "      <td>Download the most popular free weather app pow...</td>\n",
       "    </tr>\n",
       "    <tr>\n",
       "      <th>3</th>\n",
       "      <td>eBay: Best App to Buy, Sell, Save! Online Shop...</td>\n",
       "      <td>128512000</td>\n",
       "      <td>USD</td>\n",
       "      <td>0.00</td>\n",
       "      <td>262241</td>\n",
       "      <td>649</td>\n",
       "      <td>4.0</td>\n",
       "      <td>4.5</td>\n",
       "      <td>5.10.0</td>\n",
       "      <td>12+</td>\n",
       "      <td>Shopping</td>\n",
       "      <td>37</td>\n",
       "      <td>5</td>\n",
       "      <td>9</td>\n",
       "      <td>1</td>\n",
       "      <td>The eBay app is the best way to find anything ...</td>\n",
       "    </tr>\n",
       "    <tr>\n",
       "      <th>4</th>\n",
       "      <td>Bible</td>\n",
       "      <td>92774400</td>\n",
       "      <td>USD</td>\n",
       "      <td>0.00</td>\n",
       "      <td>985920</td>\n",
       "      <td>5320</td>\n",
       "      <td>4.5</td>\n",
       "      <td>5.0</td>\n",
       "      <td>7.5.1</td>\n",
       "      <td>4+</td>\n",
       "      <td>Reference</td>\n",
       "      <td>37</td>\n",
       "      <td>5</td>\n",
       "      <td>45</td>\n",
       "      <td>1</td>\n",
       "      <td>On more than 250 million devices around the wo...</td>\n",
       "    </tr>\n",
       "  </tbody>\n",
       "</table>\n",
       "</div>"
      ],
      "text/plain": [
       "                                          track_name  size_bytes currency  \\\n",
       "0                                    PAC-MAN Premium   100788224      USD   \n",
       "1                          Evernote - stay organized   158578688      USD   \n",
       "2    WeatherBug - Local Weather, Radar, Maps, Alerts   100524032      USD   \n",
       "3  eBay: Best App to Buy, Sell, Save! Online Shop...   128512000      USD   \n",
       "4                                              Bible    92774400      USD   \n",
       "\n",
       "   price  rating_count_tot  rating_count_ver  user_rating  user_rating_ver  \\\n",
       "0   3.99             21292                26          4.0              4.5   \n",
       "1   0.00            161065                26          4.0              3.5   \n",
       "2   0.00            188583              2822          3.5              4.5   \n",
       "3   0.00            262241               649          4.0              4.5   \n",
       "4   0.00            985920              5320          4.5              5.0   \n",
       "\n",
       "      ver cont_rating   prime_genre  sup_devices.num  ipadSc_urls.num  \\\n",
       "0   6.3.5          4+         Games               38                5   \n",
       "1   8.2.2          4+  Productivity               37                5   \n",
       "2   5.0.0          4+       Weather               37                5   \n",
       "3  5.10.0         12+      Shopping               37                5   \n",
       "4   7.5.1          4+     Reference               37                5   \n",
       "\n",
       "   lang.num  vpp_lic                                           app_desc  \n",
       "0        10        1  SAVE 20%, now only $3.99 for a limited time!\\n...  \n",
       "1        23        1  Let Evernote change the way you organize your ...  \n",
       "2         3        1  Download the most popular free weather app pow...  \n",
       "3         9        1  The eBay app is the best way to find anything ...  \n",
       "4        45        1  On more than 250 million devices around the wo...  "
      ]
     },
     "execution_count": 2,
     "metadata": {},
     "output_type": "execute_result"
    }
   ],
   "source": [
    "df = pd.read_csv('apple.csv', sep = '\\t')\n",
    "\n",
    "df.drop('id', axis=1, inplace=True) # выбрасываю техническую колонку с id \n",
    " \n",
    "print(df.shape)\n",
    "df.head()"
   ]
  },
  {
   "cell_type": "markdown",
   "metadata": {},
   "source": [
    "__[1] Целевая переменная__ \n",
    "\n",
    "На основе этих данных можно посмотреть какими характеристиками должно обладать приложение, привлекающее людей и сделать своё приложение так, чтобы его рейтинги были максимально возможными. \n",
    "\n",
    "Целевой переменной для данной задачи будет рейтинг приложения. Нам хотелось бы, чтобы рейтинг нашего приложения был как можно выше. Будем считать, что нас устроит рейтинг $>4$. Разделим все приложения на хорошие и плохие и будем решать задачу классификации. Конечно можно было бы решать и задачу регрессии, но нам не нужна излишняя детализация. Какая разница, оценка у нашего приложени $2.6$ или $2.7$? Главное, что оно не привлекает пользователя. Новую целевую переменную запишите в колонку `is_popular`."
   ]
  },
  {
   "cell_type": "code",
   "execution_count": 3,
   "metadata": {},
   "outputs": [],
   "source": [
    "df['is_popular'] = (df['user_rating'] > 4).astype(int)"
   ]
  },
  {
   "cell_type": "markdown",
   "metadata": {},
   "source": [
    "__[1] Размер приложухи__\n",
    "\n",
    "В колонке `rating_count_tot` находится число людей, которое поставило оценку приложению. Давайте разделим все приложения, которые у нас есть на два типа: молодые (у них мало оценок) и старые (у них есть уже много оценок). Создайте переменную `is_small`. Запишите туда $1$, если у приложения меньше $200$ оценок. "
   ]
  },
  {
   "cell_type": "code",
   "execution_count": 4,
   "metadata": {},
   "outputs": [],
   "source": [
    "df['is_small'] = (df['rating_count_tot'] < 200).astype(int)"
   ]
  },
  {
   "cell_type": "markdown",
   "metadata": {},
   "source": [
    "__[1] Рейтинг и размер__  \n",
    "\n",
    "Посотрим насколько сильно различается распределение оценок на большом и маленьком числе пользователей. Для этого построим две гистограммы. Одну для маленьких пользователей, вторую для больших.  "
   ]
  },
  {
   "cell_type": "code",
   "execution_count": 5,
   "metadata": {},
   "outputs": [
    {
     "data": {
      "image/png": "[encoded data removed]",
      "text/plain": [
       "<Figure size 720x360 with 1 Axes>"
      ]
     },
     "metadata": {
      "needs_background": "light"
     },
     "output_type": "display_data"
    }
   ],
   "source": [
    "plt.figure(figsize=(10, 5))\n",
    "plt.hist(df[df['is_small'] == 1]['user_rating'], alpha = 0.6, density=True, label=\"small\")\n",
    "\n",
    "# Ваш код для больших приложений\n",
    "plt.hist(df[df['is_small'] == 0]['user_rating'], alpha = 0.6, density=True, label=\"large\")\n",
    "\n",
    "plt.legend()\n",
    "plt.show()"
   ]
  },
  {
   "cell_type": "markdown",
   "metadata": {},
   "source": [
    "Проинтерпретируйте получившуюся картинку.  В чём заключается разница между большими приложениями и маленькими? \n",
    "\n",
    "\n",
    "__Ответ:__ \n",
    "\n",
    "* У приложений, получивших мало отзывов очень много нулей. Возможно, что это связано с тем, что никто не поставил на эти приложения оценку. Это можно проверить. "
   ]
  },
  {
   "cell_type": "code",
   "execution_count": 6,
   "metadata": {},
   "outputs": [
    {
     "data": {
      "text/plain": [
       "0    929\n",
       "Name: rating_count_tot, dtype: int64"
      ]
     },
     "execution_count": 6,
     "metadata": {},
     "output_type": "execute_result"
    }
   ],
   "source": [
    "df[(df['is_small']  == 1)&(df['user_rating'] == 0)].rating_count_tot.value_counts()"
   ]
  },
  {
   "cell_type": "markdown",
   "metadata": {},
   "source": [
    "* Другое наблюдение: у больших приложений намного меньше пятёрок. Возможно, что пока у маленького приложения мало оценок, его легче накрутить на пять звёзд. \n",
    "* У больших приложений намного меньше разброс в оценках. Это объясняется двумя основными факторами. __Во-первых,__ чем больше пользователей поставило оценку, тем меньше влияет оценка каждого из них на конечный рейтинг. Из-за этого у оценок оказывается более маленький разброс. __Во-вторых,__ популярные приложения как правило разработаны и поддерживаются компаниями в целях получения прибыли, а не студентами ради развлечения, как следствие - у популярных приложений обычно достойное качество."
   ]
  },
  {
   "cell_type": "markdown",
   "metadata": {},
   "source": [
    "Удалите колонки `user_rating`, `user_rating_ver`, `rating_count_ver`, `rating_count_tot`."
   ]
  },
  {
   "cell_type": "code",
   "execution_count": 7,
   "metadata": {},
   "outputs": [],
   "source": [
    "df = df.drop(['user_rating', 'user_rating_ver', 'rating_count_ver', 'rating_count_tot'], axis=1)"
   ]
  },
  {
   "cell_type": "markdown",
   "metadata": {},
   "source": [
    "__[1]__ Есть ли среди классов \"популярные приложения\" и \"непопулярные приложения\" дисбаланс среди мелких приложух? А среди больших? "
   ]
  },
  {
   "cell_type": "code",
   "execution_count": 8,
   "metadata": {},
   "outputs": [
    {
     "data": {
      "image/png": "[encoded data removed]",
      "text/plain": [
       "<Figure size 720x360 with 1 Axes>"
      ]
     },
     "metadata": {
      "needs_background": "light"
     },
     "output_type": "display_data"
    }
   ],
   "source": [
    "plt.figure(figsize=(10, 5))\n",
    "plt.hist(df[df['is_small'] == 1]['is_popular'], alpha = 0.4, label=\"small\")\n",
    "plt.hist(df[df['is_small'] == 0]['is_popular'], alpha = 0.4, label=\"big\")\n",
    "\n",
    "plt.legend()\n",
    "plt.show()"
   ]
  },
  {
   "cell_type": "markdown",
   "metadata": {},
   "source": [
    "Дисбаланс присутсвует в обоих случаях, для малениких приложении примерно в $3$ раза в сторону низкой оценки, для больших примерно в $1.5$ в сторону высокой оценки."
   ]
  },
  {
   "cell_type": "markdown",
   "metadata": {},
   "source": [
    "__[2] Действительные переменные__\n",
    "\n",
    "Выделите в отдельный список действительные переменные. Проанализируйте, какие для них возникают проблемы. Исправьте все эти проблемы. Если вы видите, что для какой-то из переменных нужно сварить дополнительную фичу, как это произошло на семинаре, сделайте это прямо в этом пункте. "
   ]
  },
  {
   "cell_type": "markdown",
   "metadata": {},
   "source": [
    "__Возможные проблемы:__ \n",
    "\n",
    "* Пропуски в данных $\\Rightarrow$ надо бы заполнить \n",
    "* Выбросы в данных $\\Rightarrow$  надо предобработать \n",
    "* Разные единицы измерения $\\Rightarrow$ решим потом эту проблему скалированием позже, при моделировании."
   ]
  },
  {
   "cell_type": "code",
   "execution_count": 9,
   "metadata": {},
   "outputs": [],
   "source": [
    "# ipadSc_urls.num можно взять и в категориальные переменные.\n",
    "var_real = ['lang.num', 'ipadSc_urls.num', 'sup_devices.num', 'price', 'size_bytes']"
   ]
  },
  {
   "cell_type": "code",
   "execution_count": 10,
   "metadata": {},
   "outputs": [
    {
     "data": {
      "text/plain": [
       "lang.num           0\n",
       "ipadSc_urls.num    0\n",
       "sup_devices.num    0\n",
       "price              0\n",
       "size_bytes         0\n",
       "dtype: int64"
      ]
     },
     "execution_count": 10,
     "metadata": {},
     "output_type": "execute_result"
    }
   ],
   "source": [
    "# Пропусков нет!\n",
    "df[var_real].isnull().sum()"
   ]
  },
  {
   "cell_type": "code",
   "execution_count": 11,
   "metadata": {},
   "outputs": [
    {
     "data": {
      "image/png": "[encoded data removed]",
      "text/plain": [
       "<Figure size 1080x1080 with 6 Axes>"
      ]
     },
     "metadata": {
      "needs_background": "light"
     },
     "output_type": "display_data"
    }
   ],
   "source": [
    "df[var_real].hist(figsize=(15,15));"
   ]
  },
  {
   "cell_type": "markdown",
   "metadata": {},
   "source": [
    "По гистограммам видно, что у цен довольно большой хвост. Скорее всего, это связано с тем, что в маркете очень м ного бесплатных приложений. Имеет смысл выделить всех таких ребят в отдельную дамми-переменную. "
   ]
  },
  {
   "cell_type": "code",
   "execution_count": 12,
   "metadata": {},
   "outputs": [
    {
     "data": {
      "text/plain": [
       "<matplotlib.axes._subplots.AxesSubplot at 0x11fd9a898>"
      ]
     },
     "execution_count": 12,
     "metadata": {},
     "output_type": "execute_result"
    },
    {
     "data": {
      "image/png": "[encoded data removed]",
      "text/plain": [
       "<Figure size 432x288 with 1 Axes>"
      ]
     },
     "metadata": {
      "needs_background": "light"
     },
     "output_type": "display_data"
    }
   ],
   "source": [
    "df['is_for_free'] =  (df['price'] == 0).astype(int)\n",
    "\n",
    "df[df['price'] > 0]['price'].hist()"
   ]
  },
  {
   "cell_type": "markdown",
   "metadata": {},
   "source": [
    "От длинного хвоста это нас не избавит. Придётся переменную дополнительно прологорифмировать. Также имеет смысл сгладить размеры приложений, хоть там хвост и не такой огромный. "
   ]
  },
  {
   "cell_type": "code",
   "execution_count": 13,
   "metadata": {},
   "outputs": [],
   "source": [
    "df['price'] = df['price'].apply(lambda w: np.log(w + 1))\n",
    "df['size_bytes'] = df['size_bytes'].apply(lambda w: np.log(w + 1))"
   ]
  },
  {
   "cell_type": "markdown",
   "metadata": {},
   "source": [
    "Многие посмотрели на распределение языков и выяснили, что $25\\%$ приложений представлены на более, чем $8$ языках. Возможно, если сварить для этих интернациональных приложений специальную дамми,  это поможет нам. "
   ]
  },
  {
   "cell_type": "code",
   "execution_count": 14,
   "metadata": {},
   "outputs": [
    {
     "data": {
      "text/plain": [
       "count    7197.000000\n",
       "mean        5.434903\n",
       "std         7.919593\n",
       "min         0.000000\n",
       "25%         1.000000\n",
       "50%         1.000000\n",
       "75%         8.000000\n",
       "max        75.000000\n",
       "Name: lang.num, dtype: float64"
      ]
     },
     "execution_count": 14,
     "metadata": {},
     "output_type": "execute_result"
    }
   ],
   "source": [
    "df['lang.num'].describe()"
   ]
  },
  {
   "cell_type": "code",
   "execution_count": 15,
   "metadata": {},
   "outputs": [],
   "source": [
    "df['is_multilingual'] = (df['lang.num'] > 8).astype(int)"
   ]
  },
  {
   "cell_type": "markdown",
   "metadata": {},
   "source": [
    "__[2] Категориальные переменные__ \n",
    "\n",
    "Выделите в отдельный список категориальные переменные. Проанализируйте, какие для них возникают проблемы. Исправьте их. Если вы видите, что для какой-то из переменных нужно сварить дополнительную фичу, как это произошло на семинаре, сделайте это прямо в этом пункте. \n",
    "\n",
    "__Важно:__ в колонках `track_name` и `app_desc` находятся текстовые описания и название. Они для каждого наблюдения уникальны. Не надо трогать эти колонки в этом пункте.\n",
    "\n",
    "\n",
    "__Проблемы:__ \n",
    "\n",
    "* Неинформативные категории\n",
    "* Мелкие категории \n",
    "* Пропуски в данных "
   ]
  },
  {
   "cell_type": "code",
   "execution_count": 16,
   "metadata": {},
   "outputs": [
    {
     "data": {
      "text/plain": [
       "currency       0\n",
       "cont_rating    0\n",
       "prime_genre    0\n",
       "vpp_lic        0\n",
       "dtype: int64"
      ]
     },
     "execution_count": 16,
     "metadata": {},
     "output_type": "execute_result"
    }
   ],
   "source": [
    "# версию не будем включать в категрии, она почти везде уникальная, её выбросим\n",
    "var_cat = ['currency', 'cont_rating', 'prime_genre', 'vpp_lic']\n",
    "\n",
    "# Пропусков нет \n",
    "df[var_cat].isnull().sum()"
   ]
  },
  {
   "cell_type": "markdown",
   "metadata": {},
   "source": [
    "Построим картинку. "
   ]
  },
  {
   "cell_type": "code",
   "execution_count": 17,
   "metadata": {},
   "outputs": [
    {
     "data": {
      "image/png": "[encoded data removed]",
      "text/plain": [
       "<Figure size 1080x576 with 4 Axes>"
      ]
     },
     "metadata": {
      "needs_background": "light"
     },
     "output_type": "display_data"
    }
   ],
   "source": [
    "fig, axes = plt.subplots(2, 2, figsize=(15, 8), sharey=True)\n",
    "\n",
    "for i in range(len(var_cat)):\n",
    "    sns.countplot(x=var_cat[i], data=df, ax=axes[i // 2, i % 2])"
   ]
  },
  {
   "cell_type": "markdown",
   "metadata": {},
   "source": [
    "Видим, что все приложения поддерживают одну валюту, а также практически все приложения имеют лицензию VPP, поэтому эти две переменные имеет смысл выбросить. "
   ]
  },
  {
   "cell_type": "code",
   "execution_count": 18,
   "metadata": {},
   "outputs": [],
   "source": [
    "df.drop(['vpp_lic', 'currency'], axis=1, inplace=True)"
   ]
  },
  {
   "cell_type": "markdown",
   "metadata": {},
   "source": [
    "Посмотрим как часто в данных встречаются жанры игр. "
   ]
  },
  {
   "cell_type": "code",
   "execution_count": 19,
   "metadata": {},
   "outputs": [
    {
     "data": {
      "text/plain": [
       "Games                3862\n",
       "Entertainment         535\n",
       "Education             453\n",
       "Photo & Video         349\n",
       "Utilities             248\n",
       "Health & Fitness      180\n",
       "Productivity          178\n",
       "Social Networking     167\n",
       "Lifestyle             144\n",
       "Music                 138\n",
       "Shopping              122\n",
       "Sports                114\n",
       "Book                  112\n",
       "Finance               104\n",
       "Travel                 81\n",
       "News                   75\n",
       "Weather                72\n",
       "Reference              64\n",
       "Food & Drink           63\n",
       "Business               57\n",
       "Navigation             46\n",
       "Medical                23\n",
       "Catalogs               10\n",
       "Name: prime_genre, dtype: int64"
      ]
     },
     "execution_count": 19,
     "metadata": {},
     "output_type": "execute_result"
    }
   ],
   "source": [
    "df.prime_genre.value_counts()"
   ]
  },
  {
   "cell_type": "markdown",
   "metadata": {},
   "source": [
    "Малочисленных категорий не так много. В принципе ими можно при особо большой ленивости пренебречь. Но мы выделим всё, где меньше  $60$ наблюдений в мелкую категорию `another` в качетсве упражнения. "
   ]
  },
  {
   "cell_type": "code",
   "execution_count": 20,
   "metadata": {},
   "outputs": [],
   "source": [
    "genre_count = df.prime_genre.value_counts()\n",
    "small_genre = genre_count[genre_count < 60].index"
   ]
  },
  {
   "cell_type": "code",
   "execution_count": 21,
   "metadata": {},
   "outputs": [],
   "source": [
    "df['prime_genre'] = df['prime_genre'].apply(lambda w: 'another' if w in small_genre else w)"
   ]
  },
  {
   "cell_type": "markdown",
   "metadata": {},
   "source": [
    "Посмотрим что осталось в данных. "
   ]
  },
  {
   "cell_type": "code",
   "execution_count": 22,
   "metadata": {},
   "outputs": [
    {
     "name": "stdout",
     "output_type": "stream",
     "text": [
      "<class 'pandas.core.frame.DataFrame'>\n",
      "RangeIndex: 7197 entries, 0 to 7196\n",
      "Data columns (total 14 columns):\n",
      "track_name         7197 non-null object\n",
      "size_bytes         7197 non-null float64\n",
      "price              7197 non-null float64\n",
      "ver                7197 non-null object\n",
      "cont_rating        7197 non-null object\n",
      "prime_genre        7197 non-null object\n",
      "sup_devices.num    7197 non-null int64\n",
      "ipadSc_urls.num    7197 non-null int64\n",
      "lang.num           7197 non-null int64\n",
      "app_desc           7197 non-null object\n",
      "is_popular         7197 non-null int64\n",
      "is_small           7197 non-null int64\n",
      "is_for_free        7197 non-null int64\n",
      "is_multilingual    7197 non-null int64\n",
      "dtypes: float64(2), int64(7), object(5)\n",
      "memory usage: 787.2+ KB\n"
     ]
    }
   ],
   "source": [
    "df.info()"
   ]
  },
  {
   "cell_type": "markdown",
   "metadata": {},
   "source": [
    "В данных есть несколько текстовых переменных с типом object и версия приложения. Перед тем как делать OHE их надо выбросить. Если вы не делали бонусные пункты, можно было прямо тут сделать это, а после заняться OHE. Мы отложим этот процесс до конца тетрадки."
   ]
  },
  {
   "cell_type": "markdown",
   "metadata": {},
   "source": [
    "__[1] Тексты__ \n",
    "\n",
    "Пора немного потрогать `track_name` и `app_desc`. Cделайте на их основе новые две переменные:  длина названия и длина описания. Добавьте их в датасет. "
   ]
  },
  {
   "cell_type": "code",
   "execution_count": 23,
   "metadata": {},
   "outputs": [],
   "source": [
    "df['len_of_name'] = df['track_name'].apply(len)\n",
    "df['len_of_desc'] = df['app_desc'].apply(len)"
   ]
  },
  {
   "cell_type": "markdown",
   "metadata": {},
   "source": [
    "__[Бонусные баллы]__ \n",
    "\n",
    "Попробуйте на основе описания и названия приложения придумать какие-нибудь ещё переменные. Возможно, на ваш взгляд важно, что в описании упоминаются какие-то конкретные слова. Какие это могут быть слова? Возможно, из описания можно как-то извлечь информацию о скидках. \n",
    "\n",
    "__Важно:__ следите за тем, чтобы получившаяся переменая не оказывалась очень редкой. \n",
    "\n",
    "__У вас в работах я нашёл три прикольные идеи.__ Хочу подчеркнуть, что это не мой код, а ваш. "
   ]
  },
  {
   "cell_type": "code",
   "execution_count": 24,
   "metadata": {},
   "outputs": [
    {
     "data": {
      "text/plain": [
       "False    5603\n",
       "True     1594\n",
       "Name: there_is_a_discount, dtype: int64"
      ]
     },
     "execution_count": 24,
     "metadata": {},
     "output_type": "execute_result"
    }
   ],
   "source": [
    "# Выясняем есть ли в описании приложения информация о скидках\n",
    "\n",
    "df['there_is_a_discount'] = df['app_desc'].apply(lambda w:\n",
    "                    True if 'save' in w else False) | df['app_desc'].apply(lambda w:\n",
    "                    True if '%' in w else False) | df['app_desc'].apply(lambda w:\n",
    "                    True if 'discount' in w else False) | df['app_desc'].apply(lambda w:\n",
    "                    True if 'Save' in w else False) | df['app_desc'].apply(lambda w:\n",
    "                    True if 'Discount' in w else False) | df['app_desc'].apply(lambda w:\n",
    "                    True if 'SAVE' in w else False)\n",
    "\n",
    "df['there_is_a_discount'].value_counts()"
   ]
  },
  {
   "cell_type": "code",
   "execution_count": 25,
   "metadata": {},
   "outputs": [
    {
     "data": {
      "text/plain": [
       "<matplotlib.axes._subplots.AxesSubplot at 0x120100a20>"
      ]
     },
     "execution_count": 25,
     "metadata": {},
     "output_type": "execute_result"
    },
    {
     "data": {
      "image/png": "[encoded data removed]",
      "text/plain": [
       "<Figure size 432x288 with 1 Axes>"
      ]
     },
     "metadata": {
      "needs_background": "light"
     },
     "output_type": "display_data"
    }
   ],
   "source": [
    "df['there_is_a_discount'] = df['there_is_a_discount'].astype(int)\n",
    "df['there_is_a_discount'].hist()"
   ]
  },
  {
   "cell_type": "markdown",
   "metadata": {},
   "source": [
    "Можно еще сделать переменную, которая показывает, у каких приложений оптимальные размер названия(по символам). Насколько я знаю, размер названия приложения - это очень важно. По данным исследований, длина названия не должно превышать $23-24$ знаков.\n",
    "\n",
    "__Исследование:__  http://icenter.ru/docs/TrialSub_2014-10/29_VMPR_10_%202014.pdf\n",
    "\n",
    "Смотреть страницы $50-51.$"
   ]
  },
  {
   "cell_type": "code",
   "execution_count": 26,
   "metadata": {},
   "outputs": [
    {
     "data": {
      "text/plain": [
       "1    4133\n",
       "0    3064\n",
       "Name: is_short_name, dtype: int64"
      ]
     },
     "execution_count": 26,
     "metadata": {},
     "output_type": "execute_result"
    }
   ],
   "source": [
    "df['is_short_name'] = (df['len_of_name'] < 25).astype(int)\n",
    "df['is_short_name'].value_counts()"
   ]
  },
  {
   "cell_type": "markdown",
   "metadata": {},
   "source": [
    "Выбрасываем текстовые переменные и версию. "
   ]
  },
  {
   "cell_type": "code",
   "execution_count": 28,
   "metadata": {},
   "outputs": [],
   "source": [
    "df.drop(['track_name', 'app_desc', 'ver'], axis=1, inplace=True)"
   ]
  },
  {
   "cell_type": "markdown",
   "metadata": {},
   "source": [
    "Две переменные типа `object`, как мы и хотели. "
   ]
  },
  {
   "cell_type": "code",
   "execution_count": 29,
   "metadata": {},
   "outputs": [
    {
     "name": "stdout",
     "output_type": "stream",
     "text": [
      "<class 'pandas.core.frame.DataFrame'>\n",
      "RangeIndex: 7197 entries, 0 to 7196\n",
      "Data columns (total 15 columns):\n",
      "size_bytes             7197 non-null float64\n",
      "price                  7197 non-null float64\n",
      "cont_rating            7197 non-null object\n",
      "prime_genre            7197 non-null object\n",
      "sup_devices.num        7197 non-null int64\n",
      "ipadSc_urls.num        7197 non-null int64\n",
      "lang.num               7197 non-null int64\n",
      "is_popular             7197 non-null int64\n",
      "is_small               7197 non-null int64\n",
      "is_for_free            7197 non-null int64\n",
      "is_multilingual        7197 non-null int64\n",
      "len_of_name            7197 non-null int64\n",
      "len_of_desc            7197 non-null int64\n",
      "there_is_a_discount    7197 non-null int64\n",
      "is_short_name          7197 non-null int64\n",
      "dtypes: float64(2), int64(11), object(2)\n",
      "memory usage: 843.5+ KB\n"
     ]
    }
   ],
   "source": [
    "df.info()"
   ]
  },
  {
   "cell_type": "markdown",
   "metadata": {},
   "source": [
    "Можем сделать OHE. "
   ]
  },
  {
   "cell_type": "code",
   "execution_count": 30,
   "metadata": {},
   "outputs": [
    {
     "data": {
      "text/plain": [
       "(7197, 35)"
      ]
     },
     "execution_count": 30,
     "metadata": {},
     "output_type": "execute_result"
    }
   ],
   "source": [
    "df = pd.get_dummies(df, drop_first=True, dummy_na=False)\n",
    "df.shape"
   ]
  },
  {
   "cell_type": "code",
   "execution_count": 31,
   "metadata": {},
   "outputs": [
    {
     "data": {
      "text/html": [
       "<div>\n",
       "<style scoped>\n",
       "    .dataframe tbody tr th:only-of-type {\n",
       "        vertical-align: middle;\n",
       "    }\n",
       "\n",
       "    .dataframe tbody tr th {\n",
       "        vertical-align: top;\n",
       "    }\n",
       "\n",
       "    .dataframe thead th {\n",
       "        text-align: right;\n",
       "    }\n",
       "</style>\n",
       "<table border=\"1\" class=\"dataframe\">\n",
       "  <thead>\n",
       "    <tr style=\"text-align: right;\">\n",
       "      <th></th>\n",
       "      <th>size_bytes</th>\n",
       "      <th>price</th>\n",
       "      <th>sup_devices.num</th>\n",
       "      <th>ipadSc_urls.num</th>\n",
       "      <th>lang.num</th>\n",
       "      <th>is_popular</th>\n",
       "      <th>is_small</th>\n",
       "      <th>is_for_free</th>\n",
       "      <th>is_multilingual</th>\n",
       "      <th>len_of_name</th>\n",
       "      <th>...</th>\n",
       "      <th>prime_genre_Photo &amp; Video</th>\n",
       "      <th>prime_genre_Productivity</th>\n",
       "      <th>prime_genre_Reference</th>\n",
       "      <th>prime_genre_Shopping</th>\n",
       "      <th>prime_genre_Social Networking</th>\n",
       "      <th>prime_genre_Sports</th>\n",
       "      <th>prime_genre_Travel</th>\n",
       "      <th>prime_genre_Utilities</th>\n",
       "      <th>prime_genre_Weather</th>\n",
       "      <th>prime_genre_another</th>\n",
       "    </tr>\n",
       "  </thead>\n",
       "  <tbody>\n",
       "    <tr>\n",
       "      <th>0</th>\n",
       "      <td>18.428532</td>\n",
       "      <td>1.607436</td>\n",
       "      <td>38</td>\n",
       "      <td>5</td>\n",
       "      <td>10</td>\n",
       "      <td>0</td>\n",
       "      <td>0</td>\n",
       "      <td>0</td>\n",
       "      <td>1</td>\n",
       "      <td>15</td>\n",
       "      <td>...</td>\n",
       "      <td>0</td>\n",
       "      <td>0</td>\n",
       "      <td>0</td>\n",
       "      <td>0</td>\n",
       "      <td>0</td>\n",
       "      <td>0</td>\n",
       "      <td>0</td>\n",
       "      <td>0</td>\n",
       "      <td>0</td>\n",
       "      <td>0</td>\n",
       "    </tr>\n",
       "    <tr>\n",
       "      <th>1</th>\n",
       "      <td>18.881761</td>\n",
       "      <td>0.000000</td>\n",
       "      <td>37</td>\n",
       "      <td>5</td>\n",
       "      <td>23</td>\n",
       "      <td>0</td>\n",
       "      <td>0</td>\n",
       "      <td>1</td>\n",
       "      <td>1</td>\n",
       "      <td>25</td>\n",
       "      <td>...</td>\n",
       "      <td>0</td>\n",
       "      <td>1</td>\n",
       "      <td>0</td>\n",
       "      <td>0</td>\n",
       "      <td>0</td>\n",
       "      <td>0</td>\n",
       "      <td>0</td>\n",
       "      <td>0</td>\n",
       "      <td>0</td>\n",
       "      <td>0</td>\n",
       "    </tr>\n",
       "    <tr>\n",
       "      <th>2</th>\n",
       "      <td>18.425907</td>\n",
       "      <td>0.000000</td>\n",
       "      <td>37</td>\n",
       "      <td>5</td>\n",
       "      <td>3</td>\n",
       "      <td>0</td>\n",
       "      <td>0</td>\n",
       "      <td>1</td>\n",
       "      <td>0</td>\n",
       "      <td>47</td>\n",
       "      <td>...</td>\n",
       "      <td>0</td>\n",
       "      <td>0</td>\n",
       "      <td>0</td>\n",
       "      <td>0</td>\n",
       "      <td>0</td>\n",
       "      <td>0</td>\n",
       "      <td>0</td>\n",
       "      <td>0</td>\n",
       "      <td>1</td>\n",
       "      <td>0</td>\n",
       "    </tr>\n",
       "    <tr>\n",
       "      <th>3</th>\n",
       "      <td>18.671533</td>\n",
       "      <td>0.000000</td>\n",
       "      <td>37</td>\n",
       "      <td>5</td>\n",
       "      <td>9</td>\n",
       "      <td>0</td>\n",
       "      <td>0</td>\n",
       "      <td>1</td>\n",
       "      <td>1</td>\n",
       "      <td>50</td>\n",
       "      <td>...</td>\n",
       "      <td>0</td>\n",
       "      <td>0</td>\n",
       "      <td>0</td>\n",
       "      <td>1</td>\n",
       "      <td>0</td>\n",
       "      <td>0</td>\n",
       "      <td>0</td>\n",
       "      <td>0</td>\n",
       "      <td>0</td>\n",
       "      <td>0</td>\n",
       "    </tr>\n",
       "    <tr>\n",
       "      <th>4</th>\n",
       "      <td>18.345681</td>\n",
       "      <td>0.000000</td>\n",
       "      <td>37</td>\n",
       "      <td>5</td>\n",
       "      <td>45</td>\n",
       "      <td>1</td>\n",
       "      <td>0</td>\n",
       "      <td>1</td>\n",
       "      <td>1</td>\n",
       "      <td>5</td>\n",
       "      <td>...</td>\n",
       "      <td>0</td>\n",
       "      <td>0</td>\n",
       "      <td>1</td>\n",
       "      <td>0</td>\n",
       "      <td>0</td>\n",
       "      <td>0</td>\n",
       "      <td>0</td>\n",
       "      <td>0</td>\n",
       "      <td>0</td>\n",
       "      <td>0</td>\n",
       "    </tr>\n",
       "  </tbody>\n",
       "</table>\n",
       "<p>5 rows × 35 columns</p>\n",
       "</div>"
      ],
      "text/plain": [
       "   size_bytes     price  sup_devices.num  ipadSc_urls.num  lang.num  \\\n",
       "0   18.428532  1.607436               38                5        10   \n",
       "1   18.881761  0.000000               37                5        23   \n",
       "2   18.425907  0.000000               37                5         3   \n",
       "3   18.671533  0.000000               37                5         9   \n",
       "4   18.345681  0.000000               37                5        45   \n",
       "\n",
       "   is_popular  is_small  is_for_free  is_multilingual  len_of_name  ...  \\\n",
       "0           0         0            0                1           15  ...   \n",
       "1           0         0            1                1           25  ...   \n",
       "2           0         0            1                0           47  ...   \n",
       "3           0         0            1                1           50  ...   \n",
       "4           1         0            1                1            5  ...   \n",
       "\n",
       "   prime_genre_Photo & Video  prime_genre_Productivity  prime_genre_Reference  \\\n",
       "0                          0                         0                      0   \n",
       "1                          0                         1                      0   \n",
       "2                          0                         0                      0   \n",
       "3                          0                         0                      0   \n",
       "4                          0                         0                      1   \n",
       "\n",
       "   prime_genre_Shopping  prime_genre_Social Networking  prime_genre_Sports  \\\n",
       "0                     0                              0                   0   \n",
       "1                     0                              0                   0   \n",
       "2                     0                              0                   0   \n",
       "3                     1                              0                   0   \n",
       "4                     0                              0                   0   \n",
       "\n",
       "   prime_genre_Travel  prime_genre_Utilities  prime_genre_Weather  \\\n",
       "0                   0                      0                    0   \n",
       "1                   0                      0                    0   \n",
       "2                   0                      0                    1   \n",
       "3                   0                      0                    0   \n",
       "4                   0                      0                    0   \n",
       "\n",
       "   prime_genre_another  \n",
       "0                    0  \n",
       "1                    0  \n",
       "2                    0  \n",
       "3                    0  \n",
       "4                    0  \n",
       "\n",
       "[5 rows x 35 columns]"
      ]
     },
     "execution_count": 31,
     "metadata": {},
     "output_type": "execute_result"
    }
   ],
   "source": [
    "df.head()"
   ]
  },
  {
   "cell_type": "code",
   "execution_count": 32,
   "metadata": {},
   "outputs": [
    {
     "data": {
      "text/plain": [
       "Index(['size_bytes', 'price', 'sup_devices.num', 'ipadSc_urls.num', 'lang.num',\n",
       "       'is_popular', 'is_small', 'is_for_free', 'is_multilingual',\n",
       "       'len_of_name', 'len_of_desc', 'there_is_a_discount', 'is_short_name',\n",
       "       'cont_rating_17+', 'cont_rating_4+', 'cont_rating_9+',\n",
       "       'prime_genre_Education', 'prime_genre_Entertainment',\n",
       "       'prime_genre_Finance', 'prime_genre_Food & Drink', 'prime_genre_Games',\n",
       "       'prime_genre_Health & Fitness', 'prime_genre_Lifestyle',\n",
       "       'prime_genre_Music', 'prime_genre_News', 'prime_genre_Photo & Video',\n",
       "       'prime_genre_Productivity', 'prime_genre_Reference',\n",
       "       'prime_genre_Shopping', 'prime_genre_Social Networking',\n",
       "       'prime_genre_Sports', 'prime_genre_Travel', 'prime_genre_Utilities',\n",
       "       'prime_genre_Weather', 'prime_genre_another'],\n",
       "      dtype='object')"
      ]
     },
     "execution_count": 32,
     "metadata": {},
     "output_type": "execute_result"
    }
   ],
   "source": [
    "df.columns # прост посмотрели на колонки"
   ]
  },
  {
   "cell_type": "markdown",
   "metadata": {},
   "source": [
    "__[1]__ Осталось разбить выборку на трэйн и тест и сохранить две таблички. В тест возьмите $20 \\%$ выборки. "
   ]
  },
  {
   "cell_type": "code",
   "execution_count": 33,
   "metadata": {},
   "outputs": [],
   "source": [
    "from sklearn.model_selection import train_test_split\n",
    "df_train, df_test = train_test_split(df, test_size=0.2, \n",
    "                                     stratify = df['is_popular']) #сбалансировали"
   ]
  },
  {
   "cell_type": "code",
   "execution_count": 34,
   "metadata": {},
   "outputs": [
    {
     "data": {
      "text/plain": [
       "0    56.157721\n",
       "1    43.842279\n",
       "Name: is_popular, dtype: float64"
      ]
     },
     "execution_count": 34,
     "metadata": {},
     "output_type": "execute_result"
    }
   ],
   "source": [
    "df_train['is_popular'].value_counts()/df_train.shape[0]*100 #проверили train"
   ]
  },
  {
   "cell_type": "code",
   "execution_count": 35,
   "metadata": {},
   "outputs": [
    {
     "data": {
      "text/plain": [
       "0    56.180556\n",
       "1    43.819444\n",
       "Name: is_popular, dtype: float64"
      ]
     },
     "execution_count": 35,
     "metadata": {},
     "output_type": "execute_result"
    }
   ],
   "source": [
    "df_test['is_popular'].value_counts()/df_test.shape[0]*100 #проверили test"
   ]
  },
  {
   "cell_type": "code",
   "execution_count": 36,
   "metadata": {},
   "outputs": [],
   "source": [
    "df_train.to_csv('apple_train.csv', sep='\\t', index=False)\n",
    "df_test.to_csv('apple_test.csv', sep='\\t', index=False)"
   ]
  },
  {
   "cell_type": "markdown",
   "metadata": {},
   "source": [
    " "
   ]
  }
 ],
 "metadata": {
  "kernelspec": {
   "display_name": "Python 3",
   "language": "python",
   "name": "python3"
  },
  "language_info": {
   "codemirror_mode": {
    "name": "ipython",
    "version": 3
   },
   "file_extension": ".py",
   "mimetype": "text/x-python",
   "name": "python",
   "nbconvert_exporter": "python",
   "pygments_lexer": "ipython3",
   "version": "3.7.2"
  }
 },
 "nbformat": 4,
 "nbformat_minor": 2
}
