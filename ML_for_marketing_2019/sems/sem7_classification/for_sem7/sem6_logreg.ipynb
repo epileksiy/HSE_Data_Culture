{
 "cells": [
  {
   "cell_type": "markdown",
   "metadata": {},
   "source": [
    "<img src=\"https://cs7.pikabu.ru/post_img/2014/03/10/4/1394427243_1353289544.jpg\" height=\"400\" width=\"400\"> \n",
    "\n",
    "# <center> ML для маркетинга. <br>  <br> Cюжетная арка 2: отток и привлечение </center>\n",
    "\n",
    "В этом семестре мы с вами пройдём через несколько сюжетных арок. Второй такой аркой будут отток и привлечение. Им будет посвящена вторая серия из семинаров и домашек. \n",
    "\n",
    "\n",
    "#  Часть II (Две модели) \n",
    "\n",
    "В этой тетрадке мы с вами разбирались что такое логистическая регрессия и как её нужно готовить. "
   ]
  },
  {
   "cell_type": "markdown",
   "metadata": {},
   "source": [
    "## 1. Подгружаем данные"
   ]
  },
  {
   "cell_type": "code",
   "execution_count": 1,
   "metadata": {},
   "outputs": [],
   "source": [
    "import pandas as pd"
   ]
  },
  {
   "cell_type": "code",
   "execution_count": 2,
   "metadata": {},
   "outputs": [
    {
     "data": {
      "text/plain": [
       "array([0, 1, 0, ..., 0, 0, 0])"
      ]
     },
     "execution_count": 2,
     "metadata": {},
     "output_type": "execute_result"
    }
   ],
   "source": [
    "# подгрузим приготовленные на прошлом семинаре данные\n",
    "df = pd.read_csv('churn_train.csv', sep='\\t')\n",
    "\n",
    "# вытащим переменную, которую мы будем прогнозировать (y=1 означает, что человек ушёл)\n",
    "y = df['Churn'].astype(int).get_values()\n",
    "y"
   ]
  },
  {
   "cell_type": "code",
   "execution_count": 3,
   "metadata": {},
   "outputs": [
    {
     "data": {
      "text/plain": [
       "array([[ 82. ,   0. , 125.7, ...,   0. ,   0. ,   1. ],\n",
       "       [ 97. ,   0. , 120.8, ...,   0. ,   0. ,   1. ],\n",
       "       [171. ,   0. , 189.8, ...,   0. ,   0. ,   1. ],\n",
       "       ...,\n",
       "       [ 87. ,  22. , 240.8, ...,   0. ,   1. ,   0. ],\n",
       "       [101. ,  42. , 209.2, ...,   0. ,   1. ,   0. ],\n",
       "       [ 79. ,  32. ,  50.6, ...,   0. ,   1. ,   0. ]])"
      ]
     },
     "execution_count": 3,
     "metadata": {},
     "output_type": "execute_result"
    }
   ],
   "source": [
    "# вытаскиваем то, по чему мы будем строить прогнозы \n",
    "X = df.drop('Churn', axis=1).get_values()\n",
    "X"
   ]
  },
  {
   "cell_type": "code",
   "execution_count": 5,
   "metadata": {},
   "outputs": [],
   "source": [
    "from sklearn.model_selection import train_test_split\n",
    "\n",
    "# разобьём выборку на тренировочную и валидационную \n",
    "# на валидации мы впоследствии будем сравнивать разные модели между собой\n",
    "Xtr, Xval, ytr, yval = train_test_split(X,y, test_size=0.2,\n",
    "                                           stratify=y)  # для сбалансированности"
   ]
  },
  {
   "cell_type": "code",
   "execution_count": 6,
   "metadata": {},
   "outputs": [
    {
     "data": {
      "text/plain": [
       "(0.1449343339587242, 0.1441947565543071)"
      ]
     },
     "execution_count": 6,
     "metadata": {},
     "output_type": "execute_result"
    }
   ],
   "source": [
    "# под сбалансированностью имеется в виду, что и в трейне и в валидации\n",
    "# целевой переменной (её мы прогнозируем) одинаковый процент\n",
    "sum(ytr == 1)/len(ytr), sum(yval == 1)/len(yval)"
   ]
  },
  {
   "cell_type": "markdown",
   "metadata": {},
   "source": [
    "## 2.  Глупости с обычной регрессией"
   ]
  },
  {
   "cell_type": "code",
   "execution_count": 7,
   "metadata": {},
   "outputs": [
    {
     "data": {
      "text/plain": [
       "array([ 0.10541388,  0.16881326, -0.00751623,  0.08294608,  0.34474741,\n",
       "        0.03897214,  0.29134145,  0.47282142,  0.2214461 ,  0.15443971])"
      ]
     },
     "execution_count": 7,
     "metadata": {},
     "output_type": "execute_result"
    }
   ],
   "source": [
    "# давайте попробуем оценить регрессию! \n",
    "from sklearn.linear_model import LinearRegression\n",
    "\n",
    "model = LinearRegression()\n",
    "model.fit(Xtr, ytr)\n",
    "# model.coef_  # коэффициенты появились после обучения\n",
    "\n",
    "# О, нет! получаются не 0 и 1 ((((\n",
    "# а нам нужны именно они! \n",
    "model.predict(Xval)[:10]"
   ]
  },
  {
   "cell_type": "markdown",
   "metadata": {},
   "source": [
    "## 3. Оцениваем логичтисескую регрессию "
   ]
  },
  {
   "cell_type": "code",
   "execution_count": 8,
   "metadata": {},
   "outputs": [
    {
     "name": "stderr",
     "output_type": "stream",
     "text": [
      "/usr/local/lib/python3.7/site-packages/sklearn/linear_model/logistic.py:433: FutureWarning: Default solver will be changed to 'lbfgs' in 0.22. Specify a solver to silence this warning.\n",
      "  FutureWarning)\n"
     ]
    },
    {
     "data": {
      "text/plain": [
       "array([[ 1.99007371e-04,  1.44626436e-02,  1.09693019e-02,\n",
       "        -3.25149806e-03,  2.31562743e-05,  5.70136237e-03,\n",
       "         6.88612937e-04,  6.97821759e-04,  3.97786562e-03,\n",
       "        -5.49338909e-03, -2.09934296e-02,  3.20008843e-02,\n",
       "        -8.22319953e-02,  6.55191851e-03,  4.27064024e-01,\n",
       "        -4.62656033e-01, -8.20537657e-03, -5.32463218e-02,\n",
       "        -3.13939895e-01, -1.00831405e-01,  1.86518335e-01,\n",
       "         1.26894448e-01,  3.74449032e-01,  1.88446622e-03,\n",
       "         2.03586565e-01,  6.18441264e-01, -2.06092148e-01,\n",
       "         6.03411623e-01,  1.68473872e-01, -1.54038364e-01,\n",
       "        -4.54386916e-02, -2.35128530e-01, -1.04541480e+00,\n",
       "         7.96721689e-01, -5.05928896e-02, -1.29801679e+00,\n",
       "        -5.70100536e-01,  5.58299651e-01, -4.66661231e-01,\n",
       "        -5.63102636e-01, -5.18801491e-01, -2.99787206e-01,\n",
       "        -1.47817766e-01, -1.35900162e-01,  2.08206586e+00,\n",
       "        -2.58837209e+00, -1.48507622e+00]])"
      ]
     },
     "execution_count": 8,
     "metadata": {},
     "output_type": "execute_result"
    }
   ],
   "source": [
    "# переделаем все в логистическую регрессию! \n",
    "from sklearn.linear_model import LogisticRegression\n",
    "\n",
    "model = LogisticRegression()\n",
    "model.fit(Xtr, ytr)\n",
    "model.coef_  # коэффициенты появились после обучения"
   ]
  },
  {
   "cell_type": "code",
   "execution_count": 9,
   "metadata": {},
   "outputs": [
    {
     "data": {
      "text/plain": [
       "array([0, 0, 0, 0, 0, 0, 0, 0, 0, 0])"
      ]
     },
     "execution_count": 9,
     "metadata": {},
     "output_type": "execute_result"
    }
   ],
   "source": [
    "# ура! теперь у нас нули и единицы\n",
    "model.predict(Xval)[:10]"
   ]
  },
  {
   "cell_type": "markdown",
   "metadata": {},
   "source": [
    "## 4. Картинка с коэффициентами"
   ]
  },
  {
   "cell_type": "code",
   "execution_count": 10,
   "metadata": {},
   "outputs": [],
   "source": [
    "# имена колонок из нашей таблички \n",
    "features = list(df.drop('Churn', axis=1).columns)\n",
    "\n",
    "# значения коэффициентов, получившиеся после оценки модели\n",
    "coefs = model.coef_[0]"
   ]
  },
  {
   "cell_type": "code",
   "execution_count": 11,
   "metadata": {},
   "outputs": [
    {
     "data": {
      "text/plain": [
       "(47, 47)"
      ]
     },
     "execution_count": 11,
     "metadata": {},
     "output_type": "execute_result"
    }
   ],
   "source": [
    "# 47 переменных и 47 коэффициентов\n",
    "len(features), len(coefs)"
   ]
  },
  {
   "cell_type": "code",
   "execution_count": 12,
   "metadata": {},
   "outputs": [
    {
     "data": {
      "text/html": [
       "<div>\n",
       "<style scoped>\n",
       "    .dataframe tbody tr th:only-of-type {\n",
       "        vertical-align: middle;\n",
       "    }\n",
       "\n",
       "    .dataframe tbody tr th {\n",
       "        vertical-align: top;\n",
       "    }\n",
       "\n",
       "    .dataframe thead th {\n",
       "        text-align: right;\n",
       "    }\n",
       "</style>\n",
       "<table border=\"1\" class=\"dataframe\">\n",
       "  <thead>\n",
       "    <tr style=\"text-align: right;\">\n",
       "      <th></th>\n",
       "      <th>0</th>\n",
       "    </tr>\n",
       "  </thead>\n",
       "  <tbody>\n",
       "    <tr>\n",
       "      <th>Account length</th>\n",
       "      <td>0.000199</td>\n",
       "    </tr>\n",
       "    <tr>\n",
       "      <th>Number vmail messages</th>\n",
       "      <td>0.014463</td>\n",
       "    </tr>\n",
       "    <tr>\n",
       "      <th>Total day minutes</th>\n",
       "      <td>0.010969</td>\n",
       "    </tr>\n",
       "    <tr>\n",
       "      <th>Total day calls</th>\n",
       "      <td>-0.003251</td>\n",
       "    </tr>\n",
       "    <tr>\n",
       "      <th>Total day charge</th>\n",
       "      <td>0.000023</td>\n",
       "    </tr>\n",
       "  </tbody>\n",
       "</table>\n",
       "</div>"
      ],
      "text/plain": [
       "                              0\n",
       "Account length         0.000199\n",
       "Number vmail messages  0.014463\n",
       "Total day minutes      0.010969\n",
       "Total day calls       -0.003251\n",
       "Total day charge       0.000023"
      ]
     },
     "execution_count": 12,
     "metadata": {},
     "output_type": "execute_result"
    }
   ],
   "source": [
    "# закинем коэффициенты и их названия в табличку\n",
    "df_coef = pd.DataFrame(coefs, features)\n",
    "df_coef.head()"
   ]
  },
  {
   "cell_type": "code",
   "execution_count": 13,
   "metadata": {},
   "outputs": [
    {
     "data": {
      "text/html": [
       "<div>\n",
       "<style scoped>\n",
       "    .dataframe tbody tr th:only-of-type {\n",
       "        vertical-align: middle;\n",
       "    }\n",
       "\n",
       "    .dataframe tbody tr th {\n",
       "        vertical-align: top;\n",
       "    }\n",
       "\n",
       "    .dataframe thead th {\n",
       "        text-align: right;\n",
       "    }\n",
       "</style>\n",
       "<table border=\"1\" class=\"dataframe\">\n",
       "  <thead>\n",
       "    <tr style=\"text-align: right;\">\n",
       "      <th></th>\n",
       "      <th>0</th>\n",
       "    </tr>\n",
       "  </thead>\n",
       "  <tbody>\n",
       "    <tr>\n",
       "      <th>Voice mail plan_Yes</th>\n",
       "      <td>-2.588372</td>\n",
       "    </tr>\n",
       "    <tr>\n",
       "      <th>Zero vmail messages</th>\n",
       "      <td>-1.485076</td>\n",
       "    </tr>\n",
       "    <tr>\n",
       "      <th>State_VA</th>\n",
       "      <td>-1.298017</td>\n",
       "    </tr>\n",
       "    <tr>\n",
       "      <th>State_RI</th>\n",
       "      <td>-1.045415</td>\n",
       "    </tr>\n",
       "    <tr>\n",
       "      <th>State_VT</th>\n",
       "      <td>-0.570101</td>\n",
       "    </tr>\n",
       "    <tr>\n",
       "      <th>State_WV</th>\n",
       "      <td>-0.563103</td>\n",
       "    </tr>\n",
       "    <tr>\n",
       "      <th>State_WY</th>\n",
       "      <td>-0.518801</td>\n",
       "    </tr>\n",
       "    <tr>\n",
       "      <th>State_WI</th>\n",
       "      <td>-0.466661</td>\n",
       "    </tr>\n",
       "    <tr>\n",
       "      <th>State_CO</th>\n",
       "      <td>-0.462656</td>\n",
       "    </tr>\n",
       "    <tr>\n",
       "      <th>State_IN</th>\n",
       "      <td>-0.313940</td>\n",
       "    </tr>\n",
       "    <tr>\n",
       "      <th>State_another</th>\n",
       "      <td>-0.299787</td>\n",
       "    </tr>\n",
       "    <tr>\n",
       "      <th>State_OR</th>\n",
       "      <td>-0.235129</td>\n",
       "    </tr>\n",
       "    <tr>\n",
       "      <th>State_NC</th>\n",
       "      <td>-0.206092</td>\n",
       "    </tr>\n",
       "    <tr>\n",
       "      <th>State_NY</th>\n",
       "      <td>-0.154038</td>\n",
       "    </tr>\n",
       "    <tr>\n",
       "      <th>Area code_415</th>\n",
       "      <td>-0.147818</td>\n",
       "    </tr>\n",
       "    <tr>\n",
       "      <th>Area code_510</th>\n",
       "      <td>-0.135900</td>\n",
       "    </tr>\n",
       "    <tr>\n",
       "      <th>State_KS</th>\n",
       "      <td>-0.100831</td>\n",
       "    </tr>\n",
       "    <tr>\n",
       "      <th>Total intl calls</th>\n",
       "      <td>-0.082232</td>\n",
       "    </tr>\n",
       "    <tr>\n",
       "      <th>State_ID</th>\n",
       "      <td>-0.053246</td>\n",
       "    </tr>\n",
       "    <tr>\n",
       "      <th>State_UT</th>\n",
       "      <td>-0.050593</td>\n",
       "    </tr>\n",
       "    <tr>\n",
       "      <th>State_OH</th>\n",
       "      <td>-0.045439</td>\n",
       "    </tr>\n",
       "    <tr>\n",
       "      <th>Total night charge</th>\n",
       "      <td>-0.020993</td>\n",
       "    </tr>\n",
       "    <tr>\n",
       "      <th>State_CT</th>\n",
       "      <td>-0.008205</td>\n",
       "    </tr>\n",
       "    <tr>\n",
       "      <th>Total night calls</th>\n",
       "      <td>-0.005493</td>\n",
       "    </tr>\n",
       "    <tr>\n",
       "      <th>Total day calls</th>\n",
       "      <td>-0.003251</td>\n",
       "    </tr>\n",
       "    <tr>\n",
       "      <th>Total day charge</th>\n",
       "      <td>0.000023</td>\n",
       "    </tr>\n",
       "    <tr>\n",
       "      <th>Account length</th>\n",
       "      <td>0.000199</td>\n",
       "    </tr>\n",
       "    <tr>\n",
       "      <th>Total eve calls</th>\n",
       "      <td>0.000689</td>\n",
       "    </tr>\n",
       "    <tr>\n",
       "      <th>Total eve charge</th>\n",
       "      <td>0.000698</td>\n",
       "    </tr>\n",
       "    <tr>\n",
       "      <th>State_MN</th>\n",
       "      <td>0.001884</td>\n",
       "    </tr>\n",
       "    <tr>\n",
       "      <th>Total night minutes</th>\n",
       "      <td>0.003978</td>\n",
       "    </tr>\n",
       "    <tr>\n",
       "      <th>Total eve minutes</th>\n",
       "      <td>0.005701</td>\n",
       "    </tr>\n",
       "    <tr>\n",
       "      <th>Total intl charge</th>\n",
       "      <td>0.006552</td>\n",
       "    </tr>\n",
       "    <tr>\n",
       "      <th>Total day minutes</th>\n",
       "      <td>0.010969</td>\n",
       "    </tr>\n",
       "    <tr>\n",
       "      <th>Number vmail messages</th>\n",
       "      <td>0.014463</td>\n",
       "    </tr>\n",
       "    <tr>\n",
       "      <th>Total intl minutes</th>\n",
       "      <td>0.032001</td>\n",
       "    </tr>\n",
       "    <tr>\n",
       "      <th>State_MD</th>\n",
       "      <td>0.126894</td>\n",
       "    </tr>\n",
       "    <tr>\n",
       "      <th>State_NV</th>\n",
       "      <td>0.168474</td>\n",
       "    </tr>\n",
       "    <tr>\n",
       "      <th>State_MA</th>\n",
       "      <td>0.186518</td>\n",
       "    </tr>\n",
       "    <tr>\n",
       "      <th>State_MS</th>\n",
       "      <td>0.203587</td>\n",
       "    </tr>\n",
       "    <tr>\n",
       "      <th>State_MI</th>\n",
       "      <td>0.374449</td>\n",
       "    </tr>\n",
       "    <tr>\n",
       "      <th>Customer service calls</th>\n",
       "      <td>0.427064</td>\n",
       "    </tr>\n",
       "    <tr>\n",
       "      <th>State_WA</th>\n",
       "      <td>0.558300</td>\n",
       "    </tr>\n",
       "    <tr>\n",
       "      <th>State_NJ</th>\n",
       "      <td>0.603412</td>\n",
       "    </tr>\n",
       "    <tr>\n",
       "      <th>State_MT</th>\n",
       "      <td>0.618441</td>\n",
       "    </tr>\n",
       "    <tr>\n",
       "      <th>State_TX</th>\n",
       "      <td>0.796722</td>\n",
       "    </tr>\n",
       "    <tr>\n",
       "      <th>International plan_Yes</th>\n",
       "      <td>2.082066</td>\n",
       "    </tr>\n",
       "  </tbody>\n",
       "</table>\n",
       "</div>"
      ],
      "text/plain": [
       "                               0\n",
       "Voice mail plan_Yes    -2.588372\n",
       "Zero vmail messages    -1.485076\n",
       "State_VA               -1.298017\n",
       "State_RI               -1.045415\n",
       "State_VT               -0.570101\n",
       "State_WV               -0.563103\n",
       "State_WY               -0.518801\n",
       "State_WI               -0.466661\n",
       "State_CO               -0.462656\n",
       "State_IN               -0.313940\n",
       "State_another          -0.299787\n",
       "State_OR               -0.235129\n",
       "State_NC               -0.206092\n",
       "State_NY               -0.154038\n",
       "Area code_415          -0.147818\n",
       "Area code_510          -0.135900\n",
       "State_KS               -0.100831\n",
       "Total intl calls       -0.082232\n",
       "State_ID               -0.053246\n",
       "State_UT               -0.050593\n",
       "State_OH               -0.045439\n",
       "Total night charge     -0.020993\n",
       "State_CT               -0.008205\n",
       "Total night calls      -0.005493\n",
       "Total day calls        -0.003251\n",
       "Total day charge        0.000023\n",
       "Account length          0.000199\n",
       "Total eve calls         0.000689\n",
       "Total eve charge        0.000698\n",
       "State_MN                0.001884\n",
       "Total night minutes     0.003978\n",
       "Total eve minutes       0.005701\n",
       "Total intl charge       0.006552\n",
       "Total day minutes       0.010969\n",
       "Number vmail messages   0.014463\n",
       "Total intl minutes      0.032001\n",
       "State_MD                0.126894\n",
       "State_NV                0.168474\n",
       "State_MA                0.186518\n",
       "State_MS                0.203587\n",
       "State_MI                0.374449\n",
       "Customer service calls  0.427064\n",
       "State_WA                0.558300\n",
       "State_NJ                0.603412\n",
       "State_MT                0.618441\n",
       "State_TX                0.796722\n",
       "International plan_Yes  2.082066"
      ]
     },
     "execution_count": 13,
     "metadata": {},
     "output_type": "execute_result"
    }
   ],
   "source": [
    "# отсортируем табличку по значению коэффициентов\n",
    "df_coef.sort_values(0) # в скобках название колонки"
   ]
  },
  {
   "cell_type": "code",
   "execution_count": 15,
   "metadata": {},
   "outputs": [
    {
     "data": {
      "image/png": "[encoded data removed]",
      "text/plain": [
       "<Figure size 1080x576 with 1 Axes>"
      ]
     },
     "metadata": {
      "needs_background": "light"
     },
     "output_type": "display_data"
    }
   ],
   "source": [
    "# нарисуем barplot \n",
    "df_coef.sort_values(0).plot(kind='bar', figsize=(15,8));"
   ]
  },
  {
   "cell_type": "markdown",
   "metadata": {},
   "source": [
    "## 5. Качество модели и прогнозы"
   ]
  },
  {
   "cell_type": "code",
   "execution_count": 16,
   "metadata": {},
   "outputs": [
    {
     "data": {
      "text/plain": [
       "array([[0.93946207, 0.06053793],\n",
       "       [0.8664778 , 0.1335222 ],\n",
       "       [0.96567505, 0.03432495],\n",
       "       ...,\n",
       "       [0.95826009, 0.04173991],\n",
       "       [0.94960427, 0.05039573],\n",
       "       [0.46129801, 0.53870199]])"
      ]
     },
     "execution_count": 16,
     "metadata": {},
     "output_type": "execute_result"
    }
   ],
   "source": [
    "# в первой колонке P(y=0)\n",
    "# во второй колонке P(y=1)\n",
    "model.predict_proba(Xval)"
   ]
  },
  {
   "cell_type": "code",
   "execution_count": 19,
   "metadata": {},
   "outputs": [
    {
     "data": {
      "text/plain": [
       "array([[0.93946207, 0.06053793],\n",
       "       [0.8664778 , 0.1335222 ],\n",
       "       [0.96567505, 0.03432495],\n",
       "       [0.92876485, 0.07123515],\n",
       "       [0.63538027, 0.36461973],\n",
       "       [0.96045562, 0.03954438],\n",
       "       [0.71295965, 0.28704035],\n",
       "       [0.57185261, 0.42814739],\n",
       "       [0.80772955, 0.19227045],\n",
       "       [0.91609187, 0.08390813]])"
      ]
     },
     "execution_count": 19,
     "metadata": {},
     "output_type": "execute_result"
    }
   ],
   "source": [
    "p_pred = model.predict_proba(Xval)\n",
    "p_pred[:10]"
   ]
  },
  {
   "cell_type": "code",
   "execution_count": 20,
   "metadata": {},
   "outputs": [
    {
     "data": {
      "text/plain": [
       "array([0.06053793, 0.1335222 , 0.03432495, 0.07123515, 0.36461973,\n",
       "       0.03954438, 0.28704035, 0.42814739, 0.19227045, 0.08390813])"
      ]
     },
     "execution_count": 20,
     "metadata": {},
     "output_type": "execute_result"
    }
   ],
   "source": [
    "# можно достать только P(y=1)\n",
    "p_pred[:,-1][:10]"
   ]
  },
  {
   "cell_type": "code",
   "execution_count": 21,
   "metadata": {},
   "outputs": [
    {
     "data": {
      "text/plain": [
       "array([0, 0, 0, 0, 0, 0, 0, 0, 0, 0])"
      ]
     },
     "execution_count": 21,
     "metadata": {},
     "output_type": "execute_result"
    }
   ],
   "source": [
    "# можно спрогнозировать либо 0 либо 1 \n",
    "# если P(y=1) > 0.5 иначе ставит 0 \n",
    "model.predict(Xval)[:10]"
   ]
  },
  {
   "cell_type": "code",
   "execution_count": 22,
   "metadata": {},
   "outputs": [
    {
     "data": {
      "text/plain": [
       "0.31953946971811004"
      ]
     },
     "execution_count": 22,
     "metadata": {},
     "output_type": "execute_result"
    }
   ],
   "source": [
    "from sklearn.metrics import log_loss\n",
    "\n",
    "# можно найти logloss \n",
    "log_loss(yval, p_pred[:,-1])"
   ]
  },
  {
   "cell_type": "code",
   "execution_count": 23,
   "metadata": {},
   "outputs": [
    {
     "data": {
      "text/plain": [
       "0.8369945153314957"
      ]
     },
     "execution_count": 23,
     "metadata": {},
     "output_type": "execute_result"
    }
   ],
   "source": [
    "# можно считать другме метрики! \n",
    "from sklearn.metrics import roc_auc_score, accuracy_score\n",
    "\n",
    "# например roc_auc\n",
    "roc_auc_score(yval, p_pred[:,-1])"
   ]
  },
  {
   "cell_type": "code",
   "execution_count": 24,
   "metadata": {},
   "outputs": [
    {
     "data": {
      "text/plain": [
       "0.8558052434456929"
      ]
     },
     "execution_count": 24,
     "metadata": {},
     "output_type": "execute_result"
    }
   ],
   "source": [
    "# или accuracy \n",
    "y_pred = model.predict(Xval)\n",
    "accuracy_score(yval, y_pred)"
   ]
  },
  {
   "cell_type": "code",
   "execution_count": null,
   "metadata": {},
   "outputs": [],
   "source": [
    "# Что такое ROC_AUC никто не вспомнил! \n",
    "# Придется почитать pdf из прошлого семестра!!!"
   ]
  },
  {
   "cell_type": "markdown",
   "metadata": {},
   "source": [
    "  "
   ]
  }
 ],
 "metadata": {
  "kernelspec": {
   "display_name": "Python 3",
   "language": "python",
   "name": "python3"
  },
  "language_info": {
   "codemirror_mode": {
    "name": "ipython",
    "version": 3
   },
   "file_extension": ".py",
   "mimetype": "text/x-python",
   "name": "python",
   "nbconvert_exporter": "python",
   "pygments_lexer": "ipython3",
   "version": "3.7.2"
  }
 },
 "nbformat": 4,
 "nbformat_minor": 2
}
