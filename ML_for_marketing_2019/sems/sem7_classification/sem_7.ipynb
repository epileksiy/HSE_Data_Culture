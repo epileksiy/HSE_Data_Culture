{
 "cells": [
  {
   "cell_type": "markdown",
   "metadata": {},
   "source": [
    "<img src=\"https://cs7.pikabu.ru/post_img/2014/03/10/4/1394427243_1353289544.jpg\" height=\"400\" width=\"400\"> \n",
    "\n",
    "# <center> ML для маркетинга. <br>  <br> Cюжетная арка 2: отток и привлечение </center>\n",
    "\n",
    "В этом семестре мы с вами пройдём через несколько сюжетных арок. Второй такой аркой будут отток и привлечение. Им будет посвящена вторая серия из семинаров и домашек. \n",
    "\n",
    "\n",
    "#  Часть III (Возвращение менеджера) \n",
    "\n",
    "В этой тетрадке мы с вами пытались найти самый классный штраф (коэффициент регуляризации) и пользовались перебором по решётке. А ещё мы немного вспомниил метрики классификации и посравнивали модели между собой. "
   ]
  },
  {
   "cell_type": "code",
   "execution_count": 1,
   "metadata": {},
   "outputs": [],
   "source": [
    "import pandas as pd\n",
    "import numpy as np \n",
    "from sklearn.model_selection import train_test_split"
   ]
  },
  {
   "cell_type": "code",
   "execution_count": 2,
   "metadata": {},
   "outputs": [],
   "source": [
    "# чтобы нас не раздражали предупреждения, отключим их! \n",
    "import warnings\n",
    "warnings.simplefilter(\"ignore\")"
   ]
  },
  {
   "cell_type": "markdown",
   "metadata": {},
   "source": [
    "Подгрузим те же самые данные для прогнозирования оттока. "
   ]
  },
  {
   "cell_type": "code",
   "execution_count": 4,
   "metadata": {},
   "outputs": [],
   "source": [
    "df_train = pd.read_csv('churn_train.csv', sep='\\t')\n",
    "df_test = pd.read_csv('churn_test.csv', sep='\\t')"
   ]
  },
  {
   "cell_type": "markdown",
   "metadata": {},
   "source": [
    "Разложим их по матрицам. Тренировочную выборку раздробим на тренировочную и валидационную. "
   ]
  },
  {
   "cell_type": "code",
   "execution_count": 5,
   "metadata": {},
   "outputs": [],
   "source": [
    "y = df_train['Churn'].astype(int).get_values()\n",
    "X = df_train.drop('Churn', axis=1).get_values()\n",
    "\n",
    "y_test = df_test['Churn'].astype(int).get_values()\n",
    "X_test = df_test.drop('Churn', axis=1).get_values()\n",
    "\n",
    "Xtr, Xval, ytr, yval = train_test_split(X,y, test_size=0.2,\n",
    "                                           stratify=y) "
   ]
  },
  {
   "cell_type": "markdown",
   "metadata": {},
   "source": [
    "Скопируем логистическую регрессию из старой тетрадки. Посмотрим на её качество. "
   ]
  },
  {
   "cell_type": "code",
   "execution_count": 6,
   "metadata": {},
   "outputs": [
    {
     "data": {
      "text/plain": [
       "LogisticRegression(C=1.0, class_weight=None, dual=False, fit_intercept=True,\n",
       "          intercept_scaling=1, max_iter=100, multi_class='warn',\n",
       "          n_jobs=None, penalty='l2', random_state=None, solver='warn',\n",
       "          tol=0.0001, verbose=0, warm_start=False)"
      ]
     },
     "execution_count": 6,
     "metadata": {},
     "output_type": "execute_result"
    }
   ],
   "source": [
    "# переделаем все в логистическую регрессию! \n",
    "from sklearn.linear_model import LogisticRegression\n",
    "\n",
    "model = LogisticRegression()\n",
    "model.fit(Xtr, ytr)"
   ]
  },
  {
   "cell_type": "code",
   "execution_count": 7,
   "metadata": {},
   "outputs": [
    {
     "data": {
      "text/plain": [
       "array([0.87453184, 0.85365854, 0.85741088, 0.84990619, 0.85928705])"
      ]
     },
     "execution_count": 7,
     "metadata": {},
     "output_type": "execute_result"
    }
   ],
   "source": [
    "from sklearn.model_selection import cross_val_score\n",
    "\n",
    "# Делаем кросс-валидацию (учим 5 моделей и усредняем accuracy)\n",
    "model = LogisticRegression()\n",
    "s = cross_val_score(model, X, y, cv=5, scoring='accuracy')\n",
    "s"
   ]
  },
  {
   "cell_type": "code",
   "execution_count": 8,
   "metadata": {},
   "outputs": [
    {
     "data": {
      "text/plain": [
       "0.858958899874219"
      ]
     },
     "execution_count": 8,
     "metadata": {},
     "output_type": "execute_result"
    }
   ],
   "source": [
    "np.mean(s)"
   ]
  },
  {
   "cell_type": "markdown",
   "metadata": {},
   "source": [
    "Тут мы вспомнили, что accuracy плохая метрика, которая очень чувствительна к дисбалансу в выборке. А у нас между прочим на секундочку, $86\\%$ нулей. "
   ]
  },
  {
   "cell_type": "code",
   "execution_count": 9,
   "metadata": {},
   "outputs": [
    {
     "data": {
      "text/plain": [
       "0.1447861965491373"
      ]
     },
     "execution_count": 9,
     "metadata": {},
     "output_type": "execute_result"
    }
   ],
   "source": [
    "# 86% нулей\n",
    "np.mean(y)"
   ]
  },
  {
   "cell_type": "markdown",
   "metadata": {},
   "source": [
    "Выходит, что если мы скажем, что каждый из $y$ нулевой, то есть никто не уйдёт от нашего оператора, мы получим accuracy  $0.86$. Проверим это."
   ]
  },
  {
   "cell_type": "code",
   "execution_count": 10,
   "metadata": {},
   "outputs": [
    {
     "data": {
      "text/plain": [
       "0.8545727136431784"
      ]
     },
     "execution_count": 10,
     "metadata": {},
     "output_type": "execute_result"
    }
   ],
   "source": [
    "from sklearn.metrics import accuracy_score\n",
    "y_naive = [0]*y_test.size\n",
    "\n",
    "#а качество получилось таким же \n",
    "accuracy_score(y_test, y_naive) "
   ]
  },
  {
   "cell_type": "markdown",
   "metadata": {},
   "source": [
    "Выходит, что нам нужна какая-то другая метрика для классификации. Тут мы немного вспомнили про precision, recall. Если забыли что это, [бегом читать прошлогоднюю pdf-ку.](https://github.com/FUlyankin/HSE_Data_Culture/blob/master/Intro_to_DS_2019/sem_7%268_classification/sem7-8_class_solving.pdf)\n",
    "\n",
    "Мы решили, что хотим смотреть на precision и recall одновременно. Для этого мы придумали $f$-меру, которая одновременно пытается смотреть на важность обеих метрик. Если хочется придумать f-меру самостятельно на примере лайков из уютного vk, можете [посмотреть вот эту неэтичную штуку,](https://nbviewer.jupyter.org/github/FUlyankin/ekanam_grand_research/blob/master/Posts/2.1%20loises_research_post.ipynb) которую я пилил, когда у меня ещё не было работы. "
   ]
  },
  {
   "cell_type": "code",
   "execution_count": 11,
   "metadata": {},
   "outputs": [
    {
     "data": {
      "text/plain": [
       "0.27648499991860714"
      ]
     },
     "execution_count": 11,
     "metadata": {},
     "output_type": "execute_result"
    }
   ],
   "source": [
    "# старая модель по кросс-валидации \n",
    "from sklearn.model_selection import cross_val_score\n",
    "\n",
    "model = LogisticRegression()\n",
    "s = cross_val_score(model, X, y, cv=5, scoring='f1')\n",
    "np.mean(s) # средняя f мера :) "
   ]
  },
  {
   "cell_type": "markdown",
   "metadata": {},
   "source": [
    "Какая-то низкая f-мера вышла. Давайте попробуем перебрать по решётке коэффициент регуляризации и посмотрим что будет."
   ]
  },
  {
   "cell_type": "code",
   "execution_count": 12,
   "metadata": {},
   "outputs": [
    {
     "data": {
      "text/plain": [
       "0.27983409244881263"
      ]
     },
     "execution_count": 12,
     "metadata": {},
     "output_type": "execute_result"
    }
   ],
   "source": [
    "# перебираем лямбду\n",
    "from sklearn.model_selection import GridSearchCV\n",
    "\n",
    "params ={'C':np.arange(0.000001,1,0.05)}\n",
    "\n",
    "model_1 = LogisticRegression()\n",
    "\n",
    "grid = GridSearchCV(model_1, params, scoring='f1', cv=5)\n",
    "grid.fit(X, y)\n",
    "\n",
    "grid.best_score_"
   ]
  },
  {
   "cell_type": "code",
   "execution_count": 13,
   "metadata": {},
   "outputs": [
    {
     "data": {
      "text/plain": [
       "{'C': 0.750001}"
      ]
     },
     "execution_count": 13,
     "metadata": {},
     "output_type": "execute_result"
    }
   ],
   "source": [
    "grid.best_params_"
   ]
  },
  {
   "cell_type": "markdown",
   "metadata": {},
   "source": [
    "Повысить качество получилось как-то хило. Видимо, линейные моедели не очень хорошо выстреливают на данных про отток. Давайте попробуем перейти к нелинейным моделям, например, случайному лесу. "
   ]
  },
  {
   "cell_type": "code",
   "execution_count": 14,
   "metadata": {},
   "outputs": [
    {
     "data": {
      "text/plain": [
       "0.7120795795340464"
      ]
     },
     "execution_count": 14,
     "metadata": {},
     "output_type": "execute_result"
    }
   ],
   "source": [
    "from sklearn.ensemble import RandomForestClassifier\n",
    "\n",
    "# учим лес из 100 деревьев! \n",
    "rf = RandomForestClassifier(n_estimators=500)\n",
    "\n",
    "s = cross_val_score(rf, X, y, cv=5, scoring='f1')\n",
    "np.mean(s) # средняя f мера :) "
   ]
  },
  {
   "cell_type": "markdown",
   "metadata": {},
   "source": [
    "Стало намного лучше! Для случайного леса тоже можно перебрать его разные параметры по `GridSearch`, но это уже домашка. Давайте лучше построим немного прогнозов по нашей модели."
   ]
  },
  {
   "cell_type": "code",
   "execution_count": 15,
   "metadata": {},
   "outputs": [
    {
     "data": {
      "text/plain": [
       "array([0.774, 0.032, 0.158, 0.066, 0.068, 0.026, 0.478, 0.02 , 0.018,\n",
       "       0.122])"
      ]
     },
     "execution_count": 15,
     "metadata": {},
     "output_type": "execute_result"
    }
   ],
   "source": [
    "rf.fit(X, y)\n",
    "\n",
    "p_pred = rf.predict_proba(X_test)[:,-1]\n",
    "p_pred[:10]"
   ]
  },
  {
   "cell_type": "markdown",
   "metadata": {},
   "source": [
    "Спрогнозировали для каждого человека вероятность того, что он уйдёт. Теперь давайте посмотрим какими получились $precision, recall$ и матрица ошибок. Понятное дело, что надо зафикисировать какой-то порог, выше которого мы будем считать, что человек уйдёт от нас."
   ]
  },
  {
   "cell_type": "code",
   "execution_count": 21,
   "metadata": {},
   "outputs": [
    {
     "data": {
      "text/plain": [
       "(0.7068965517241379, 0.845360824742268)"
      ]
     },
     "execution_count": 21,
     "metadata": {},
     "output_type": "execute_result"
    }
   ],
   "source": [
    "from sklearn.metrics import precision_score, recall_score\n",
    "from sklearn.metrics import confusion_matrix\n",
    "\n",
    "\n",
    "y_pred = 1*(p_pred > 0.2)\n",
    "y_pred[:10]\n",
    "\n",
    "precision_score(y_test, y_pred),recall_score(y_test, y_pred)"
   ]
  },
  {
   "cell_type": "code",
   "execution_count": 22,
   "metadata": {},
   "outputs": [
    {
     "data": {
      "text/plain": [
       "array([[536,  34],\n",
       "       [ 15,  82]])"
      ]
     },
     "execution_count": 22,
     "metadata": {},
     "output_type": "execute_result"
    }
   ],
   "source": [
    "confusion_matrix(y_test, y_pred)"
   ]
  },
  {
   "cell_type": "markdown",
   "metadata": {},
   "source": [
    "При пороге $0.2$  получается довольно высокая полнота. Точность тоже неплохая. Сколько и каких ошибок мы делаем видно в матрице ошибок. $82$ единицы угадали, $34$ нет. \n",
    "\n",
    "Попробуем порог $0.7$."
   ]
  },
  {
   "cell_type": "code",
   "execution_count": 23,
   "metadata": {},
   "outputs": [
    {
     "data": {
      "text/plain": [
       "(1.0, 0.24742268041237114)"
      ]
     },
     "execution_count": 23,
     "metadata": {},
     "output_type": "execute_result"
    }
   ],
   "source": [
    "y_pred = 1*(p_pred > 0.7)\n",
    "y_pred[:10]\n",
    "\n",
    "precision_score(y_test, y_pred),recall_score(y_test, y_pred)"
   ]
  },
  {
   "cell_type": "code",
   "execution_count": 24,
   "metadata": {},
   "outputs": [
    {
     "data": {
      "text/plain": [
       "array([[570,   0],\n",
       "       [ 73,  24]])"
      ]
     },
     "execution_count": 24,
     "metadata": {},
     "output_type": "execute_result"
    }
   ],
   "source": [
    "confusion_matrix(y_test, y_pred)"
   ]
  },
  {
   "cell_type": "markdown",
   "metadata": {},
   "source": [
    "Точность зашкаливает, а полнота низкая. $24$ единицы нашли. Ошибок не сделали. При этом $73$ единицы не нашли."
   ]
  },
  {
   "cell_type": "markdown",
   "metadata": {},
   "source": [
    " Интересно, а какие вообще у нас есть комбинации точности и полноты... Построим precision-recall кривую, чтобы посмотреть (в pdf-ке, ссылка на которую есть выше, мы строили эту кривую ручками!)"
   ]
  },
  {
   "cell_type": "code",
   "execution_count": 18,
   "metadata": {},
   "outputs": [],
   "source": [
    "from sklearn.metrics import precision_recall_curve\n",
    "pr, rc, ct = precision_recall_curve(y_test, p_pred)"
   ]
  },
  {
   "cell_type": "code",
   "execution_count": 20,
   "metadata": {},
   "outputs": [
    {
     "data": {
      "text/plain": [
       "[<matplotlib.lines.Line2D at 0x12e874be0>]"
      ]
     },
     "execution_count": 20,
     "metadata": {},
     "output_type": "execute_result"
    },
    {
     "data": {
      "image/png": "[encoded data removed]",
      "text/plain": [
       "<Figure size 432x288 with 1 Axes>"
      ]
     },
     "metadata": {
      "needs_background": "light"
     },
     "output_type": "display_data"
    }
   ],
   "source": [
    "import matplotlib.pyplot as plt\n",
    "plt.plot(pr, rc)"
   ]
  },
  {
   "cell_type": "markdown",
   "metadata": {},
   "source": [
    "Кривая показывает какие значения точности и полноты соответствуют каким порогам. В векторе `ct` записаны пороги."
   ]
  },
  {
   "cell_type": "code",
   "execution_count": 33,
   "metadata": {},
   "outputs": [
    {
     "data": {
      "text/html": [
       "<div>\n",
       "<style scoped>\n",
       "    .dataframe tbody tr th:only-of-type {\n",
       "        vertical-align: middle;\n",
       "    }\n",
       "\n",
       "    .dataframe tbody tr th {\n",
       "        vertical-align: top;\n",
       "    }\n",
       "\n",
       "    .dataframe thead th {\n",
       "        text-align: right;\n",
       "    }\n",
       "</style>\n",
       "<table border=\"1\" class=\"dataframe\">\n",
       "  <thead>\n",
       "    <tr style=\"text-align: right;\">\n",
       "      <th></th>\n",
       "      <th>precision</th>\n",
       "      <th>recall</th>\n",
       "      <th>threshold</th>\n",
       "    </tr>\n",
       "  </thead>\n",
       "  <tbody>\n",
       "    <tr>\n",
       "      <th>0</th>\n",
       "      <td>0.146565</td>\n",
       "      <td>0.989691</td>\n",
       "      <td>0.006</td>\n",
       "    </tr>\n",
       "    <tr>\n",
       "      <th>1</th>\n",
       "      <td>0.148148</td>\n",
       "      <td>0.989691</td>\n",
       "      <td>0.008</td>\n",
       "    </tr>\n",
       "    <tr>\n",
       "      <th>2</th>\n",
       "      <td>0.150000</td>\n",
       "      <td>0.989691</td>\n",
       "      <td>0.010</td>\n",
       "    </tr>\n",
       "    <tr>\n",
       "      <th>3</th>\n",
       "      <td>0.152139</td>\n",
       "      <td>0.989691</td>\n",
       "      <td>0.012</td>\n",
       "    </tr>\n",
       "    <tr>\n",
       "      <th>4</th>\n",
       "      <td>0.155592</td>\n",
       "      <td>0.989691</td>\n",
       "      <td>0.014</td>\n",
       "    </tr>\n",
       "  </tbody>\n",
       "</table>\n",
       "</div>"
      ],
      "text/plain": [
       "   precision    recall  threshold\n",
       "0   0.146565  0.989691      0.006\n",
       "1   0.148148  0.989691      0.008\n",
       "2   0.150000  0.989691      0.010\n",
       "3   0.152139  0.989691      0.012\n",
       "4   0.155592  0.989691      0.014"
      ]
     },
     "execution_count": 33,
     "metadata": {},
     "output_type": "execute_result"
    }
   ],
   "source": [
    "df = pd.DataFrame.from_dict({'precision': pr[1:],'recall' :rc[1:], 'threshold': ct})\n",
    "df.head()"
   ]
  },
  {
   "cell_type": "markdown",
   "metadata": {},
   "source": [
    "Например, если мы хотим чтобы точность была больше $0.8$ и максимальную полноту при этом условии, надо взять порог:"
   ]
  },
  {
   "cell_type": "code",
   "execution_count": 42,
   "metadata": {},
   "outputs": [
    {
     "data": {
      "text/plain": [
       "103"
      ]
     },
     "execution_count": 42,
     "metadata": {},
     "output_type": "execute_result"
    }
   ],
   "source": [
    "df_pr08 = df[df['precision'] > 0.8]   # отсекли только строчки с точностью больше 0.8\n",
    "index = df_pr08['recall'].argmax()    # нашли строчку с максимальной полнотой\n",
    "index"
   ]
  },
  {
   "cell_type": "code",
   "execution_count": 49,
   "metadata": {},
   "outputs": [
    {
     "data": {
      "text/plain": [
       "precision    0.811881\n",
       "recall       0.845361\n",
       "threshold    0.242000\n",
       "Name: 103, dtype: float64"
      ]
     },
     "execution_count": 49,
     "metadata": {},
     "output_type": "execute_result"
    }
   ],
   "source": [
    "df_pr08.loc[index] # посмотрели на эту стрчоку. Порог 0.242, полнота 0.84 и точность 0.81"
   ]
  },
  {
   "cell_type": "markdown",
   "metadata": {},
   "source": [
    "Обычно порог выбирают исходя из бизнес-правила. Например, в данном случае, у нас может быть какая-то сумма денег, которую мы хотим выплатить людям как бонус, чтобы они не уходили из фирмы. Модель поможет найти кому именно платить. В зависимости от того какая у нас есть сумма, мы можем подобрать порог. "
   ]
  }
 ],
 "metadata": {
  "kernelspec": {
   "display_name": "Python 3",
   "language": "python",
   "name": "python3"
  },
  "language_info": {
   "codemirror_mode": {
    "name": "ipython",
    "version": 3
   },
   "file_extension": ".py",
   "mimetype": "text/x-python",
   "name": "python",
   "nbconvert_exporter": "python",
   "pygments_lexer": "ipython3",
   "version": "3.7.2"
  }
 },
 "nbformat": 4,
 "nbformat_minor": 2
}
